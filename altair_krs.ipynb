{
 "cells": [
  {
   "cell_type": "code",
   "execution_count": 1,
   "id": "63150b2b",
   "metadata": {},
   "outputs": [],
   "source": [
    "import plotly.express as px\n",
    "import polars as pl\n",
    "from itables import show\n",
    "import altair as alt"
   ]
  },
  {
   "cell_type": "code",
   "execution_count": 2,
   "id": "735924af",
   "metadata": {},
   "outputs": [],
   "source": [
    "warna_kuning = \"#d4a017\"\n",
    "\n",
    "warna_biru = \"#3498db\""
   ]
  },
  {
   "cell_type": "code",
   "execution_count": 7,
   "id": "d2506cac",
   "metadata": {},
   "outputs": [],
   "source": [
    "filter_kabupaten = [\"PASANGKAYU\", \"PASANGKAYU\", \"MAMUJU\", \"MAMUJU\", \"POLEWALI MANDAR\"]\n",
    "filter_kecamatan = [\"PASANGKAYU\", \"PASANGKAYU\", \"PAPALANG\", \"PAPALANG\", \"MATAKALI\"]\n",
    "filter_desa = [\"AKO\", \"GUNUNG SARI\", \"BODA-BODA\", \"SISANGO\", \"MATAKALI\"]\n",
    "filter_bulan = ['JANUARI']"
   ]
  },
  {
   "cell_type": "code",
   "execution_count": 4,
   "id": "914a0ea9",
   "metadata": {},
   "outputs": [
    {
     "data": {
      "text/html": [
       "<div><style>\n",
       ".dataframe > thead > tr,\n",
       ".dataframe > tbody > tr {\n",
       "  text-align: right;\n",
       "  white-space: pre-wrap;\n",
       "}\n",
       "</style>\n",
       "<small>shape: (648, 28)</small><table border=\"1\" class=\"dataframe\"><thead><tr><th></th><th>PROVINSI</th><th>KABUPATEN</th><th>KECAMATAN</th><th>KODE</th><th>KELURAHAN</th><th>JUMLAH KELUARGA</th><th>JUMLAH KELUARGA SASARAN</th><th>KESEJAHTERAAN 1</th><th>KESEJAHTERAAN 2</th><th>KESEJAHTERAAN 3</th><th>KESEJAHTERAAN 4</th><th>KESEJAHTERAAN &gt; 4</th><th>JUMLAH KRS</th><th>JUMLAH TIDAK BERESIKO</th><th>PUNYA BADUTA</th><th>PUNYA BALITA</th><th>PUS</th><th>PUS HAMIL</th><th>SUMBER AIR MINUM TIDAK LAYAK</th><th>JAMBAN TIDAK LAYAK</th><th>TERLALU MUDA</th><th>TERLALU TUA</th><th>TERLALU DEKAT</th><th>TERLALU BANYAK</th><th>PUS 4T</th><th>BUKAN PESERTA KB MODERN</th><th>PERIODE</th></tr><tr><td>i64</td><td>str</td><td>str</td><td>str</td><td>i64</td><td>str</td><td>i64</td><td>i64</td><td>i64</td><td>i64</td><td>i64</td><td>i64</td><td>i64</td><td>i64</td><td>i64</td><td>i64</td><td>i64</td><td>i64</td><td>i64</td><td>i64</td><td>i64</td><td>i64</td><td>i64</td><td>i64</td><td>i64</td><td>i64</td><td>i64</td><td>str</td></tr></thead><tbody><tr><td>0</td><td>&quot;SULAWESI BARAT&quot;</td><td>&quot;PASANGKAYU&quot;</td><td>&quot;BAMBAIRA&quot;</td><td>2001</td><td>&quot;BAMBAIRA&quot;</td><td>728</td><td>538</td><td>38</td><td>23</td><td>14</td><td>12</td><td>103</td><td>190</td><td>348</td><td>55</td><td>146</td><td>536</td><td>25</td><td>98</td><td>41</td><td>18</td><td>122</td><td>10</td><td>186</td><td>261</td><td>223</td><td>&quot;Sem 2 2024&quot;</td></tr><tr><td>1</td><td>&quot;SULAWESI BARAT&quot;</td><td>&quot;PASANGKAYU&quot;</td><td>&quot;BAMBAIRA&quot;</td><td>2002</td><td>&quot;KASOLOANG&quot;</td><td>533</td><td>352</td><td>11</td><td>11</td><td>10</td><td>7</td><td>96</td><td>135</td><td>217</td><td>46</td><td>83</td><td>349</td><td>9</td><td>45</td><td>72</td><td>6</td><td>92</td><td>10</td><td>143</td><td>194</td><td>133</td><td>&quot;Sem 2 2024&quot;</td></tr><tr><td>2</td><td>&quot;SULAWESI BARAT&quot;</td><td>&quot;PASANGKAYU&quot;</td><td>&quot;BAMBAIRA&quot;</td><td>2003</td><td>&quot;TAMPAURE&quot;</td><td>574</td><td>377</td><td>44</td><td>34</td><td>14</td><td>21</td><td>89</td><td>202</td><td>175</td><td>28</td><td>98</td><td>373</td><td>7</td><td>163</td><td>116</td><td>20</td><td>70</td><td>5</td><td>125</td><td>186</td><td>85</td><td>&quot;Sem 2 2024&quot;</td></tr><tr><td>3</td><td>&quot;SULAWESI BARAT&quot;</td><td>&quot;PASANGKAYU&quot;</td><td>&quot;BAMBAIRA&quot;</td><td>2004</td><td>&quot;KALUKU NANGKA&quot;</td><td>687</td><td>514</td><td>29</td><td>25</td><td>18</td><td>17</td><td>119</td><td>208</td><td>306</td><td>65</td><td>146</td><td>513</td><td>20</td><td>93</td><td>103</td><td>7</td><td>117</td><td>7</td><td>207</td><td>259</td><td>159</td><td>&quot;Sem 2 2024&quot;</td></tr><tr><td>4</td><td>&quot;SULAWESI BARAT&quot;</td><td>&quot;PASANGKAYU&quot;</td><td>&quot;BAMBALAMOTU&quot;</td><td>1006</td><td>&quot;BAMBALAMOTU&quot;</td><td>974</td><td>680</td><td>25</td><td>31</td><td>22</td><td>34</td><td>159</td><td>271</td><td>409</td><td>75</td><td>169</td><td>677</td><td>0</td><td>61</td><td>174</td><td>12</td><td>145</td><td>12</td><td>277</td><td>360</td><td>214</td><td>&quot;Sem 2 2024&quot;</td></tr><tr><td>&hellip;</td><td>&hellip;</td><td>&hellip;</td><td>&hellip;</td><td>&hellip;</td><td>&hellip;</td><td>&hellip;</td><td>&hellip;</td><td>&hellip;</td><td>&hellip;</td><td>&hellip;</td><td>&hellip;</td><td>&hellip;</td><td>&hellip;</td><td>&hellip;</td><td>&hellip;</td><td>&hellip;</td><td>&hellip;</td><td>&hellip;</td><td>&hellip;</td><td>&hellip;</td><td>&hellip;</td><td>&hellip;</td><td>&hellip;</td><td>&hellip;</td><td>&hellip;</td><td>&hellip;</td><td>&hellip;</td></tr><tr><td>643</td><td>&quot;SULAWESI BARAT&quot;</td><td>&quot;MAMUJU TENGAH&quot;</td><td>&quot;KAROSSA&quot;</td><td>2007</td><td>&quot;BENGGAULU&quot;</td><td>625</td><td>460</td><td>11</td><td>11</td><td>8</td><td>9</td><td>100</td><td>139</td><td>321</td><td>64</td><td>127</td><td>460</td><td>9</td><td>42</td><td>32</td><td>14</td><td>87</td><td>8</td><td>130</td><td>197</td><td>192</td><td>&quot;Sem 2 2024&quot;</td></tr><tr><td>644</td><td>&quot;SULAWESI BARAT&quot;</td><td>&quot;MAMUJU TENGAH&quot;</td><td>&quot;KAROSSA&quot;</td><td>2008</td><td>&quot;SUKA MAJU&quot;</td><td>340</td><td>247</td><td>17</td><td>5</td><td>5</td><td>3</td><td>22</td><td>52</td><td>195</td><td>41</td><td>75</td><td>247</td><td>0</td><td>0</td><td>8</td><td>6</td><td>54</td><td>7</td><td>89</td><td>125</td><td>85</td><td>&quot;Sem 2 2024&quot;</td></tr><tr><td>645</td><td>&quot;SULAWESI BARAT&quot;</td><td>&quot;MAMUJU TENGAH&quot;</td><td>&quot;KAROSSA&quot;</td><td>2009</td><td>&quot;KAMBUNONG&quot;</td><td>618</td><td>423</td><td>53</td><td>13</td><td>17</td><td>15</td><td>46</td><td>144</td><td>279</td><td>57</td><td>126</td><td>421</td><td>0</td><td>13</td><td>112</td><td>3</td><td>81</td><td>6</td><td>191</td><td>223</td><td>110</td><td>&quot;Sem 2 2024&quot;</td></tr><tr><td>646</td><td>&quot;SULAWESI BARAT&quot;</td><td>&quot;MAMUJU TENGAH&quot;</td><td>&quot;KAROSSA&quot;</td><td>2010</td><td>&quot;SALUBIRO&quot;</td><td>300</td><td>226</td><td>6</td><td>3</td><td>5</td><td>2</td><td>13</td><td>29</td><td>197</td><td>23</td><td>71</td><td>226</td><td>2</td><td>4</td><td>21</td><td>5</td><td>44</td><td>4</td><td>85</td><td>110</td><td>46</td><td>&quot;Sem 2 2024&quot;</td></tr><tr><td>647</td><td>&quot;SULAWESI BARAT&quot;</td><td>&quot;MAMUJU TENGAH&quot;</td><td>&quot;KAROSSA&quot;</td><td>2011</td><td>&quot;SANJANGO&quot;</td><td>401</td><td>306</td><td>17</td><td>7</td><td>8</td><td>4</td><td>80</td><td>116</td><td>190</td><td>45</td><td>74</td><td>305</td><td>3</td><td>12</td><td>69</td><td>6</td><td>51</td><td>1</td><td>98</td><td>128</td><td>148</td><td>&quot;Sem 2 2024&quot;</td></tr></tbody></table></div>"
      ],
      "text/plain": [
       "shape: (648, 28)\n",
       "┌─────┬──────────┬───────────────┬──────────────┬───┬─────────┬────────┬──────────────┬────────────┐\n",
       "│     ┆ PROVINSI ┆ KABUPATEN     ┆ KECAMATAN    ┆ … ┆ TERLALU ┆ PUS 4T ┆ BUKAN        ┆ PERIODE    │\n",
       "│ --- ┆ ---      ┆ ---           ┆ ---          ┆   ┆ BANYAK  ┆ ---    ┆ PESERTA KB   ┆ ---        │\n",
       "│ i64 ┆ str      ┆ str           ┆ str          ┆   ┆ ---     ┆ i64    ┆ MODERN       ┆ str        │\n",
       "│     ┆          ┆               ┆              ┆   ┆ i64     ┆        ┆ ---          ┆            │\n",
       "│     ┆          ┆               ┆              ┆   ┆         ┆        ┆ i64          ┆            │\n",
       "╞═════╪══════════╪═══════════════╪══════════════╪═══╪═════════╪════════╪══════════════╪════════════╡\n",
       "│ 0   ┆ SULAWESI ┆ PASANGKAYU    ┆ BAMBAIRA     ┆ … ┆ 186     ┆ 261    ┆ 223          ┆ Sem 2 2024 │\n",
       "│     ┆ BARAT    ┆               ┆              ┆   ┆         ┆        ┆              ┆            │\n",
       "│ 1   ┆ SULAWESI ┆ PASANGKAYU    ┆ BAMBAIRA     ┆ … ┆ 143     ┆ 194    ┆ 133          ┆ Sem 2 2024 │\n",
       "│     ┆ BARAT    ┆               ┆              ┆   ┆         ┆        ┆              ┆            │\n",
       "│ 2   ┆ SULAWESI ┆ PASANGKAYU    ┆ BAMBAIRA     ┆ … ┆ 125     ┆ 186    ┆ 85           ┆ Sem 2 2024 │\n",
       "│     ┆ BARAT    ┆               ┆              ┆   ┆         ┆        ┆              ┆            │\n",
       "│ 3   ┆ SULAWESI ┆ PASANGKAYU    ┆ BAMBAIRA     ┆ … ┆ 207     ┆ 259    ┆ 159          ┆ Sem 2 2024 │\n",
       "│     ┆ BARAT    ┆               ┆              ┆   ┆         ┆        ┆              ┆            │\n",
       "│ 4   ┆ SULAWESI ┆ PASANGKAYU    ┆ BAMBALAMOTU  ┆ … ┆ 277     ┆ 360    ┆ 214          ┆ Sem 2 2024 │\n",
       "│     ┆ BARAT    ┆               ┆              ┆   ┆         ┆        ┆              ┆            │\n",
       "│ …   ┆ …        ┆ …             ┆ …            ┆ … ┆ …       ┆ …      ┆ …            ┆ …          │\n",
       "│ 643 ┆ SULAWESI ┆ MAMUJU TENGAH ┆ KAROSSA      ┆ … ┆ 130     ┆ 197    ┆ 192          ┆ Sem 2 2024 │\n",
       "│     ┆ BARAT    ┆               ┆              ┆   ┆         ┆        ┆              ┆            │\n",
       "│ 644 ┆ SULAWESI ┆ MAMUJU TENGAH ┆ KAROSSA      ┆ … ┆ 89      ┆ 125    ┆ 85           ┆ Sem 2 2024 │\n",
       "│     ┆ BARAT    ┆               ┆              ┆   ┆         ┆        ┆              ┆            │\n",
       "│ 645 ┆ SULAWESI ┆ MAMUJU TENGAH ┆ KAROSSA      ┆ … ┆ 191     ┆ 223    ┆ 110          ┆ Sem 2 2024 │\n",
       "│     ┆ BARAT    ┆               ┆              ┆   ┆         ┆        ┆              ┆            │\n",
       "│ 646 ┆ SULAWESI ┆ MAMUJU TENGAH ┆ KAROSSA      ┆ … ┆ 85      ┆ 110    ┆ 46           ┆ Sem 2 2024 │\n",
       "│     ┆ BARAT    ┆               ┆              ┆   ┆         ┆        ┆              ┆            │\n",
       "│ 647 ┆ SULAWESI ┆ MAMUJU TENGAH ┆ KAROSSA      ┆ … ┆ 98      ┆ 128    ┆ 148          ┆ Sem 2 2024 │\n",
       "│     ┆ BARAT    ┆               ┆              ┆   ┆         ┆        ┆              ┆            │\n",
       "└─────┴──────────┴───────────────┴──────────────┴───┴─────────┴────────┴──────────────┴────────────┘"
      ]
     },
     "execution_count": 4,
     "metadata": {},
     "output_type": "execute_result"
    }
   ],
   "source": [
    "data_krs_verval = pl.read_csv(\"data/data_verval_krs_2024_sem2.csv\", separator=\";\")\n",
    "data_krs_verval.filter(\n",
    "    pl.col(\"KABUPATEN\").is_in(filter_kabupaten),\n",
    "    pl.col(\"KECAMATAN\").is_in(filter_kecamatan),\n",
    "    pl.col(\"KELURAHAN\").is_in(filter_desa)\n",
    ")\n",
    "data_krs_verval"
   ]
  },
  {
   "cell_type": "code",
   "execution_count": 84,
   "id": "e97089fa",
   "metadata": {},
   "outputs": [
    {
     "data": {
      "text/html": [
       "<div><style>\n",
       ".dataframe > thead > tr,\n",
       ".dataframe > tbody > tr {\n",
       "  text-align: right;\n",
       "  white-space: pre-wrap;\n",
       "}\n",
       "</style>\n",
       "<small>shape: (5, 6)</small><table border=\"1\" class=\"dataframe\"><thead><tr><th>PROVINSI</th><th>TINGKAT KESEJAHTERAAN</th><th>JUMLAH</th><th>PERSENTASE</th><th>JUMLAH_FORMATTED</th><th>PERSENTASE_FORMAT</th></tr><tr><td>str</td><td>str</td><td>i64</td><td>f64</td><td>str</td><td>str</td></tr></thead><tbody><tr><td>&quot;SULAWESI BARAT&quot;</td><td>&quot;KESEJAHTERAAN &gt; 4&quot;</td><td>298</td><td>63.54</td><td>&quot;298&quot;</td><td>&quot;63,54%&quot;</td></tr><tr><td>&quot;SULAWESI BARAT&quot;</td><td>&quot;KESEJAHTERAAN 4&quot;</td><td>51</td><td>10.87</td><td>&quot;51&quot;</td><td>&quot;10,87%&quot;</td></tr><tr><td>&quot;SULAWESI BARAT&quot;</td><td>&quot;KESEJAHTERAAN 2&quot;</td><td>48</td><td>10.23</td><td>&quot;48&quot;</td><td>&quot;10,23%&quot;</td></tr><tr><td>&quot;SULAWESI BARAT&quot;</td><td>&quot;KESEJAHTERAAN 3&quot;</td><td>37</td><td>7.89</td><td>&quot;37&quot;</td><td>&quot;7,89%&quot;</td></tr><tr><td>&quot;SULAWESI BARAT&quot;</td><td>&quot;KESEJAHTERAAN 1&quot;</td><td>35</td><td>7.46</td><td>&quot;35&quot;</td><td>&quot;7,46%&quot;</td></tr></tbody></table></div>"
      ],
      "text/plain": [
       "shape: (5, 6)\n",
       "┌────────────────┬────────────────────┬────────┬────────────┬──────────────────┬───────────────────┐\n",
       "│ PROVINSI       ┆ TINGKAT            ┆ JUMLAH ┆ PERSENTASE ┆ JUMLAH_FORMATTED ┆ PERSENTASE_FORMAT │\n",
       "│ ---            ┆ KESEJAHTERAAN      ┆ ---    ┆ ---        ┆ ---              ┆ ---               │\n",
       "│ str            ┆ ---                ┆ i64    ┆ f64        ┆ str              ┆ str               │\n",
       "│                ┆ str                ┆        ┆            ┆                  ┆                   │\n",
       "╞════════════════╪════════════════════╪════════╪════════════╪══════════════════╪═══════════════════╡\n",
       "│ SULAWESI BARAT ┆ KESEJAHTERAAN > 4  ┆ 298    ┆ 63.54      ┆ 298              ┆ 63,54%            │\n",
       "│ SULAWESI BARAT ┆ KESEJAHTERAAN 4    ┆ 51     ┆ 10.87      ┆ 51               ┆ 10,87%            │\n",
       "│ SULAWESI BARAT ┆ KESEJAHTERAAN 2    ┆ 48     ┆ 10.23      ┆ 48               ┆ 10,23%            │\n",
       "│ SULAWESI BARAT ┆ KESEJAHTERAAN 3    ┆ 37     ┆ 7.89       ┆ 37               ┆ 7,89%             │\n",
       "│ SULAWESI BARAT ┆ KESEJAHTERAAN 1    ┆ 35     ┆ 7.46       ┆ 35               ┆ 7,46%             │\n",
       "└────────────────┴────────────────────┴────────┴────────────┴──────────────────┴───────────────────┘"
      ]
     },
     "execution_count": 84,
     "metadata": {},
     "output_type": "execute_result"
    }
   ],
   "source": [
    "data_kesejahteraan = data_krs_verval.filter(\n",
    "    pl.col(\"KABUPATEN\").is_in(filter_kabupaten),\n",
    "    pl.col(\"KECAMATAN\").is_in(filter_kecamatan),\n",
    "    pl.col(\"KELURAHAN\").is_in(filter_desa)\n",
    ").group_by('PROVINSI').agg([\n",
    "    pl.col(\"KESEJAHTERAAN 1\").sum(),\n",
    "    pl.col(\"KESEJAHTERAAN 2\").sum(),\n",
    "    pl.col(\"KESEJAHTERAAN 3\").sum(),\n",
    "    pl.col(\"KESEJAHTERAAN 4\").sum(),\n",
    "    pl.col(\"KESEJAHTERAAN > 4\").sum()\n",
    "])\n",
    "\n",
    "data_kesejahteraan = data_kesejahteraan.unpivot(\n",
    "    index=\"PROVINSI\",  # Kolom yang tetap\n",
    "    on=[\"KESEJAHTERAAN 1\", \"KESEJAHTERAAN 2\", \"KESEJAHTERAAN 3\", \"KESEJAHTERAAN 4\", \"KESEJAHTERAAN > 4\"],  # Kolom yang di-unpivot\n",
    "    variable_name=\"TINGKAT KESEJAHTERAAN\",  # Nama kolom untuk metode KB\n",
    "    value_name=\"JUMLAH\"  # Nama kolom untuk jumlah pengguna\n",
    ")\n",
    "\n",
    "\n",
    "# Urutkan data berdasarkan jumlah pengguna (terbesar ke terkecil)\n",
    "data_kesejahteraan = data_kesejahteraan.sort(\"JUMLAH\", descending=True)\n",
    "\n",
    "# Menghitung total jumlah pengguna\n",
    "total_jumlah = data_kesejahteraan[\"JUMLAH\"].sum()\n",
    "\n",
    "# Menambahkan kolom persentase (dengan 2 angka desimal)\n",
    "# Menambahkan kolom persentase (dengan 2 angka desimal)\n",
    "data_kesejahteraan = data_kesejahteraan.with_columns(\n",
    "    (pl.col(\"JUMLAH\") / total_jumlah * 100).round(2).alias(\"PERSENTASE\"),\n",
    "    # Format angka dengan pemisah titik menggunakan map_elements\n",
    "    pl.col(\"JUMLAH\").map_elements(\n",
    "        lambda x: f\"{int(x):,}\".replace(\",\", \".\"),\n",
    "        return_dtype=pl.Utf8\n",
    "    ).alias(\"JUMLAH_FORMATTED\")\n",
    ")\n",
    "\n",
    "# Format kolom persentase ke string dengan koma dan %\n",
    "persentase_list = data_kesejahteraan[\"PERSENTASE\"].to_list()\n",
    "persentase_format = [f\"{x:.2f}\".replace('.', ',') + '%' for x in persentase_list]\n",
    "data_kesejahteraan = data_kesejahteraan.with_columns(pl.Series(\"PERSENTASE_FORMAT\", persentase_format))\n",
    "\n",
    "# Mengurutkan data berdasarkan jumlah secara descending\n",
    "data_kesejahteraan = data_kesejahteraan.sort(\"JUMLAH\", descending=True)\n",
    "\n",
    "\n",
    "\n",
    "data_kesejahteraan"
   ]
  },
  {
   "cell_type": "code",
   "execution_count": 102,
   "id": "54c9292c",
   "metadata": {},
   "outputs": [
    {
     "data": {
      "text/html": [
       "<div><style>\n",
       ".dataframe > thead > tr,\n",
       ".dataframe > tbody > tr {\n",
       "  text-align: right;\n",
       "  white-space: pre-wrap;\n",
       "}\n",
       "</style>\n",
       "<small>shape: (7, 4)</small><table border=\"1\" class=\"dataframe\"><thead><tr><th>PROVINSI</th><th>FAKTOR KRS</th><th>JUMLAH</th><th>JUMLAH FORMATTED</th></tr><tr><td>str</td><td>str</td><td>i64</td><td>str</td></tr></thead><tbody><tr><td>&quot;SULAWESI BARAT&quot;</td><td>&quot;TERLALU BANYAK&quot;</td><td>462</td><td>&quot;462&quot;</td></tr><tr><td>&quot;SULAWESI BARAT&quot;</td><td>&quot;BUKAN PESERTA KB MODERN&quot;</td><td>462</td><td>&quot;462&quot;</td></tr><tr><td>&quot;SULAWESI BARAT&quot;</td><td>&quot;TERLALU TUA&quot;</td><td>444</td><td>&quot;444&quot;</td></tr><tr><td>&quot;SULAWESI BARAT&quot;</td><td>&quot;JAMBAN TIDAK LAYAK&quot;</td><td>253</td><td>&quot;253&quot;</td></tr><tr><td>&quot;SULAWESI BARAT&quot;</td><td>&quot;SUMBER AIR MINUM TIDAK LAYAK&quot;</td><td>125</td><td>&quot;125&quot;</td></tr><tr><td>&quot;SULAWESI BARAT&quot;</td><td>&quot;TERLALU MUDA&quot;</td><td>19</td><td>&quot;19&quot;</td></tr><tr><td>&quot;SULAWESI BARAT&quot;</td><td>&quot;TERLALU DEKAT&quot;</td><td>8</td><td>&quot;8&quot;</td></tr></tbody></table></div>"
      ],
      "text/plain": [
       "shape: (7, 4)\n",
       "┌────────────────┬──────────────────────────────┬────────┬──────────────────┐\n",
       "│ PROVINSI       ┆ FAKTOR KRS                   ┆ JUMLAH ┆ JUMLAH FORMATTED │\n",
       "│ ---            ┆ ---                          ┆ ---    ┆ ---              │\n",
       "│ str            ┆ str                          ┆ i64    ┆ str              │\n",
       "╞════════════════╪══════════════════════════════╪════════╪══════════════════╡\n",
       "│ SULAWESI BARAT ┆ TERLALU BANYAK               ┆ 462    ┆ 462              │\n",
       "│ SULAWESI BARAT ┆ BUKAN PESERTA KB MODERN      ┆ 462    ┆ 462              │\n",
       "│ SULAWESI BARAT ┆ TERLALU TUA                  ┆ 444    ┆ 444              │\n",
       "│ SULAWESI BARAT ┆ JAMBAN TIDAK LAYAK           ┆ 253    ┆ 253              │\n",
       "│ SULAWESI BARAT ┆ SUMBER AIR MINUM TIDAK LAYAK ┆ 125    ┆ 125              │\n",
       "│ SULAWESI BARAT ┆ TERLALU MUDA                 ┆ 19     ┆ 19               │\n",
       "│ SULAWESI BARAT ┆ TERLALU DEKAT                ┆ 8      ┆ 8                │\n",
       "└────────────────┴──────────────────────────────┴────────┴──────────────────┘"
      ]
     },
     "execution_count": 102,
     "metadata": {},
     "output_type": "execute_result"
    }
   ],
   "source": [
    "faktor_krs = data_krs_verval.filter(\n",
    "    pl.col(\"KABUPATEN\").is_in(filter_kabupaten),\n",
    "    pl.col(\"KECAMATAN\").is_in(filter_kecamatan),\n",
    "    pl.col(\"KELURAHAN\").is_in(filter_desa)\n",
    ").group_by('PROVINSI').agg([\n",
    "    pl.col(\"SUMBER AIR MINUM TIDAK LAYAK\").sum(),\n",
    "    pl.col(\"JAMBAN TIDAK LAYAK\").sum(),\n",
    "    pl.col(\"TERLALU MUDA\").sum(),\n",
    "    pl.col(\"TERLALU TUA\").sum(),\n",
    "    pl.col(\"TERLALU DEKAT\").sum(),\n",
    "\tpl.col(\"TERLALU BANYAK\").sum(),\n",
    "    pl.col(\"BUKAN PESERTA KB MODERN\").sum()\n",
    "])\n",
    "\n",
    "faktor_krs = faktor_krs.unpivot(\n",
    "    index=\"PROVINSI\",  # Kolom yang tetap\n",
    "    on=[\"SUMBER AIR MINUM TIDAK LAYAK\", \"JAMBAN TIDAK LAYAK\", \"TERLALU MUDA\", \"TERLALU TUA\", \"TERLALU DEKAT\", \"TERLALU BANYAK\", \"BUKAN PESERTA KB MODERN\"],  # Kolom yang di-unpivot\n",
    "    variable_name=\"FAKTOR KRS\",  # Nama kolom untuk metode KB\n",
    "    value_name=\"JUMLAH\"  # Nama kolom untuk jumlah pengguna\n",
    ")\n",
    "\n",
    "\n",
    "# Urutkan data berdasarkan jumlah pengguna (terbesar ke terkecil)\n",
    "faktor_krs = faktor_krs.sort(\"JUMLAH\", descending=True)\n",
    "\n",
    "# Menghitung total jumlah pengguna\n",
    "total_jumlah = faktor_krs[\"JUMLAH\"].sum()\n",
    "\n",
    "# Menambahkan kolom persentase (dengan 2 angka desimal)\n",
    "# Menambahkan kolom persentase (dengan 2 angka desimal)\n",
    "faktor_krs = faktor_krs.with_columns(\n",
    "    # Format angka dengan pemisah titik menggunakan map_elements\n",
    "    pl.col(\"JUMLAH\").map_elements(\n",
    "        lambda x: f\"{int(x):,}\".replace(\",\", \".\"),\n",
    "        return_dtype=pl.Utf8\n",
    "    ).alias(\"JUMLAH FORMATTED\")\n",
    ")\n",
    "\n",
    "# Mengurutkan data berdasarkan jumlah secara descending\n",
    "faktor_krs = faktor_krs.sort(\"JUMLAH\", descending=True)\n",
    "\n",
    "faktor_krs"
   ]
  },
  {
   "cell_type": "code",
   "execution_count": 107,
   "id": "29143e35",
   "metadata": {},
   "outputs": [
    {
     "data": {
      "text/html": [
       "\n",
       "<style>\n",
       "  #altair-viz-c7ac51dbba3a40bd87701a5b988c7ca7.vega-embed {\n",
       "    width: 100%;\n",
       "    display: flex;\n",
       "  }\n",
       "\n",
       "  #altair-viz-c7ac51dbba3a40bd87701a5b988c7ca7.vega-embed details,\n",
       "  #altair-viz-c7ac51dbba3a40bd87701a5b988c7ca7.vega-embed details summary {\n",
       "    position: relative;\n",
       "  }\n",
       "</style>\n",
       "<div id=\"altair-viz-c7ac51dbba3a40bd87701a5b988c7ca7\"></div>\n",
       "<script type=\"text/javascript\">\n",
       "  var VEGA_DEBUG = (typeof VEGA_DEBUG == \"undefined\") ? {} : VEGA_DEBUG;\n",
       "  (function(spec, embedOpt){\n",
       "    let outputDiv = document.currentScript.previousElementSibling;\n",
       "    if (outputDiv.id !== \"altair-viz-c7ac51dbba3a40bd87701a5b988c7ca7\") {\n",
       "      outputDiv = document.getElementById(\"altair-viz-c7ac51dbba3a40bd87701a5b988c7ca7\");\n",
       "    }\n",
       "\n",
       "    const paths = {\n",
       "      \"vega\": \"https://cdn.jsdelivr.net/npm/vega@5?noext\",\n",
       "      \"vega-lib\": \"https://cdn.jsdelivr.net/npm/vega-lib?noext\",\n",
       "      \"vega-lite\": \"https://cdn.jsdelivr.net/npm/vega-lite@5.20.1?noext\",\n",
       "      \"vega-embed\": \"https://cdn.jsdelivr.net/npm/vega-embed@6?noext\",\n",
       "    };\n",
       "\n",
       "    function maybeLoadScript(lib, version) {\n",
       "      var key = `${lib.replace(\"-\", \"\")}_version`;\n",
       "      return (VEGA_DEBUG[key] == version) ?\n",
       "        Promise.resolve(paths[lib]) :\n",
       "        new Promise(function(resolve, reject) {\n",
       "          var s = document.createElement('script');\n",
       "          document.getElementsByTagName(\"head\")[0].appendChild(s);\n",
       "          s.async = true;\n",
       "          s.onload = () => {\n",
       "            VEGA_DEBUG[key] = version;\n",
       "            return resolve(paths[lib]);\n",
       "          };\n",
       "          s.onerror = () => reject(`Error loading script: ${paths[lib]}`);\n",
       "          s.src = paths[lib];\n",
       "        });\n",
       "    }\n",
       "\n",
       "    function showError(err) {\n",
       "      outputDiv.innerHTML = `<div class=\"error\" style=\"color:red;\">${err}</div>`;\n",
       "      throw err;\n",
       "    }\n",
       "\n",
       "    function displayChart(vegaEmbed) {\n",
       "      vegaEmbed(outputDiv, spec, embedOpt)\n",
       "        .catch(err => showError(`Javascript Error: ${err.message}<br>This usually means there's a typo in your chart specification. See the javascript console for the full traceback.`));\n",
       "    }\n",
       "\n",
       "    if(typeof define === \"function\" && define.amd) {\n",
       "      requirejs.config({paths});\n",
       "      let deps = [\"vega-embed\"];\n",
       "      require(deps, displayChart, err => showError(`Error loading script: ${err.message}`));\n",
       "    } else {\n",
       "      maybeLoadScript(\"vega\", \"5\")\n",
       "        .then(() => maybeLoadScript(\"vega-lite\", \"5.20.1\"))\n",
       "        .then(() => maybeLoadScript(\"vega-embed\", \"6\"))\n",
       "        .catch(showError)\n",
       "        .then(() => displayChart(vegaEmbed));\n",
       "    }\n",
       "  })({\"config\": {\"view\": {\"continuousWidth\": 300, \"continuousHeight\": 300}}, \"layer\": [{\"mark\": {\"type\": \"bar\", \"color\": \"#3498db\"}, \"encoding\": {\"tooltip\": [{\"field\": \"FAKTOR KRS\", \"title\": \"Faktor\", \"type\": \"nominal\"}, {\"field\": \"JUMLAH FORMATTED\", \"title\": \"Jumlah\", \"type\": \"quantitative\"}], \"x\": {\"axis\": {\"tickCount\": 3}, \"field\": \"JUMLAH\", \"title\": \"Jumlah\", \"type\": \"quantitative\"}, \"y\": {\"field\": \"FAKTOR KRS\", \"sort\": \"-x\", \"title\": \"Faktor KRS\", \"type\": \"nominal\"}}}, {\"mark\": {\"type\": \"text\", \"align\": \"left\", \"baseline\": \"middle\", \"dx\": 5}, \"encoding\": {\"x\": {\"field\": \"JUMLAH FORMATTED\", \"type\": \"quantitative\"}, \"y\": {\"field\": \"FAKTOR KRS\", \"sort\": \"-x\", \"type\": \"nominal\"}}}], \"data\": {\"name\": \"data-3540c6d2ddec0badb41abdfd75c9f676\"}, \"$schema\": \"https://vega.github.io/schema/vega-lite/v5.20.1.json\", \"datasets\": {\"data-3540c6d2ddec0badb41abdfd75c9f676\": [{\"PROVINSI\": \"SULAWESI BARAT\", \"FAKTOR KRS\": \"TERLALU BANYAK\", \"JUMLAH\": 462, \"JUMLAH FORMATTED\": \"462\"}, {\"PROVINSI\": \"SULAWESI BARAT\", \"FAKTOR KRS\": \"BUKAN PESERTA KB MODERN\", \"JUMLAH\": 462, \"JUMLAH FORMATTED\": \"462\"}, {\"PROVINSI\": \"SULAWESI BARAT\", \"FAKTOR KRS\": \"TERLALU TUA\", \"JUMLAH\": 444, \"JUMLAH FORMATTED\": \"444\"}, {\"PROVINSI\": \"SULAWESI BARAT\", \"FAKTOR KRS\": \"JAMBAN TIDAK LAYAK\", \"JUMLAH\": 253, \"JUMLAH FORMATTED\": \"253\"}, {\"PROVINSI\": \"SULAWESI BARAT\", \"FAKTOR KRS\": \"SUMBER AIR MINUM TIDAK LAYAK\", \"JUMLAH\": 125, \"JUMLAH FORMATTED\": \"125\"}, {\"PROVINSI\": \"SULAWESI BARAT\", \"FAKTOR KRS\": \"TERLALU MUDA\", \"JUMLAH\": 19, \"JUMLAH FORMATTED\": \"19\"}, {\"PROVINSI\": \"SULAWESI BARAT\", \"FAKTOR KRS\": \"TERLALU DEKAT\", \"JUMLAH\": 8, \"JUMLAH FORMATTED\": \"8\"}]}}, {\"mode\": \"vega-lite\"});\n",
       "</script>"
      ],
      "text/plain": [
       "alt.LayerChart(...)"
      ]
     },
     "metadata": {},
     "output_type": "display_data"
    }
   ],
   "source": [
    "# Mengurutkan data berdasarkan jumlah secara descending\n",
    "faktor_krs = faktor_krs.sort(\"JUMLAH\", descending=True)\n",
    "\n",
    "# Membuat grafik batang horizontal dengan Altair\n",
    "chart = (\n",
    "    alt.Chart(faktor_krs)\n",
    "    .mark_bar(color=warna_biru)\n",
    "    .encode(\n",
    "        y=alt.Y(\"FAKTOR KRS:N\", title=\"Faktor KRS\", sort=\"-x\"),\n",
    "        x=alt.X(\"JUMLAH:Q\", title=\"Jumlah\",\n",
    "                axis=alt.Axis(\n",
    "                tickCount=3,  # BATASI 5 TICK SAJA\n",
    "                )),\n",
    "        tooltip=[\n",
    "            alt.Tooltip(\"FAKTOR KRS\", title=\"Faktor\"),\n",
    "            alt.Tooltip(\"JUMLAH FORMATTED:Q\", title=\"Jumlah\")\n",
    "        ]\n",
    "    )\n",
    ")\n",
    "\n",
    "# Menambahkan label di ujung batang\n",
    "text = (\n",
    "    alt.Chart(faktor_krs)\n",
    "    .mark_text(align=\"left\", baseline=\"middle\", dx=5)\n",
    "    .encode(\n",
    "        y=alt.Y(\"FAKTOR KRS:N\", sort=\"-x\"),\n",
    "        x=alt.X(\"JUMLAH FORMATTED:Q\")\n",
    "    )\n",
    ")\n",
    "\n",
    "final_chart = chart + text\n",
    "\n",
    "# Menampilkan grafik\n",
    "final_chart.show()"
   ]
  },
  {
   "cell_type": "code",
   "execution_count": null,
   "id": "845042d8",
   "metadata": {},
   "outputs": [],
   "source": [
    "filter_kabupaten = [\"PASANGKAYU\", \"PASANGKAYU\", \"MAMUJU\", \"MAMUJU\"]\n",
    "filter_kecamatan = [\"PASANGKAYU\", \"PASANGKAYU\", \"PAPALANG\", \"PAPALANG\"]\n",
    "filter_desa = [\"AKO\", \"GUNUNG SARI\", \"BODA-BODA\", \"SISANGO\"]"
   ]
  },
  {
   "cell_type": "code",
   "execution_count": null,
   "id": "f6d5c857",
   "metadata": {},
   "outputs": [
    {
     "data": {
      "text/html": [
       "<div><style>\n",
       ".dataframe > thead > tr,\n",
       ".dataframe > tbody > tr {\n",
       "  text-align: right;\n",
       "  white-space: pre-wrap;\n",
       "}\n",
       "</style>\n",
       "<small>shape: (2, 3)</small><table border=\"1\" class=\"dataframe\"><thead><tr><th>PROVINSI</th><th>KABUPATEN</th><th>PUNYA BADUTA</th></tr><tr><td>str</td><td>str</td><td>i64</td></tr></thead><tbody><tr><td>&quot;SULAWESI BARAT&quot;</td><td>&quot;MAMUJU&quot;</td><td>43</td></tr><tr><td>&quot;SULAWESI BARAT&quot;</td><td>&quot;PASANGKAYU&quot;</td><td>42</td></tr></tbody></table></div>"
      ],
      "text/plain": [
       "shape: (2, 3)\n",
       "┌────────────────┬────────────┬──────────────┐\n",
       "│ PROVINSI       ┆ KABUPATEN  ┆ PUNYA BADUTA │\n",
       "│ ---            ┆ ---        ┆ ---          │\n",
       "│ str            ┆ str        ┆ i64          │\n",
       "╞════════════════╪════════════╪══════════════╡\n",
       "│ SULAWESI BARAT ┆ MAMUJU     ┆ 43           │\n",
       "│ SULAWESI BARAT ┆ PASANGKAYU ┆ 42           │\n",
       "└────────────────┴────────────┴──────────────┘"
      ]
     },
     "execution_count": 111,
     "metadata": {},
     "output_type": "execute_result"
    }
   ],
   "source": [
    "kondisi_input = \"SEMUA KABUPATEN\"\n",
    "if kondisi_input == \"SEMUA KABUPATEN\":\n",
    "    filter_kabupaten = data_poktan.select(\"KABUPATEN\").unique().to_series().to_list()\n",
    "else:\n",
    "    filter_kabupaten = [input.pilih_kab()]\n",
    "\n",
    "data_punya_baduta = data_krs_verval.filter(\n",
    "    pl.col(\"KABUPATEN\").is_in(filter_kabupaten),\n",
    "    pl.col(\"KECAMATAN\").is_in(filter_kecamatan),\n",
    "    pl.col(\"KELURAHAN\").is_in(filter_desa)\n",
    ").group_by(['PROVINSI', 'KABUPATEN']).agg([\n",
    "    pl.col(\"PUNYA BADUTA\").sum()\n",
    "])\n",
    "data_punya_baduta"
   ]
  },
  {
   "cell_type": "code",
   "execution_count": 46,
   "id": "1e789d05",
   "metadata": {},
   "outputs": [
    {
     "data": {
      "text/html": [
       "<div><style>\n",
       ".dataframe > thead > tr,\n",
       ".dataframe > tbody > tr {\n",
       "  text-align: right;\n",
       "  white-space: pre-wrap;\n",
       "}\n",
       "</style>\n",
       "<small>shape: (3, 2)</small><table border=\"1\" class=\"dataframe\"><thead><tr><th>KATEGORI</th><th>PUNYA BADUTA</th></tr><tr><td>str</td><td>i64</td></tr></thead><tbody><tr><td>&quot;MAMUJU&quot;</td><td>43</td></tr><tr><td>&quot;PASANGKAYU&quot;</td><td>42</td></tr><tr><td>&quot;POLEWALI MANDAR&quot;</td><td>35</td></tr></tbody></table></div>"
      ],
      "text/plain": [
       "shape: (3, 2)\n",
       "┌─────────────────┬──────────────┐\n",
       "│ KATEGORI        ┆ PUNYA BADUTA │\n",
       "│ ---             ┆ ---          │\n",
       "│ str             ┆ i64          │\n",
       "╞═════════════════╪══════════════╡\n",
       "│ MAMUJU          ┆ 43           │\n",
       "│ PASANGKAYU      ┆ 42           │\n",
       "│ POLEWALI MANDAR ┆ 35           │\n",
       "└─────────────────┴──────────────┘"
      ]
     },
     "execution_count": 46,
     "metadata": {},
     "output_type": "execute_result"
    }
   ],
   "source": [
    "# SKENARIO 1\n",
    "data_kel_baduta = data_krs_verval.filter(\n",
    "    pl.col(\"KABUPATEN\").is_in(filter_kabupaten),\n",
    "    pl.col(\"KECAMATAN\").is_in(filter_kecamatan),\n",
    "    pl.col(\"KELURAHAN\").is_in(filter_desa)\n",
    ").group_by(['KABUPATEN']).agg([\n",
    "    pl.col(\"PUNYA BADUTA\").sum()\n",
    "])\n",
    "data_kel_baduta = data_kel_baduta.rename({\n",
    "    \"KABUPATEN\": \"KATEGORI\"\n",
    "})\n",
    "data_kel_baduta\n"
   ]
  },
  {
   "cell_type": "code",
   "execution_count": 55,
   "id": "d8a2ea97",
   "metadata": {},
   "outputs": [
    {
     "data": {
      "text/html": [
       "<div><style>\n",
       ".dataframe > thead > tr,\n",
       ".dataframe > tbody > tr {\n",
       "  text-align: right;\n",
       "  white-space: pre-wrap;\n",
       "}\n",
       "</style>\n",
       "<small>shape: (2, 6)</small><table border=\"1\" class=\"dataframe\"><thead><tr><th>KATEGORI</th><th>PUNYA BADUTA</th><th>PERSENTASE</th><th>PERSENTASE_FORMAT</th><th>LABEL</th><th>PUNYA BADUTA FORMATTED</th></tr><tr><td>str</td><td>i64</td><td>f64</td><td>str</td><td>str</td><td>str</td></tr></thead><tbody><tr><td>&quot;PASANGKAYU&quot;</td><td>42</td><td>35.0</td><td>&quot;35,00%&quot;</td><td>&quot;PASANGKAYU\n",
       "35,00%&quot;</td><td>&quot;42&quot;</td></tr><tr><td>&quot;LAINNYA&quot;</td><td>78</td><td>65.0</td><td>&quot;65,00%&quot;</td><td>&quot;LAINNYA\n",
       "65,00%&quot;</td><td>&quot;78&quot;</td></tr></tbody></table></div>"
      ],
      "text/plain": [
       "shape: (2, 6)\n",
       "┌────────────┬──────────────┬────────────┬───────────────────┬────────────┬────────────────────────┐\n",
       "│ KATEGORI   ┆ PUNYA BADUTA ┆ PERSENTASE ┆ PERSENTASE_FORMAT ┆ LABEL      ┆ PUNYA BADUTA FORMATTED │\n",
       "│ ---        ┆ ---          ┆ ---        ┆ ---               ┆ ---        ┆ ---                    │\n",
       "│ str        ┆ i64          ┆ f64        ┆ str               ┆ str        ┆ str                    │\n",
       "╞════════════╪══════════════╪════════════╪═══════════════════╪════════════╪════════════════════════╡\n",
       "│ PASANGKAYU ┆ 42           ┆ 35.0       ┆ 35,00%            ┆ PASANGKAYU ┆ 42                     │\n",
       "│            ┆              ┆            ┆                   ┆ 35,00%     ┆                        │\n",
       "│ LAINNYA    ┆ 78           ┆ 65.0       ┆ 65,00%            ┆ LAINNYA    ┆ 78                     │\n",
       "│            ┆              ┆            ┆                   ┆ 65,00%     ┆                        │\n",
       "└────────────┴──────────────┴────────────┴───────────────────┴────────────┴────────────────────────┘"
      ]
     },
     "execution_count": 55,
     "metadata": {},
     "output_type": "execute_result"
    }
   ],
   "source": [
    "nama_kab = \"PASANGKAYU\"\n",
    "data_kel_baduta = data_krs_verval.filter(\n",
    "    pl.col(\"KABUPATEN\").is_in(filter_kabupaten),\n",
    "    pl.col(\"KECAMATAN\").is_in(filter_kecamatan),\n",
    "    pl.col(\"KELURAHAN\").is_in(filter_desa)\n",
    ").with_columns(\n",
    "    pl.when(pl.col(\"KABUPATEN\") == str(nama_kab))\n",
    "    .then(pl.lit(str(nama_kab)))\n",
    "    .otherwise(pl.lit(\"LAINNYA\"))\n",
    "    .alias(\"KATEGORI\")\n",
    ").group_by(\"KATEGORI\").agg(\n",
    "    pl.sum(\"PUNYA BADUTA\").alias(\"PUNYA BADUTA\")\n",
    ")\n",
    "\n",
    "data_kel_baduta = data_kel_baduta.with_columns(\n",
    "    (pl.col(\"PUNYA BADUTA\") / data_kel_baduta[\"PUNYA BADUTA\"].sum() * 100).round(2).alias(\"PERSENTASE\")\n",
    ")\n",
    "\n",
    "# Format kolom persentase ke string dengan koma dan %\n",
    "persentase_list = data_kel_baduta[\"PERSENTASE\"].to_list()\n",
    "persentase_format = [f\"{x:.2f}\".replace('.', ',') + '%' for x in persentase_list]\n",
    "data_kel_baduta = data_kel_baduta.with_columns(pl.Series(\"PERSENTASE_FORMAT\", persentase_format))\n",
    "\n",
    "# Definisi warna\n",
    "color_scale = alt.Scale(\n",
    "    domain=[\"Sudah Terlatih\", \"Belum Terlatih\"],\n",
    "    range=[warna_biru, warna_kuning]  # Biru untuk Sudah Terlatih, Kuning untuk Belum\n",
    ")\n",
    "\n",
    "# Tambahkan kolom gabungan klasifikasi dan persentase\n",
    "data_kel_baduta = data_kel_baduta.with_columns(\n",
    "    (pl.col(\"KATEGORI\") + \"\\n\" + pl.col(\"PERSENTASE_FORMAT\")).alias(\"LABEL\"),\n",
    "    pl.col(\"PUNYA BADUTA\").map_elements(\n",
    "        lambda x: f\"{int(x):,}\".replace(\",\", \".\"),\n",
    "        return_dtype=pl.Utf8\n",
    "    ).alias(\"PUNYA BADUTA FORMATTED\")\n",
    ").sort('PERSENTASE')\n",
    "\n",
    "data_kel_baduta"
   ]
  },
  {
   "cell_type": "code",
   "execution_count": 47,
   "id": "9d1c0771",
   "metadata": {},
   "outputs": [
    {
     "data": {
      "text/html": [
       "<div><style>\n",
       ".dataframe > thead > tr,\n",
       ".dataframe > tbody > tr {\n",
       "  text-align: right;\n",
       "  white-space: pre-wrap;\n",
       "}\n",
       "</style>\n",
       "<small>shape: (2, 2)</small><table border=\"1\" class=\"dataframe\"><thead><tr><th>KATEGORI</th><th>TOTAL_BADUTA</th></tr><tr><td>str</td><td>i64</td></tr></thead><tbody><tr><td>&quot;LAINNYA&quot;</td><td>78</td></tr><tr><td>&quot;PASANGKAYU&quot;</td><td>42</td></tr></tbody></table></div>"
      ],
      "text/plain": [
       "shape: (2, 2)\n",
       "┌────────────┬──────────────┐\n",
       "│ KATEGORI   ┆ TOTAL_BADUTA │\n",
       "│ ---        ┆ ---          │\n",
       "│ str        ┆ i64          │\n",
       "╞════════════╪══════════════╡\n",
       "│ LAINNYA    ┆ 78           │\n",
       "│ PASANGKAYU ┆ 42           │\n",
       "└────────────┴──────────────┘"
      ]
     },
     "execution_count": 47,
     "metadata": {},
     "output_type": "execute_result"
    }
   ],
   "source": [
    "data_kel_baduta = data_krs_verval.filter(\n",
    "    pl.col(\"KABUPATEN\").is_in(filter_kabupaten),\n",
    "    pl.col(\"KECAMATAN\").is_in(filter_kecamatan),\n",
    "    pl.col(\"KELURAHAN\").is_in(filter_desa)\n",
    ").with_columns(\n",
    "    pl.when(pl.col(\"KECAMATAN\") == \"PASANGKAYU\")\n",
    "      .then(pl.lit(\"PASANGKAYU\"))\n",
    "      .otherwise(pl.lit(\"LAINNYA\"))\n",
    "      .alias(\"KATEGORI\")\n",
    ").group_by(\"KATEGORI\").agg(\n",
    "    pl.sum(\"PUNYA BADUTA\").alias(\"TOTAL_BADUTA\")\n",
    ")\n",
    "\n",
    "data_kel_baduta"
   ]
  },
  {
   "cell_type": "code",
   "execution_count": 23,
   "id": "0c87a4d1",
   "metadata": {},
   "outputs": [
    {
     "data": {
      "text/html": [
       "<div><style>\n",
       ".dataframe > thead > tr,\n",
       ".dataframe > tbody > tr {\n",
       "  text-align: right;\n",
       "  white-space: pre-wrap;\n",
       "}\n",
       "</style>\n",
       "<small>shape: (2, 2)</small><table border=\"1\" class=\"dataframe\"><thead><tr><th>KATEGORI</th><th>PUNYA BADUTA</th></tr><tr><td>str</td><td>i64</td></tr></thead><tbody><tr><td>&quot;AKO&quot;</td><td>33</td></tr><tr><td>&quot;LAINNYA&quot;</td><td>87</td></tr></tbody></table></div>"
      ],
      "text/plain": [
       "shape: (2, 2)\n",
       "┌──────────┬──────────────┐\n",
       "│ KATEGORI ┆ PUNYA BADUTA │\n",
       "│ ---      ┆ ---          │\n",
       "│ str      ┆ i64          │\n",
       "╞══════════╪══════════════╡\n",
       "│ AKO      ┆ 33           │\n",
       "│ LAINNYA  ┆ 87           │\n",
       "└──────────┴──────────────┘"
      ]
     },
     "execution_count": 23,
     "metadata": {},
     "output_type": "execute_result"
    }
   ],
   "source": [
    "data_kel_baduta = data_krs_verval.filter(\n",
    "    pl.col(\"KABUPATEN\").is_in(filter_kabupaten),\n",
    "    pl.col(\"KECAMATAN\").is_in(filter_kecamatan),\n",
    "    pl.col(\"KELURAHAN\").is_in(filter_desa)\n",
    ").with_columns(\n",
    "    pl.when(pl.col(\"KELURAHAN\") == \"AKO\")\n",
    "      .then(pl.lit(\"AKO\"))\n",
    "      .otherwise(pl.lit(\"LAINNYA\"))\n",
    "      .alias(\"KATEGORI\")\n",
    ").group_by(\"KATEGORI\").agg(\n",
    "    pl.sum(\"PUNYA BADUTA\").alias(\"PUNYA BADUTA\")\n",
    ")\n",
    "\n",
    "data_kel_baduta"
   ]
  },
  {
   "cell_type": "code",
   "execution_count": 31,
   "id": "a82b0790",
   "metadata": {},
   "outputs": [
    {
     "data": {
      "text/html": [
       "<div><style>\n",
       ".dataframe > thead > tr,\n",
       ".dataframe > tbody > tr {\n",
       "  text-align: right;\n",
       "  white-space: pre-wrap;\n",
       "}\n",
       "</style>\n",
       "<small>shape: (3, 5)</small><table border=\"1\" class=\"dataframe\"><thead><tr><th>KATEGORI</th><th>PUNYA BADUTA</th><th>PERSENTASE</th><th>PERSENTASE_FORMAT</th><th>LABEL</th></tr><tr><td>str</td><td>i64</td><td>f64</td><td>str</td><td>str</td></tr></thead><tbody><tr><td>&quot;MAMUJU&quot;</td><td>43</td><td>35.83</td><td>&quot;35,83%&quot;</td><td>&quot;MAMUJU\n",
       "35,83%&quot;</td></tr><tr><td>&quot;PASANGKAYU&quot;</td><td>42</td><td>35.0</td><td>&quot;35,00%&quot;</td><td>&quot;PASANGKAYU\n",
       "35,00%&quot;</td></tr><tr><td>&quot;POLEWALI MANDAR&quot;</td><td>35</td><td>29.17</td><td>&quot;29,17%&quot;</td><td>&quot;POLEWALI MANDAR\n",
       "29,17%&quot;</td></tr></tbody></table></div>"
      ],
      "text/plain": [
       "shape: (3, 5)\n",
       "┌─────────────────┬──────────────┬────────────┬───────────────────┬─────────────────┐\n",
       "│ KATEGORI        ┆ PUNYA BADUTA ┆ PERSENTASE ┆ PERSENTASE_FORMAT ┆ LABEL           │\n",
       "│ ---             ┆ ---          ┆ ---        ┆ ---               ┆ ---             │\n",
       "│ str             ┆ i64          ┆ f64        ┆ str               ┆ str             │\n",
       "╞═════════════════╪══════════════╪════════════╪═══════════════════╪═════════════════╡\n",
       "│ MAMUJU          ┆ 43           ┆ 35.83      ┆ 35,83%            ┆ MAMUJU          │\n",
       "│                 ┆              ┆            ┆                   ┆ 35,83%          │\n",
       "│ PASANGKAYU      ┆ 42           ┆ 35.0       ┆ 35,00%            ┆ PASANGKAYU      │\n",
       "│                 ┆              ┆            ┆                   ┆ 35,00%          │\n",
       "│ POLEWALI MANDAR ┆ 35           ┆ 29.17      ┆ 29,17%            ┆ POLEWALI MANDAR │\n",
       "│                 ┆              ┆            ┆                   ┆ 29,17%          │\n",
       "└─────────────────┴──────────────┴────────────┴───────────────────┴─────────────────┘"
      ]
     },
     "execution_count": 31,
     "metadata": {},
     "output_type": "execute_result"
    }
   ],
   "source": [
    "data_kel_baduta = data_kel_baduta.with_columns(\n",
    "    (pl.col(\"PUNYA BADUTA\") / data_kel_baduta[\"PUNYA BADUTA\"].sum() * 100).round(2).alias(\"PERSENTASE\")\n",
    ")\n",
    "\n",
    "# Format kolom persentase ke string dengan koma dan %\n",
    "persentase_list = data_kel_baduta[\"PERSENTASE\"].to_list()\n",
    "persentase_format = [f\"{x:.2f}\".replace('.', ',') + '%' for x in persentase_list]\n",
    "data_kel_baduta = data_kel_baduta.with_columns(pl.Series(\"PERSENTASE_FORMAT\", persentase_format))\n",
    "\n",
    "# Definisi warna\n",
    "color_scale = alt.Scale(\n",
    "    domain=[\"Sudah Terlatih\", \"Belum Terlatih\"],\n",
    "    range=[warna_biru, warna_kuning]  # Biru untuk Sudah Terlatih, Kuning untuk Belum\n",
    ")\n",
    "\n",
    "# Tambahkan kolom gabungan klasifikasi dan persentase\n",
    "data_kel_baduta = data_kel_baduta.with_columns(\n",
    "    (pl.col(\"KATEGORI\") + \"\\n\" + pl.col(\"PERSENTASE_FORMAT\")).alias(\"LABEL\")\n",
    ")\n",
    "data_kel_baduta"
   ]
  },
  {
   "cell_type": "code",
   "execution_count": 56,
   "id": "56cf0fee",
   "metadata": {},
   "outputs": [
    {
     "data": {
      "text/html": [
       "\n",
       "<style>\n",
       "  #altair-viz-7527364ee2554883baab755292d7b569.vega-embed {\n",
       "    width: 100%;\n",
       "    display: flex;\n",
       "  }\n",
       "\n",
       "  #altair-viz-7527364ee2554883baab755292d7b569.vega-embed details,\n",
       "  #altair-viz-7527364ee2554883baab755292d7b569.vega-embed details summary {\n",
       "    position: relative;\n",
       "  }\n",
       "</style>\n",
       "<div id=\"altair-viz-7527364ee2554883baab755292d7b569\"></div>\n",
       "<script type=\"text/javascript\">\n",
       "  var VEGA_DEBUG = (typeof VEGA_DEBUG == \"undefined\") ? {} : VEGA_DEBUG;\n",
       "  (function(spec, embedOpt){\n",
       "    let outputDiv = document.currentScript.previousElementSibling;\n",
       "    if (outputDiv.id !== \"altair-viz-7527364ee2554883baab755292d7b569\") {\n",
       "      outputDiv = document.getElementById(\"altair-viz-7527364ee2554883baab755292d7b569\");\n",
       "    }\n",
       "\n",
       "    const paths = {\n",
       "      \"vega\": \"https://cdn.jsdelivr.net/npm/vega@5?noext\",\n",
       "      \"vega-lib\": \"https://cdn.jsdelivr.net/npm/vega-lib?noext\",\n",
       "      \"vega-lite\": \"https://cdn.jsdelivr.net/npm/vega-lite@5.20.1?noext\",\n",
       "      \"vega-embed\": \"https://cdn.jsdelivr.net/npm/vega-embed@6?noext\",\n",
       "    };\n",
       "\n",
       "    function maybeLoadScript(lib, version) {\n",
       "      var key = `${lib.replace(\"-\", \"\")}_version`;\n",
       "      return (VEGA_DEBUG[key] == version) ?\n",
       "        Promise.resolve(paths[lib]) :\n",
       "        new Promise(function(resolve, reject) {\n",
       "          var s = document.createElement('script');\n",
       "          document.getElementsByTagName(\"head\")[0].appendChild(s);\n",
       "          s.async = true;\n",
       "          s.onload = () => {\n",
       "            VEGA_DEBUG[key] = version;\n",
       "            return resolve(paths[lib]);\n",
       "          };\n",
       "          s.onerror = () => reject(`Error loading script: ${paths[lib]}`);\n",
       "          s.src = paths[lib];\n",
       "        });\n",
       "    }\n",
       "\n",
       "    function showError(err) {\n",
       "      outputDiv.innerHTML = `<div class=\"error\" style=\"color:red;\">${err}</div>`;\n",
       "      throw err;\n",
       "    }\n",
       "\n",
       "    function displayChart(vegaEmbed) {\n",
       "      vegaEmbed(outputDiv, spec, embedOpt)\n",
       "        .catch(err => showError(`Javascript Error: ${err.message}<br>This usually means there's a typo in your chart specification. See the javascript console for the full traceback.`));\n",
       "    }\n",
       "\n",
       "    if(typeof define === \"function\" && define.amd) {\n",
       "      requirejs.config({paths});\n",
       "      let deps = [\"vega-embed\"];\n",
       "      require(deps, displayChart, err => showError(`Error loading script: ${err.message}`));\n",
       "    } else {\n",
       "      maybeLoadScript(\"vega\", \"5\")\n",
       "        .then(() => maybeLoadScript(\"vega-lite\", \"5.20.1\"))\n",
       "        .then(() => maybeLoadScript(\"vega-embed\", \"6\"))\n",
       "        .catch(showError)\n",
       "        .then(() => displayChart(vegaEmbed));\n",
       "    }\n",
       "  })({\"config\": {\"view\": {\"continuousWidth\": 300, \"continuousHeight\": 300}, \"background\": \"orange\"}, \"layer\": [{\"mark\": {\"type\": \"arc\", \"outerRadius\": 120}, \"encoding\": {\"color\": {\"field\": \"KATEGORI\", \"legend\": null, \"type\": \"nominal\"}, \"theta\": {\"field\": \"PUNYA BADUTA\", \"stack\": true, \"type\": \"quantitative\"}}, \"title\": \"Perbandingan Punya Baduta\"}, {\"mark\": {\"type\": \"text\", \"lineBreak\": \"\\n\", \"radius\": 145, \"size\": 11}, \"encoding\": {\"color\": {\"field\": \"KATEGORI\", \"legend\": null, \"type\": \"nominal\"}, \"text\": {\"field\": \"LABEL\", \"type\": \"nominal\"}, \"theta\": {\"field\": \"PUNYA BADUTA\", \"stack\": true, \"type\": \"quantitative\"}}, \"title\": \"Perbandingan Punya Baduta\"}], \"data\": {\"name\": \"data-35401b92c3c31d784aee109cabbff6d4\"}, \"$schema\": \"https://vega.github.io/schema/vega-lite/v5.20.1.json\", \"datasets\": {\"data-35401b92c3c31d784aee109cabbff6d4\": [{\"KATEGORI\": \"PASANGKAYU\", \"PUNYA BADUTA\": 42, \"PERSENTASE\": 35.0, \"PERSENTASE_FORMAT\": \"35,00%\", \"LABEL\": \"PASANGKAYU\\n35,00%\", \"PUNYA BADUTA FORMATTED\": \"42\"}, {\"KATEGORI\": \"LAINNYA\", \"PUNYA BADUTA\": 78, \"PERSENTASE\": 65.0, \"PERSENTASE_FORMAT\": \"65,00%\", \"LABEL\": \"LAINNYA\\n65,00%\", \"PUNYA BADUTA FORMATTED\": \"78\"}]}}, {\"mode\": \"vega-lite\"});\n",
       "</script>"
      ],
      "text/plain": [
       "alt.LayerChart(...)"
      ]
     },
     "execution_count": 56,
     "metadata": {},
     "output_type": "execute_result"
    }
   ],
   "source": [
    "base = alt.Chart(data_kel_baduta, title=\"Perbandingan Punya Baduta\").encode(\n",
    "    alt.Theta(\"PUNYA BADUTA:Q\").stack(True),\n",
    "    alt.Color(\"KATEGORI:N\").legend(None)\n",
    ")\n",
    "\n",
    "pie = base.mark_arc(outerRadius=120)\n",
    "text = base.mark_text(radius=145, size=11, lineBreak=\"\\n\").encode(text=\"LABEL:N\")\n",
    "\n",
    "# Gabungkan grafik pie dan teks, lalu atur warna latar belakang menjadi oranye\n",
    "chart_dengan_orange_background = (pie + text).configure(\n",
    "    background='orange'  # Mengubah latar belakang menjadi oranye\n",
    ")\n",
    "\n",
    "chart_dengan_orange_background"
   ]
  },
  {
   "cell_type": "code",
   "execution_count": 61,
   "id": "e2a26cbd",
   "metadata": {},
   "outputs": [
    {
     "data": {
      "text/html": [
       "<div><style>\n",
       ".dataframe > thead > tr,\n",
       ".dataframe > tbody > tr {\n",
       "  text-align: right;\n",
       "  white-space: pre-wrap;\n",
       "}\n",
       "</style>\n",
       "<small>shape: (5_184, 8)</small><table border=\"1\" class=\"dataframe\"><thead><tr><th>NO</th><th>PROVINSI</th><th>KABUPATEN</th><th>KECAMATAN</th><th>KELURAHAN</th><th>PUS</th><th>UNMET NEED</th><th>BULAN</th></tr><tr><td>i64</td><td>str</td><td>str</td><td>str</td><td>str</td><td>i64</td><td>i64</td><td>str</td></tr></thead><tbody><tr><td>0</td><td>&quot;SULAWESI BARAT&quot;</td><td>&quot;PASANGKAYU&quot;</td><td>&quot;BAMBAIRA&quot;</td><td>&quot;BAMBAIRA&quot;</td><td>507</td><td>59</td><td>&quot;JANUARI&quot;</td></tr><tr><td>1</td><td>&quot;SULAWESI BARAT&quot;</td><td>&quot;PASANGKAYU&quot;</td><td>&quot;BAMBAIRA&quot;</td><td>&quot;KASOLOANG&quot;</td><td>322</td><td>61</td><td>&quot;JANUARI&quot;</td></tr><tr><td>2</td><td>&quot;SULAWESI BARAT&quot;</td><td>&quot;PASANGKAYU&quot;</td><td>&quot;BAMBAIRA&quot;</td><td>&quot;TAMPAURE&quot;</td><td>354</td><td>27</td><td>&quot;JANUARI&quot;</td></tr><tr><td>3</td><td>&quot;SULAWESI BARAT&quot;</td><td>&quot;PASANGKAYU&quot;</td><td>&quot;BAMBAIRA&quot;</td><td>&quot;KALUKU NANGKA&quot;</td><td>486</td><td>65</td><td>&quot;JANUARI&quot;</td></tr><tr><td>4</td><td>&quot;SULAWESI BARAT&quot;</td><td>&quot;PASANGKAYU&quot;</td><td>&quot;BULU TABA&quot;</td><td>&quot;LILIMORI&quot;</td><td>518</td><td>26</td><td>&quot;JANUARI&quot;</td></tr><tr><td>&hellip;</td><td>&hellip;</td><td>&hellip;</td><td>&hellip;</td><td>&hellip;</td><td>&hellip;</td><td>&hellip;</td><td>&hellip;</td></tr><tr><td>5179</td><td>&quot;SULAWESI BARAT&quot;</td><td>&quot;MAMUJU TENGAH&quot;</td><td>&quot;TOPOYO&quot;</td><td>&quot;TAPPILINA&quot;</td><td>244</td><td>26</td><td>&quot;AGUSTUS&quot;</td></tr><tr><td>5180</td><td>&quot;SULAWESI BARAT&quot;</td><td>&quot;MAMUJU TENGAH&quot;</td><td>&quot;TOPOYO&quot;</td><td>&quot;BAMBAMANURUNG&quot;</td><td>208</td><td>9</td><td>&quot;AGUSTUS&quot;</td></tr><tr><td>5181</td><td>&quot;SULAWESI BARAT&quot;</td><td>&quot;MAMUJU TENGAH&quot;</td><td>&quot;TOPOYO&quot;</td><td>&quot;SALULEKBO&quot;</td><td>571</td><td>70</td><td>&quot;AGUSTUS&quot;</td></tr><tr><td>5182</td><td>&quot;SULAWESI BARAT&quot;</td><td>&quot;MAMUJU TENGAH&quot;</td><td>&quot;TOPOYO&quot;</td><td>&quot;PANGALLOANG&quot;</td><td>350</td><td>18</td><td>&quot;AGUSTUS&quot;</td></tr><tr><td>5183</td><td>&quot;SULAWESI BARAT&quot;</td><td>&quot;MAMUJU TENGAH&quot;</td><td>&quot;TOPOYO&quot;</td><td>&quot;SINABATTA&quot;</td><td>179</td><td>16</td><td>&quot;AGUSTUS&quot;</td></tr></tbody></table></div>"
      ],
      "text/plain": [
       "shape: (5_184, 8)\n",
       "┌──────┬────────────────┬───────────────┬───────────┬───────────────┬─────┬────────────┬─────────┐\n",
       "│ NO   ┆ PROVINSI       ┆ KABUPATEN     ┆ KECAMATAN ┆ KELURAHAN     ┆ PUS ┆ UNMET NEED ┆ BULAN   │\n",
       "│ ---  ┆ ---            ┆ ---           ┆ ---       ┆ ---           ┆ --- ┆ ---        ┆ ---     │\n",
       "│ i64  ┆ str            ┆ str           ┆ str       ┆ str           ┆ i64 ┆ i64        ┆ str     │\n",
       "╞══════╪════════════════╪═══════════════╪═══════════╪═══════════════╪═════╪════════════╪═════════╡\n",
       "│ 0    ┆ SULAWESI BARAT ┆ PASANGKAYU    ┆ BAMBAIRA  ┆ BAMBAIRA      ┆ 507 ┆ 59         ┆ JANUARI │\n",
       "│ 1    ┆ SULAWESI BARAT ┆ PASANGKAYU    ┆ BAMBAIRA  ┆ KASOLOANG     ┆ 322 ┆ 61         ┆ JANUARI │\n",
       "│ 2    ┆ SULAWESI BARAT ┆ PASANGKAYU    ┆ BAMBAIRA  ┆ TAMPAURE      ┆ 354 ┆ 27         ┆ JANUARI │\n",
       "│ 3    ┆ SULAWESI BARAT ┆ PASANGKAYU    ┆ BAMBAIRA  ┆ KALUKU NANGKA ┆ 486 ┆ 65         ┆ JANUARI │\n",
       "│ 4    ┆ SULAWESI BARAT ┆ PASANGKAYU    ┆ BULU TABA ┆ LILIMORI      ┆ 518 ┆ 26         ┆ JANUARI │\n",
       "│ …    ┆ …              ┆ …             ┆ …         ┆ …             ┆ …   ┆ …          ┆ …       │\n",
       "│ 5179 ┆ SULAWESI BARAT ┆ MAMUJU TENGAH ┆ TOPOYO    ┆ TAPPILINA     ┆ 244 ┆ 26         ┆ AGUSTUS │\n",
       "│ 5180 ┆ SULAWESI BARAT ┆ MAMUJU TENGAH ┆ TOPOYO    ┆ BAMBAMANURUNG ┆ 208 ┆ 9          ┆ AGUSTUS │\n",
       "│ 5181 ┆ SULAWESI BARAT ┆ MAMUJU TENGAH ┆ TOPOYO    ┆ SALULEKBO     ┆ 571 ┆ 70         ┆ AGUSTUS │\n",
       "│ 5182 ┆ SULAWESI BARAT ┆ MAMUJU TENGAH ┆ TOPOYO    ┆ PANGALLOANG   ┆ 350 ┆ 18         ┆ AGUSTUS │\n",
       "│ 5183 ┆ SULAWESI BARAT ┆ MAMUJU TENGAH ┆ TOPOYO    ┆ SINABATTA     ┆ 179 ┆ 16         ┆ AGUSTUS │\n",
       "└──────┴────────────────┴───────────────┴───────────┴───────────────┴─────┴────────────┴─────────┘"
      ]
     },
     "execution_count": 61,
     "metadata": {},
     "output_type": "execute_result"
    }
   ],
   "source": [
    "data_pus = pl.read_csv(\"data/data_pus.csv\", separator=\";\")\n",
    "data_pus"
   ]
  },
  {
   "cell_type": "code",
   "execution_count": 8,
   "id": "10f42e09",
   "metadata": {},
   "outputs": [
    {
     "data": {
      "text/html": [
       "<div><style>\n",
       ".dataframe > thead > tr,\n",
       ".dataframe > tbody > tr {\n",
       "  text-align: right;\n",
       "  white-space: pre-wrap;\n",
       "}\n",
       "</style>\n",
       "<small>shape: (2_302, 15)</small><table border=\"1\" class=\"dataframe\"><thead><tr><th>NO</th><th>PROVINSI</th><th>KABUPATEN</th><th>KECAMATAN</th><th>KELURAHAN</th><th>NAMA FASKES</th><th>NO REGISTRASI</th><th>NAMA BIDAN</th><th>NIK BIDAN</th><th>ALAMAT</th><th>NO HP</th><th>PROFESI</th><th>PELATIHAN</th><th>STATUS UPDATE</th><th>BULAN</th></tr><tr><td>i64</td><td>str</td><td>str</td><td>str</td><td>str</td><td>str</td><td>i64</td><td>str</td><td>str</td><td>str</td><td>str</td><td>str</td><td>str</td><td>str</td><td>str</td></tr></thead><tbody><tr><td>0</td><td>&quot;SULAWESI BARAT&quot;</td><td>&quot;MAMUJU&quot;</td><td>&quot;KALUKKU&quot;</td><td>&quot;SONDOANG&quot;</td><td>&quot;Poskesdes Kasso&quot;</td><td>760202012</td><td>&quot;Les&quot;</td><td>&quot;760&quot;</td><td>&quot;Kasso&quot;</td><td>&quot;085&quot;</td><td>&quot;Bidan&quot;</td><td>&quot;Belum Terlatih&quot;</td><td>&quot;-&quot;</td><td>&quot;AGUSTUS&quot;</td></tr><tr><td>1</td><td>&quot;SULAWESI BARAT&quot;</td><td>&quot;MAMUJU&quot;</td><td>&quot;KALUKKU&quot;</td><td>&quot;SONDOANG&quot;</td><td>&quot;Poskesdes Kasso&quot;</td><td>760202012</td><td>&quot;And&quot;</td><td>&quot;731&quot;</td><td>&quot;Kalukku&quot;</td><td>&quot;081&quot;</td><td>&quot;Bidan&quot;</td><td>&quot;Belum Terlatih&quot;</td><td>&quot;-&quot;</td><td>&quot;AGUSTUS&quot;</td></tr><tr><td>2</td><td>&quot;SULAWESI BARAT&quot;</td><td>&quot;MAMUJU&quot;</td><td>&quot;KALUKKU&quot;</td><td>&quot;BEBANGA&quot;</td><td>&quot;BPS HASNAWATI&quot;</td><td>760202013</td><td>&quot;HJ.&quot;</td><td>&quot;760&quot;</td><td>&quot;Bebanga&quot;</td><td>&quot;085&quot;</td><td>&quot;Bidan&quot;</td><td>&quot;KIP/Konseling,R/R&quot;</td><td>&quot;-&quot;</td><td>&quot;AGUSTUS&quot;</td></tr><tr><td>3</td><td>&quot;SULAWESI BARAT&quot;</td><td>&quot;MAMUJU&quot;</td><td>&quot;KALUKKU&quot;</td><td>&quot;KEANG&quot;</td><td>&quot;Puskesmas Keang&quot;</td><td>7602021</td><td>&quot;Nur&quot;</td><td>&quot;760&quot;</td><td>&quot;Keang&quot;</td><td>&quot;082&quot;</td><td>&quot;Bidan&quot;</td><td>&quot;IUD/IMPLAN&quot;</td><td>&quot;-&quot;</td><td>&quot;AGUSTUS&quot;</td></tr><tr><td>4</td><td>&quot;SULAWESI BARAT&quot;</td><td>&quot;MAMUJU&quot;</td><td>&quot;KALUKKU&quot;</td><td>&quot;KEANG&quot;</td><td>&quot;Puskesmas Keang&quot;</td><td>7602021</td><td>&quot;Har&quot;</td><td>&quot;760&quot;</td><td>&quot;Keang&quot;</td><td>&quot;082&quot;</td><td>&quot;Bidan&quot;</td><td>&quot;KIP/Konseling,R/R&quot;</td><td>&quot;-&quot;</td><td>&quot;AGUSTUS&quot;</td></tr><tr><td>&hellip;</td><td>&hellip;</td><td>&hellip;</td><td>&hellip;</td><td>&hellip;</td><td>&hellip;</td><td>&hellip;</td><td>&hellip;</td><td>&hellip;</td><td>&hellip;</td><td>&hellip;</td><td>&hellip;</td><td>&hellip;</td><td>&hellip;</td><td>&hellip;</td></tr><tr><td>134</td><td>&quot;SULAWESI BARAT&quot;</td><td>&quot;MAMUJU TENGAH&quot;</td><td>&quot;TOPOYO&quot;</td><td>&quot;PANGALLOANG&quot;</td><td>&quot;PMB KASIH IBU&quot;</td><td>7606025</td><td>&quot;MIS&quot;</td><td>&quot;760&quot;</td><td>&quot;Desa Topoyo&quot;</td><td>&quot;085&quot;</td><td>&quot;Bidan&quot;</td><td>&quot;Belum Terlatih&quot;</td><td>&quot;-&quot;</td><td>&quot;AGUSTUS&quot;</td></tr><tr><td>135</td><td>&quot;SULAWESI BARAT&quot;</td><td>&quot;MAMUJU TENGAH&quot;</td><td>&quot;TOPOYO&quot;</td><td>&quot;SALUPANGKANG&quot;</td><td>&quot;PMB DIANA&quot;</td><td>7606026</td><td>&quot;DIA&quot;</td><td>&quot;760&quot;</td><td>&quot;DESA SALUPANGKANG&quot;</td><td>&quot;082&quot;</td><td>&quot;Bidan&quot;</td><td>&quot;IUD/IMPLAN&quot;</td><td>&quot;-&quot;</td><td>&quot;AGUSTUS&quot;</td></tr><tr><td>136</td><td>&quot;SULAWESI BARAT&quot;</td><td>&quot;MAMUJU TENGAH&quot;</td><td>&quot;TOPOYO&quot;</td><td>&quot;SALUPANGKANG&quot;</td><td>&quot;PMB DIANA&quot;</td><td>7606026</td><td>&quot;EKA&quot;</td><td>&quot;720&quot;</td><td>&quot;DESA BAMBAMANURUNG&quot;</td><td>null</td><td>&quot;Bidan&quot;</td><td>&quot;Belum Terlatih&quot;</td><td>&quot;-&quot;</td><td>&quot;AGUSTUS&quot;</td></tr><tr><td>137</td><td>&quot;SULAWESI BARAT&quot;</td><td>&quot;MAMUJU TENGAH&quot;</td><td>&quot;TOPOYO&quot;</td><td>&quot;KABUBU&quot;</td><td>&quot;PMB KHUSNUL KHOTIMAH&quot;</td><td>7606027</td><td>&quot;Bd &quot;</td><td>&quot;760&quot;</td><td>&quot;JLN POROS TOPOYO TUMBU DESA KA…</td><td>&quot;082&quot;</td><td>&quot;Bidan&quot;</td><td>&quot;Belum Terlatih&quot;</td><td>&quot;-&quot;</td><td>&quot;AGUSTUS&quot;</td></tr><tr><td>138</td><td>&quot;SULAWESI BARAT&quot;</td><td>&quot;MAMUJU TENGAH&quot;</td><td>&quot;TOPOYO&quot;</td><td>&quot;KABUBU&quot;</td><td>&quot;PMB KHUSNUL KHOTIMAH&quot;</td><td>7606027</td><td>&quot;MAS&quot;</td><td>&quot;760&quot;</td><td>&quot;DESA KABUBU&quot;</td><td>&quot;085&quot;</td><td>&quot;Bidan&quot;</td><td>&quot;Belum Terlatih&quot;</td><td>&quot;-&quot;</td><td>&quot;AGUSTUS&quot;</td></tr></tbody></table></div>"
      ],
      "text/plain": [
       "shape: (2_302, 15)\n",
       "┌─────┬──────────┬───────────┬───────────┬───┬─────────┬────────────────┬────────────────┬─────────┐\n",
       "│ NO  ┆ PROVINSI ┆ KABUPATEN ┆ KECAMATAN ┆ … ┆ PROFESI ┆ PELATIHAN      ┆ STATUS UPDATE  ┆ BULAN   │\n",
       "│ --- ┆ ---      ┆ ---       ┆ ---       ┆   ┆ ---     ┆ ---            ┆ ---            ┆ ---     │\n",
       "│ i64 ┆ str      ┆ str       ┆ str       ┆   ┆ str     ┆ str            ┆ str            ┆ str     │\n",
       "╞═════╪══════════╪═══════════╪═══════════╪═══╪═════════╪════════════════╪════════════════╪═════════╡\n",
       "│ 0   ┆ SULAWESI ┆ MAMUJU    ┆ KALUKKU   ┆ … ┆ Bidan   ┆ Belum Terlatih ┆ -              ┆ AGUSTUS │\n",
       "│     ┆ BARAT    ┆           ┆           ┆   ┆         ┆                ┆                ┆         │\n",
       "│ 1   ┆ SULAWESI ┆ MAMUJU    ┆ KALUKKU   ┆ … ┆ Bidan   ┆ Belum Terlatih ┆ -              ┆ AGUSTUS │\n",
       "│     ┆ BARAT    ┆           ┆           ┆   ┆         ┆                ┆                ┆         │\n",
       "│ 2   ┆ SULAWESI ┆ MAMUJU    ┆ KALUKKU   ┆ … ┆ Bidan   ┆ KIP/Konseling, ┆ -              ┆ AGUSTUS │\n",
       "│     ┆ BARAT    ┆           ┆           ┆   ┆         ┆ R/R            ┆                ┆         │\n",
       "│ 3   ┆ SULAWESI ┆ MAMUJU    ┆ KALUKKU   ┆ … ┆ Bidan   ┆ IUD/IMPLAN     ┆ -              ┆ AGUSTUS │\n",
       "│     ┆ BARAT    ┆           ┆           ┆   ┆         ┆                ┆                ┆         │\n",
       "│ 4   ┆ SULAWESI ┆ MAMUJU    ┆ KALUKKU   ┆ … ┆ Bidan   ┆ KIP/Konseling, ┆ -              ┆ AGUSTUS │\n",
       "│     ┆ BARAT    ┆           ┆           ┆   ┆         ┆ R/R            ┆                ┆         │\n",
       "│ …   ┆ …        ┆ …         ┆ …         ┆ … ┆ …       ┆ …              ┆ …              ┆ …       │\n",
       "│ 134 ┆ SULAWESI ┆ MAMUJU    ┆ TOPOYO    ┆ … ┆ Bidan   ┆ Belum Terlatih ┆ -              ┆ AGUSTUS │\n",
       "│     ┆ BARAT    ┆ TENGAH    ┆           ┆   ┆         ┆                ┆                ┆         │\n",
       "│ 135 ┆ SULAWESI ┆ MAMUJU    ┆ TOPOYO    ┆ … ┆ Bidan   ┆ IUD/IMPLAN     ┆ -              ┆ AGUSTUS │\n",
       "│     ┆ BARAT    ┆ TENGAH    ┆           ┆   ┆         ┆                ┆                ┆         │\n",
       "│ 136 ┆ SULAWESI ┆ MAMUJU    ┆ TOPOYO    ┆ … ┆ Bidan   ┆ Belum Terlatih ┆ -              ┆ AGUSTUS │\n",
       "│     ┆ BARAT    ┆ TENGAH    ┆           ┆   ┆         ┆                ┆                ┆         │\n",
       "│ 137 ┆ SULAWESI ┆ MAMUJU    ┆ TOPOYO    ┆ … ┆ Bidan   ┆ Belum Terlatih ┆ -              ┆ AGUSTUS │\n",
       "│     ┆ BARAT    ┆ TENGAH    ┆           ┆   ┆         ┆                ┆                ┆         │\n",
       "│ 138 ┆ SULAWESI ┆ MAMUJU    ┆ TOPOYO    ┆ … ┆ Bidan   ┆ Belum Terlatih ┆ -              ┆ AGUSTUS │\n",
       "│     ┆ BARAT    ┆ TENGAH    ┆           ┆   ┆         ┆                ┆                ┆         │\n",
       "└─────┴──────────┴───────────┴───────────┴───┴─────────┴────────────────┴────────────────┴─────────┘"
      ]
     },
     "execution_count": 8,
     "metadata": {},
     "output_type": "execute_result"
    }
   ],
   "source": [
    "faskes_sdm = pl.read_csv(\"data/data_faskes_siga.csv\", separator=\";\")\n",
    "faskes_sdm = faskes_sdm.filter(\n",
    "    pl.col(\"BULAN\").is_in([\"AGUSTUS\"])\n",
    ")\n",
    "data_poktan = pl.read_csv(\"data/profil_poktan.csv\", separator=\";\")\n",
    "faskes_sdm"
   ]
  },
  {
   "cell_type": "code",
   "execution_count": 7,
   "id": "b15ca4ed",
   "metadata": {},
   "outputs": [
    {
     "data": {
      "text/plain": [
       "864"
      ]
     },
     "execution_count": 7,
     "metadata": {},
     "output_type": "execute_result"
    }
   ],
   "source": [
    "faskes_sdm.select(pl.col(\"NO REGISTRASI\").n_unique()).item()"
   ]
  },
  {
   "cell_type": "code",
   "execution_count": null,
   "id": "4efe52ae",
   "metadata": {},
   "outputs": [
    {
     "ename": "AttributeError",
     "evalue": "'int' object has no attribute 'height'",
     "output_type": "error",
     "traceback": [
      "\u001b[31m---------------------------------------------------------------------------\u001b[39m",
      "\u001b[31mAttributeError\u001b[39m                            Traceback (most recent call last)",
      "\u001b[36mCell\u001b[39m\u001b[36m \u001b[39m\u001b[32mIn[15]\u001b[39m\u001b[32m, line 6\u001b[39m\n\u001b[32m      1\u001b[39m \u001b[43mfaskes_sdm\u001b[49m\u001b[43m.\u001b[49m\u001b[43mfilter\u001b[49m\u001b[43m(\u001b[49m\n\u001b[32m      2\u001b[39m \u001b[43m    \u001b[49m\u001b[43mpl\u001b[49m\u001b[43m.\u001b[49m\u001b[43mcol\u001b[49m\u001b[43m(\u001b[49m\u001b[33;43m\"\u001b[39;49m\u001b[33;43mKABUPATEN\u001b[39;49m\u001b[33;43m\"\u001b[39;49m\u001b[43m)\u001b[49m\u001b[43m.\u001b[49m\u001b[43mis_in\u001b[49m\u001b[43m(\u001b[49m\u001b[43mdata_poktan\u001b[49m\u001b[43m.\u001b[49m\u001b[43mselect\u001b[49m\u001b[43m(\u001b[49m\u001b[33;43m\"\u001b[39;49m\u001b[33;43mKABUPATEN\u001b[39;49m\u001b[33;43m\"\u001b[39;49m\u001b[43m)\u001b[49m\u001b[43m.\u001b[49m\u001b[43munique\u001b[49m\u001b[43m(\u001b[49m\u001b[43m)\u001b[49m\u001b[43m.\u001b[49m\u001b[43mto_series\u001b[49m\u001b[43m(\u001b[49m\u001b[43m)\u001b[49m\u001b[43m.\u001b[49m\u001b[43mto_list\u001b[49m\u001b[43m(\u001b[49m\u001b[43m)\u001b[49m\u001b[43m)\u001b[49m\u001b[43m,\u001b[49m\n\u001b[32m      3\u001b[39m \u001b[43m    \u001b[49m\u001b[43mpl\u001b[49m\u001b[43m.\u001b[49m\u001b[43mcol\u001b[49m\u001b[43m(\u001b[49m\u001b[33;43m\"\u001b[39;49m\u001b[33;43mKECAMATAN\u001b[39;49m\u001b[33;43m\"\u001b[39;49m\u001b[43m)\u001b[49m\u001b[43m.\u001b[49m\u001b[43mis_in\u001b[49m\u001b[43m(\u001b[49m\u001b[43mdata_poktan\u001b[49m\u001b[43m.\u001b[49m\u001b[43mselect\u001b[49m\u001b[43m(\u001b[49m\u001b[33;43m\"\u001b[39;49m\u001b[33;43mKECAMATAN\u001b[39;49m\u001b[33;43m\"\u001b[39;49m\u001b[43m)\u001b[49m\u001b[43m.\u001b[49m\u001b[43munique\u001b[49m\u001b[43m(\u001b[49m\u001b[43m)\u001b[49m\u001b[43m.\u001b[49m\u001b[43mto_series\u001b[49m\u001b[43m(\u001b[49m\u001b[43m)\u001b[49m\u001b[43m.\u001b[49m\u001b[43mto_list\u001b[49m\u001b[43m(\u001b[49m\u001b[43m)\u001b[49m\u001b[43m)\u001b[49m\u001b[43m,\u001b[49m\n\u001b[32m      4\u001b[39m \u001b[43m    \u001b[49m\u001b[43mpl\u001b[49m\u001b[43m.\u001b[49m\u001b[43mcol\u001b[49m\u001b[43m(\u001b[49m\u001b[33;43m\"\u001b[39;49m\u001b[33;43mKELURAHAN\u001b[39;49m\u001b[33;43m\"\u001b[39;49m\u001b[43m)\u001b[49m\u001b[43m.\u001b[49m\u001b[43mis_in\u001b[49m\u001b[43m(\u001b[49m\u001b[43mdata_poktan\u001b[49m\u001b[43m.\u001b[49m\u001b[43mselect\u001b[49m\u001b[43m(\u001b[49m\u001b[33;43m\"\u001b[39;49m\u001b[33;43mKELURAHAN\u001b[39;49m\u001b[33;43m\"\u001b[39;49m\u001b[43m)\u001b[49m\u001b[43m.\u001b[49m\u001b[43munique\u001b[49m\u001b[43m(\u001b[49m\u001b[43m)\u001b[49m\u001b[43m.\u001b[49m\u001b[43mto_series\u001b[49m\u001b[43m(\u001b[49m\u001b[43m)\u001b[49m\u001b[43m.\u001b[49m\u001b[43mto_list\u001b[49m\u001b[43m(\u001b[49m\u001b[43m)\u001b[49m\u001b[43m)\u001b[49m\u001b[43m,\u001b[49m\n\u001b[32m      5\u001b[39m \u001b[43m    \u001b[49m\u001b[43mpl\u001b[49m\u001b[43m.\u001b[49m\u001b[43mcol\u001b[49m\u001b[43m(\u001b[49m\u001b[33;43m\"\u001b[39;49m\u001b[33;43mBULAN\u001b[39;49m\u001b[33;43m\"\u001b[39;49m\u001b[43m)\u001b[49m\u001b[43m.\u001b[49m\u001b[43mis_in\u001b[49m\u001b[43m(\u001b[49m\u001b[43m[\u001b[49m\u001b[33;43m'\u001b[39;49m\u001b[33;43mAGUSTUS\u001b[39;49m\u001b[33;43m'\u001b[39;49m\u001b[43m]\u001b[49m\u001b[43m)\u001b[49m\n\u001b[32m----> \u001b[39m\u001b[32m6\u001b[39m \u001b[43m)\u001b[49m\u001b[43m.\u001b[49m\u001b[43mselect\u001b[49m\u001b[43m(\u001b[49m\u001b[43mpl\u001b[49m\u001b[43m.\u001b[49m\u001b[43mcol\u001b[49m\u001b[43m(\u001b[49m\u001b[33;43m\"\u001b[39;49m\u001b[33;43mNO REGISTRASI\u001b[39;49m\u001b[33;43m\"\u001b[39;49m\u001b[43m)\u001b[49m\u001b[43m.\u001b[49m\u001b[43mn_unique\u001b[49m\u001b[43m(\u001b[49m\u001b[43m)\u001b[49m\u001b[43m)\u001b[49m\u001b[43m.\u001b[49m\u001b[43mitem\u001b[49m\u001b[43m(\u001b[49m\u001b[43m)\u001b[49m\u001b[43m.\u001b[49m\u001b[43mheight\u001b[49m()\n",
      "\u001b[31mAttributeError\u001b[39m: 'int' object has no attribute 'height'"
     ]
    }
   ],
   "source": [
    "faskes_sdm.filter(\n",
    "    pl.col(\"KABUPATEN\").is_in(data_poktan.select(\"KABUPATEN\").unique().to_series().to_list()),\n",
    "    pl.col(\"KECAMATAN\").is_in(data_poktan.select(\"KECAMATAN\").unique().to_series().to_list()),\n",
    "    pl.col(\"KELURAHAN\").is_in(data_poktan.select(\"KELURAHAN\").unique().to_series().to_list()),\n",
    "    pl.col(\"BULAN\").is_in(['AGUSTUS'])\n",
    ").select(pl.col(\"NO REGISTRASI\").n_unique()).item()"
   ]
  },
  {
   "cell_type": "code",
   "execution_count": 16,
   "id": "5e1dbae3",
   "metadata": {},
   "outputs": [
    {
     "data": {
      "text/html": [
       "<div><style>\n",
       ".dataframe > thead > tr,\n",
       ".dataframe > tbody > tr {\n",
       "  text-align: right;\n",
       "  white-space: pre-wrap;\n",
       "}\n",
       "</style>\n",
       "<small>shape: (5_184, 17)</small><table border=\"1\" class=\"dataframe\"><thead><tr><th>NO</th><th>PROVINSI</th><th>KABUPATEN</th><th>KECAMATAN</th><th>KELURAHAN</th><th>PA</th><th>SUNTIK</th><th>PIL</th><th>KONDOM</th><th>IMPLAN</th><th>IUD</th><th>VASEKTOMI</th><th>TUBEKTOMI</th><th>MAL</th><th>KB MODERN</th><th>KB TRADISIONAL</th><th>BULAN</th></tr><tr><td>i64</td><td>str</td><td>str</td><td>str</td><td>str</td><td>i64</td><td>i64</td><td>i64</td><td>i64</td><td>i64</td><td>i64</td><td>i64</td><td>i64</td><td>i64</td><td>i64</td><td>i64</td><td>str</td></tr></thead><tbody><tr><td>0</td><td>&quot;SULAWESI BARAT&quot;</td><td>&quot;PASANGKAYU&quot;</td><td>&quot;BAMBAIRA&quot;</td><td>&quot;BAMBAIRA&quot;</td><td>275</td><td>81</td><td>50</td><td>7</td><td>113</td><td>9</td><td>0</td><td>12</td><td>0</td><td>272</td><td>3</td><td>&quot;JANUARI&quot;</td></tr><tr><td>1</td><td>&quot;SULAWESI BARAT&quot;</td><td>&quot;PASANGKAYU&quot;</td><td>&quot;BAMBAIRA&quot;</td><td>&quot;KASOLOANG&quot;</td><td>172</td><td>64</td><td>23</td><td>0</td><td>64</td><td>11</td><td>0</td><td>10</td><td>0</td><td>172</td><td>0</td><td>&quot;JANUARI&quot;</td></tr><tr><td>2</td><td>&quot;SULAWESI BARAT&quot;</td><td>&quot;PASANGKAYU&quot;</td><td>&quot;BAMBAIRA&quot;</td><td>&quot;TAMPAURE&quot;</td><td>246</td><td>110</td><td>51</td><td>2</td><td>59</td><td>6</td><td>0</td><td>12</td><td>0</td><td>240</td><td>6</td><td>&quot;JANUARI&quot;</td></tr><tr><td>3</td><td>&quot;SULAWESI BARAT&quot;</td><td>&quot;PASANGKAYU&quot;</td><td>&quot;BAMBAIRA&quot;</td><td>&quot;KALUKU NANGKA&quot;</td><td>284</td><td>135</td><td>63</td><td>2</td><td>66</td><td>5</td><td>0</td><td>13</td><td>0</td><td>284</td><td>0</td><td>&quot;JANUARI&quot;</td></tr><tr><td>4</td><td>&quot;SULAWESI BARAT&quot;</td><td>&quot;PASANGKAYU&quot;</td><td>&quot;BULU TABA&quot;</td><td>&quot;LILIMORI&quot;</td><td>281</td><td>111</td><td>30</td><td>7</td><td>81</td><td>33</td><td>0</td><td>19</td><td>0</td><td>281</td><td>0</td><td>&quot;JANUARI&quot;</td></tr><tr><td>&hellip;</td><td>&hellip;</td><td>&hellip;</td><td>&hellip;</td><td>&hellip;</td><td>&hellip;</td><td>&hellip;</td><td>&hellip;</td><td>&hellip;</td><td>&hellip;</td><td>&hellip;</td><td>&hellip;</td><td>&hellip;</td><td>&hellip;</td><td>&hellip;</td><td>&hellip;</td><td>&hellip;</td></tr><tr><td>5179</td><td>&quot;SULAWESI BARAT&quot;</td><td>&quot;MAMUJU TENGAH&quot;</td><td>&quot;TOPOYO&quot;</td><td>&quot;TAPPILINA&quot;</td><td>152</td><td>45</td><td>38</td><td>11</td><td>36</td><td>15</td><td>0</td><td>7</td><td>0</td><td>152</td><td>0</td><td>&quot;AGUSTUS&quot;</td></tr><tr><td>5180</td><td>&quot;SULAWESI BARAT&quot;</td><td>&quot;MAMUJU TENGAH&quot;</td><td>&quot;TOPOYO&quot;</td><td>&quot;BAMBAMANURUNG&quot;</td><td>149</td><td>65</td><td>9</td><td>4</td><td>63</td><td>6</td><td>0</td><td>0</td><td>2</td><td>149</td><td>0</td><td>&quot;AGUSTUS&quot;</td></tr><tr><td>5181</td><td>&quot;SULAWESI BARAT&quot;</td><td>&quot;MAMUJU TENGAH&quot;</td><td>&quot;TOPOYO&quot;</td><td>&quot;SALULEKBO&quot;</td><td>386</td><td>152</td><td>88</td><td>5</td><td>137</td><td>2</td><td>0</td><td>1</td><td>0</td><td>385</td><td>1</td><td>&quot;AGUSTUS&quot;</td></tr><tr><td>5182</td><td>&quot;SULAWESI BARAT&quot;</td><td>&quot;MAMUJU TENGAH&quot;</td><td>&quot;TOPOYO&quot;</td><td>&quot;PANGALLOANG&quot;</td><td>256</td><td>83</td><td>58</td><td>2</td><td>105</td><td>6</td><td>0</td><td>2</td><td>0</td><td>256</td><td>0</td><td>&quot;AGUSTUS&quot;</td></tr><tr><td>5183</td><td>&quot;SULAWESI BARAT&quot;</td><td>&quot;MAMUJU TENGAH&quot;</td><td>&quot;TOPOYO&quot;</td><td>&quot;SINABATTA&quot;</td><td>104</td><td>49</td><td>28</td><td>1</td><td>15</td><td>6</td><td>0</td><td>2</td><td>0</td><td>101</td><td>3</td><td>&quot;AGUSTUS&quot;</td></tr></tbody></table></div>"
      ],
      "text/plain": [
       "shape: (5_184, 17)\n",
       "┌──────┬──────────┬───────────────┬───────────┬───┬─────┬───────────┬────────────────┬─────────┐\n",
       "│ NO   ┆ PROVINSI ┆ KABUPATEN     ┆ KECAMATAN ┆ … ┆ MAL ┆ KB MODERN ┆ KB TRADISIONAL ┆ BULAN   │\n",
       "│ ---  ┆ ---      ┆ ---           ┆ ---       ┆   ┆ --- ┆ ---       ┆ ---            ┆ ---     │\n",
       "│ i64  ┆ str      ┆ str           ┆ str       ┆   ┆ i64 ┆ i64       ┆ i64            ┆ str     │\n",
       "╞══════╪══════════╪═══════════════╪═══════════╪═══╪═════╪═══════════╪════════════════╪═════════╡\n",
       "│ 0    ┆ SULAWESI ┆ PASANGKAYU    ┆ BAMBAIRA  ┆ … ┆ 0   ┆ 272       ┆ 3              ┆ JANUARI │\n",
       "│      ┆ BARAT    ┆               ┆           ┆   ┆     ┆           ┆                ┆         │\n",
       "│ 1    ┆ SULAWESI ┆ PASANGKAYU    ┆ BAMBAIRA  ┆ … ┆ 0   ┆ 172       ┆ 0              ┆ JANUARI │\n",
       "│      ┆ BARAT    ┆               ┆           ┆   ┆     ┆           ┆                ┆         │\n",
       "│ 2    ┆ SULAWESI ┆ PASANGKAYU    ┆ BAMBAIRA  ┆ … ┆ 0   ┆ 240       ┆ 6              ┆ JANUARI │\n",
       "│      ┆ BARAT    ┆               ┆           ┆   ┆     ┆           ┆                ┆         │\n",
       "│ 3    ┆ SULAWESI ┆ PASANGKAYU    ┆ BAMBAIRA  ┆ … ┆ 0   ┆ 284       ┆ 0              ┆ JANUARI │\n",
       "│      ┆ BARAT    ┆               ┆           ┆   ┆     ┆           ┆                ┆         │\n",
       "│ 4    ┆ SULAWESI ┆ PASANGKAYU    ┆ BULU TABA ┆ … ┆ 0   ┆ 281       ┆ 0              ┆ JANUARI │\n",
       "│      ┆ BARAT    ┆               ┆           ┆   ┆     ┆           ┆                ┆         │\n",
       "│ …    ┆ …        ┆ …             ┆ …         ┆ … ┆ …   ┆ …         ┆ …              ┆ …       │\n",
       "│ 5179 ┆ SULAWESI ┆ MAMUJU TENGAH ┆ TOPOYO    ┆ … ┆ 0   ┆ 152       ┆ 0              ┆ AGUSTUS │\n",
       "│      ┆ BARAT    ┆               ┆           ┆   ┆     ┆           ┆                ┆         │\n",
       "│ 5180 ┆ SULAWESI ┆ MAMUJU TENGAH ┆ TOPOYO    ┆ … ┆ 2   ┆ 149       ┆ 0              ┆ AGUSTUS │\n",
       "│      ┆ BARAT    ┆               ┆           ┆   ┆     ┆           ┆                ┆         │\n",
       "│ 5181 ┆ SULAWESI ┆ MAMUJU TENGAH ┆ TOPOYO    ┆ … ┆ 0   ┆ 385       ┆ 1              ┆ AGUSTUS │\n",
       "│      ┆ BARAT    ┆               ┆           ┆   ┆     ┆           ┆                ┆         │\n",
       "│ 5182 ┆ SULAWESI ┆ MAMUJU TENGAH ┆ TOPOYO    ┆ … ┆ 0   ┆ 256       ┆ 0              ┆ AGUSTUS │\n",
       "│      ┆ BARAT    ┆               ┆           ┆   ┆     ┆           ┆                ┆         │\n",
       "│ 5183 ┆ SULAWESI ┆ MAMUJU TENGAH ┆ TOPOYO    ┆ … ┆ 0   ┆ 101       ┆ 3              ┆ AGUSTUS │\n",
       "│      ┆ BARAT    ┆               ┆           ┆   ┆     ┆           ┆                ┆         │\n",
       "└──────┴──────────┴───────────────┴───────────┴───┴─────┴───────────┴────────────────┴─────────┘"
      ]
     },
     "execution_count": 16,
     "metadata": {},
     "output_type": "execute_result"
    }
   ],
   "source": [
    "data_mix = pl.read_csv(\"data/data_mix_kontra.csv\", separator=\";\")\n",
    "data_mix"
   ]
  },
  {
   "cell_type": "code",
   "execution_count": null,
   "id": "f9b80ff8",
   "metadata": {},
   "outputs": [],
   "source": []
  }
 ],
 "metadata": {
  "kernelspec": {
   "display_name": "venv-profil-desa (3.13.3)",
   "language": "python",
   "name": "python3"
  },
  "language_info": {
   "codemirror_mode": {
    "name": "ipython",
    "version": 3
   },
   "file_extension": ".py",
   "mimetype": "text/x-python",
   "name": "python",
   "nbconvert_exporter": "python",
   "pygments_lexer": "ipython3",
   "version": "3.13.3"
  }
 },
 "nbformat": 4,
 "nbformat_minor": 5
}
