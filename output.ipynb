{
 "cells": [
  {
   "cell_type": "code",
   "execution_count": 1,
   "metadata": {},
   "outputs": [],
   "source": [
    "import polars as pl\n",
    "from itables import show\n"
   ]
  },
  {
   "cell_type": "code",
   "execution_count": 3,
   "metadata": {},
   "outputs": [],
   "source": [
    "filter_kabupaten = [\"PASANGKAYU\", \"PASANGKAYU\", \"MAMUJU\", \"MAMUJU\"]\n",
    "filter_kecamatan = [\"PASANGKAYU\", \"PASANGKAYU\", \"PAPALANG\", \"PAPALANG\"]\n",
    "filter_desa = [\"AKO\", \"GUNUNG SARI\", \"BODA-BODA\", \"SISANGO\"]\n",
    "filter_bulan = ['JANUARI']"
   ]
  },
  {
   "cell_type": "code",
   "execution_count": 73,
   "metadata": {},
   "outputs": [
    {
     "data": {
      "text/html": [
       "<div><style>\n",
       ".dataframe > thead > tr,\n",
       ".dataframe > tbody > tr {\n",
       "  text-align: right;\n",
       "  white-space: pre-wrap;\n",
       "}\n",
       "</style>\n",
       "<small>shape: (648, 5)</small><table border=\"1\" class=\"dataframe\"><thead><tr><th>PROVINSI</th><th>KABUPATEN</th><th>KECAMATAN</th><th>KELURAHAN</th><th>NAMA PKB</th></tr><tr><td>str</td><td>str</td><td>str</td><td>str</td><td>str</td></tr></thead><tbody><tr><td>&quot;SULAWESI BARAT&quot;</td><td>&quot;PASANGKAYU&quot;</td><td>&quot;BAMBALAMOTU&quot;</td><td>&quot;BAMBALAMOTU&quot;</td><td>&quot;KUR&#x27;ANI&quot;</td></tr><tr><td>&quot;SULAWESI BARAT&quot;</td><td>&quot;PASANGKAYU&quot;</td><td>&quot;BAMBALAMOTU&quot;</td><td>&quot;POLEWALI&quot;</td><td>&quot;FITRI DAYANTI&quot;</td></tr><tr><td>&quot;SULAWESI BARAT&quot;</td><td>&quot;PASANGKAYU&quot;</td><td>&quot;BAMBALAMOTU&quot;</td><td>&quot;RANDOMAYANG&quot;</td><td>&quot;NUR AYNY&quot;</td></tr><tr><td>&quot;SULAWESI BARAT&quot;</td><td>&quot;PASANGKAYU&quot;</td><td>&quot;BAMBALAMOTU&quot;</td><td>&quot;PANGIANG&quot;</td><td>&quot;SARI ASTUTI&quot;</td></tr><tr><td>&quot;SULAWESI BARAT&quot;</td><td>&quot;PASANGKAYU&quot;</td><td>&quot;BAMBALAMOTU&quot;</td><td>&quot;KALOLA&quot;</td><td>&quot;HASANUDDIN, SE&quot;</td></tr><tr><td>&hellip;</td><td>&hellip;</td><td>&hellip;</td><td>&hellip;</td><td>&hellip;</td></tr><tr><td>&quot;SULAWESI BARAT&quot;</td><td>&quot;MAMUJU TENGAH&quot;</td><td>&quot;KAROSSA&quot;</td><td>&quot;BENGGAULU&quot;</td><td>&quot;HANA PRATIWI ARSYAD&quot;</td></tr><tr><td>&quot;SULAWESI BARAT&quot;</td><td>&quot;MAMUJU TENGAH&quot;</td><td>&quot;KAROSSA&quot;</td><td>&quot;SUKA MAJU&quot;</td><td>&quot;ABDULLAH, A.md. Kep&quot;</td></tr><tr><td>&quot;SULAWESI BARAT&quot;</td><td>&quot;MAMUJU TENGAH&quot;</td><td>&quot;KAROSSA&quot;</td><td>&quot;KAMBUNONG&quot;</td><td>&quot;NURHASIA L&quot;</td></tr><tr><td>&quot;SULAWESI BARAT&quot;</td><td>&quot;MAMUJU TENGAH&quot;</td><td>&quot;KAROSSA&quot;</td><td>&quot;SALUBIRO&quot;</td><td>&quot;ABDULLAH, A.md. Kep&quot;</td></tr><tr><td>&quot;SULAWESI BARAT&quot;</td><td>&quot;MAMUJU TENGAH&quot;</td><td>&quot;KAROSSA&quot;</td><td>&quot;SANJANGO&quot;</td><td>&quot;NASARANI&quot;</td></tr></tbody></table></div>"
      ],
      "text/plain": [
       "shape: (648, 5)\n",
       "┌────────────────┬───────────────┬─────────────┬─────────────┬─────────────────────┐\n",
       "│ PROVINSI       ┆ KABUPATEN     ┆ KECAMATAN   ┆ KELURAHAN   ┆ NAMA PKB            │\n",
       "│ ---            ┆ ---           ┆ ---         ┆ ---         ┆ ---                 │\n",
       "│ str            ┆ str           ┆ str         ┆ str         ┆ str                 │\n",
       "╞════════════════╪═══════════════╪═════════════╪═════════════╪═════════════════════╡\n",
       "│ SULAWESI BARAT ┆ PASANGKAYU    ┆ BAMBALAMOTU ┆ BAMBALAMOTU ┆ KUR'ANI             │\n",
       "│ SULAWESI BARAT ┆ PASANGKAYU    ┆ BAMBALAMOTU ┆ POLEWALI    ┆ FITRI DAYANTI       │\n",
       "│ SULAWESI BARAT ┆ PASANGKAYU    ┆ BAMBALAMOTU ┆ RANDOMAYANG ┆ NUR AYNY            │\n",
       "│ SULAWESI BARAT ┆ PASANGKAYU    ┆ BAMBALAMOTU ┆ PANGIANG    ┆ SARI ASTUTI         │\n",
       "│ SULAWESI BARAT ┆ PASANGKAYU    ┆ BAMBALAMOTU ┆ KALOLA      ┆ HASANUDDIN, SE      │\n",
       "│ …              ┆ …             ┆ …           ┆ …           ┆ …                   │\n",
       "│ SULAWESI BARAT ┆ MAMUJU TENGAH ┆ KAROSSA     ┆ BENGGAULU   ┆ HANA PRATIWI ARSYAD │\n",
       "│ SULAWESI BARAT ┆ MAMUJU TENGAH ┆ KAROSSA     ┆ SUKA MAJU   ┆ ABDULLAH, A.md. Kep │\n",
       "│ SULAWESI BARAT ┆ MAMUJU TENGAH ┆ KAROSSA     ┆ KAMBUNONG   ┆ NURHASIA L          │\n",
       "│ SULAWESI BARAT ┆ MAMUJU TENGAH ┆ KAROSSA     ┆ SALUBIRO    ┆ ABDULLAH, A.md. Kep │\n",
       "│ SULAWESI BARAT ┆ MAMUJU TENGAH ┆ KAROSSA     ┆ SANJANGO    ┆ NASARANI            │\n",
       "└────────────────┴───────────────┴─────────────┴─────────────┴─────────────────────┘"
      ]
     },
     "execution_count": 73,
     "metadata": {},
     "output_type": "execute_result"
    }
   ],
   "source": [
    "data_pkb = pl.read_csv(\"data/nama pkb.csv\")\n",
    "data_pkb"
   ]
  },
  {
   "cell_type": "code",
   "execution_count": 74,
   "metadata": {},
   "outputs": [
    {
     "data": {
      "text/plain": [
       "'NUR ASIA TAHIR, SE'"
      ]
     },
     "execution_count": 74,
     "metadata": {},
     "output_type": "execute_result"
    }
   ],
   "source": [
    "data_pkb = pl.read_csv(\"data/nama pkb.csv\")\n",
    "\n",
    "data_pkb.filter(\n",
    "    pl.col(\"KABUPATEN\").is_in(filter_kabupaten),\n",
    "    pl.col(\"KECAMATAN\").is_in(filter_kecamatan),\n",
    "    pl.col(\"KELURAHAN\").is_in(filter_desa)\n",
    ")['NAMA PKB'][0]\n",
    "\n"
   ]
  },
  {
   "cell_type": "code",
   "execution_count": 77,
   "metadata": {},
   "outputs": [
    {
     "data": {
      "text/plain": [
       "2"
      ]
     },
     "execution_count": 77,
     "metadata": {},
     "output_type": "execute_result"
    }
   ],
   "source": [
    "data_pkb.filter(\n",
    "    pl.col(\"KABUPATEN\").is_in(filter_kabupaten),\n",
    "    pl.col(\"KECAMATAN\").is_in(filter_kecamatan),\n",
    "    pl.col(\"KELURAHAN\").is_in(filter_desa)\n",
    ").select(['KECAMATAN', 'NAMA PKB']).unique().height"
   ]
  },
  {
   "cell_type": "code",
   "execution_count": 70,
   "metadata": {},
   "outputs": [
    {
     "data": {
      "text/plain": [
       "['AKO', 'GUNUNG SARI', 'BODA-BODA', 'SISANGO']"
      ]
     },
     "execution_count": 70,
     "metadata": {},
     "output_type": "execute_result"
    }
   ],
   "source": [
    "filter_desa"
   ]
  },
  {
   "cell_type": "code",
   "execution_count": 79,
   "metadata": {},
   "outputs": [
    {
     "data": {
      "text/html": [
       "<div><style>\n",
       ".dataframe > thead > tr,\n",
       ".dataframe > tbody > tr {\n",
       "  text-align: right;\n",
       "  white-space: pre-wrap;\n",
       "}\n",
       "</style>\n",
       "<small>shape: (2_859, 7)</small><table border=\"1\" class=\"dataframe\"><thead><tr><th>Provinsi</th><th>Kota</th><th>Kecamatan</th><th>Kelurahan</th><th>Nama Anggota</th><th>status</th><th>Register</th></tr><tr><td>str</td><td>str</td><td>str</td><td>str</td><td>str</td><td>str</td><td>i64</td></tr></thead><tbody><tr><td>&quot;SULAWESI BARAT&quot;</td><td>&quot;PASANGKAYU&quot;</td><td>&quot;BAMBALAMOTU&quot;</td><td>&quot;BAMBALAMOTU&quot;</td><td>&quot;ROFIKA,A.Md,Keb&quot;</td><td>&quot;Bidan&quot;</td><td>7601011006001</td></tr><tr><td>&quot;SULAWESI BARAT&quot;</td><td>&quot;PASANGKAYU&quot;</td><td>&quot;BAMBALAMOTU&quot;</td><td>&quot;BAMBALAMOTU&quot;</td><td>&quot;NURSIA&quot;</td><td>&quot;PKK&quot;</td><td>7601011006001</td></tr><tr><td>&quot;SULAWESI BARAT&quot;</td><td>&quot;PASANGKAYU&quot;</td><td>&quot;BAMBALAMOTU&quot;</td><td>&quot;BAMBALAMOTU&quot;</td><td>&quot;RAMLAH&quot;</td><td>&quot;Kader KB&quot;</td><td>7601011006001</td></tr><tr><td>&quot;SULAWESI BARAT&quot;</td><td>&quot;PASANGKAYU&quot;</td><td>&quot;BAMBALAMOTU&quot;</td><td>&quot;BAMBALAMOTU&quot;</td><td>&quot;SERLI,A.Md,Keb&quot;</td><td>&quot;Bidan&quot;</td><td>7601011006002</td></tr><tr><td>&quot;SULAWESI BARAT&quot;</td><td>&quot;PASANGKAYU&quot;</td><td>&quot;BAMBALAMOTU&quot;</td><td>&quot;BAMBALAMOTU&quot;</td><td>&quot;NASRIANA&quot;</td><td>&quot;PKK&quot;</td><td>7601011006002</td></tr><tr><td>&hellip;</td><td>&hellip;</td><td>&hellip;</td><td>&hellip;</td><td>&hellip;</td><td>&hellip;</td><td>&hellip;</td></tr><tr><td>&quot;SULAWESI BARAT&quot;</td><td>&quot;MAMUJU TENGAH&quot;</td><td>&quot;KAROSSA&quot;</td><td>&quot;SALUBIRO&quot;</td><td>&quot;HERNA.A, Amd.kep&quot;</td><td>&quot;PKK&quot;</td><td>7606052010001</td></tr><tr><td>&quot;SULAWESI BARAT&quot;</td><td>&quot;MAMUJU TENGAH&quot;</td><td>&quot;KAROSSA&quot;</td><td>&quot;SALUBIRO&quot;</td><td>&quot;JUMIATI&quot;</td><td>&quot;Kader KB&quot;</td><td>7606052010001</td></tr><tr><td>&quot;SULAWESI BARAT&quot;</td><td>&quot;MAMUJU TENGAH&quot;</td><td>&quot;KAROSSA&quot;</td><td>&quot;SANJANGO&quot;</td><td>&quot;SALMIAH,Amd Keb&quot;</td><td>&quot;Bidan&quot;</td><td>7606052011001</td></tr><tr><td>&quot;SULAWESI BARAT&quot;</td><td>&quot;MAMUJU TENGAH&quot;</td><td>&quot;KAROSSA&quot;</td><td>&quot;SANJANGO&quot;</td><td>&quot;LINDA AYU LESTARI&quot;</td><td>&quot;PKK&quot;</td><td>7606052011001</td></tr><tr><td>&quot;SULAWESI BARAT&quot;</td><td>&quot;MAMUJU TENGAH&quot;</td><td>&quot;KAROSSA&quot;</td><td>&quot;SANJANGO&quot;</td><td>&quot;RAHMAWATI&quot;</td><td>&quot;Kader KB&quot;</td><td>7606052011001</td></tr></tbody></table></div>"
      ],
      "text/plain": [
       "shape: (2_859, 7)\n",
       "┌──────────┬────────────────┬─────────────┬─────────────┬───────────────┬──────────┬───────────────┐\n",
       "│ Provinsi ┆ Kota           ┆ Kecamatan   ┆ Kelurahan   ┆ Nama Anggota  ┆ status   ┆ Register      │\n",
       "│ ---      ┆ ---            ┆ ---         ┆ ---         ┆ ---           ┆ ---      ┆ ---           │\n",
       "│ str      ┆ str            ┆ str         ┆ str         ┆ str           ┆ str      ┆ i64           │\n",
       "╞══════════╪════════════════╪═════════════╪═════════════╪═══════════════╪══════════╪═══════════════╡\n",
       "│ SULAWESI ┆ PASANGKAYU     ┆ BAMBALAMOTU ┆ BAMBALAMOTU ┆ ROFIKA,A.Md,K ┆ Bidan    ┆ 7601011006001 │\n",
       "│ BARAT    ┆                ┆             ┆             ┆ eb            ┆          ┆               │\n",
       "│ SULAWESI ┆ PASANGKAYU     ┆ BAMBALAMOTU ┆ BAMBALAMOTU ┆ NURSIA        ┆ PKK      ┆ 7601011006001 │\n",
       "│ BARAT    ┆                ┆             ┆             ┆               ┆          ┆               │\n",
       "│ SULAWESI ┆ PASANGKAYU     ┆ BAMBALAMOTU ┆ BAMBALAMOTU ┆ RAMLAH        ┆ Kader KB ┆ 7601011006001 │\n",
       "│ BARAT    ┆                ┆             ┆             ┆               ┆          ┆               │\n",
       "│ SULAWESI ┆ PASANGKAYU     ┆ BAMBALAMOTU ┆ BAMBALAMOTU ┆ SERLI,A.Md,Ke ┆ Bidan    ┆ 7601011006002 │\n",
       "│ BARAT    ┆                ┆             ┆             ┆ b             ┆          ┆               │\n",
       "│ SULAWESI ┆ PASANGKAYU     ┆ BAMBALAMOTU ┆ BAMBALAMOTU ┆ NASRIANA      ┆ PKK      ┆ 7601011006002 │\n",
       "│ BARAT    ┆                ┆             ┆             ┆               ┆          ┆               │\n",
       "│ …        ┆ …              ┆ …           ┆ …           ┆ …             ┆ …        ┆ …             │\n",
       "│ SULAWESI ┆ MAMUJU TENGAH  ┆ KAROSSA     ┆ SALUBIRO    ┆ HERNA.A,      ┆ PKK      ┆ 7606052010001 │\n",
       "│ BARAT    ┆                ┆             ┆             ┆ Amd.kep       ┆          ┆               │\n",
       "│ SULAWESI ┆ MAMUJU TENGAH  ┆ KAROSSA     ┆ SALUBIRO    ┆ JUMIATI       ┆ Kader KB ┆ 7606052010001 │\n",
       "│ BARAT    ┆                ┆             ┆             ┆               ┆          ┆               │\n",
       "│ SULAWESI ┆ MAMUJU TENGAH  ┆ KAROSSA     ┆ SANJANGO    ┆ SALMIAH,Amd   ┆ Bidan    ┆ 7606052011001 │\n",
       "│ BARAT    ┆                ┆             ┆             ┆ Keb           ┆          ┆               │\n",
       "│ SULAWESI ┆ MAMUJU TENGAH  ┆ KAROSSA     ┆ SANJANGO    ┆ LINDA AYU     ┆ PKK      ┆ 7606052011001 │\n",
       "│ BARAT    ┆                ┆             ┆             ┆ LESTARI       ┆          ┆               │\n",
       "│ SULAWESI ┆ MAMUJU TENGAH  ┆ KAROSSA     ┆ SANJANGO    ┆ RAHMAWATI     ┆ Kader KB ┆ 7606052011001 │\n",
       "│ BARAT    ┆                ┆             ┆             ┆               ┆          ┆               │\n",
       "└──────────┴────────────────┴─────────────┴─────────────┴───────────────┴──────────┴───────────────┘"
      ]
     },
     "execution_count": 79,
     "metadata": {},
     "output_type": "execute_result"
    }
   ],
   "source": [
    "data_tpk = pl.read_csv(\"data/nama_tpk.csv\")\n",
    "data_tpk"
   ]
  },
  {
   "cell_type": "code",
   "execution_count": null,
   "metadata": {},
   "outputs": [
    {
     "data": {
      "text/plain": [
       "6"
      ]
     },
     "execution_count": 80,
     "metadata": {},
     "output_type": "execute_result"
    }
   ],
   "source": [
    "data_tpk.filter(\n",
    "    pl.col(\"Kota\").is_in(filter_kabupaten),\n",
    "    pl.col(\"Kecamatan\").is_in(filter_kecamatan),\n",
    "    pl.col(\"Kelurahan\").is_in(filter_desa)\n",
    ").select(['Kecamatan', 'Register']).unique().height"
   ]
  },
  {
   "cell_type": "code",
   "execution_count": null,
   "metadata": {},
   "outputs": [],
   "source": []
  },
  {
   "cell_type": "markdown",
   "metadata": {},
   "source": [
    "# Jumlah PUS\n"
   ]
  },
  {
   "cell_type": "code",
   "execution_count": 12,
   "metadata": {},
   "outputs": [
    {
     "data": {
      "text/html": [
       "<div><style>\n",
       ".dataframe > thead > tr,\n",
       ".dataframe > tbody > tr {\n",
       "  text-align: right;\n",
       "  white-space: pre-wrap;\n",
       "}\n",
       "</style>\n",
       "<small>shape: (3_888, 8)</small><table border=\"1\" class=\"dataframe\"><thead><tr><th>__UNNAMED__0</th><th>PROVINSI</th><th>KABUPATEN</th><th>KECAMATAN</th><th>KELURAHAN</th><th>PUS</th><th>UNMET NEED</th><th>Bulan</th></tr><tr><td>i64</td><td>str</td><td>str</td><td>str</td><td>str</td><td>i64</td><td>i64</td><td>str</td></tr></thead><tbody><tr><td>0</td><td>&quot;SULAWESI BARAT&quot;</td><td>&quot;PASANGKAYU&quot;</td><td>&quot;BAMBAIRA&quot;</td><td>&quot;BAMBAIRA&quot;</td><td>469</td><td>75</td><td>&quot;JANUARI&quot;</td></tr><tr><td>1</td><td>&quot;SULAWESI BARAT&quot;</td><td>&quot;PASANGKAYU&quot;</td><td>&quot;BAMBAIRA&quot;</td><td>&quot;KASOLOANG&quot;</td><td>335</td><td>70</td><td>&quot;JANUARI&quot;</td></tr><tr><td>2</td><td>&quot;SULAWESI BARAT&quot;</td><td>&quot;PASANGKAYU&quot;</td><td>&quot;BAMBAIRA&quot;</td><td>&quot;TAMPAURE&quot;</td><td>288</td><td>33</td><td>&quot;JANUARI&quot;</td></tr><tr><td>3</td><td>&quot;SULAWESI BARAT&quot;</td><td>&quot;PASANGKAYU&quot;</td><td>&quot;BAMBAIRA&quot;</td><td>&quot;KALUKU NANGKA&quot;</td><td>444</td><td>81</td><td>&quot;JANUARI&quot;</td></tr><tr><td>4</td><td>&quot;SULAWESI BARAT&quot;</td><td>&quot;POLEWALI MANDAR&quot;</td><td>&quot;POLEWALI&quot;</td><td>&quot;POLEWALI&quot;</td><td>827</td><td>206</td><td>&quot;JANUARI&quot;</td></tr><tr><td>&hellip;</td><td>&hellip;</td><td>&hellip;</td><td>&hellip;</td><td>&hellip;</td><td>&hellip;</td><td>&hellip;</td><td>&hellip;</td></tr><tr><td>3883</td><td>&quot;SULAWESI BARAT&quot;</td><td>&quot;MAMUJU TENGAH&quot;</td><td>&quot;KAROSSA&quot;</td><td>&quot;BENGGAULU&quot;</td><td>400</td><td>20</td><td>&quot;JUNI&quot;</td></tr><tr><td>3884</td><td>&quot;SULAWESI BARAT&quot;</td><td>&quot;MAMUJU TENGAH&quot;</td><td>&quot;KAROSSA&quot;</td><td>&quot;SUKA MAJU&quot;</td><td>246</td><td>55</td><td>&quot;JUNI&quot;</td></tr><tr><td>3885</td><td>&quot;SULAWESI BARAT&quot;</td><td>&quot;MAMUJU TENGAH&quot;</td><td>&quot;KAROSSA&quot;</td><td>&quot;KAMBUNONG&quot;</td><td>414</td><td>38</td><td>&quot;JUNI&quot;</td></tr><tr><td>3886</td><td>&quot;SULAWESI BARAT&quot;</td><td>&quot;MAMUJU TENGAH&quot;</td><td>&quot;KAROSSA&quot;</td><td>&quot;SALUBIRO&quot;</td><td>220</td><td>1</td><td>&quot;JUNI&quot;</td></tr><tr><td>3887</td><td>&quot;SULAWESI BARAT&quot;</td><td>&quot;MAMUJU TENGAH&quot;</td><td>&quot;KAROSSA&quot;</td><td>&quot;SANJANGO&quot;</td><td>175</td><td>10</td><td>&quot;JUNI&quot;</td></tr></tbody></table></div>"
      ],
      "text/plain": [
       "shape: (3_888, 8)\n",
       "┌─────────────────┬──────────┬────────────────┬───────────┬───────────┬─────┬────────────┬─────────┐\n",
       "│ __UNNAMED__0    ┆ PROVINSI ┆ KABUPATEN      ┆ KECAMATAN ┆ KELURAHAN ┆ PUS ┆ UNMET NEED ┆ Bulan   │\n",
       "│ ---             ┆ ---      ┆ ---            ┆ ---       ┆ ---       ┆ --- ┆ ---        ┆ ---     │\n",
       "│ i64             ┆ str      ┆ str            ┆ str       ┆ str       ┆ i64 ┆ i64        ┆ str     │\n",
       "╞═════════════════╪══════════╪════════════════╪═══════════╪═══════════╪═════╪════════════╪═════════╡\n",
       "│ 0               ┆ SULAWESI ┆ PASANGKAYU     ┆ BAMBAIRA  ┆ BAMBAIRA  ┆ 469 ┆ 75         ┆ JANUARI │\n",
       "│                 ┆ BARAT    ┆                ┆           ┆           ┆     ┆            ┆         │\n",
       "│ 1               ┆ SULAWESI ┆ PASANGKAYU     ┆ BAMBAIRA  ┆ KASOLOANG ┆ 335 ┆ 70         ┆ JANUARI │\n",
       "│                 ┆ BARAT    ┆                ┆           ┆           ┆     ┆            ┆         │\n",
       "│ 2               ┆ SULAWESI ┆ PASANGKAYU     ┆ BAMBAIRA  ┆ TAMPAURE  ┆ 288 ┆ 33         ┆ JANUARI │\n",
       "│                 ┆ BARAT    ┆                ┆           ┆           ┆     ┆            ┆         │\n",
       "│ 3               ┆ SULAWESI ┆ PASANGKAYU     ┆ BAMBAIRA  ┆ KALUKU    ┆ 444 ┆ 81         ┆ JANUARI │\n",
       "│                 ┆ BARAT    ┆                ┆           ┆ NANGKA    ┆     ┆            ┆         │\n",
       "│ 4               ┆ SULAWESI ┆ POLEWALI       ┆ POLEWALI  ┆ POLEWALI  ┆ 827 ┆ 206        ┆ JANUARI │\n",
       "│                 ┆ BARAT    ┆ MANDAR         ┆           ┆           ┆     ┆            ┆         │\n",
       "│ …               ┆ …        ┆ …              ┆ …         ┆ …         ┆ …   ┆ …          ┆ …       │\n",
       "│ 3883            ┆ SULAWESI ┆ MAMUJU TENGAH  ┆ KAROSSA   ┆ BENGGAULU ┆ 400 ┆ 20         ┆ JUNI    │\n",
       "│                 ┆ BARAT    ┆                ┆           ┆           ┆     ┆            ┆         │\n",
       "│ 3884            ┆ SULAWESI ┆ MAMUJU TENGAH  ┆ KAROSSA   ┆ SUKA MAJU ┆ 246 ┆ 55         ┆ JUNI    │\n",
       "│                 ┆ BARAT    ┆                ┆           ┆           ┆     ┆            ┆         │\n",
       "│ 3885            ┆ SULAWESI ┆ MAMUJU TENGAH  ┆ KAROSSA   ┆ KAMBUNONG ┆ 414 ┆ 38         ┆ JUNI    │\n",
       "│                 ┆ BARAT    ┆                ┆           ┆           ┆     ┆            ┆         │\n",
       "│ 3886            ┆ SULAWESI ┆ MAMUJU TENGAH  ┆ KAROSSA   ┆ SALUBIRO  ┆ 220 ┆ 1          ┆ JUNI    │\n",
       "│                 ┆ BARAT    ┆                ┆           ┆           ┆     ┆            ┆         │\n",
       "│ 3887            ┆ SULAWESI ┆ MAMUJU TENGAH  ┆ KAROSSA   ┆ SANJANGO  ┆ 175 ┆ 10         ┆ JUNI    │\n",
       "│                 ┆ BARAT    ┆                ┆           ┆           ┆     ┆            ┆         │\n",
       "└─────────────────┴──────────┴────────────────┴───────────┴───────────┴─────┴────────────┴─────────┘"
      ]
     },
     "execution_count": 12,
     "metadata": {},
     "output_type": "execute_result"
    }
   ],
   "source": [
    "data_pus = pl.read_excel(\"data/data_pus.xlsx\")\n",
    "data_pus"
   ]
  },
  {
   "cell_type": "code",
   "execution_count": null,
   "metadata": {},
   "outputs": [],
   "source": [
    "data_pus.filter(\n",
    "    pl.col(\"KABUPATEN\").is_in(filter_kabupaten),\n",
    "    pl.col(\"KECAMATAN\").is_in(filter_kecamatan),\n",
    "    pl.col(\"KELURAHAN\").is_in(filter_desa),\n",
    "    pl.col(\"Bulan\").is_in(filter_bulan)\n",
    ").select(pl.col(\"PUS\").sum()).item()  "
   ]
  },
  {
   "cell_type": "code",
   "execution_count": null,
   "metadata": {},
   "outputs": [
    {
     "data": {
      "text/plain": [
       "11.534154535274356"
      ]
     },
     "execution_count": 57,
     "metadata": {},
     "output_type": "execute_result"
    }
   ],
   "source": [
    "data_pus.filter(\n",
    "    pl.col(\"KABUPATEN\").is_in(filter_kabupaten),\n",
    "    pl.col(\"KECAMATAN\").is_in(filter_kecamatan),\n",
    "    pl.col(\"KELURAHAN\").is_in(filter_desa),\n",
    "    pl.col(\"Bulan\").is_in(filter_bulan)\n",
    ").group_by('PROVINSI').agg([\n",
    "    pl.col(\"PUS\").sum(),\n",
    "    pl.col(\"UNMET NEED\").sum()\n",
    "]).with_columns(\n",
    "    (pl.col(\"UNMET NEED\") / pl.col(\"PUS\"))* 100\n",
    ").select(pl.col(\"UNMET NEED\")).item()  "
   ]
  },
  {
   "cell_type": "code",
   "execution_count": 53,
   "metadata": {},
   "outputs": [
    {
     "data": {
      "text/plain": [
       "0.11534154535274356"
      ]
     },
     "execution_count": 53,
     "metadata": {},
     "output_type": "execute_result"
    }
   ],
   "source": [
    "(100 + 94 + 8 +4) / (726 + 646 + 270 + 144)"
   ]
  },
  {
   "cell_type": "code",
   "execution_count": null,
   "metadata": {},
   "outputs": [],
   "source": []
  },
  {
   "cell_type": "markdown",
   "metadata": {},
   "source": [
    "# KB MKJP"
   ]
  },
  {
   "cell_type": "code",
   "execution_count": 70,
   "metadata": {},
   "outputs": [
    {
     "data": {
      "text/html": [
       "<div><style>\n",
       ".dataframe > thead > tr,\n",
       ".dataframe > tbody > tr {\n",
       "  text-align: right;\n",
       "  white-space: pre-wrap;\n",
       "}\n",
       "</style>\n",
       "<small>shape: (3_888, 17)</small><table border=\"1\" class=\"dataframe\"><thead><tr><th>__UNNAMED__0</th><th>PROVINSI</th><th>KABUPATEN</th><th>KECAMATAN</th><th>KELURAHAN</th><th>PA</th><th>SUNTIK</th><th>PIL</th><th>KONDOM</th><th>IMPLAN</th><th>IUD</th><th>VASEKTOMI</th><th>TUBEKTOMI</th><th>MAL</th><th>KB MODERN</th><th>KB TRADISIONAL</th><th>BULAN</th></tr><tr><td>i64</td><td>str</td><td>str</td><td>str</td><td>str</td><td>i64</td><td>i64</td><td>i64</td><td>i64</td><td>i64</td><td>i64</td><td>i64</td><td>i64</td><td>i64</td><td>i64</td><td>i64</td><td>str</td></tr></thead><tbody><tr><td>0</td><td>&quot;SULAWESI BARAT&quot;</td><td>&quot;PASANGKAYU&quot;</td><td>&quot;BAMBAIRA&quot;</td><td>&quot;BAMBAIRA&quot;</td><td>205</td><td>49</td><td>27</td><td>6</td><td>103</td><td>4</td><td>0</td><td>13</td><td>0</td><td>202</td><td>3</td><td>&quot;JANUARI&quot;</td></tr><tr><td>1</td><td>&quot;SULAWESI BARAT&quot;</td><td>&quot;PASANGKAYU&quot;</td><td>&quot;BAMBAIRA&quot;</td><td>&quot;KASOLOANG&quot;</td><td>155</td><td>50</td><td>23</td><td>0</td><td>59</td><td>11</td><td>0</td><td>12</td><td>0</td><td>155</td><td>0</td><td>&quot;JANUARI&quot;</td></tr><tr><td>2</td><td>&quot;SULAWESI BARAT&quot;</td><td>&quot;PASANGKAYU&quot;</td><td>&quot;BAMBAIRA&quot;</td><td>&quot;TAMPAURE&quot;</td><td>198</td><td>80</td><td>48</td><td>2</td><td>46</td><td>5</td><td>0</td><td>11</td><td>0</td><td>192</td><td>6</td><td>&quot;JANUARI&quot;</td></tr><tr><td>3</td><td>&quot;SULAWESI BARAT&quot;</td><td>&quot;PASANGKAYU&quot;</td><td>&quot;BAMBAIRA&quot;</td><td>&quot;KALUKU NANGKA&quot;</td><td>230</td><td>98</td><td>58</td><td>2</td><td>54</td><td>5</td><td>0</td><td>13</td><td>0</td><td>230</td><td>0</td><td>&quot;JANUARI&quot;</td></tr><tr><td>4</td><td>&quot;SULAWESI BARAT&quot;</td><td>&quot;POLEWALI MANDAR&quot;</td><td>&quot;POLEWALI&quot;</td><td>&quot;POLEWALI&quot;</td><td>357</td><td>110</td><td>112</td><td>20</td><td>49</td><td>19</td><td>0</td><td>35</td><td>0</td><td>345</td><td>12</td><td>&quot;JANUARI&quot;</td></tr><tr><td>&hellip;</td><td>&hellip;</td><td>&hellip;</td><td>&hellip;</td><td>&hellip;</td><td>&hellip;</td><td>&hellip;</td><td>&hellip;</td><td>&hellip;</td><td>&hellip;</td><td>&hellip;</td><td>&hellip;</td><td>&hellip;</td><td>&hellip;</td><td>&hellip;</td><td>&hellip;</td><td>&hellip;</td></tr><tr><td>3883</td><td>&quot;SULAWESI BARAT&quot;</td><td>&quot;MAMUJU TENGAH&quot;</td><td>&quot;KAROSSA&quot;</td><td>&quot;BENGGAULU&quot;</td><td>218</td><td>100</td><td>57</td><td>0</td><td>51</td><td>4</td><td>0</td><td>6</td><td>0</td><td>218</td><td>0</td><td>&quot;JUNI&quot;</td></tr><tr><td>3884</td><td>&quot;SULAWESI BARAT&quot;</td><td>&quot;MAMUJU TENGAH&quot;</td><td>&quot;KAROSSA&quot;</td><td>&quot;SUKA MAJU&quot;</td><td>74</td><td>25</td><td>27</td><td>0</td><td>18</td><td>0</td><td>0</td><td>1</td><td>0</td><td>71</td><td>3</td><td>&quot;JUNI&quot;</td></tr><tr><td>3885</td><td>&quot;SULAWESI BARAT&quot;</td><td>&quot;MAMUJU TENGAH&quot;</td><td>&quot;KAROSSA&quot;</td><td>&quot;KAMBUNONG&quot;</td><td>186</td><td>105</td><td>32</td><td>1</td><td>26</td><td>6</td><td>1</td><td>12</td><td>0</td><td>183</td><td>3</td><td>&quot;JUNI&quot;</td></tr><tr><td>3886</td><td>&quot;SULAWESI BARAT&quot;</td><td>&quot;MAMUJU TENGAH&quot;</td><td>&quot;KAROSSA&quot;</td><td>&quot;SALUBIRO&quot;</td><td>148</td><td>73</td><td>32</td><td>1</td><td>32</td><td>0</td><td>0</td><td>10</td><td>0</td><td>148</td><td>0</td><td>&quot;JUNI&quot;</td></tr><tr><td>3887</td><td>&quot;SULAWESI BARAT&quot;</td><td>&quot;MAMUJU TENGAH&quot;</td><td>&quot;KAROSSA&quot;</td><td>&quot;SANJANGO&quot;</td><td>59</td><td>27</td><td>11</td><td>1</td><td>17</td><td>1</td><td>1</td><td>1</td><td>0</td><td>59</td><td>0</td><td>&quot;JUNI&quot;</td></tr></tbody></table></div>"
      ],
      "text/plain": [
       "shape: (3_888, 17)\n",
       "┌─────────────┬─────────────┬─────────────┬───────────┬───┬─────┬───────────┬────────────┬─────────┐\n",
       "│ __UNNAMED__ ┆ PROVINSI    ┆ KABUPATEN   ┆ KECAMATAN ┆ … ┆ MAL ┆ KB MODERN ┆ KB TRADISI ┆ BULAN   │\n",
       "│ 0           ┆ ---         ┆ ---         ┆ ---       ┆   ┆ --- ┆ ---       ┆ ONAL       ┆ ---     │\n",
       "│ ---         ┆ str         ┆ str         ┆ str       ┆   ┆ i64 ┆ i64       ┆ ---        ┆ str     │\n",
       "│ i64         ┆             ┆             ┆           ┆   ┆     ┆           ┆ i64        ┆         │\n",
       "╞═════════════╪═════════════╪═════════════╪═══════════╪═══╪═════╪═══════════╪════════════╪═════════╡\n",
       "│ 0           ┆ SULAWESI    ┆ PASANGKAYU  ┆ BAMBAIRA  ┆ … ┆ 0   ┆ 202       ┆ 3          ┆ JANUARI │\n",
       "│             ┆ BARAT       ┆             ┆           ┆   ┆     ┆           ┆            ┆         │\n",
       "│ 1           ┆ SULAWESI    ┆ PASANGKAYU  ┆ BAMBAIRA  ┆ … ┆ 0   ┆ 155       ┆ 0          ┆ JANUARI │\n",
       "│             ┆ BARAT       ┆             ┆           ┆   ┆     ┆           ┆            ┆         │\n",
       "│ 2           ┆ SULAWESI    ┆ PASANGKAYU  ┆ BAMBAIRA  ┆ … ┆ 0   ┆ 192       ┆ 6          ┆ JANUARI │\n",
       "│             ┆ BARAT       ┆             ┆           ┆   ┆     ┆           ┆            ┆         │\n",
       "│ 3           ┆ SULAWESI    ┆ PASANGKAYU  ┆ BAMBAIRA  ┆ … ┆ 0   ┆ 230       ┆ 0          ┆ JANUARI │\n",
       "│             ┆ BARAT       ┆             ┆           ┆   ┆     ┆           ┆            ┆         │\n",
       "│ 4           ┆ SULAWESI    ┆ POLEWALI    ┆ POLEWALI  ┆ … ┆ 0   ┆ 345       ┆ 12         ┆ JANUARI │\n",
       "│             ┆ BARAT       ┆ MANDAR      ┆           ┆   ┆     ┆           ┆            ┆         │\n",
       "│ …           ┆ …           ┆ …           ┆ …         ┆ … ┆ …   ┆ …         ┆ …          ┆ …       │\n",
       "│ 3883        ┆ SULAWESI    ┆ MAMUJU      ┆ KAROSSA   ┆ … ┆ 0   ┆ 218       ┆ 0          ┆ JUNI    │\n",
       "│             ┆ BARAT       ┆ TENGAH      ┆           ┆   ┆     ┆           ┆            ┆         │\n",
       "│ 3884        ┆ SULAWESI    ┆ MAMUJU      ┆ KAROSSA   ┆ … ┆ 0   ┆ 71        ┆ 3          ┆ JUNI    │\n",
       "│             ┆ BARAT       ┆ TENGAH      ┆           ┆   ┆     ┆           ┆            ┆         │\n",
       "│ 3885        ┆ SULAWESI    ┆ MAMUJU      ┆ KAROSSA   ┆ … ┆ 0   ┆ 183       ┆ 3          ┆ JUNI    │\n",
       "│             ┆ BARAT       ┆ TENGAH      ┆           ┆   ┆     ┆           ┆            ┆         │\n",
       "│ 3886        ┆ SULAWESI    ┆ MAMUJU      ┆ KAROSSA   ┆ … ┆ 0   ┆ 148       ┆ 0          ┆ JUNI    │\n",
       "│             ┆ BARAT       ┆ TENGAH      ┆           ┆   ┆     ┆           ┆            ┆         │\n",
       "│ 3887        ┆ SULAWESI    ┆ MAMUJU      ┆ KAROSSA   ┆ … ┆ 0   ┆ 59        ┆ 0          ┆ JUNI    │\n",
       "│             ┆ BARAT       ┆ TENGAH      ┆           ┆   ┆     ┆           ┆            ┆         │\n",
       "└─────────────┴─────────────┴─────────────┴───────────┴───┴─────┴───────────┴────────────┴─────────┘"
      ]
     },
     "execution_count": 70,
     "metadata": {},
     "output_type": "execute_result"
    }
   ],
   "source": [
    "data_mix = pl.read_excel(\"data/data_mix_kontra.xlsx\")\n",
    "data_mix"
   ]
  },
  {
   "cell_type": "code",
   "execution_count": 71,
   "metadata": {},
   "outputs": [
    {
     "data": {
      "text/plain": [
       "26.57463330457291"
      ]
     },
     "execution_count": 71,
     "metadata": {},
     "output_type": "execute_result"
    }
   ],
   "source": [
    "data_mix.filter(\n",
    "    pl.col(\"KABUPATEN\").is_in(filter_kabupaten),\n",
    "    pl.col(\"KECAMATAN\").is_in(filter_kecamatan),\n",
    "    pl.col(\"KELURAHAN\").is_in(filter_desa),\n",
    "    pl.col(\"BULAN\").is_in(filter_bulan)\n",
    ").group_by('PROVINSI').agg([\n",
    "    pl.col(\"IMPLAN\").sum(),\n",
    "    pl.col(\"IUD\").sum(),\n",
    "    pl.col(\"VASEKTOMI\").sum(),\n",
    "    pl.col(\"TUBEKTOMI\").sum(),\n",
    "    pl.col(\"KB MODERN\").sum()\n",
    "]).with_columns(\n",
    "    (((pl.col(\"IUD\") + pl.col(\"IMPLAN\") + pl.col(\"VASEKTOMI\") + pl.col(\"TUBEKTOMI\")) / pl.col(\"KB MODERN\"))* 100).alias('MKJP')\n",
    ").select(pl.col(\"MKJP\")).item()  "
   ]
  },
  {
   "cell_type": "code",
   "execution_count": 74,
   "metadata": {},
   "outputs": [],
   "source": [
    "mix_kontra = data_mix.filter(\n",
    "    pl.col(\"KABUPATEN\").is_in(filter_kabupaten),\n",
    "    pl.col(\"KECAMATAN\").is_in(filter_kecamatan),\n",
    "    pl.col(\"KELURAHAN\").is_in(filter_desa),\n",
    "    pl.col(\"BULAN\").is_in(filter_bulan)\n",
    ").group_by('PROVINSI').agg([\n",
    "    pl.col(\"SUNTIK\").sum(),\n",
    "    pl.col(\"PIL\").sum(),\n",
    "    pl.col(\"KONDOM\").sum(),\n",
    "    pl.col(\"MAL\").sum(),\n",
    "    pl.col(\"IMPLAN\").sum(),\n",
    "    pl.col(\"IUD\").sum(),\n",
    "    pl.col(\"VASEKTOMI\").sum(),\n",
    "    pl.col(\"TUBEKTOMI\").sum()\n",
    "])"
   ]
  },
  {
   "cell_type": "code",
   "execution_count": 76,
   "metadata": {},
   "outputs": [
    {
     "name": "stdout",
     "output_type": "stream",
     "text": [
      "Nama kolom dengan angka tertinggi: SUNTIK (565)\n"
     ]
    }
   ],
   "source": [
    "result = (\n",
    "    mix_kontra\n",
    "    .select(\n",
    "        pl.exclude(\"PROVINSI\")  # Exclude kolom non-numerik (PROVINSI)\n",
    "    )\n",
    "    .row(0)  # Ambil baris pertama sebagai tuple\n",
    ")\n",
    "\n",
    "# Temukan nilai maksimum dan nama kolom\n",
    "max_value = max(result)\n",
    "max_column = mix_kontra.columns[1:][result.index(max_value)]  # Cari nama kolom berdasarkan indeks nilai maksimum\n",
    "\n",
    "print(f\"Nama kolom dengan angka tertinggi: {max_column} ({max_value})\")"
   ]
  },
  {
   "cell_type": "markdown",
   "metadata": {},
   "source": [
    "# FASKES"
   ]
  },
  {
   "cell_type": "code",
   "execution_count": 14,
   "metadata": {},
   "outputs": [
    {
     "data": {
      "text/html": [
       "<table id=\"itables_42651acf_4724_45bb_b01f_27de5e5968a6\" class=\"display nowrap\" data-quarto-disable-processing=\"true\" style=\"table-layout:auto;width:auto;margin:auto;caption-side:bottom\">\n",
       "<thead>\n",
       "    <tr style=\"text-align: right;\">\n",
       "      \n",
       "      <th>NO</th>\n",
       "      <th>PROVINSI</th>\n",
       "      <th>KABUPATEN</th>\n",
       "      <th>KECAMATAN</th>\n",
       "      <th>KELURAHAN</th>\n",
       "      <th>NAMA FASKES</th>\n",
       "      <th>NO REGISTRASI</th>\n",
       "      <th>NAMA BIDAN</th>\n",
       "      <th>NIK BIDAN</th>\n",
       "      <th>ALAMAT</th>\n",
       "      <th>NO HP</th>\n",
       "      <th>PROFESI</th>\n",
       "      <th>PELATIHAN</th>\n",
       "      <th>STATUS UPDATE</th>\n",
       "      <th>BULAN</th>\n",
       "    </tr>\n",
       "  </thead><tbody><tr>\n",
       "<td style=\"vertical-align:middle; text-align:left\">\n",
       "<a href=https://mwouts.github.io/itables/><svg class=\"main-svg\" xmlns=\"http://www.w3.org/2000/svg\" xmlns:xlink=\"http://www.w3.org/1999/xlink\"\n",
       "width=\"64\" viewBox=\"0 0 500 400\" style=\"font-family: 'Droid Sans', sans-serif;\">\n",
       "    <g style=\"fill:#d9d7fc\">\n",
       "        <path d=\"M100,400H500V357H100Z\" />\n",
       "        <path d=\"M100,300H400V257H100Z\" />\n",
       "        <path d=\"M0,200H400V157H0Z\" />\n",
       "        <path d=\"M100,100H500V57H100Z\" />\n",
       "        <path d=\"M100,350H500V307H100Z\" />\n",
       "        <path d=\"M100,250H400V207H100Z\" />\n",
       "        <path d=\"M0,150H400V107H0Z\" />\n",
       "        <path d=\"M100,50H500V7H100Z\" />\n",
       "    </g>\n",
       "    <g style=\"fill:#1a1366;stroke:#1a1366;\">\n",
       "   <rect x=\"100\" y=\"7\" width=\"400\" height=\"43\">\n",
       "    <animate\n",
       "      attributeName=\"width\"\n",
       "      values=\"0;400;0\"\n",
       "      dur=\"5s\"\n",
       "      repeatCount=\"indefinite\" />\n",
       "      <animate\n",
       "      attributeName=\"x\"\n",
       "      values=\"100;100;500\"\n",
       "      dur=\"5s\"\n",
       "      repeatCount=\"indefinite\" />\n",
       "  </rect>\n",
       "        <rect x=\"0\" y=\"107\" width=\"400\" height=\"43\">\n",
       "    <animate\n",
       "      attributeName=\"width\"\n",
       "      values=\"0;400;0\"\n",
       "      dur=\"3.5s\"\n",
       "      repeatCount=\"indefinite\" />\n",
       "    <animate\n",
       "      attributeName=\"x\"\n",
       "      values=\"0;0;400\"\n",
       "      dur=\"3.5s\"\n",
       "      repeatCount=\"indefinite\" />\n",
       "  </rect>\n",
       "        <rect x=\"100\" y=\"207\" width=\"300\" height=\"43\">\n",
       "    <animate\n",
       "      attributeName=\"width\"\n",
       "      values=\"0;300;0\"\n",
       "      dur=\"3s\"\n",
       "      repeatCount=\"indefinite\" />\n",
       "    <animate\n",
       "      attributeName=\"x\"\n",
       "      values=\"100;100;400\"\n",
       "      dur=\"3s\"\n",
       "      repeatCount=\"indefinite\" />\n",
       "  </rect>\n",
       "        <rect x=\"100\" y=\"307\" width=\"400\" height=\"43\">\n",
       "    <animate\n",
       "      attributeName=\"width\"\n",
       "      values=\"0;400;0\"\n",
       "      dur=\"4s\"\n",
       "      repeatCount=\"indefinite\" />\n",
       "      <animate\n",
       "      attributeName=\"x\"\n",
       "      values=\"100;100;500\"\n",
       "      dur=\"4s\"\n",
       "      repeatCount=\"indefinite\" />\n",
       "  </rect>\n",
       "        <g style=\"fill:transparent;stroke-width:8; stroke-linejoin:round\" rx=\"5\">\n",
       "            <g transform=\"translate(45 50) rotate(-45)\">\n",
       "                <circle r=\"33\" cx=\"0\" cy=\"0\" />\n",
       "                <rect x=\"-8\" y=\"32\" width=\"16\" height=\"30\" />\n",
       "            </g>\n",
       "\n",
       "            <g transform=\"translate(450 152)\">\n",
       "                <polyline points=\"-15,-20 -35,-20 -35,40 25,40 25,20\" />\n",
       "                <rect x=\"-15\" y=\"-40\" width=\"60\" height=\"60\" />\n",
       "            </g>\n",
       "\n",
       "            <g transform=\"translate(50 352)\">\n",
       "                <polygon points=\"-35,-5 0,-40 35,-5\" />\n",
       "                <polygon points=\"-35,10 0,45 35,10\" />\n",
       "            </g>\n",
       "\n",
       "            <g transform=\"translate(75 250)\">\n",
       "                <polyline points=\"-30,30 -60,0 -30,-30\" />\n",
       "                <polyline points=\"0,30 -30,0 0,-30\" />\n",
       "            </g>\n",
       "\n",
       "            <g transform=\"translate(425 250) rotate(180)\">\n",
       "                <polyline points=\"-30,30 -60,0 -30,-30\" />\n",
       "                <polyline points=\"0,30 -30,0 0,-30\" />\n",
       "            </g>\n",
       "        </g>\n",
       "    </g>\n",
       "</svg>\n",
       "</a>\n",
       "Loading ITables v2.2.5 from the internet...\n",
       "(need <a href=https://mwouts.github.io/itables/troubleshooting.html>help</a>?)</td>\n",
       "</tr></tbody>\n",
       "</table>\n",
       "<link href=\"https://www.unpkg.com/dt_for_itables@2.0.13/dt_bundle.css\" rel=\"stylesheet\">\n",
       "<script type=\"module\">\n",
       "    import {DataTable, jQuery as $} from 'https://www.unpkg.com/dt_for_itables@2.0.13/dt_bundle.js';\n",
       "\n",
       "    document.querySelectorAll(\"#itables_42651acf_4724_45bb_b01f_27de5e5968a6:not(.dataTable)\").forEach(table => {\n",
       "        if (!(table instanceof HTMLTableElement))\n",
       "            return;\n",
       "\n",
       "        // Define the table data\n",
       "        const data = [[0, \"SULAWESI BARAT\", \"PASANGKAYU\", \"SARJO\", \"SARJO\", \"UPT PUSKESMAS SARJO\", 7601001, \"Mar\", \"760\", \"SARJO\", \"NA\", \"Bidan\", \"KIP/Konseling,R/R\", \"-\", \"JANUARI\"], [1, \"SULAWESI BARAT\", \"PASANGKAYU\", \"SARJO\", \"SARJO\", \"UPT PUSKESMAS SARJO\", 7601001, \"NUR\", \"760\", \"SARUDE\", \"085397882590\", \"Bidan\", \"Belum Terlatih\", \"-\", \"JANUARI\"], [2, \"SULAWESI BARAT\", \"PASANGKAYU\", \"SARJO\", \"SARJO\", \"UPT PUSKESMAS SARJO\", 7601001, \"Irm\", \"760\", \"LETAWA\", \"082396497703\", \"Bidan\", \"IUD/IMPLAN,R/R,Sertifikat Kompetensi IUD/Implan\", \"-\", \"JANUARI\"], [3, \"SULAWESI BARAT\", \"PASANGKAYU\", \"SARJO\", \"SARJO\", \"UPT PUSKESMAS SARJO\", 7601001, \"Rit\", \"760\", \"LETAWA\", \"082349677921\", \"Bidan\", \"IUD/IMPLAN,KIP/Konseling,R/R\", \"-\", \"JANUARI\"], [4, \"SULAWESI BARAT\", \"PASANGKAYU\", \"SARJO\", \"SARJO\", \"UPT PUSKESMAS SARJO\", 7601001, \"ASM\", \"760\", \"SARUDE\", \"085242892212\", \"Bidan\", \"Belum Terlatih\", \"-\", \"JANUARI\"], [5, \"SULAWESI BARAT\", \"PASANGKAYU\", \"SARJO\", \"SARJO\", \"UPT PUSKESMAS SARJO\", 7601001, \"NAD\", \"760\", \"LETAWA\", \"082299320702\", \"Bidan\", \"IUD/IMPLAN,Sertifikat Kompetensi IUD/Implan\", \"-\", \"JANUARI\"], [6, \"SULAWESI BARAT\", \"PASANGKAYU\", \"SARJO\", \"SARJO\", \"UPT PUSKESMAS SARJO\", 7601001, \"NUR\", \"760\", \"LETAWA\", \"085398216769\", \"Bidan\", \"IUD/IMPLAN\", \"-\", \"JANUARI\"], [7, \"SULAWESI BARAT\", \"PASANGKAYU\", \"SARJO\", \"SARJO\", \"UPT PUSKESMAS SARJO\", 7601001, \"SEL\", \"720\", \"SARJO\", \"085213993331\", \"Bidan\", \"Belum Terlatih\", \"-\", \"JANUARI\"], [8, \"SULAWESI BARAT\", \"PASANGKAYU\", \"SARJO\", \"SARJO\", \"UPT PUSKESMAS SARJO\", 7601001, \"SAL\", \"760\", \"LETAWA\", \"085255314405\", \"Bidan\", \"Belum Terlatih\", \"-\", \"JANUARI\"], [9, \"SULAWESI BARAT\", \"PASANGKAYU\", \"SARJO\", \"SARJO\", \"UPT PUSKESMAS SARJO\", 7601001, \"KAS\", \"760\", \"SARJO\", \"085340158292\", \"Bidan\", \"IUD/IMPLAN\", \"-\", \"JANUARI\"], [10, \"SULAWESI BARAT\", \"PASANGKAYU\", \"SARJO\", \"SARJO\", \"UPT PUSKESMAS SARJO\", 7601001, \"MAS\", \"760\", \"SARUDE\", \"082343550523\", \"Bidan\", \"IUD/IMPLAN,Sertifikat Kompetensi IUD/Implan\", \"-\", \"JANUARI\"], [11, \"SULAWESI BARAT\", \"PASANGKAYU\", \"SARJO\", \"SARUDE\", \"POSKESDES SARUDE\", 760100101, \"Mar\", \"760\", \"dusun lanta\", \"082197267005\", \"Bidan\", \"R/R\", \"-\", \"JANUARI\"], [12, \"SULAWESI BARAT\", \"PASANGKAYU\", \"SARJO\", \"SARUDE\", \"POSKESDES SARUDE\", 760100101, \"NUR\", \"760\", \"DUSUN PADANG\", \"085397882590\", \"Bidan\", \"Belum Terlatih\", \"-\", \"JANUARI\"], [13, \"SULAWESI BARAT\", \"PASANGKAYU\", \"SARJO\", \"SARUDE\", \"POSKESDES SARUDE\", 760100101, \"NUR\", \"760\", \"DUSUN TAKUMPISI\", \"085398216769\", \"Bidan\", \"Belum Terlatih\", \"-\", \"JANUARI\"], [14, \"SULAWESI BARAT\", \"PASANGKAYU\", \"SARJO\", \"SARUDE\", \"POSKESDES SARUDE\", 760100101, \"HAS\", \"760\", \"DUSUN URUBANUA DESA SARJO KECAMATAN SARJO\", \"082393994133\", \"Bidan\", \"IUD/IMPLAN\", \"-\", \"JANUARI\"], [15, \"SULAWESI BARAT\", \"PASANGKAYU\", \"SARJO\", \"LETAWA\", \"POSKESDES LETAWA\", 760100102, \"NAD\", \"760\", \"LETAWA\", \"082259320702\", \"Bidan\", \"IUD/IMPLAN,R/R\", \"-\", \"JANUARI\"], [16, \"SULAWESI BARAT\", \"PASANGKAYU\", \"SARJO\", \"LETAWA\", \"POSKESDES LETAWA\", 760100102, \"SAL\", \"760\", \"PAMBUA\", \"085255314405\", \"Bidan\", \"IUD/IMPLAN\", \"-\", \"JANUARI\"], [17, \"SULAWESI BARAT\", \"PASANGKAYU\", \"SARJO\", \"LETAWA\", \"POSKESDES LETAWA\", 760100102, \"WAH\", \"760\", \"PAMBUA\", \"082129970469\", \"Bidan\", \"Belum Terlatih\", \"-\", \"JANUARI\"], [18, \"SULAWESI BARAT\", \"PASANGKAYU\", \"SARJO\", \"LETAWA\", \"POSKESDES LETAWA\", 760100102, \"IRM\", \"760\", \"DUSUN TINONTO DESA LETAWA\", \"082396497703\", \"Bidan\", \"R/R\", \"-\", \"JANUARI\"], [19, \"SULAWESI BARAT\", \"PASANGKAYU\", \"SARJO\", \"MAPONU\", \"PUSTU MAPONU\", 760100103, \"SRI\", \"760\", \"DUSUN POVALA\", \"082231071504\", \"Bidan\", \"Belum Terlatih\", \"-\", \"JANUARI\"], [20, \"SULAWESI BARAT\", \"PASANGKAYU\", \"SARJO\", \"MAPONU\", \"PUSTU MAPONU\", 760100103, \"REN\", \"760\", \"DUSUN KAMBOLI\", \"082189812386\", \"Bidan\", \"Belum Terlatih\", \"-\", \"JANUARI\"], [21, \"SULAWESI BARAT\", \"PASANGKAYU\", \"BAMBAIRA\", \"BAMBAIRA\", \"UPT PUSKESMAS BAMBAIRA\", 7601002, \"Suk\", \"760\", \"BAMBAIRA\", \"081242770393\", \"Bidan\", \"IUD/IMPLAN\", \"-\", \"JANUARI\"], [22, \"SULAWESI BARAT\", \"PASANGKAYU\", \"BAMBAIRA\", \"BAMBAIRA\", \"UPT PUSKESMAS BAMBAIRA\", 7601002, \"Hum\", \"760\", \"TABA BAMBAIRA\", \"082349939026\", \"Bidan\", \"IUD/IMPLAN\", \"-\", \"JANUARI\"], [23, \"SULAWESI BARAT\", \"PASANGKAYU\", \"BAMBAIRA\", \"BAMBAIRA\", \"UPT PUSKESMAS BAMBAIRA\", 7601002, \"Haj\", \"760\", \"KALUKU NANGKA, BENTENG\", \"085253508405\", \"Bidan\", \"Belum Terlatih\", \"-\", \"JANUARI\"], [24, \"SULAWESI BARAT\", \"PASANGKAYU\", \"BAMBAIRA\", \"BAMBAIRA\", \"UPT PUSKESMAS BAMBAIRA\", 7601002, \"Jam\", \"760\", \"KALUKU NANGKA, TANGNGA2\", \"085218389551\", \"Bidan\", \"Belum Terlatih\", \"-\", \"JANUARI\"], [25, \"SULAWESI BARAT\", \"PASANGKAYU\", \"BAMBAIRA\", \"BAMBAIRA\", \"UPT PUSKESMAS BAMBAIRA\", 7601002, \"NUR\", \"760\", \"KALUKU NANGKA 1\", \"085157966532\", \"Bidan\", \"Belum Terlatih\", \"-\", \"JANUARI\"], [26, \"SULAWESI BARAT\", \"PASANGKAYU\", \"BAMBAIRA\", \"BAMBAIRA\", \"UPT PUSKESMAS BAMBAIRA\", 7601002, \"HIL\", \"760\", \"TANGNGA2, KALUKU NANGKA\", \"08231964819\", \"Bidan\", \"Belum Terlatih\", \"-\", \"JANUARI\"], [27, \"SULAWESI BARAT\", \"PASANGKAYU\", \"BAMBAIRA\", \"TAMPAURE\", \"POSKESDES SALUIRA\", 760100201, \"NUR\", \"760\", \"DESA TAMPAURE\", \"085254572696\", \"Bidan\", \"R/R\", \"-\", \"JANUARI\"], [28, \"SULAWESI BARAT\", \"PASANGKAYU\", \"BAMBAIRA\", \"TAMPAURE\", \"POSKESDES BAMBARANO\", 760100202, \"Has\", \"760\", \"BAMBAIRA\", \"085249650711\", \"Bidan\", \"R/R\", \"-\", \"JANUARI\"], [29, \"SULAWESI BARAT\", \"PASANGKAYU\", \"BAMBAIRA\", \"KASOLOANG\", \"POSKESDES KASOLOANG\", 760100204, \"Har\", \"760\", \"Kasoloang/TORENDA\", \"NA\", \"Bidan\", \"Belum Terlatih\", \"-\", \"JANUARI\"], [30, \"SULAWESI BARAT\", \"PASANGKAYU\", \"BAMBAIRA\", \"KALUKU NANGKA\", \"PUSTU KALUKUNANGKA\", 760100205, \"Asn\", \"760\", \"KALUKU NANGKA\", \"082189061156\", \"Bidan\", \"IUD/IMPLAN\", \"-\", \"JANUARI\"], [31, \"SULAWESI BARAT\", \"PASANGKAYU\", \"BAMBAIRA\", \"KALUKU NANGKA\", \"PUSTU KALUKUNANGKA\", 760100205, \"AND\", \"760\", \"KALUKU NANGKA\", \"085342161481\", \"Bidan\", \"Belum Terlatih\", \"-\", \"JANUARI\"], [32, \"SULAWESI BARAT\", \"PASANGKAYU\", \"BAMBAIRA\", \"BAMBAIRA\", \"POSKESDES BARUGA BARU\", 760100206, \"Rah\", \"760\", \"KALUKU NANGKA\", \"085299665761\", \"Bidan\", \"R/R\", \"-\", \"JANUARI\"], [33, \"SULAWESI BARAT\", \"PASANGKAYU\", \"BAMBAIRA\", \"BAMBAIRA\", \"PUSTU BAMBAIRA\", 760100207, \"Ard\", \"760\", \"BAMBAIRA\", \"082343797966\", \"Bidan\", \"R/R\", \"-\", \"JANUARI\"], [34, \"SULAWESI BARAT\", \"PASANGKAYU\", \"BAMBAIRA\", \"BAMBAIRA\", \"PUSTU BAMBAIRA\", 760100207, \"MUR\", \"760\", \"BAMBAIRA\", \"082196222353\", \"Bidan\", \"Belum Terlatih\", \"-\", \"JANUARI\"], [35, \"SULAWESI BARAT\", \"PASANGKAYU\", \"BAMBAIRA\", \"KALUKU NANGKA\", \"POLINDES KALUKU NANGKA\", 760100208, \"Mah\", \"760\", \"KALUKU NANGKA\", \"085255683616\", \"Bidan\", \"IUD/IMPLAN,R/R\", \"-\", \"JANUARI\"], [36, \"SULAWESI BARAT\", \"PASANGKAYU\", \"BAMBALAMOTU\", \"RANDOMAYANG\", \"UPT Puskesmas Bambalamotu\", 7601003, \"Has\", \"760\", \"NA\", \"NA\", \"Bidan\", \"R/R\", \"-\", \"JANUARI\"], [37, \"SULAWESI BARAT\", \"PASANGKAYU\", \"BAMBALAMOTU\", \"RANDOMAYANG\", \"UPT Puskesmas Bambalamotu\", 7601003, \"Yus\", \"760\", \"NA\", \"NA\", \"Bidan\", \"IUD/IMPLAN,R/R\", \"-\", \"JANUARI\"], [38, \"SULAWESI BARAT\", \"PASANGKAYU\", \"BAMBALAMOTU\", \"RANDOMAYANG\", \"UPT Puskesmas Bambalamotu\", 7601003, \"Nur\", \"NA\", \"NA\", \"NA\", \"Bidan\", \"IUD/IMPLAN\", \"-\", \"JANUARI\"], [39, \"SULAWESI BARAT\", \"PASANGKAYU\", \"BAMBALAMOTU\", \"RANDOMAYANG\", \"UPT Puskesmas Bambalamotu\", 7601003, \"Hik\", \"NA\", \"NA\", \"NA\", \"Bidan\", \"IUD/IMPLAN\", \"-\", \"JANUARI\"], [40, \"SULAWESI BARAT\", \"PASANGKAYU\", \"BAMBALAMOTU\", \"RANDOMAYANG\", \"UPT Puskesmas Bambalamotu\", 7601003, \"Mah\", \"NA\", \"NA\", \"NA\", \"Bidan\", \"R/R\", \"-\", \"JANUARI\"], [41, \"SULAWESI BARAT\", \"PASANGKAYU\", \"BAMBALAMOTU\", \"RANDOMAYANG\", \"UPT Puskesmas Bambalamotu\", 7601003, \"Har\", \"NA\", \"NA\", \"NA\", \"Bidan\", \"R/R\", \"-\", \"JANUARI\"], [42, \"SULAWESI BARAT\", \"PASANGKAYU\", \"BAMBALAMOTU\", \"KALOLA\", \"Pustu Tasonde\", 760100301, \"Fer\", \"727\", \"DUSUN TASONDE\", \"082211770148\", \"Bidan\", \"IUD/IMPLAN,R/R,Sertifikat Kompetensi IUD/Implan\", \"-\", \"JANUARI\"], [43, \"SULAWESI BARAT\", \"PASANGKAYU\", \"BAMBALAMOTU\", \"KALOLA\", \"Pustu Kalola\", 760100302, \"Nur\", \"760\", \"Desa Kalola\", \"082141681905\", \"Bidan\", \"IUD/IMPLAN,R/R\", \"-\", \"JANUARI\"], [44, \"SULAWESI BARAT\", \"PASANGKAYU\", \"BAMBALAMOTU\", \"KALOLA\", \"Poskesdes Sulapa\", 760100303, \"Her\", \"760\", \"SULAPA\", \"NA\", \"Bidan\", \"R/R\", \"-\", \"JANUARI\"], [45, \"SULAWESI BARAT\", \"PASANGKAYU\", \"BAMBALAMOTU\", \"PANGIANG\", \"Pustu Pangiang\", 760100304, \"FIT\", \"760\", \"DS. PANGIANG\", \"082211775555\", \"Bidan\", \"R/R\", \"-\", \"JANUARI\"], [46, \"SULAWESI BARAT\", \"PASANGKAYU\", \"BAMBALAMOTU\", \"PANGIANG\", \"Poskesdes Salule\", 760100305, \"Fit\", \"760\", \"DESA SALULE\", \"082211775555\", \"Bidan\", \"R/R\", \"-\", \"JANUARI\"], [47, \"SULAWESI BARAT\", \"PASANGKAYU\", \"BAMBALAMOTU\", \"POLEWALI\", \"Pustu Polewali\", 760100306, \"ASR\", \"731\", \"DS. POLEWALI\", \"082253600817\", \"Bidan\", \"R/R\", \"-\", \"JANUARI\"], [48, \"SULAWESI BARAT\", \"PASANGKAYU\", \"BAMBALAMOTU\", \"POLEWALI\", \"Poskesdes Hikma\", 760100307, \"Jun\", \"760\", \"DUSUN HIKMA\", \"081354228498\", \"Bidan\", \"IUD/IMPLAN\", \"-\", \"JANUARI\"], [49, \"SULAWESI BARAT\", \"PASANGKAYU\", \"BAMBALAMOTU\", \"POLEWALI\", \"Poskesdes Lelumpang\", 760100308, \"RUC\", \"760\", \"DUSUN MULYOSARI\", \"082249913238\", \"Bidan\", \"R/R\", \"-\", \"JANUARI\"], [50, \"SULAWESI BARAT\", \"PASANGKAYU\", \"BAMBALAMOTU\", \"WULAI\", \"Poskesdes Wulai\", 760100309, \"Agn\", \"760\", \"desa Wulai\", \"085180959570\", \"Bidan\", \"KIP/Konseling,R/R\", \"-\", \"JANUARI\"], [51, \"SULAWESI BARAT\", \"PASANGKAYU\", \"BAMBALAMOTU\", \"BAMBALAMOTU\", \"Pustu Bambalamotu\", 760100310, \"Rof\", \"727\", \"BAMBALAMOTU\", \"082187396179\", \"Bidan\", \"IUD/IMPLAN,KIP/Konseling,Sertifikat Kompetensi IUD/Implan\", \"-\", \"JANUARI\"], [52, \"SULAWESI BARAT\", \"PASANGKAYU\", \"BAMBALAMOTU\", \"BAMBALAMOTU\", \"Pustu Baliri\", 760100312, \"Mar\", \"760\", \"BALIRI\", \"08124398561\", \"Bidan\", \"R/R\", \"-\", \"JANUARI\"], [53, \"SULAWESI BARAT\", \"PASANGKAYU\", \"BAMBALAMOTU\", \"BAMBALAMOTU\", \"Pustu Sawi\", 760100313, \"SER\", \"760\", \"BAMBALAMOTU\", \"082293226977\", \"Bidan\", \"IUD/IMPLAN\", \"-\", \"JANUARI\"], [54, \"SULAWESI BARAT\", \"PASANGKAYU\", \"PASANGKAYU\", \"KARYA BERSAMA\", \"UPT PUSKESMAS PASANGKAYU 1\", 7601004, \"Ani\", \"760\", \"JL. PEMANCAR, KEL. PASANGKAYU\", \"081242354233\", \"Bidan\", \"IUD/IMPLAN,KIP/Konseling,R/R\", \"-\", \"JANUARI\"], [55, \"SULAWESI BARAT\", \"PASANGKAYU\", \"PASANGKAYU\", \"KARYA BERSAMA\", \"UPT PUSKESMAS PASANGKAYU 1\", 7601004, \"SUT\", \"760\", \"JL. ANOA\", \"081341263731\", \"Bidan\", \"KIP/Konseling\", \"-\", \"JANUARI\"], [56, \"SULAWESI BARAT\", \"PASANGKAYU\", \"PASANGKAYU\", \"KARYA BERSAMA\", \"UPT PUSKESMAS PASANGKAYU 1\", 7601004, \"SUC\", \"760\", \"TANJUNG BABIA\", \"081245186343\", \"Bidan\", \"Belum Terlatih\", \"-\", \"JANUARI\"], [57, \"SULAWESI BARAT\", \"PASANGKAYU\", \"PASANGKAYU\", \"KARYA BERSAMA\", \"UPT PUSKESMAS PASANGKAYU 1\", 7601004, \"SRY\", \"760\", \"JLN. HUSNI THAMRIN\", \"082326737774\", \"Bidan\", \"IUD/IMPLAN,KIP/Konseling,R/R,Sertifikat Kompetensi IUD/Implan\", \"-\", \"JANUARI\"], [58, \"SULAWESI BARAT\", \"PASANGKAYU\", \"PASANGKAYU\", \"KARYA BERSAMA\", \"UPT PUSKESMAS PASANGKAYU 1\", 7601004, \"WAH\", \"760\", \"DUSUN MARAMBEAU\", \"082275372151\", \"Bidan\", \"Belum Terlatih\", \"-\", \"JANUARI\"], [59, \"SULAWESI BARAT\", \"PASANGKAYU\", \"PASANGKAYU\", \"KARYA BERSAMA\", \"UPT PUSKESMAS PASANGKAYU 1\", 7601004, \"NUR\", \"760\", \"JL. SAMRATULANGI\", \"082271547273\", \"Bidan\", \"Belum Terlatih\", \"-\", \"JANUARI\"], [60, \"SULAWESI BARAT\", \"PASANGKAYU\", \"PASANGKAYU\", \"KARYA BERSAMA\", \"UPT PUSKESMAS PASANGKAYU 1\", 7601004, \"RES\", \"730\", \"BTN,SMART CITY\", \"085211514303\", \"Bidan\", \"IUD/IMPLAN,KIP/Konseling,R/R\", \"-\", \"JANUARI\"], [61, \"SULAWESI BARAT\", \"PASANGKAYU\", \"PASANGKAYU\", \"KARYA BERSAMA\", \"UPT PUSKESMAS PASANGKAYU 1\", 7601004, \"JUR\", \"999\", \"PASANGKAYU\", \"085254237235\", \"Bidan\", \"IUD/IMPLAN,KIP/Konseling,R/R,Sertifikat Kompetensi IUD/Implan\", \"-\", \"JANUARI\"], [62, \"SULAWESI BARAT\", \"PASANGKAYU\", \"PASANGKAYU\", \"KARYA BERSAMA\", \"UPT PUSKESMAS PASANGKAYU 1\", 7601004, \"SID\", \"760\", \"Marambeau Desa Karya Bersama\", \"081355641631\", \"Bidan\", \"Belum Terlatih\", \"-\", \"JANUARI\"], [63, \"SULAWESI BARAT\", \"PASANGKAYU\", \"PASANGKAYU\", \"KARYA BERSAMA\", \"UPT PUSKESMAS PASANGKAYU 1\", 7601004, \"RIS\", \"760\", \"MARAMBEAU DESA KARYA BERSAMA\", \"081352181124\", \"Bidan\", \"Belum Terlatih\", \"-\", \"JANUARI\"], [64, \"SULAWESI BARAT\", \"PASANGKAYU\", \"PASANGKAYU\", \"PASANGKAYU\", \"Poskesdes Tanjung\", 760100401, \"Nur\", \"727\", \"TANJUNG\", \"082211839762\", \"Bidan\", \"R/R\", \"-\", \"JANUARI\"], [65, \"SULAWESI BARAT\", \"PASANGKAYU\", \"PASANGKAYU\", \"PASANGKAYU\", \"Poskesdes Tanjung\", 760100401, \"AYU\", \"731\", \"TARANJA\", \"082304551089\", \"Bidan\", \"Belum Terlatih\", \"-\", \"JANUARI\"], [66, \"SULAWESI BARAT\", \"PASANGKAYU\", \"PASANGKAYU\", \"PASANGKAYU\", \"Poskesdes Tanjung\", 760100401, \"Rah\", \"640\", \"Tanjung Harapan\", \"NA\", \"Bidan\", \"Belum Terlatih\", \"-\", \"JANUARI\"], [67, \"SULAWESI BARAT\", \"PASANGKAYU\", \"PASANGKAYU\", \"AKO\", \"Poskesdes Taranja\", 760100403, \"Irm\", \"760\", \"TARANJA\", \"081222391877\", \"Bidan\", \"R/R\", \"-\", \"JANUARI\"], [68, \"SULAWESI BARAT\", \"PASANGKAYU\", \"PASANGKAYU\", \"AKO\", \"Poskesdes Taranja\", 760100403, \"Har\", \"731\", \"BULU LANGA\", \"082187127491\", \"Bidan\", \"R/R\", \"-\", \"JANUARI\"], [69, \"SULAWESI BARAT\", \"PASANGKAYU\", \"PASANGKAYU\", \"MARTAJAYA\", \"UPT PUSKESMAS PASANGKAYU 2\", 7601005, \"KAS\", \"760\", \"Jalan Camar Pasangkayu\", \"081257985114\", \"Bidan\", \"IUD/IMPLAN\", \"-\", \"JANUARI\"], [70, \"SULAWESI BARAT\", \"PASANGKAYU\", \"PASANGKAYU\", \"MARTAJAYA\", \"UPT PUSKESMAS PASANGKAYU 2\", 7601005, \"Fat\", \"760\", \"Pasangkayu\", \"085397989985\", \"Bidan\", \"IUD/IMPLAN\", \"-\", \"JANUARI\"], [71, \"SULAWESI BARAT\", \"PASANGKAYU\", \"PASANGKAYU\", \"MARTAJAYA\", \"UPT PUSKESMAS PASANGKAYU 2\", 7601005, \"HAL\", \"737\", \"Pasangkayu\", \"082188281619\", \"Bidan\", \"Belum Terlatih\", \"-\", \"JANUARI\"], [72, \"SULAWESI BARAT\", \"PASANGKAYU\", \"PASANGKAYU\", \"MARTAJAYA\", \"UPT PUSKESMAS PASANGKAYU 2\", 7601005, \"Ni\", \"760\", \"Gunung Sari\", \"081340540440\", \"Bidan\", \"IUD/IMPLAN\", \"-\", \"JANUARI\"], [73, \"SULAWESI BARAT\", \"PASANGKAYU\", \"PASANGKAYU\", \"MARTAJAYA\", \"UPT PUSKESMAS PASANGKAYU 2\", 7601005, \"Agu\", \"760\", \"Polewali Kec Bambalamotu\", \"085341788070\", \"Bidan\", \"IUD/IMPLAN\", \"-\", \"JANUARI\"], [74, \"SULAWESI BARAT\", \"PASANGKAYU\", \"PASANGKAYU\", \"MARTAJAYA\", \"UPT PUSKESMAS PASANGKAYU 2\", 7601005, \"INA\", \"760\", \"MARTAJAYA\", \"087862793822\", \"Bidan\", \"IUD/IMPLAN\", \"-\", \"JANUARI\"], [75, \"SULAWESI BARAT\", \"PASANGKAYU\", \"PASANGKAYU\", \"MARTAJAYA\", \"UPT PUSKESMAS PASANGKAYU 2\", 7601005, \"MIS\", \"760\", \"JL. FATMAWATI\", \"081242440826\", \"Bidan\", \"IUD/IMPLAN\", \"-\", \"JANUARI\"], [76, \"SULAWESI BARAT\", \"PASANGKAYU\", \"PASANGKAYU\", \"MARTAJAYA\", \"UPT PUSKESMAS PASANGKAYU 2\", 7601005, \"NAJ\", \"760\", \"JLN. TANJUNG BABIA 3\", \"082349939549\", \"Bidan\", \"IUD/IMPLAN\", \"-\", \"JANUARI\"], [77, \"SULAWESI BARAT\", \"PASANGKAYU\", \"PASANGKAYU\", \"PAKAVA\", \"Pustu Pakawa\", 760100501, \"Mis\", \"760\", \"Kelurahan Pasangkayu\", \"081291745600\", \"Bidan\", \"IUD/IMPLAN,R/R\", \"-\", \"JANUARI\"], [78, \"SULAWESI BARAT\", \"PASANGKAYU\", \"PASANGKAYU\", \"PAKAVA\", \"Pustu Pakawa\", 760100501, \"Naj\", \"760\", \"jln. tanjung babia kel. Pasangkayu\", \"085299441554\", \"Bidan\", \"IUD/IMPLAN\", \"-\", \"JANUARI\"], [79, \"SULAWESI BARAT\", \"PASANGKAYU\", \"PASANGKAYU\", \"PAKAVA\", \"Pustu Pakawa\", 760100501, \"Mas\", \"999\", \"Pakawa\", \"082239725840\", \"Bidan\", \"R/R\", \"-\", \"JANUARI\"], [80, \"SULAWESI BARAT\", \"PASANGKAYU\", \"PASANGKAYU\", \"GUNUNG SARI\", \"Polindes Bambamone\", 760100502, \"Ina\", \"760\", \"KELURAHAN MARTAJAYA\", \"082319310013\", \"Bidan\", \"IUD/IMPLAN,KIP/Konseling,R/R\", \"-\", \"JANUARI\"], [81, \"SULAWESI BARAT\", \"PASANGKAYU\", \"PEDONGGA\", \"MALEI\", \"UPT PUSKESMAS PEDONGGA\", 7601006, \"Sri\", \"760\", \"PASANGKAYU\", \"NA\", \"Bidan\", \"IUD/IMPLAN,R/R\", \"-\", \"JANUARI\"], [82, \"SULAWESI BARAT\", \"PASANGKAYU\", \"PEDONGGA\", \"MALEI\", \"UPT PUSKESMAS PEDONGGA\", 7601006, \"Ell\", \"760\", \"PEDONGGA\", \"085240189448\", \"Bidan\", \"IUD/IMPLAN,R/R\", \"-\", \"JANUARI\"], [83, \"SULAWESI BARAT\", \"PASANGKAYU\", \"PEDONGGA\", \"MALEI\", \"UPT PUSKESMAS PEDONGGA\", 7601006, \"Mar\", \"760\", \"PEDONGGA\", \"085342748636\", \"Bidan\", \"R/R\", \"-\", \"JANUARI\"], [84, \"SULAWESI BARAT\", \"PASANGKAYU\", \"PEDONGGA\", \"MALEI\", \"UPT PUSKESMAS PEDONGGA\", 7601006, \"Sri\", \"760\", \"PEDANDA\", \"085240025160\", \"Bidan\", \"R/R\", \"-\", \"JANUARI\"], [85, \"SULAWESI BARAT\", \"PASANGKAYU\", \"PEDONGGA\", \"MALEI\", \"UPT PUSKESMAS PEDONGGA\", 7601006, \"RAH\", \"760\", \"PEDONGGA\", \"082194795309\", \"Bidan\", \"Belum Terlatih\", \"-\", \"JANUARI\"], [86, \"SULAWESI BARAT\", \"PASANGKAYU\", \"PEDONGGA\", \"MALEI\", \"UPT PUSKESMAS PEDONGGA\", 7601006, \"ADR\", \"760\", \"PEDANDA\", \"081341398595\", \"Bidan\", \"Belum Terlatih\", \"-\", \"JANUARI\"], [87, \"SULAWESI BARAT\", \"PASANGKAYU\", \"PEDONGGA\", \"PEDANDA\", \"PUSTU PEDANDA\", 760100601, \"ELV\", \"760\", \"PEDANDA\", \"082188281627\", \"Bidan\", \"IUD/IMPLAN\", \"-\", \"JANUARI\"], [88, \"SULAWESI BARAT\", \"PASANGKAYU\", \"PEDONGGA\", \"MARTASARI\", \"PUSTU MARTASARI\", 760100602, \"M.\", \"NA\", \"NA\", \"NA\", \"Perawat\", \"R/R\", \"-\", \"JANUARI\"], [89, \"SULAWESI BARAT\", \"PASANGKAYU\", \"PEDONGGA\", \"MARTASARI\", \"PUSTU MARTASARI\", 760100602, \"Ni\", \"760\", \"DESA MARTASARI\", \"085255934859\", \"Bidan\", \"R/R\", \"-\", \"JANUARI\"], [90, \"SULAWESI BARAT\", \"PASANGKAYU\", \"PEDONGGA\", \"MARTASARI\", \"Poskesdes Kabuyu\", 760100603, \"Ni\", \"760\", \"KEL. MARTAJAYA\", \"08293252005\", \"Bidan\", \"IUD/IMPLAN,KIP/Konseling\", \"-\", \"JANUARI\"], [91, \"SULAWESI BARAT\", \"PASANGKAYU\", \"PEDONGGA\", \"MARTASARI\", \"Poskesdes Kabuyu\", 760100603, \"NI\", \"760\", \"MARTASARI\", \"082346150235\", \"Perawat\", \"Belum Terlatih\", \"-\", \"JANUARI\"], [92, \"SULAWESI BARAT\", \"PASANGKAYU\", \"PEDONGGA\", \"BATU OGE\", \"Polindes Batu Oge\", 760100604, \"SRI\", \"760\", \"PASANGKAYU\", \"082152414341\", \"Bidan\", \"IUD/IMPLAN,R/R,Sertifikat Kompetensi IUD/Implan\", \"-\", \"JANUARI\"], [93, \"SULAWESI BARAT\", \"PASANGKAYU\", \"PEDONGGA\", \"BATU OGE\", \"Polindes Batu Oge\", 760100604, \"HAS\", \"760\", \"BATUOGE\", \"082349345193\", \"Bidan\", \"Belum Terlatih\", \"-\", \"JANUARI\"], [94, \"SULAWESI BARAT\", \"PASANGKAYU\", \"TIKKE RAYA\", \"JENGENG RAYA\", \"UPT PUSKESMAS TIKKE\", 7601007, \"Sal\", \"760\", \"Jengeng Raya\", \"081359125743\", \"Bidan\", \"IUD/IMPLAN,KIP/Konseling,R/R\", \"-\", \"JANUARI\"], [95, \"SULAWESI BARAT\", \"PASANGKAYU\", \"TIKKE RAYA\", \"JENGENG RAYA\", \"UPT PUSKESMAS TIKKE\", 7601007, \"Her\", \"760\", \"Tikke\", \"085340403565\", \"Bidan\", \"IUD/IMPLAN\", \"-\", \"JANUARI\"], [96, \"SULAWESI BARAT\", \"PASANGKAYU\", \"TIKKE RAYA\", \"JENGENG RAYA\", \"UPT PUSKESMAS TIKKE\", 7601007, \"Sal\", \"731\", \"Pajalele\", \"085395573330\", \"Bidan\", \"IUD/IMPLAN,KIP/Konseling\", \"-\", \"JANUARI\"], [97, \"SULAWESI BARAT\", \"PASANGKAYU\", \"TIKKE RAYA\", \"JENGENG RAYA\", \"UPT PUSKESMAS TIKKE\", 7601007, \"Has\", \"760\", \"Makmur Jaya\", \"082293023494\", \"Bidan\", \"Belum Terlatih\", \"-\", \"JANUARI\"], [98, \"SULAWESI BARAT\", \"PASANGKAYU\", \"TIKKE RAYA\", \"JENGENG RAYA\", \"UPT PUSKESMAS TIKKE\", 7601007, \"Sur\", \"727\", \"Makmur Jaya\", \"082343763877\", \"Bidan\", \"Belum Terlatih\", \"-\", \"JANUARI\"], [99, \"SULAWESI BARAT\", \"PASANGKAYU\", \"TIKKE RAYA\", \"JENGENG RAYA\", \"UPT PUSKESMAS TIKKE\", 7601007, \"Mar\", \"760\", \"Tikke\", \"081343814372\", \"Bidan\", \"Belum Terlatih\", \"-\", \"JANUARI\"], [100, \"SULAWESI BARAT\", \"PASANGKAYU\", \"TIKKE RAYA\", \"JENGENG RAYA\", \"UPT PUSKESMAS TIKKE\", 7601007, \"Kar\", \"720\", \"Jengeng Raya\", \"082296192556\", \"Bidan\", \"Belum Terlatih\", \"-\", \"JANUARI\"], [101, \"SULAWESI BARAT\", \"PASANGKAYU\", \"TIKKE RAYA\", \"JENGENG RAYA\", \"UPT PUSKESMAS TIKKE\", 7601007, \"Rik\", \"760\", \"Lariang\", \"082195456364\", \"Bidan\", \"Belum Terlatih\", \"-\", \"JANUARI\"], [102, \"SULAWESI BARAT\", \"PASANGKAYU\", \"TIKKE RAYA\", \"JENGENG RAYA\", \"UPT PUSKESMAS TIKKE\", 7601007, \"Eka\", \"760\", \"Lariang\", \"081340422184\", \"Bidan\", \"IUD/IMPLAN,Belum Terlatih\", \"-\", \"JANUARI\"], [103, \"SULAWESI BARAT\", \"PASANGKAYU\", \"TIKKE RAYA\", \"JENGENG RAYA\", \"UPT PUSKESMAS TIKKE\", 7601007, \"dr.\", \"730\", \"Pasangkayu\", \"085255019030\", \"Dokter Umum\", \"IUD/IMPLAN\", \"-\", \"JANUARI\"], [104, \"SULAWESI BARAT\", \"PASANGKAYU\", \"TIKKE RAYA\", \"JENGENG RAYA\", \"UPT PUSKESMAS TIKKE\", 7601007, \"dr.\", \"760\", \"Pasangkayu\", \"085396996744\", \"Dokter Umum\", \"Belum Terlatih\", \"-\", \"JANUARI\"], [105, \"SULAWESI BARAT\", \"PASANGKAYU\", \"TIKKE RAYA\", \"JENGENG RAYA\", \"UPT PUSKESMAS TIKKE\", 7601007, \"Ism\", \"760\", \"Dusun Maju Jaya\", \"085341011603\", \"Bidan\", \"Belum Terlatih\", \"-\", \"JANUARI\"], [106, \"SULAWESI BARAT\", \"PASANGKAYU\", \"TIKKE RAYA\", \"JENGENG RAYA\", \"UPT PUSKESMAS TIKKE\", 7601007, \"A.\", \"760\", \"Makmur Jaya\", \"082333339645\", \"Bidan\", \"Belum Terlatih\", \"-\", \"JANUARI\"], [107, \"SULAWESI BARAT\", \"PASANGKAYU\", \"TIKKE RAYA\", \"TIKKE\", \"POSKESDES TIKKE\", 760100701, \"Has\", \"760\", \"Dusun Jono\", \"082291575886\", \"Bidan\", \"IUD/IMPLAN\", \"-\", \"JANUARI\"], [108, \"SULAWESI BARAT\", \"PASANGKAYU\", \"TIKKE RAYA\", \"JENGENG RAYA\", \"POSKESDES JENGENG RAYA\", 760100702, \"MAY\", \"737\", \"Dusun Salobalo Desa Jengeng Raya\", \"085145086708\", \"Bidan\", \"Belum Terlatih\", \"-\", \"JANUARI\"], [109, \"SULAWESI BARAT\", \"PASANGKAYU\", \"TIKKE RAYA\", \"MAKMUR JAYA\", \"PUSTU MAKMUR JAYA\", 760100703, \"Sal\", \"760\", \"Desa Tikke\", \"081343909985\", \"Bidan\", \"IUD/IMPLAN\", \"-\", \"JANUARI\"], [110, \"SULAWESI BARAT\", \"PASANGKAYU\", \"TIKKE RAYA\", \"PAJALELE\", \"POSKESDES PAJALELE\", 760100704, \"Kri\", \"737\", \"Desa Pajalele\", \"085236172828\", \"Bidan\", \"IUD/IMPLAN\", \"-\", \"JANUARI\"], [111, \"SULAWESI BARAT\", \"PASANGKAYU\", \"TIKKE RAYA\", \"LARIANG\", \"POSKESDES LARIANG\", 760100705, \"Ilm\", \"760\", \"Dusun Marisa Desa Lariang\", \"082310120012\", \"Bidan\", \"IUD/IMPLAN\", \"-\", \"JANUARI\"], [112, \"SULAWESI BARAT\", \"PASANGKAYU\", \"TIKKE RAYA\", \"MAKMUR JAYA\", \"BPM Bidan Ratih\", 760100706, \"RAT\", \"760\", \"dusun letawa\", \"082352429193\", \"Bidan\", \"IUD/IMPLAN\", \"-\", \"JANUARI\"], [113, \"SULAWESI BARAT\", \"PASANGKAYU\", \"LARIANG\", \"PARABU\", \"UPT PUSKESMAS LARIANG\", 7601008, \"Suk\", \"760\", \"Parabu\", \"081395805850\", \"Bidan\", \"IUD/IMPLAN,KIP/Konseling,R/R\", \"-\", \"JANUARI\"], [114, \"SULAWESI BARAT\", \"PASANGKAYU\", \"LARIANG\", \"PARABU\", \"UPT PUSKESMAS LARIANG\", 7601008, \"Sel\", \"760\", \"Parabu\", \"082259560301\", \"Bidan\", \"IUD/IMPLAN\", \"-\", \"JANUARI\"], [115, \"SULAWESI BARAT\", \"PASANGKAYU\", \"LARIANG\", \"PARABU\", \"UPT PUSKESMAS LARIANG\", 7601008, \"Sar\", \"760\", \"Parabu\", \"082271022883\", \"Bidan\", \"IUD/IMPLAN\", \"-\", \"JANUARI\"], [116, \"SULAWESI BARAT\", \"PASANGKAYU\", \"LARIANG\", \"PARABU\", \"UPT PUSKESMAS LARIANG\", 7601008, \"Wiw\", \"760\", \"Singgani\", \"082235075226\", \"Bidan\", \"IUD/IMPLAN,KIP/Konseling\", \"-\", \"JANUARI\"], [117, \"SULAWESI BARAT\", \"PASANGKAYU\", \"LARIANG\", \"PARABU\", \"UPT PUSKESMAS LARIANG\", 7601008, \"HAS\", \"760\", \"BAMBAKORO\", \"082293791719\", \"Bidan\", \"Belum Terlatih\", \"-\", \"JANUARI\"], [118, \"SULAWESI BARAT\", \"PASANGKAYU\", \"LARIANG\", \"PARABU\", \"UPT PUSKESMAS LARIANG\", 7601008, \"Yus\", \"760\", \"Batumatoru\", \"9905178\", \"Bidan\", \"IUD/IMPLAN\", \"-\", \"JANUARI\"], [119, \"SULAWESI BARAT\", \"PASANGKAYU\", \"LARIANG\", \"KENANGAN\", \"PUSTU KENANGAN\", 760100801, \"AND\", \"730\", \"Kenangan\", \"082235075226\", \"Bidan\", \"KIP/Konseling\", \"-\", \"JANUARI\"], [120, \"SULAWESI BARAT\", \"PASANGKAYU\", \"LARIANG\", \"KENANGAN\", \"PUSTU KENANGAN\", 760100801, \"Wiw\", \"760\", \"Kenangan\", \"082235075226\", \"Bidan\", \"KIP/Konseling\", \"-\", \"JANUARI\"], [121, \"SULAWESI BARAT\", \"PASANGKAYU\", \"LARIANG\", \"KENANGAN\", \"PUSTU KENANGAN\", 760100801, \"HAS\", \"760\", \"Desa Kenangan\", \"082291791719\", \"Bidan\", \"Belum Terlatih\", \"-\", \"JANUARI\"], [122, \"SULAWESI BARAT\", \"PASANGKAYU\", \"LARIANG\", \"BAJAWALI\", \"POSKESDES KENANGAN\", 760100802, \"Yur\", \"760\", \"Desa Karave\", \"087828800101\", \"Bidan\", \"Belum Terlatih\", \"-\", \"JANUARI\"], [123, \"SULAWESI BARAT\", \"PASANGKAYU\", \"LARIANG\", \"BAJAWALI\", \"PUSTU BAJAWALI\", 760100803, \"Mus\", \"760\", \"Bajawali\", \"NA\", \"Perawat\", \"R/R\", \"-\", \"JANUARI\"], [124, \"SULAWESI BARAT\", \"PASANGKAYU\", \"LARIANG\", \"BAMBAKORO\", \"POSKESDES BAMBAKORO\", 760100804, \"RES\", \"760\", \"DESA BAMBAKORO\", \"081259559111\", \"Bidan\", \"Sertifikat Kompetensi IUD/Implan\", \"-\", \"JANUARI\"], [125, \"SULAWESI BARAT\", \"PASANGKAYU\", \"LARIANG\", \"BATU MATORU\", \"POLINDES BATUMATORU\", 760100805, \"Yus\", \"760\", \"NA\", \"NA\", \"Bidan\", \"IUD/IMPLAN\", \"-\", \"JANUARI\"], [126, \"SULAWESI BARAT\", \"PASANGKAYU\", \"LARIANG\", \"BATU MATORU\", \"POLINDES BATUMATORU\", 760100805, \"And\", \"760\", \"Dusun Tamalala, Desa Batumatoru\", \"08539994418\", \"Bidan\", \"Belum Terlatih\", \"-\", \"JANUARI\"], [127, \"SULAWESI BARAT\", \"PASANGKAYU\", \"LARIANG\", \"KULU\", \"PUSTU GODANG\", 760100806, \"md.\", \"731\", \"DESA KULU\", \"082396000519\", \"Bidan\", \"NA\", \"-\", \"JANUARI\"], [128, \"SULAWESI BARAT\", \"PASANGKAYU\", \"LARIANG\", \"SINGGANI\", \"POSKESDES SINGGANI\", 760100807, \"Sit\", \"760\", \"Singgani\", \"085299852918\", \"Bidan\", \"IUD/IMPLAN,KIP/Konseling\", \"-\", \"JANUARI\"], [129, \"SULAWESI BARAT\", \"PASANGKAYU\", \"BULU TABA\", \"LILIMORI\", \"UPT PUSKESMAS BULUTABA\", 7601009, \"BES\", \"760\", \"LILIMORI\", \"NA\", \"Bidan\", \"NA\", \"-\", \"JANUARI\"], [130, \"SULAWESI BARAT\", \"PASANGKAYU\", \"BULU TABA\", \"LILIMORI\", \"UPT PUSKESMAS BULUTABA\", 7601009, \"MUT\", \"760\", \"LILIMORI\", \"NA\", \"Bidan\", \"R/R\", \"-\", \"JANUARI\"], [131, \"SULAWESI BARAT\", \"PASANGKAYU\", \"BULU TABA\", \"LILIMORI\", \"UPT PUSKESMAS BULUTABA\", 7601009, \"Ing\", \"NA\", \"NA\", \"NA\", \"Bidan\", \"R/R\", \"-\", \"JANUARI\"], [132, \"SULAWESI BARAT\", \"PASANGKAYU\", \"BULU TABA\", \"LILIMORI\", \"UPT PUSKESMAS BULUTABA\", 7601009, \"Wah\", \"NA\", \"NA\", \"NA\", \"Bidan\", \"R/R\", \"-\", \"JANUARI\"], [133, \"SULAWESI BARAT\", \"PASANGKAYU\", \"BULU TABA\", \"LILIMORI\", \"UPT PUSKESMAS BULUTABA\", 7601009, \"Nur\", \"NA\", \"NA\", \"NA\", \"Bidan\", \"R/R\", \"-\", \"JANUARI\"], [134, \"SULAWESI BARAT\", \"PASANGKAYU\", \"BULU TABA\", \"LILIMORI\", \"UPT PUSKESMAS BULUTABA\", 7601009, \"dr.\", \"NA\", \"NA\", \"NA\", \"Dokter Umum\", \"IUD/IMPLAN\", \"-\", \"JANUARI\"], [135, \"SULAWESI BARAT\", \"PASANGKAYU\", \"BULU TABA\", \"LILIMORI\", \"UPT PUSKESMAS BULUTABA\", 7601009, \"dr.\", \"510\", \"LILIMORI\", \"NA\", \"Dokter Umum\", \"NA\", \"-\", \"JANUARI\"], [136, \"SULAWESI BARAT\", \"PASANGKAYU\", \"BULU TABA\", \"LILIMORI\", \"UPT PUSKESMAS BULUTABA\", 7601009, \"dr.\", \"999\", \"DESA LILIMORI\", \"NA\", \"Dokter Umum\", \"NA\", \"-\", \"JANUARI\"], [137, \"SULAWESI BARAT\", \"PASANGKAYU\", \"BULU TABA\", \"LILIMORI\", \"UPT PUSKESMAS BULUTABA\", 7601009, \"MAR\", \"999\", \"DESA LILIMORI\", \"NA\", \"Bidan\", \"Belum Terlatih\", \"-\", \"JANUARI\"], [138, \"SULAWESI BARAT\", \"PASANGKAYU\", \"BULU TABA\", \"LELEJAE\", \"PUSTU LELEJAE\", 760100901, \"SIS\", \"760\", \"LELEJAE\", \"082287869785\", \"Perawat\", \"R/R\", \"-\", \"JANUARI\"], [139, \"SULAWESI BARAT\", \"PASANGKAYU\", \"BULU TABA\", \"LELEJAE\", \"PUSTU LELEJAE\", 760100901, \"NI\", \"760\", \"LELEJAE\", \"087814440088\", \"Bidan\", \"Belum Terlatih\", \"-\", \"JANUARI\"], [140, \"SULAWESI BARAT\", \"PASANGKAYU\", \"BULU TABA\", \"SUMBER SARI\", \"PUSTU SUMBER SARI\", 760100902, \"Ni\", \"760\", \"DESA SUMBERSARI\", \"NA\", \"Bidan\", \"R/R\", \"-\", \"JANUARI\"], [141, \"SULAWESI BARAT\", \"PASANGKAYU\", \"BULU TABA\", \"SUMBER SARI\", \"PUSTU SUMBER SARI\", 760100902, \"I N\", \"999\", \"DESA PARABU\", \"NA\", \"Perawat\", \"Belum Terlatih\", \"-\", \"JANUARI\"], [142, \"SULAWESI BARAT\", \"PASANGKAYU\", \"BULU TABA\", \"OMPI\", \"PUSTU OMPI\", 760100903, \"Has\", \"NA\", \"NA\", \"NA\", \"Bidan\", \"R/R\", \"-\", \"JANUARI\"], [143, \"SULAWESI BARAT\", \"PASANGKAYU\", \"BULU TABA\", \"BUKIT HARAPAN\", \"PUSTU BUKIT HARAPAN\", 760100904, \"Jua\", \"731\", \"LEMBAH HARAPAN\", \"085341116223\", \"Bidan\", \"Belum Terlatih\", \"-\", \"JANUARI\"], [144, \"SULAWESI BARAT\", \"PASANGKAYU\", \"BULU TABA\", \"BUKIT HARAPAN\", \"POSKESDES HOW\", 760100905, \"Kha\", \"999\", \"DUSUN BARUBU\", \"081342171915\", \"Bidan\", \"Belum Terlatih\", \"-\", \"JANUARI\"], [145, \"SULAWESI BARAT\", \"PASANGKAYU\", \"BULU TABA\", \"KASTABUANA\", \"PUSTU KASTABUANA\", 760100906, \"Hj.\", \"760\", \"KASTABUANA\", \"081341140705\", \"Bidan\", \"R/R\", \"-\", \"JANUARI\"], [146, \"SULAWESI BARAT\", \"PASANGKAYU\", \"BULU TABA\", \"KASTABUANA\", \"PUSTU KASTABUANA\", 760100906, \"SIT\", \"999\", \"KASTABUANA\", \"082191152226\", \"Bidan\", \"Belum Terlatih\", \"-\", \"JANUARI\"], [147, \"SULAWESI BARAT\", \"PASANGKAYU\", \"BULU TABA\", \"KARAVE\", \"PUSTU KARAVE\", 760100907, \"Ris\", \"731\", \"Karave\", \"087704629774\", \"Bidan\", \"Belum Terlatih\", \"-\", \"JANUARI\"], [148, \"SULAWESI BARAT\", \"PASANGKAYU\", \"BARAS\", \"BULU PARIGI\", \"UPT PUSKESMAS BARAS 1\", 7601010, \"Sur\", \"760\", \"DUSUN MASIMBU\", \"082347435455\", \"Bidan\", \"R/R\", \"-\", \"JANUARI\"], [149, \"SULAWESI BARAT\", \"PASANGKAYU\", \"BARAS\", \"BULU PARIGI\", \"UPT PUSKESMAS BARAS 1\", 7601010, \"Hj.\", \"NA\", \"NA\", \"NA\", \"Bidan\", \"IUD/IMPLAN,R/R\", \"-\", \"JANUARI\"], [150, \"SULAWESI BARAT\", \"PASANGKAYU\", \"BARAS\", \"BULU PARIGI\", \"UPT PUSKESMAS BARAS 1\", 7601010, \"Hj.\", \"760\", \"Dusun Pantai Batu\", \"NA\", \"Bidan\", \"R/R\", \"-\", \"JANUARI\"], [151, \"SULAWESI BARAT\", \"PASANGKAYU\", \"BARAS\", \"BULU PARIGI\", \"UPT PUSKESMAS BARAS 1\", 7601010, \"MUS\", \"999\", \"DUSUN MASIMBU\", \"NA\", \"Bidan\", \"R/R\", \"-\", \"JANUARI\"], [152, \"SULAWESI BARAT\", \"PASANGKAYU\", \"BARAS\", \"BULU PARIGI\", \"UPT PUSKESMAS BARAS 1\", 7601010, \"SUR\", \"999\", \"BULUPARIGI\", \"NA\", \"Bidan\", \"R/R\", \"-\", \"JANUARI\"], [153, \"SULAWESI BARAT\", \"PASANGKAYU\", \"BARAS\", \"KASANO\", \"Pustu Kasano\", 760101001, \"Ast\", \"760\", \"DESA KASANO\", \"085340496521\", \"Bidan\", \"R/R\", \"-\", \"JANUARI\"], [154, \"SULAWESI BARAT\", \"PASANGKAYU\", \"BARAS\", \"BARAS\", \"Pustu Bambaloka\", 760101002, \"Sur\", \"760\", \"Bambaloka\", \"NA\", \"Bidan\", \"IUD/IMPLAN,KIP/Konseling,R/R\", \"-\", \"JANUARI\"], [155, \"SULAWESI BARAT\", \"PASANGKAYU\", \"BARAS\", \"BARAS\", \"Pustu Bambaloka\", 760101002, \"SYA\", \"760\", \"DUSUN BANTAYANG DESA BULUPARIGI\", \"081355055356\", \"Bidan\", \"IUD/IMPLAN,KIP/Konseling,R/R\", \"-\", \"JANUARI\"], [156, \"SULAWESI BARAT\", \"PASANGKAYU\", \"BARAS\", \"BARAS\", \"Pustu Bambaloka\", 760101002, \"AIN\", \"760\", \"SAMONU\", \"NA\", \"Bidan\", \"Belum Terlatih\", \"-\", \"JANUARI\"], [157, \"SULAWESI BARAT\", \"PASANGKAYU\", \"BARAS\", \"BARAS\", \"BPM INDO'KU\", 760101004, \"Hj.\", \"760\", \"Jalan Poros Trans Sulawesi Pantai Batu\", \"082259517755\", \"Bidan\", \"KIP/Konseling,R/R\", \"-\", \"JANUARI\"], [158, \"SULAWESI BARAT\", \"PASANGKAYU\", \"BARAS\", \"MOTU\", \"UPT PUSKESMAS BARAS 2\", 7601011, \"dr.\", \"760\", \"NA\", \"NA\", \"Dokter Umum\", \"R/R\", \"-\", \"JANUARI\"], [159, \"SULAWESI BARAT\", \"PASANGKAYU\", \"BARAS\", \"MOTU\", \"UPT PUSKESMAS BARAS 2\", 7601011, \"HJ.\", \"999\", \"DESA MOTU\", \"085397180191\", \"Bidan\", \"IUD/IMPLAN\", \"-\", \"JANUARI\"], [160, \"SULAWESI BARAT\", \"PASANGKAYU\", \"BARAS\", \"MOTU\", \"UPT PUSKESMAS BARAS 2\", 7601011, \"SAM\", \"999\", \"DESA MOTU\", \"081354722789\", \"Bidan\", \"IUD/IMPLAN\", \"-\", \"JANUARI\"], [161, \"SULAWESI BARAT\", \"PASANGKAYU\", \"BARAS\", \"MOTU\", \"UPT PUSKESMAS BARAS 2\", 7601011, \"ART\", \"760\", \"DESA MOTU\", \"082195215799\", \"Bidan\", \"Belum Terlatih\", \"-\", \"JANUARI\"], [162, \"SULAWESI BARAT\", \"PASANGKAYU\", \"BARAS\", \"MOTU\", \"UPT PUSKESMAS BARAS 2\", 7601011, \"HAR\", \"760\", \"DESA MOTU\", \"085334566688\", \"Bidan\", \"Belum Terlatih\", \"-\", \"JANUARI\"], [163, \"SULAWESI BARAT\", \"PASANGKAYU\", \"BARAS\", \"MOTU\", \"UPT PUSKESMAS BARAS 2\", 7601011, \"DEV\", \"760\", \"DESA MOTU\", \"081220226197\", \"Bidan\", \"Belum Terlatih\", \"-\", \"JANUARI\"], [164, \"SULAWESI BARAT\", \"PASANGKAYU\", \"BARAS\", \"MOTU\", \"UPT PUSKESMAS BARAS 2\", 7601011, \"MEG\", \"760\", \"DESA BALANTI\", \"081238125163\", \"Bidan\", \"Belum Terlatih\", \"-\", \"JANUARI\"], [165, \"SULAWESI BARAT\", \"PASANGKAYU\", \"BARAS\", \"MOTU\", \"UPT PUSKESMAS BARAS 2\", 7601011, \"HAS\", \"760\", \"DESA MOTU\", \"085242125880\", \"Bidan\", \"Belum Terlatih\", \"-\", \"JANUARI\"], [166, \"SULAWESI BARAT\", \"PASANGKAYU\", \"BARAS\", \"MOTU\", \"UPT PUSKESMAS BARAS 2\", 7601011, \"MIR\", \"760\", \"DESA BALANTI\", \"082393319452\", \"Bidan\", \"Belum Terlatih\", \"-\", \"JANUARI\"], [167, \"SULAWESI BARAT\", \"PASANGKAYU\", \"BARAS\", \"MOTU\", \"UPT PUSKESMAS BARAS 2\", 7601011, \"ROS\", \"760\", \"MOTU\", \"085256787757\", \"Bidan\", \"IUD/IMPLAN\", \"-\", \"JANUARI\"], [168, \"SULAWESI BARAT\", \"PASANGKAYU\", \"BARAS\", \"MOTU\", \"Poskesdes Motu\", 760101101, \"RIK\", \"760\", \"DESA MOTU\", \"082343497999\", \"Bidan\", \"Belum Terlatih\", \"-\", \"JANUARI\"], [169, \"SULAWESI BARAT\", \"PASANGKAYU\", \"BARAS\", \"TOWONI\", \"Polindes Towoni\", 760101102, \"RAS\", \"760\", \"DUSUN Towoni I\", \"081933156831\", \"Bidan\", \"R/R\", \"-\", \"JANUARI\"], [170, \"SULAWESI BARAT\", \"PASANGKAYU\", \"BARAS\", \"TOWONI\", \"Pustu Towoni\", 760101103, \"Kar\", \"760\", \"Towoni\", \"082188282858\", \"Bidan\", \"IUD/IMPLAN,R/R\", \"-\", \"JANUARI\"], [171, \"SULAWESI BARAT\", \"PASANGKAYU\", \"BARAS\", \"MOTU\", \"BPM Smart\", 760101105, \"Sam\", \"760\", \"NA\", \"NA\", \"Bidan\", \"IUD/IMPLAN,KIP/Konseling\", \"-\", \"JANUARI\"], [172, \"SULAWESI BARAT\", \"PASANGKAYU\", \"SARUDU\", \"SARUDU\", \"UPT PUSKESMAS SARUDU 1\", 7601012, \"Dr.\", \"760\", \"NA\", \"NA\", \"Dokter Umum\", \"IUD/IMPLAN\", \"-\", \"JANUARI\"], [173, \"SULAWESI BARAT\", \"PASANGKAYU\", \"SARUDU\", \"SARUDU\", \"UPT PUSKESMAS SARUDU 1\", 7601012, \"Ast\", \"760\", \"NA\", \"NA\", \"Bidan\", \"IUD/IMPLAN,R/R\", \"-\", \"JANUARI\"], [174, \"SULAWESI BARAT\", \"PASANGKAYU\", \"SARUDU\", \"SARUDU\", \"UPT PUSKESMAS SARUDU 1\", 7601012, \"dr.\", \"760\", \"NA\", \"NA\", \"Dokter Umum\", \"R/R\", \"-\", \"JANUARI\"], [175, \"SULAWESI BARAT\", \"PASANGKAYU\", \"SARUDU\", \"SARUDU\", \"UPT PUSKESMAS SARUDU 1\", 7601012, \"Hen\", \"760\", \"NA\", \"NA\", \"Bidan\", \"R/R\", \"-\", \"JANUARI\"], [176, \"SULAWESI BARAT\", \"PASANGKAYU\", \"SARUDU\", \"SARUDU\", \"UPT PUSKESMAS SARUDU 1\", 7601012, \"Fuj\", \"760\", \"NA\", \"NA\", \"Bidan\", \"R/R\", \"-\", \"JANUARI\"], [177, \"SULAWESI BARAT\", \"PASANGKAYU\", \"SARUDU\", \"SARUDU\", \"UPT PUSKESMAS SARUDU 1\", 7601012, \"Jum\", \"731\", \"NA\", \"NA\", \"Bidan\", \"R/R\", \"-\", \"JANUARI\"], [178, \"SULAWESI BARAT\", \"PASANGKAYU\", \"SARUDU\", \"SARUDU\", \"UPT PUSKESMAS SARUDU 1\", 7601012, \"nur\", \"999\", \"sarudu\", \"082291461285\", \"Bidan\", \"R/R\", \"-\", \"JANUARI\"], [179, \"SULAWESI BARAT\", \"PASANGKAYU\", \"SARUDU\", \"KUMASARI\", \"Pustu Kumasari\", 760101201, \"Irm\", \"760\", \"NA\", \"NA\", \"Bidan\", \"R/R\", \"-\", \"JANUARI\"], [180, \"SULAWESI BARAT\", \"PASANGKAYU\", \"SARUDU\", \"KUMASARI\", \"Pustu Kumasari\", 760101201, \"jum\", \"731\", \"dusun sidomukti\", \"085399195765\", \"Bidan\", \"IUD/IMPLAN\", \"-\", \"JANUARI\"], [181, \"SULAWESI BARAT\", \"PASANGKAYU\", \"SARUDU\", \"DODA\", \"Poskesdes Tinangguli\", 760101202, \"Nur\", \"760\", \"NA\", \"NA\", \"Bidan\", \"R/R\", \"-\", \"JANUARI\"], [182, \"SULAWESI BARAT\", \"PASANGKAYU\", \"SARUDU\", \"DODA\", \"Pustu Doda\", 760101203, \"Asm\", \"760\", \"NA\", \"NA\", \"Bidan\", \"R/R\", \"-\", \"JANUARI\"], [183, \"SULAWESI BARAT\", \"PASANGKAYU\", \"SARUDU\", \"BULU MARIO\", \"UPT PUSKESMAS SARUDU 2\", 7601013, \"Apr\", \"760\", \"DUSUN TRITUNGGAL\", \"NA\", \"Bidan\", \"R/R\", \"-\", \"JANUARI\"], [184, \"SULAWESI BARAT\", \"PASANGKAYU\", \"SARUDU\", \"BULU MARIO\", \"UPT PUSKESMAS SARUDU 2\", 7601013, \"Naw\", \"760\", \"DUSUN TRITUNGGAL\", \"NA\", \"Bidan\", \"R/R\", \"-\", \"JANUARI\"], [185, \"SULAWESI BARAT\", \"PASANGKAYU\", \"SARUDU\", \"BULU MARIO\", \"UPT PUSKESMAS SARUDU 2\", 7601013, \"Evi\", \"731\", \"KOMPLEKS PERUMAHAN PUSKESMAS\", \"NA\", \"Bidan\", \"Belum Terlatih\", \"-\", \"JANUARI\"], [186, \"SULAWESI BARAT\", \"PASANGKAYU\", \"SARUDU\", \"BULU MARIO\", \"UPT PUSKESMAS SARUDU 2\", 7601013, \"Dwi\", \"760\", \"DUSUN TRITUNGGAL\", \"081369823749\", \"Bidan\", \"R/R\", \"-\", \"JANUARI\"], [187, \"SULAWESI BARAT\", \"PASANGKAYU\", \"SARUDU\", \"BULU MARIO\", \"UPT PUSKESMAS SARUDU 2\", 7601013, \"Ret\", \"760\", \"PERUMAHAN PABRIK\", \"NA\", \"Bidan\", \"IUD/IMPLAN,R/R,Sertifikat Kompetensi IUD/Implan\", \"-\", \"JANUARI\"], [188, \"SULAWESI BARAT\", \"PASANGKAYU\", \"SARUDU\", \"BULU MARIO\", \"UPT PUSKESMAS SARUDU 2\", 7601013, \"RES\", \"760\", \"PERUMAHAN PABRIK\", \"NA\", \"Bidan\", \"Belum Terlatih\", \"-\", \"JANUARI\"], [189, \"SULAWESI BARAT\", \"PASANGKAYU\", \"SARUDU\", \"BULU MARIO\", \"UPT PUSKESMAS SARUDU 2\", 7601013, \"MUT\", \"760\", \"DUSUN TAMALO SARUDU\", \"NA\", \"Bidan\", \"R/R\", \"-\", \"JANUARI\"], [190, \"SULAWESI BARAT\", \"PASANGKAYU\", \"SARUDU\", \"BULU MARIO\", \"UPT PUSKESMAS SARUDU 2\", 7601013, \"MAS\", \"760\", \"DESA SAPTANAJAYA\", \"NA\", \"Bidan\", \"Belum Terlatih\", \"-\", \"JANUARI\"], [191, \"SULAWESI BARAT\", \"PASANGKAYU\", \"SARUDU\", \"BULU MARIO\", \"UPT PUSKESMAS SARUDU 2\", 7601013, \"NUR\", \"760\", \"DUSUN PANCAWISMA\", \"NA\", \"Bidan\", \"Belum Terlatih\", \"-\", \"JANUARI\"], [192, \"SULAWESI BARAT\", \"PASANGKAYU\", \"SARUDU\", \"BULU MARIO\", \"UPT PUSKESMAS SARUDU 2\", 7601013, \"NOV\", \"760\", \"DESA TOWONI\", \"NA\", \"Bidan\", \"Belum Terlatih\", \"-\", \"JANUARI\"], [193, \"SULAWESI BARAT\", \"PASANGKAYU\", \"SARUDU\", \"BULU MARIO\", \"UPT PUSKESMAS SARUDU 2\", 7601013, \"YUS\", \"760\", \"DESA SAPTANAJAYA\", \"NA\", \"Bidan\", \"Belum Terlatih\", \"-\", \"JANUARI\"], [194, \"SULAWESI BARAT\", \"PASANGKAYU\", \"SARUDU\", \"PATIKA\", \"Poskesdes Patika\", 760101301, \"RES\", \"760\", \"desa patika\", \"085299785211\", \"Bidan\", \"R/R\", \"-\", \"JANUARI\"], [195, \"SULAWESI BARAT\", \"PASANGKAYU\", \"DAPURANG\", \"BENGGAULU\", \"UPT PUSKESMAS DAPURANG\", 7601014, \"Jus\", \"NA\", \"NA\", \"NA\", \"Bidan\", \"IUD/IMPLAN,R/R\", \"-\", \"JANUARI\"], [196, \"SULAWESI BARAT\", \"PASANGKAYU\", \"DAPURANG\", \"BENGGAULU\", \"UPT PUSKESMAS DAPURANG\", 7601014, \"Dew\", \"730\", \"NA\", \"NA\", \"Bidan\", \"R/R\", \"-\", \"JANUARI\"], [197, \"SULAWESI BARAT\", \"PASANGKAYU\", \"DAPURANG\", \"BENGGAULU\", \"UPT PUSKESMAS DAPURANG\", 7601014, \"Sri\", \"760\", \"NA\", \"NA\", \"Bidan\", \"R/R\", \"-\", \"JANUARI\"], [198, \"SULAWESI BARAT\", \"PASANGKAYU\", \"DAPURANG\", \"BENGGAULU\", \"UPT PUSKESMAS DAPURANG\", 7601014, \"MEL\", \"727\", \"Dusun Belawa Raya\", \"082348349389\", \"Bidan\", \"IUD/IMPLAN,KIP/Konseling,R/R\", \"-\", \"JANUARI\"], [199, \"SULAWESI BARAT\", \"PASANGKAYU\", \"DAPURANG\", \"DAPURANG\", \"Pustu Dapurang\", 760101401, \"WAT\", \"760\", \"Dusun Limua II Dapurang\", \"08221388813\", \"Bidan\", \"IUD/IMPLAN,KIP/Konseling,R/R\", \"-\", \"JANUARI\"], [200, \"SULAWESI BARAT\", \"PASANGKAYU\", \"DAPURANG\", \"BULU BONGGU\", \"Polindes Tobajo\", 760101402, \"Nur\", \"760\", \"Dusun Tarareko\", \"085211641237\", \"Bidan\", \"KIP/Konseling\", \"-\", \"JANUARI\"], [201, \"SULAWESI BARAT\", \"PASANGKAYU\", \"DAPURANG\", \"DAPURANG\", \"Poskesdes Dapurang\", 760101403, \"Wat\", \"760\", \"Dusun Limua II Desa Dapurang\", \"082213808813\", \"Bidan\", \"IUD/IMPLAN,KIP/Konseling,R/R\", \"-\", \"JANUARI\"], [202, \"SULAWESI BARAT\", \"PASANGKAYU\", \"DAPURANG\", \"DAPURANG\", \"Polindes Tabalia\", 760101404, \"Ras\", \"760\", \"Dusun Tabalia\", \"082346026173\", \"Bidan\", \"IUD/IMPLAN,R/R\", \"-\", \"JANUARI\"], [203, \"SULAWESI BARAT\", \"PASANGKAYU\", \"DAPURANG\", \"TIRTABUANA\", \"Pustu Tirtabuana\", 760101405, \"Hj.\", \"760\", \"Desa Tirtabuana\", \"085341107214\", \"Bidan\", \"IUD/IMPLAN,KIP/Konseling,R/R\", \"-\", \"JANUARI\"], [204, \"SULAWESI BARAT\", \"PASANGKAYU\", \"DAPURANG\", \"SARASA\", \"Pustu Sarasa\", 760101406, \"Ros\", \"760\", \"Dusun Dapurang\", \"085299007364\", \"Bidan\", \"IUD/IMPLAN,R/R,Sertifikat Kompetensi IUD/Implan\", \"-\", \"JANUARI\"], [205, \"SULAWESI BARAT\", \"PASANGKAYU\", \"DAPURANG\", \"SARASA\", \"Poskesdes Kasalai\", 760101407, \"Ros\", \"760\", \"Dusun Dapurang Desa Sarasa\", \"085299007364\", \"Bidan\", \"IUD/IMPLAN,R/R,Sertifikat Kompetensi IUD/Implan\", \"-\", \"JANUARI\"], [206, \"SULAWESI BARAT\", \"PASANGKAYU\", \"DAPURANG\", \"SARASA\", \"Poskesdes Bayu\", 760101408, \"Sri\", \"760\", \"Dusun Bayu\", \"085262292437\", \"Bidan\", \"KIP/Konseling,R/R\", \"-\", \"JANUARI\"], [207, \"SULAWESI BARAT\", \"PASANGKAYU\", \"DAPURANG\", \"BENGGAULU\", \"Poskesdes Benggaulu\", 760101409, \"FAR\", \"760\", \"Dusun Tamoe\", \"082188173133\", \"Bidan\", \"R/R\", \"-\", \"JANUARI\"], [208, \"SULAWESI BARAT\", \"PASANGKAYU\", \"DAPURANG\", \"BENGGAULU\", \"Poskesdes Benggaulu\", 760101409, \"CEN\", \"760\", \"DUSUN FUNJU\", \"085394698781\", \"Bidan\", \"IUD/IMPLAN,KIP/Konseling,R/R\", \"-\", \"JANUARI\"], [209, \"SULAWESI BARAT\", \"PASANGKAYU\", \"DAPURANG\", \"BENGGAULU\", \"Polindes Pammanua\", 760101410, \"FAR\", \"760\", \"Dusun Tamoe\", \"082188173133\", \"Bidan\", \"KIP/Konseling,R/R\", \"-\", \"JANUARI\"], [210, \"SULAWESI BARAT\", \"PASANGKAYU\", \"DAPURANG\", \"BENGGAULU\", \"Pustu Benggaulu\", 760101411, \"DAR\", \"760\", \"Dusun Funju\", \"082333309154\", \"Bidan\", \"Belum Terlatih\", \"-\", \"JANUARI\"], [211, \"SULAWESI BARAT\", \"PASANGKAYU\", \"DAPURANG\", \"BENGGAULU\", \"Polindes Kanantuo\", 760101412, \"MIR\", \"760\", \"Dusun Funju\", \"085113311156\", \"Bidan\", \"R/R\", \"-\", \"JANUARI\"], [212, \"SULAWESI BARAT\", \"PASANGKAYU\", \"DAPURANG\", \"BENGGAULU\", \"Polindes Maros Baru\", 760101413, \"Pat\", \"740\", \"NA\", \"NA\", \"Bidan\", \"R/R\", \"-\", \"JANUARI\"], [213, \"SULAWESI BARAT\", \"PASANGKAYU\", \"DAPURANG\", \"BENGGAULU\", \"Polindes Maros Baru\", 760101413, \"Cen\", \"760\", \"Dusun Funju\", \"085394698781\", \"Bidan\", \"IUD/IMPLAN,KIP/Konseling,R/R\", \"-\", \"JANUARI\"], [214, \"SULAWESI BARAT\", \"PASANGKAYU\", \"DAPURANG\", \"BULU BONGGU\", \"Pustu Bulubonggu\", 760101414, \"Kri\", \"760\", \"Dusun Tarareko Bulubonggu\", \"085319596071\", \"Bidan\", \"KIP/Konseling,R/R\", \"-\", \"JANUARI\"], [215, \"SULAWESI BARAT\", \"PASANGKAYU\", \"DAPURANG\", \"BULU BONGGU\", \"Pustu Rontojali\", 760101415, \"Asm\", \"760\", \"Dusun Rontojali\", \"082396190461\", \"Bidan\", \"KIP/Konseling,R/R\", \"-\", \"JANUARI\"], [216, \"SULAWESI BARAT\", \"PASANGKAYU\", \"DAPURANG\", \"BULU BONGGU\", \"Polindes Duribohe\", 760101416, \"Nah\", \"731\", \"Bulu Bonggu\", \"085220612982\", \"Bidan\", \"KIP/Konseling,R/R\", \"-\", \"JANUARI\"], [217, \"SULAWESI BARAT\", \"PASANGKAYU\", \"DAPURANG\", \"BULU BONGGU\", \"Polindes Duribohe\", 760101416, \"Nur\", \"760\", \"Dusun Harapan Bersama\", \"081242968646\", \"Bidan\", \"IUD/IMPLAN,KIP/Konseling,Sertifikat Kompetensi IUD/Implan\", \"-\", \"JANUARI\"], [218, \"SULAWESI BARAT\", \"PASANGKAYU\", \"DAPURANG\", \"BULU BONGGU\", \"Polindes Antai Kanan\", 760101417, \"Nah\", \"731\", \"Dusun Bulubonggu Raya\", \"085220612982\", \"Bidan\", \"Belum Terlatih\", \"-\", \"JANUARI\"], [219, \"SULAWESI BARAT\", \"PASANGKAYU\", \"DAPURANG\", \"BULU BONGGU\", \"Polindes Antai Kanan\", 760101417, \"Nur\", \"760\", \"Dusun Tarareko\", \"085221641237\", \"Bidan\", \"KIP/Konseling\", \"-\", \"JANUARI\"], [220, \"SULAWESI BARAT\", \"PASANGKAYU\", \"DAPURANG\", \"DAPURANG\", \"BPM ISYANA\", 760101418, \"Bdn\", \"760\", \"Dusun Limua\", \"085257272678\", \"Bidan\", \"IUD/IMPLAN,KIP/Konseling,R/R\", \"-\", \"JANUARI\"], [221, \"SULAWESI BARAT\", \"PASANGKAYU\", \"DAPURANG\", \"DAPURANG\", \"BPM ISYANA\", 760101418, \"Usw\", \"731\", \"Dusun Labuang\", \"081355557894\", \"Bidan\", \"Belum Terlatih\", \"-\", \"JANUARI\"], [222, \"SULAWESI BARAT\", \"PASANGKAYU\", \"DAPURANG\", \"DAPURANG\", \"BPM ISYANA\", 760101418, \"MAR\", \"760\", \"Dusun Kampung Baru\", \"085242309716\", \"Bidan\", \"Belum Terlatih\", \"-\", \"JANUARI\"], [223, \"SULAWESI BARAT\", \"PASANGKAYU\", \"DAPURANG\", \"DAPURANG\", \"BPM ISYANA\", 760101418, \"Kur\", \"760\", \"Dusun Limua\", \"082293435995\", \"Bidan\", \"Belum Terlatih\", \"-\", \"JANUARI\"], [224, \"SULAWESI BARAT\", \"PASANGKAYU\", \"DAPURANG\", \"DAPURANG\", \"BPM ISYANA\", 760101418, \"Sis\", \"760\", \"Dusun Kampung Baru\", \"085396522623\", \"Bidan\", \"R/R\", \"-\", \"JANUARI\"], [225, \"SULAWESI BARAT\", \"PASANGKAYU\", \"DAPURANG\", \"DAPURANG\", \"BPM ISYANA\", 760101418, \"RAH\", \"760\", \"Dusun Tabarodea\", \"085343895258\", \"Bidan\", \"Belum Terlatih\", \"-\", \"JANUARI\"], [226, \"SULAWESI BARAT\", \"PASANGKAYU\", \"DAPURANG\", \"DAPURANG\", \"Poskesdes Belawa Rahmat\", 760101419, \"AMI\", \"760\", \"DESA DAPURANG\", \"082239133771\", \"Bidan\", \"Belum Terlatih\", \"-\", \"JANUARI\"], [227, \"SULAWESI BARAT\", \"PASANGKAYU\", \"DURIPOKU\", \"TAMMARUNANG\", \"UPT PUSKESMAS DURIPOKU\", 7601015, \"Evy\", \"760\", \"DESA TAMARUNANG\", \"085399261208\", \"Bidan\", \"IUD/IMPLAN,KIP/Konseling,R/R\", \"-\", \"JANUARI\"], [228, \"SULAWESI BARAT\", \"PASANGKAYU\", \"DURIPOKU\", \"TAMMARUNANG\", \"UPT PUSKESMAS DURIPOKU\", 7601015, \"MAR\", \"760\", \"DESA TAMARUNANG\", \"081245045948\", \"Bidan\", \"Belum Terlatih\", \"-\", \"JANUARI\"], [229, \"SULAWESI BARAT\", \"PASANGKAYU\", \"DURIPOKU\", \"TAMMARUNANG\", \"UPT PUSKESMAS DURIPOKU\", 7601015, \"AND\", \"731\", \"DESA TAMARUNANG\", \"082259588714\", \"Bidan\", \"Belum Terlatih\", \"-\", \"JANUARI\"], [230, \"SULAWESI BARAT\", \"PASANGKAYU\", \"DURIPOKU\", \"TAMMARUNANG\", \"UPT PUSKESMAS DURIPOKU\", 7601015, \"PAT\", \"760\", \"DESA TAMARUNANG\", \"085225081552\", \"Bidan\", \"Belum Terlatih\", \"-\", \"JANUARI\"], [231, \"SULAWESI BARAT\", \"PASANGKAYU\", \"DURIPOKU\", \"TAMMARUNANG\", \"UPT PUSKESMAS DURIPOKU\", 7601015, \"KIK\", \"760\", \"DESA TAMARUNANG\", \"085342825944\", \"Bidan\", \"IUD/IMPLAN\", \"-\", \"JANUARI\"], [232, \"SULAWESI BARAT\", \"PASANGKAYU\", \"DURIPOKU\", \"TAMMARUNANG\", \"UPT PUSKESMAS DURIPOKU\", 7601015, \"NOV\", \"760\", \"DESA TAMARUNANG\", \"082195089734\", \"Bidan\", \"Belum Terlatih\", \"-\", \"JANUARI\"], [233, \"SULAWESI BARAT\", \"PASANGKAYU\", \"DURIPOKU\", \"TAMMARUNANG\", \"UPT PUSKESMAS DURIPOKU\", 7601015, \"FAD\", \"760\", \"DESA TAMARUNANG\", \"082348119980\", \"Bidan\", \"Belum Terlatih\", \"-\", \"JANUARI\"], [234, \"SULAWESI BARAT\", \"PASANGKAYU\", \"DURIPOKU\", \"TAMMARUNANG\", \"UPT PUSKESMAS DURIPOKU\", 7601015, \"SAL\", \"760\", \"DESA DAPURANG\", \"085257272678\", \"Bidan\", \"Belum Terlatih\", \"-\", \"JANUARI\"], [235, \"SULAWESI BARAT\", \"PASANGKAYU\", \"DURIPOKU\", \"TAMMARUNANG\", \"UPT PUSKESMAS DURIPOKU\", 7601015, \"Rus\", \"731\", \"Dusun Mata Allo Desa Tammarunang kec Duripoku\", \"082319888148\", \"Bidan\", \"Belum Terlatih\", \"-\", \"JANUARI\"], [236, \"SULAWESI BARAT\", \"PASANGKAYU\", \"DURIPOKU\", \"TAMMARUNANG\", \"UPT PUSKESMAS DURIPOKU\", 7601015, \"Mat\", \"760\", \"Dusun Mata Allo Desa Tammarunang kec Duripoku\", \"082225129996\", \"Bidan\", \"Belum Terlatih\", \"-\", \"JANUARI\"], [237, \"SULAWESI BARAT\", \"PASANGKAYU\", \"DURIPOKU\", \"TAMMARUNANG\", \"UPT PUSKESMAS DURIPOKU\", 7601015, \"Hal\", \"732\", \"Dusun Mata Allo Desa Tammarunang kec Duripoku\", \"082225129996\", \"Bidan\", \"Belum Terlatih\", \"-\", \"JANUARI\"], [238, \"SULAWESI BARAT\", \"PASANGKAYU\", \"DURIPOKU\", \"SAPTANAJAYA\", \"Pustu Saptanajaya\", 760101501, \"Ari\", \"760\", \"DESA SAPTANAJAYA\", \"082375454187\", \"Bidan\", \"R/R\", \"-\", \"JANUARI\"], [239, \"SULAWESI BARAT\", \"PASANGKAYU\", \"DURIPOKU\", \"SAPTANAJAYA\", \"Pustu Saptanajaya\", 760101501, \"YUL\", \"760\", \"DESA SAPTANAJAYA\", \"081356593016\", \"Bidan\", \"Belum Terlatih\", \"-\", \"JANUARI\"], [240, \"SULAWESI BARAT\", \"PASANGKAYU\", \"DURIPOKU\", \"SIPAKAINGA\", \"Pustu Sipakainga\", 760101502, \"Has\", \"760\", \"dusun kalikuma, desa sipakainga\", \"081248642331\", \"Bidan\", \"R/R\", \"-\", \"JANUARI\"], [241, \"SULAWESI BARAT\", \"PASANGKAYU\", \"DURIPOKU\", \"TARANGGI\", \"Pustu Taranggi\", 760101503, \"RAU\", \"760\", \"Dusun Nirannuang\", \"082290387189\", \"Bidan\", \"Belum Terlatih\", \"-\", \"JANUARI\"], [242, \"SULAWESI BARAT\", \"PASANGKAYU\", \"PASANGKAYU\", \"AKO\", \"RSUD Kabupaten Pasangkayu\", 7601016, \"dr.\", \"NA\", \"NA\", \"NA\", \"Dokter Bedah/Urologi\", \"Vasektomi\", \"-\", \"JANUARI\"], [243, \"SULAWESI BARAT\", \"PASANGKAYU\", \"PASANGKAYU\", \"AKO\", \"RSUD Kabupaten Pasangkayu\", 7601016, \"dr.\", \"999\", \"BUKIT HUSADA\", \"NA\", \"Dokter Kebidanan dan Kandungan\", \"Tubektomi\", \"-\", \"JANUARI\"], [244, \"SULAWESI BARAT\", \"PASANGKAYU\", \"PASANGKAYU\", \"AKO\", \"RSUD Kabupaten Pasangkayu\", 7601016, \"NUR\", \"760\", \"JLN. FATMAWATI\", \"081287886373\", \"Bidan\", \"IUD/IMPLAN,R/R\", \"-\", \"JANUARI\"], [245, \"SULAWESI BARAT\", \"PASANGKAYU\", \"PASANGKAYU\", \"AKO\", \"RSUD Kabupaten Pasangkayu\", 7601016, \"RAM\", \"760\", \"Jl. Sultan Hasanuddin\", \"085242390885\", \"Bidan\", \"IUD/IMPLAN\", \"-\", \"JANUARI\"], [246, \"SULAWESI BARAT\", \"PASANGKAYU\", \"PASANGKAYU\", \"AKO\", \"RSUD Kabupaten Pasangkayu\", 7601016, \"Had\", \"731\", \"Btn Gria Matra\", \"085255888350\", \"Bidan\", \"Belum Terlatih\", \"-\", \"JANUARI\"], [247, \"SULAWESI BARAT\", \"PASANGKAYU\", \"PASANGKAYU\", \"AKO\", \"RSUD Kabupaten Pasangkayu\", 7601016, \"MEL\", \"730\", \"Jl. Andi Pelang\", \"NA\", \"Bidan\", \"Belum Terlatih\", \"-\", \"JANUARI\"], [248, \"SULAWESI BARAT\", \"PASANGKAYU\", \"PASANGKAYU\", \"AKO\", \"RSUD Kabupaten Pasangkayu\", 7601016, \"ERM\", \"760\", \"Jl. P. Diponegoro\", \"085240747533\", \"Bidan\", \"Belum Terlatih\", \"-\", \"JANUARI\"], [450, \"SULAWESI BARAT\", \"MAJENE\", \"BANGGAE\", \"TOTOLI\", \"PMB HJ.MARYAM\", 7605024, \"NUR\", \"760\", \"PASSARANG SELATAN\", \"NA\", \"Bidan\", \"IUD/IMPLAN,KIP/Konseling,R/R\", \"-\", \"FEBRUARI\"], [451, \"SULAWESI BARAT\", \"MAJENE\", \"BANGGAE\", \"TOTOLI\", \"PMB HJ.MARYAM\", 7605024, \"HJ.\", \"760\", \"PASSARANG\", \"NA\", \"Bidan\", \"IUD/IMPLAN,KIP/Konseling,R/R\", \"-\", \"FEBRUARI\"], [452, \"SULAWESI BARAT\", \"MAJENE\", \"BANGGAE\", \"RANGAS\", \"PRAKTEK MANDIRI BIDAN NOPI WINARTI\", 7605025, \"NOP\", \"760\", \"Jl. Jend. A. Yani Rangas Timur\", \"082343567375\", \"Bidan\", \"IUD/IMPLAN,KIP/Konseling,R/R\", \"-\", \"FEBRUARI\"], [453, \"SULAWESI BARAT\", \"MAJENE\", \"BANGGAE\", \"RANGAS\", \"PRAKTEK MANDIRI BIDAN NOPI WINARTI\", 7605025, \"ASN\", \"760\", \"Camba\", \"081222561138\", \"Bidan\", \"Belum Terlatih\", \"-\", \"FEBRUARI\"], [454, \"SULAWESI BARAT\", \"MAJENE\", \"BANGGAE\", \"RANGAS\", \"PRAKTEK MANDIRI BIDAN NOPI WINARTI\", 7605025, \"NUR\", \"760\", \"Camba\", \"082246997292\", \"Bidan\", \"Belum Terlatih\", \"-\", \"FEBRUARI\"], [455, \"SULAWESI BARAT\", \"MAJENE\", \"BANGGAE\", \"RANGAS\", \"PRAKTEK MANDIRI BIDAN NOPI WINARTI\", 7605025, \"EKA\", \"760\", \"Leppe\", \"085395203234\", \"Administrasi\", \"Belum Terlatih\", \"-\", \"FEBRUARI\"], [456, \"SULAWESI BARAT\", \"MAJENE\", \"BANGGAE\", \"RANGAS\", \"PRAKTEK MANDIRI BIDAN NOPI WINARTI\", 7605025, \"SAB\", \"760\", \"Jl.Jendral Sudirman Lembang Majene\", \"081241893452\", \"Bidan\", \"R/R\", \"-\", \"FEBRUARI\"], [457, \"SULAWESI BARAT\", \"MAJENE\", \"PAMBOANG\", \"LALAMPANUA\", \"BPM RISNA\", 7605030, \"Ris\", \"999\", \"LINGKUNGAN BULUTUPANG KELURAHAN LALAMPANUA KECAMATAN PAMBOANG\", \"085255515380\", \"Bidan\", \"IUD/IMPLAN,KIP/Konseling\", \"-\", \"FEBRUARI\"], [458, \"SULAWESI BARAT\", \"MAJENE\", \"BANGGAE\", \"BARU\", \"PMB NURDIANA\", 7605031, \"NUR\", \"760\", \"CAMBA UTARA\", \"082155023112\", \"Bidan\", \"IUD/IMPLAN\", \"-\", \"FEBRUARI\"], [459, \"SULAWESI BARAT\", \"MAJENE\", \"BANGGAE\", \"BARU\", \"PMB NURDIANA\", 7605031, \"NUR\", \"760\", \"TANJUNG BATU TIMUR\", \"082187637451\", \"Bidan\", \"Belum Terlatih\", \"-\", \"FEBRUARI\"], [460, \"SULAWESI BARAT\", \"MAJENE\", \"BANGGAE\", \"BARU\", \"PMB NURDIANA\", 7605031, \"RUG\", \"760\", \"PAMBUSUANG\", \"085351100321\", \"Perawat\", \"Belum Terlatih\", \"-\", \"FEBRUARI\"], [461, \"SULAWESI BARAT\", \"MAJENE\", \"BANGGAE\", \"BARU\", \"PRAKTEK MANDIRI BIDAN (PMB) NURRAHMI\", 7605032, \"HJ.\", \"760\", \"CAMBA\", \"085242542218\", \"Bidan\", \"Belum Terlatih\", \"-\", \"FEBRUARI\"], [462, \"SULAWESI BARAT\", \"MAJENE\", \"BANGGAE\", \"BARU\", \"PRAKTEK MANDIRI BIDAN (PMB) NURRAHMI\", 7605032, \"NUR\", \"760\", \"CAMBA\", \"081355355608\", \"Bidan\", \"IUD/IMPLAN,R/R\", \"-\", \"FEBRUARI\"], [463, \"SULAWESI BARAT\", \"MAJENE\", \"BANGGAE\", \"BARU\", \"PRAKTEK MANDIRI BIDAN (PMB) NURRAHMI\", 7605032, \"NUR\", \"760\", \"CAMBA\", \"082132930483\", \"Bidan\", \"Belum Terlatih\", \"-\", \"FEBRUARI\"], [464, \"SULAWESI BARAT\", \"MAJENE\", \"BANGGAE\", \"BARU\", \"PRAKTEK MANDIRI BIDAN (PMB) NURRAHMI\", 7605032, \"NUR\", \"760\", \"CAMBA\", \"085281753155\", \"Bidan\", \"Belum Terlatih\", \"-\", \"FEBRUARI\"], [465, \"SULAWESI BARAT\", \"MAJENE\", \"ULUMANDA\", \"SALUTAMBUNG\", \"RUMAH SAKIT PRATAMA SALUTAMBUNG KAB. MAJENE\", 7605033, \"NUR\", \"760\", \"ONANG\", \"085255155442\", \"Bidan\", \"IUD/IMPLAN,KIP/Konseling,R/R\", \"-\", \"FEBRUARI\"], [466, \"SULAWESI BARAT\", \"MAJENE\", \"ULUMANDA\", \"SALUTAMBUNG\", \"RUMAH SAKIT PRATAMA SALUTAMBUNG KAB. MAJENE\", 7605033, \"KUR\", \"760\", \"SALUTAMBUNG KEC.ULUMANDA\", \"085259463628\", \"Bidan\", \"Belum Terlatih\", \"-\", \"FEBRUARI\"], [467, \"SULAWESI BARAT\", \"MAJENE\", \"ULUMANDA\", \"SALUTAMBUNG\", \"RUMAH SAKIT PRATAMA SALUTAMBUNG KAB. MAJENE\", 7605033, \"MUS\", \"760\", \"LINGK, KALORANG KEL. LAMUNGAN BATU\", \"081354769150\", \"Bidan\", \"IUD/IMPLAN,KIP/Konseling\", \"-\", \"FEBRUARI\"], [468, \"SULAWESI BARAT\", \"MAJENE\", \"ULUMANDA\", \"SALUTAMBUNG\", \"RUMAH SAKIT PRATAMA SALUTAMBUNG KAB. MAJENE\", 7605033, \"NUR\", \"760\", \"SALUTAMBUNG KEC. ULUMANDA\", \"082192676547\", \"Bidan\", \"Belum Terlatih\", \"-\", \"FEBRUARI\"], [469, \"SULAWESI BARAT\", \"MAJENE\", \"ULUMANDA\", \"SALUTAMBUNG\", \"RUMAH SAKIT PRATAMA SALUTAMBUNG KAB. MAJENE\", 7605033, \"IDA\", \"760\", \"PODANG SELATAN RT 001/RW 001 DESA BANUA SENDANA KEC. SENDANA\", \"081355694102\", \"Bidan\", \"IUD/IMPLAN,KIP/Konseling,R/R\", \"-\", \"FEBRUARI\"], [470, \"SULAWESI BARAT\", \"MAMUJU TENGAH\", \"PANGALE\", \"POLO PANGALE\", \"Puskesmas Pangale\", 7606001, \"Ern\", \"760\", \"Polo Pangale\", \"082311850213\", \"Bidan\", \"IUD/IMPLAN,KIP/Konseling,R/R,Sertifikat Kompetensi IUD/Implan\", \"-\", \"FEBRUARI\"], [471, \"SULAWESI BARAT\", \"MAMUJU TENGAH\", \"PANGALE\", \"POLO PANGALE\", \"Puskesmas Pangale\", 7606001, \"Kas\", \"760\", \"Polo Lereng\", \"085228466960\", \"Bidan\", \"KIP/Konseling,R/R\", \"-\", \"FEBRUARI\"], [472, \"SULAWESI BARAT\", \"MAMUJU TENGAH\", \"PANGALE\", \"POLO PANGALE\", \"Puskesmas Pangale\", 7606001, \"Her\", \"730\", \"Polo Pangale\", \"085255902619\", \"Bidan\", \"R/R\", \"-\", \"FEBRUARI\"], [473, \"SULAWESI BARAT\", \"MAMUJU TENGAH\", \"PANGALE\", \"POLO PANGALE\", \"Puskesmas Pangale\", 7606001, \"Asm\", \"760\", \"Bunde\", \"081244685456\", \"Bidan\", \"KIP/Konseling,R/R\", \"-\", \"FEBRUARI\"], [474, \"SULAWESI BARAT\", \"MAMUJU TENGAH\", \"PANGALE\", \"POLO PANGALE\", \"Puskesmas Pangale\", 7606001, \"NUR\", \"760\", \"Desa Polo Pangale Kec. Pangale\", \"NA\", \"Bidan\", \"IUD/IMPLAN,KIP/Konseling,R/R,Sertifikat Kompetensi IUD/Implan\", \"-\", \"FEBRUARI\"], [475, \"SULAWESI BARAT\", \"MAMUJU TENGAH\", \"PANGALE\", \"POLO PANGALE\", \"Puskesmas Pangale\", 7606001, \"BD.\", \"760\", \"Dusun Rawa Tanjung Desa Kuo Kecamatan Pangale\", \"085398482818\", \"Bidan\", \"IUD/IMPLAN,KIP/Konseling,R/R,Sertifikat Kompetensi IUD/Implan\", \"-\", \"FEBRUARI\"], [476, \"SULAWESI BARAT\", \"MAMUJU TENGAH\", \"PANGALE\", \"PANGALE\", \"Pustu Pangale\", 760600101, \"Fit\", \"760\", \"Desa Pangale\", \"082293884844\", \"Bidan\", \"IUD/IMPLAN,KIP/Konseling,R/R\", \"-\", \"FEBRUARI\"], [477, \"SULAWESI BARAT\", \"MAMUJU TENGAH\", \"PANGALE\", \"PANGALE\", \"Pustu Pangale\", 760600101, \"Jas\", \"760\", \"Pangale\", \"082271498734\", \"Bidan\", \"KIP/Konseling,R/R\", \"-\", \"FEBRUARI\"], [478, \"SULAWESI BARAT\", \"MAMUJU TENGAH\", \"PANGALE\", \"PANGALE\", \"Poskesdes Latibung\", 760600102, \"Wah\", \"760\", \"Lattibung\", \"085333473300\", \"Bidan\", \"IUD/IMPLAN,KIP/Konseling,R/R,Sertifikat Kompetensi IUD/Implan\", \"-\", \"FEBRUARI\"], [479, \"SULAWESI BARAT\", \"MAMUJU TENGAH\", \"PANGALE\", \"LEMO-LEMO\", \"Puskesdes Lemo-Lemo\", 760600103, \"A.K\", \"760\", \"Polo lereng\", \"085240654313\", \"Bidan\", \"R/R\", \"-\", \"FEBRUARI\"], [480, \"SULAWESI BARAT\", \"MAMUJU TENGAH\", \"PANGALE\", \"POLO PANGALE\", \"Puskesdes Sidomulyo\", 760600104, \"Mut\", \"760\", \"Dusun Sidomulyo\", \"085395556021\", \"Bidan\", \"IUD/IMPLAN,KIP/Konseling,R/R,Sertifikat Kompetensi IUD/Implan\", \"-\", \"FEBRUARI\"], [481, \"SULAWESI BARAT\", \"MAMUJU TENGAH\", \"PANGALE\", \"SARTANAMAJU\", \"Pustu Sartana Maju\", 760600105, \"BD.\", \"760\", \"Desa Sartana Maju\", \"082217571615\", \"Bidan\", \"KIP/Konseling,R/R\", \"-\", \"FEBRUARI\"], [482, \"SULAWESI BARAT\", \"MAMUJU TENGAH\", \"PANGALE\", \"KUO\", \"Pustu Kuo\", 760600106, \"Evi\", \"760\", \"Dusun Pawa Pandang\", \"081524090040\", \"Bidan\", \"KIP/Konseling,R/R\", \"-\", \"FEBRUARI\"], [483, \"SULAWESI BARAT\", \"MAMUJU TENGAH\", \"PANGALE\", \"KUO\", \"Pustu Kuo\", 760600106, \"Eni\", \"760\", \"Dusun Rawa Pandang\", \"085696537852\", \"Bidan\", \"KIP/Konseling,R/R\", \"-\", \"FEBRUARI\"], [484, \"SULAWESI BARAT\", \"MAMUJU TENGAH\", \"PANGALE\", \"POLO CAMBA\", \"Puskesmas Polo Camba\", 7606002, \"Mar\", \"647\", \"Desa Polo Camba Kec. Pangale\", \"082347184446\", \"Bidan\", \"R/R\", \"-\", \"FEBRUARI\"], [485, \"SULAWESI BARAT\", \"MAMUJU TENGAH\", \"PANGALE\", \"POLO CAMBA\", \"Puskesmas Polo Camba\", 7606002, \"Had\", \"731\", \"Desa Polo Camba, Kec.Pangale\", \"082195223223\", \"Bidan\", \"KIP/Konseling,R/R\", \"-\", \"FEBRUARI\"], [486, \"SULAWESI BARAT\", \"MAMUJU TENGAH\", \"PANGALE\", \"POLO CAMBA\", \"Puskesmas Polo Camba\", 7606002, \"Ani\", \"760\", \"Desa Lamba-Lamba, Kec. Pangale\", \"085399977569\", \"Bidan\", \"R/R\", \"-\", \"FEBRUARI\"], [487, \"SULAWESI BARAT\", \"MAMUJU TENGAH\", \"PANGALE\", \"POLO CAMBA\", \"Puskesmas Polo Camba\", 7606002, \"Ni \", \"732\", \"Desa Polo Lereng, Kec. Pangale\", \"082188059584\", \"Bidan\", \"IUD/IMPLAN,KIP/Konseling,R/R,Sertifikat Kompetensi IUD/Implan\", \"-\", \"FEBRUARI\"], [488, \"SULAWESI BARAT\", \"MAMUJU TENGAH\", \"PANGALE\", \"POLO CAMBA\", \"Puskesmas Polo Camba\", 7606002, \"HAR\", \"731\", \"Desa Kmbling Kec. Pangale\", \"082210406292\", \"Bidan\", \"Belum Terlatih\", \"-\", \"FEBRUARI\"], [489, \"SULAWESI BARAT\", \"MAMUJU TENGAH\", \"PANGALE\", \"POLO CAMBA\", \"Puskesmas Polo Camba\", 7606002, \"NUR\", \"731\", \"Desa Lamba- Lamba, Kec. Pangale\", \"082337160358\", \"Bidan\", \"Belum Terlatih\", \"-\", \"FEBRUARI\"], [490, \"SULAWESI BARAT\", \"MAMUJU TENGAH\", \"PANGALE\", \"POLO CAMBA\", \"Puskesmas Polo Camba\", 7606002, \"NUR\", \"760\", \"Desa Polo Camba Kec. Pangale\", \"085145425202\", \"Bidan\", \"Belum Terlatih\", \"-\", \"FEBRUARI\"], [491, \"SULAWESI BARAT\", \"MAMUJU TENGAH\", \"PANGALE\", \"POLO CAMBA\", \"Puskesmas Polo Camba\", 7606002, \"Mar\", \"760\", \"Desa Kombiling Kec. Pangale\", \"081355016829\", \"Bidan\", \"IUD/IMPLAN,KIP/Konseling,R/R,Sertifikat Kompetensi IUD/Implan\", \"-\", \"FEBRUARI\"], [492, \"SULAWESI BARAT\", \"MAMUJU TENGAH\", \"PANGALE\", \"POLO CAMBA\", \"Puskesmas Polo Camba\", 7606002, \"ZAK\", \"731\", \"Polo Lereng\", \"082345777715\", \"Bidan\", \"KIP/Konseling,R/R\", \"-\", \"FEBRUARI\"], [493, \"SULAWESI BARAT\", \"MAMUJU TENGAH\", \"PANGALE\", \"POLO CAMBA\", \"Poskesdes Polo Camba II\", 760600201, \"Rah\", \"731\", \"Desa Kuo Kecamatan Pangale Kab.Mamuju Tengah\", \"085342333989\", \"Bidan\", \"KIP/Konseling,R/R\", \"-\", \"FEBRUARI\"], [494, \"SULAWESI BARAT\", \"MAMUJU TENGAH\", \"PANGALE\", \"POLO CAMBA\", \"Poskesdes Polo Camba II\", 760600201, \"Kas\", \"731\", \"Dusun Polo Jajar\", \"NA\", \"Bidan\", \"KIP/Konseling,R/R\", \"-\", \"FEBRUARI\"], [495, \"SULAWESI BARAT\", \"MAMUJU TENGAH\", \"PANGALE\", \"POLO LERENG\", \"Pustu Polo Lereng\", 760600202, \"Hil\", \"760\", \"Polo Lereng\", \"081343826455\", \"Bidan\", \"IUD/IMPLAN,KIP/Konseling,R/R\", \"-\", \"FEBRUARI\"], [496, \"SULAWESI BARAT\", \"MAMUJU TENGAH\", \"PANGALE\", \"POLO LERENG\", \"Pustu Polo Lereng\", 760600202, \"I N\", \"732\", \"Polo Pangale\", \"082292442672\", \"Bidan\", \"IUD/IMPLAN,KIP/Konseling,R/R\", \"-\", \"FEBRUARI\"], [497, \"SULAWESI BARAT\", \"MAMUJU TENGAH\", \"PANGALE\", \"POLO LERENG\", \"Poskesdes Tritunggal\", 760600203, \"Ind\", \"760\", \"Polo Lereng\", \"085395858421\", \"Bidan\", \"IUD/IMPLAN,KIP/Konseling,R/R,Sertifikat Kompetensi IUD/Implan\", \"-\", \"FEBRUARI\"], [498, \"SULAWESI BARAT\", \"MAMUJU TENGAH\", \"PANGALE\", \"KOMBILING\", \"Pustu Kombiling\", 760600204, \"Hij\", \"760\", \"Kombiling\", \"082293648376\", \"Bidan\", \"KIP/Konseling,R/R\", \"-\", \"FEBRUARI\"], [499, \"SULAWESI BARAT\", \"MAMUJU TENGAH\", \"PANGALE\", \"KOMBILING\", \"Pustu Kombiling\", 760600204, \"ARL\", \"760\", \"Kombiling\", \"085399022521\", \"Bidan\", \"KIP/Konseling,R/R\", \"-\", \"FEBRUARI\"], [500, \"SULAWESI BARAT\", \"MAMUJU TENGAH\", \"PANGALE\", \"LAMBA-LAMBA\", \"Poskesdes Lamba-lamba\", 760600205, \"Sun\", \"760\", \"Lamba- Lamba\", \"081343818187\", \"Bidan\", \"IUD/IMPLAN,KIP/Konseling,R/R\", \"-\", \"FEBRUARI\"], [501, \"SULAWESI BARAT\", \"MAMUJU TENGAH\", \"BUDONG-BUDONG\", \"BABANA\", \"Puskesmas Babana\", 7606003, \"Mar\", \"760\", \"Babana\", \"081240105035\", \"Bidan\", \"IUD/IMPLAN,R/R,Sertifikat Kompetensi IUD/Implan\", \"-\", \"FEBRUARI\"], [502, \"SULAWESI BARAT\", \"MAMUJU TENGAH\", \"BUDONG-BUDONG\", \"BABANA\", \"Puskesmas Babana\", 7606003, \"har\", \"760\", \"Babana\", \"082348351514\", \"Bidan\", \"R/R\", \"-\", \"FEBRUARI\"], [503, \"SULAWESI BARAT\", \"MAMUJU TENGAH\", \"BUDONG-BUDONG\", \"BABANA\", \"PUSTU POLOHU\", 760600301, \"Mas\", \"NA\", \"NA\", \"NA\", \"Bidan\", \"R/R\", \"-\", \"FEBRUARI\"], [504, \"SULAWESI BARAT\", \"MAMUJU TENGAH\", \"BUDONG-BUDONG\", \"BABANA\", \"POSKESDES LEMBAH HARAPAN\", 760600302, \"Nik\", \"NA\", \"NA\", \"NA\", \"Bidan\", \"R/R\", \"-\", \"FEBRUARI\"], [505, \"SULAWESI BARAT\", \"MAMUJU TENGAH\", \"BUDONG-BUDONG\", \"BABANA\", \"POSKESDES LEMBAH HARAPAN\", 760600302, \"Sul\", \"760\", \"Karondang\", \"NA\", \"Bidan\", \"R/R\", \"-\", \"FEBRUARI\"], [506, \"SULAWESI BARAT\", \"MAMUJU TENGAH\", \"BUDONG-BUDONG\", \"KIRE\", \"PUSTU RANTE KOMBILING\", 760600304, \"Nur\", \"NA\", \"NA\", \"NA\", \"Bidan\", \"R/R\", \"-\", \"FEBRUARI\"], [507, \"SULAWESI BARAT\", \"MAMUJU TENGAH\", \"BUDONG-BUDONG\", \"KIRE\", \"PUSTU RANTE KOMBILING\", 760600304, \"Nur\", \"999\", \"dusun rantekombiling\", \"082293977583\", \"Bidan\", \"Sertifikat Kompetensi IUD/Implan\", \"-\", \"FEBRUARI\"], [508, \"SULAWESI BARAT\", \"MAMUJU TENGAH\", \"BUDONG-BUDONG\", \"LUMU\", \"PUSTU LUMU\", 760600305, \"Zam\", \"760\", \"Lumu\", \"085255273059\", \"Bidan\", \"R/R\", \"-\", \"FEBRUARI\"], [509, \"SULAWESI BARAT\", \"MAMUJU TENGAH\", \"BUDONG-BUDONG\", \"LUMU\", \"PUSTU LUMU\", 760600305, \"Asr\", \"760\", \"Lumu\", \"085394000580\", \"Bidan\", \"R/R\", \"-\", \"FEBRUARI\"], [510, \"SULAWESI BARAT\", \"MAMUJU TENGAH\", \"BUDONG-BUDONG\", \"LUMU\", \"PUSTU LUMU\", 760600305, \"Sat\", \"760\", \"Lumu\", \"085299996412\", \"Bidan\", \"R/R\", \"-\", \"FEBRUARI\"], [511, \"SULAWESI BARAT\", \"MAMUJU TENGAH\", \"BUDONG-BUDONG\", \"LUMU\", \"PUSTU LUMU\", 760600305, \"Asn\", \"760\", \"Lumu\", \"082338051585\", \"Bidan\", \"R/R\", \"-\", \"FEBRUARI\"], [512, \"SULAWESI BARAT\", \"MAMUJU TENGAH\", \"BUDONG-BUDONG\", \"LUMU\", \"PUSTU LUMU\", 760600305, \"nur\", \"760\", \"Desa lumu\", \"085399667049\", \"Bidan\", \"R/R\", \"-\", \"FEBRUARI\"], [513, \"SULAWESI BARAT\", \"MAMUJU TENGAH\", \"BUDONG-BUDONG\", \"KIRE\", \"pustu kire\", 760600306, \"arf\", \"000\", \"NA\", \"NA\", \"Bidan\", \"R/R\", \"-\", \"FEBRUARI\"], [514, \"SULAWESI BARAT\", \"MAMUJU TENGAH\", \"BUDONG-BUDONG\", \"SALOGATTA\", \"Puskesmas Salugatta\", 7606004, \"Hj \", \"760\", \"Salugatta\", \"082299711916\", \"Bidan\", \"IUD/IMPLAN,KIP/Konseling,R/R\", \"-\", \"FEBRUARI\"], [515, \"SULAWESI BARAT\", \"MAMUJU TENGAH\", \"BUDONG-BUDONG\", \"SALOGATTA\", \"Puskesmas Salugatta\", 7606004, \"Has\", \"760\", \"Salugatta\", \"082187198200\", \"Bidan\", \"IUD/IMPLAN,R/R\", \"-\", \"FEBRUARI\"], [516, \"SULAWESI BARAT\", \"MAMUJU TENGAH\", \"BUDONG-BUDONG\", \"SALOGATTA\", \"Puskesmas Salugatta\", 7606004, \"Evi\", \"760\", \"Salugatta\", \"082187097328\", \"Bidan\", \"IUD/IMPLAN,KIP/Konseling,R/R\", \"-\", \"FEBRUARI\"], [517, \"SULAWESI BARAT\", \"MAMUJU TENGAH\", \"BUDONG-BUDONG\", \"SALOGATTA\", \"Puskesmas Salugatta\", 7606004, \"Met\", \"731\", \"Salugatta\", \"NA\", \"Bidan\", \"Belum Terlatih\", \"-\", \"FEBRUARI\"], [518, \"SULAWESI BARAT\", \"MAMUJU TENGAH\", \"BUDONG-BUDONG\", \"SALOGATTA\", \"Puskesmas Salugatta\", 7606004, \"Ang\", \"760\", \"Salugatta\", \"NA\", \"Bidan\", \"Belum Terlatih\", \"-\", \"FEBRUARI\"], [519, \"SULAWESI BARAT\", \"MAMUJU TENGAH\", \"BUDONG-BUDONG\", \"SALOGATTA\", \"Puskesmas Salugatta\", 7606004, \"And\", \"760\", \"Salugatta\", \"081242298049\", \"Bidan\", \"Belum Terlatih\", \"-\", \"FEBRUARI\"], [520, \"SULAWESI BARAT\", \"MAMUJU TENGAH\", \"BUDONG-BUDONG\", \"SALOGATTA\", \"Puskesmas Salugatta\", 7606004, \"Sul\", \"760\", \"Salugatta\", \"082299477231\", \"Bidan\", \"Belum Terlatih\", \"-\", \"FEBRUARI\"], [521, \"SULAWESI BARAT\", \"MAMUJU TENGAH\", \"BUDONG-BUDONG\", \"SALOGATTA\", \"Puskesmas Salugatta\", 7606004, \"Ita\", \"730\", \"Salugatta\", \"081342562989\", \"Bidan\", \"IUD/IMPLAN\", \"-\", \"FEBRUARI\"], [522, \"SULAWESI BARAT\", \"MAMUJU TENGAH\", \"BUDONG-BUDONG\", \"SALOGATTA\", \"Puskesmas Salugatta\", 7606004, \"Nur\", \"760\", \"Salugatta\", \"082296028525\", \"Bidan\", \"Belum Terlatih\", \"-\", \"FEBRUARI\"], [523, \"SULAWESI BARAT\", \"MAMUJU TENGAH\", \"BUDONG-BUDONG\", \"SALOGATTA\", \"Puskesmas Salugatta\", 7606004, \"NI \", \"760\", \"Barakkang\", \"NA\", \"Bidan\", \"Belum Terlatih\", \"-\", \"FEBRUARI\"], [524, \"SULAWESI BARAT\", \"MAMUJU TENGAH\", \"BUDONG-BUDONG\", \"SALOGATTA\", \"Puskesmas Salugatta\", 7606004, \"ASN\", \"760\", \"Tinali\", \"NA\", \"Bidan\", \"IUD/IMPLAN\", \"-\", \"FEBRUARI\"], [525, \"SULAWESI BARAT\", \"MAMUJU TENGAH\", \"BUDONG-BUDONG\", \"SALOGATTA\", \"Puskesmas Salugatta\", 7606004, \"Est\", \"760\", \"Tobadak\", \"NA\", \"Bidan\", \"Belum Terlatih\", \"-\", \"FEBRUARI\"], [526, \"SULAWESI BARAT\", \"MAMUJU TENGAH\", \"BUDONG-BUDONG\", \"SALOGATTA\", \"Puskesmas Salugatta\", 7606004, \"irw\", \"000\", \"Salumanurung\", \"NA\", \"Bidan\", \"Belum Terlatih\", \"-\", \"FEBRUARI\"], [527, \"SULAWESI BARAT\", \"MAMUJU TENGAH\", \"BUDONG-BUDONG\", \"SALOGATTA\", \"pustu salugatta\", 760600401, \"Nur\", \"760\", \"salugatta\", \"NA\", \"Bidan\", \"Belum Terlatih\", \"-\", \"FEBRUARI\"], [528, \"SULAWESI BARAT\", \"MAMUJU TENGAH\", \"BUDONG-BUDONG\", \"SALOGATTA\", \"PKD KM 10\", 760600402, \"Nas\", \"760\", \"KM.10\", \"NA\", \"Bidan\", \"Belum Terlatih\", \"-\", \"FEBRUARI\"], [529, \"SULAWESI BARAT\", \"MAMUJU TENGAH\", \"BUDONG-BUDONG\", \"SALOGATTA\", \"PKD KM 10\", 760600402, \"AND\", \"731\", \"BOJO\", \"NA\", \"Bidan\", \"IUD/IMPLAN\", \"-\", \"FEBRUARI\"], [530, \"SULAWESI BARAT\", \"MAMUJU TENGAH\", \"BUDONG-BUDONG\", \"TINALI\", \"Pustu Tinali\", 760600403, \"Irm\", \"760\", \"Tinali\", \"NA\", \"Bidan\", \"Belum Terlatih\", \"-\", \"FEBRUARI\"], [531, \"SULAWESI BARAT\", \"MAMUJU TENGAH\", \"BUDONG-BUDONG\", \"TINALI\", \"Pustu Tinali\", 760600403, \"MET\", \"999\", \"SALOGATTA\", \"085342689906\", \"Bidan\", \"Belum Terlatih\", \"-\", \"FEBRUARI\"], [532, \"SULAWESI BARAT\", \"MAMUJU TENGAH\", \"BUDONG-BUDONG\", \"BARAKKANG\", \"pustu barakkang\", 760600404, \"Ilu\", \"760\", \"Barakang\", \"NA\", \"Bidan\", \"R/R\", \"-\", \"FEBRUARI\"], [533, \"SULAWESI BARAT\", \"MAMUJU TENGAH\", \"BUDONG-BUDONG\", \"PONTANAKAYANG\", \"pustu pontanakayyang\", 760600405, \"Tin\", \"760\", \"NA\", \"NA\", \"Bidan\", \"IUD/IMPLAN\", \"-\", \"FEBRUARI\"], [534, \"SULAWESI BARAT\", \"MAMUJU TENGAH\", \"BUDONG-BUDONG\", \"PONTANAKAYANG\", \"pustu pontanakayyang\", 760600405, \"Mar\", \"760\", \"PONTANAKAYANG\", \"NA\", \"Bidan\", \"Belum Terlatih\", \"-\", \"FEBRUARI\"], [535, \"SULAWESI BARAT\", \"MAMUJU TENGAH\", \"BUDONG-BUDONG\", \"LEMBAH HADA\", \"poskesdes lembah hada\", 760600406, \"SAE\", \"760\", \"LEMBAH HADA\", \"085325660623\", \"Bidan\", \"Belum Terlatih\", \"-\", \"FEBRUARI\"], [536, \"SULAWESI BARAT\", \"MAMUJU TENGAH\", \"BUDONG-BUDONG\", \"BOJO\", \"PUSTU BOJO\", 760600407, \"YUL\", \"760\", \"Bojo\", \"085341265838\", \"Bidan\", \"Belum Terlatih\", \"-\", \"FEBRUARI\"], [537, \"SULAWESI BARAT\", \"MAMUJU TENGAH\", \"BUDONG-BUDONG\", \"BOJO\", \"POSKESDES RAWA INDAH\", 760600408, \"Ris\", \"760\", \"Rawa indah\", \"NA\", \"Bidan\", \"Belum Terlatih\", \"-\", \"FEBRUARI\"], [538, \"SULAWESI BARAT\", \"MAMUJU TENGAH\", \"BUDONG-BUDONG\", \"PASAPA\", \"pustu pasapa\", 760600409, \"MAR\", \"760\", \"Pasapa\", \"082193567489\", \"Bidan\", \"Belum Terlatih\", \"-\", \"FEBRUARI\"], [539, \"SULAWESI BARAT\", \"MAMUJU TENGAH\", \"BUDONG-BUDONG\", \"SALUMANURUNG\", \"PUSTU SALU MANURUNG\", 760600410, \"Sur\", \"760\", \"salumanurung\", \"085334424217\", \"Bidan\", \"Belum Terlatih\", \"-\", \"FEBRUARI\"], [540, \"SULAWESI BARAT\", \"MAMUJU TENGAH\", \"BUDONG-BUDONG\", \"PASAPA\", \"PUSTU RANTE MARIO\", 760600411, \"LAO\", \"760\", \"rante mario\", \"NA\", \"Bidan\", \"Belum Terlatih\", \"-\", \"FEBRUARI\"], [541, \"SULAWESI BARAT\", \"MAMUJU TENGAH\", \"TOBADAK\", \"MAHAHE\", \"Puskesmas Tobadak\", 7606005, \"IRM\", \"760\", \"Desa Mahahe, Kec.Tobadak\", \"085299924998\", \"Bidan\", \"IUD/IMPLAN,R/R,Sertifikat Kompetensi IUD/Implan\", \"-\", \"FEBRUARI\"], [542, \"SULAWESI BARAT\", \"MAMUJU TENGAH\", \"TOBADAK\", \"MAHAHE\", \"Puskesmas Tobadak\", 7606005, \"ERN\", \"760\", \"Desa Sulobaja\", \"082348074299\", \"Bidan\", \"IUD/IMPLAN,R/R,Sertifikat Kompetensi IUD/Implan\", \"-\", \"FEBRUARI\"], [543, \"SULAWESI BARAT\", \"MAMUJU TENGAH\", \"TOBADAK\", \"MAHAHE\", \"Puskesmas Tobadak\", 7606005, \"HES\", \"737\", \"Desa Mahahe\", \"085397447594\", \"Bidan\", \"Belum Terlatih\", \"-\", \"FEBRUARI\"], [544, \"SULAWESI BARAT\", \"MAMUJU TENGAH\", \"TOBADAK\", \"MAHAHE\", \"Puskesmas Tobadak\", 7606005, \"ALM\", \"999\", \"Desa Sulobaja\", \"082193750285\", \"Bidan\", \"Belum Terlatih\", \"-\", \"FEBRUARI\"], [545, \"SULAWESI BARAT\", \"MAMUJU TENGAH\", \"TOBADAK\", \"MAHAHE\", \"Puskesmas Tobadak\", 7606005, \"IRM\", \"760\", \"Desa mahahe\", \"085340586546\", \"Bidan\", \"Belum Terlatih\", \"-\", \"FEBRUARI\"], [546, \"SULAWESI BARAT\", \"MAMUJU TENGAH\", \"TOBADAK\", \"TOBADAK\", \"PUSTU TOBADAK\", 760600501, \"NUR\", \"760\", \"TOBADAK\", \"NA\", \"Bidan\", \"IUD/IMPLAN,R/R\", \"-\", \"FEBRUARI\"], [547, \"SULAWESI BARAT\", \"MAMUJU TENGAH\", \"TOBADAK\", \"TOBADAK\", \"PUSTU TOBADAK\", 760600501, \"IKE\", \"760\", \"NA\", \"NA\", \"Perawat\", \"R/R\", \"-\", \"FEBRUARI\"], [548, \"SULAWESI BARAT\", \"MAMUJU TENGAH\", \"TOBADAK\", \"TOBADAK\", \"PUSTU TOBADAK\", 760600501, \"Luh\", \"760\", \"Tobadak\", \"085394386760\", \"Bidan\", \"Belum Terlatih\", \"-\", \"FEBRUARI\"], [549, \"SULAWESI BARAT\", \"MAMUJU TENGAH\", \"TOBADAK\", \"PALONGAAN\", \"PUSTU POLONGAAN\", 760600502, \"Nug\", \"730\", \"Desa Palongaan\", \"NA\", \"Perawat\", \"R/R\", \"-\", \"FEBRUARI\"], [550, \"SULAWESI BARAT\", \"MAMUJU TENGAH\", \"TOBADAK\", \"PALONGAAN\", \"PUSTU POLONGAAN\", 760600502, \"Nur\", \"760\", \"des PALONGAAN\", \"NA\", \"Bidan\", \"R/R\", \"-\", \"FEBRUARI\"], [551, \"SULAWESI BARAT\", \"MAMUJU TENGAH\", \"TOBADAK\", \"PALONGAAN\", \"PUSTU POLONGAAN\", 760600502, \"Man\", \"760\", \"Desa Palongaan\", \"085340778846\", \"Bidan\", \"IUD/IMPLAN\", \"-\", \"FEBRUARI\"], [552, \"SULAWESI BARAT\", \"MAMUJU TENGAH\", \"TOBADAK\", \"SALOBAJA\", \"PUSTU SULOBAJA\", 760600504, \"FIR\", \"730\", \"dusun bunga melati\", \"085215832083\", \"Bidan\", \"IUD/IMPLAN,Sertifikat Kompetensi IUD/Implan,Belum Terlatih\", \"-\", \"FEBRUARI\"], [553, \"SULAWESI BARAT\", \"MAMUJU TENGAH\", \"TOBADAK\", \"SALOBAJA\", \"PUSTU SULOBAJA\", 760600504, \"MAR\", \"760\", \"jln kamboja\", \"082292462990\", \"Bidan\", \"IUD/IMPLAN,Sertifikat Kompetensi IUD/Implan\", \"-\", \"FEBRUARI\"], [554, \"SULAWESI BARAT\", \"MAMUJU TENGAH\", \"TOBADAK\", \"BAMBADARU\", \"PUSTU BAMBADARU\", 760600505, \"Rat\", \"730\", \"Dusun Tobadak Desa Bambadaru\", \"085342461802\", \"Bidan\", \"Belum Terlatih\", \"-\", \"FEBRUARI\"], [555, \"SULAWESI BARAT\", \"MAMUJU TENGAH\", \"TOBADAK\", \"BAMBADARU\", \"PUSTU BAMBADARU\", 760600505, \"HER\", \"760\", \"Desa Sulobaja\", \"082188720036\", \"Bidan\", \"IUD/IMPLAN\", \"-\", \"FEBRUARI\"], [556, \"SULAWESI BARAT\", \"MAMUJU TENGAH\", \"TOBADAK\", \"BAMBADARU\", \"PUSTU BAMBADARU\", 760600505, \"AND\", \"737\", \"DESA SULOBAJA\", \"NA\", \"Perawat\", \"Belum Terlatih\", \"-\", \"FEBRUARI\"], [557, \"SULAWESI BARAT\", \"MAMUJU TENGAH\", \"TOBADAK\", \"PALONGAAN\", \"POSKESDES POLONGAAN\", 760600507, \"SEL\", \"NA\", \"NA\", \"NA\", \"Bidan\", \"R/R\", \"-\", \"FEBRUARI\"], [558, \"SULAWESI BARAT\", \"MAMUJU TENGAH\", \"TOBADAK\", \"BAMBADARU\", \"POSKESDES PATALASSANG\", 760600508, \"SAR\", \"760\", \"Desa Sulobaja\", \"085399666883\", \"Bidan\", \"R/R\", \"-\", \"FEBRUARI\"], [559, \"SULAWESI BARAT\", \"MAMUJU TENGAH\", \"TOBADAK\", \"SALOADAK\", \"Puskesmas Saloadak\", 7606006, \"DIA\", \"760\", \"Tobadak 2\", \"082187768108\", \"Bidan\", \"Belum Terlatih\", \"-\", \"FEBRUARI\"], [560, \"SULAWESI BARAT\", \"MAMUJU TENGAH\", \"TOBADAK\", \"SALOADAK\", \"Puskesmas Saloadak\", 7606006, \"Sri\", \"760\", \"Saloadak\", \"082298772691\", \"Bidan\", \"Belum Terlatih\", \"-\", \"FEBRUARI\"], [561, \"SULAWESI BARAT\", \"MAMUJU TENGAH\", \"TOBADAK\", \"SALOADAK\", \"Puskesmas Saloadak\", 7606006, \"Sin\", \"731\", \"Dsn Girimulyo,Desa Saloadak\", \"082246045096\", \"Bidan\", \"Belum Terlatih\", \"-\", \"FEBRUARI\"], [562, \"SULAWESI BARAT\", \"MAMUJU TENGAH\", \"TOBADAK\", \"SALOADAK\", \"Puskesmas Saloadak\", 7606006, \"Irm\", \"760\", \"Desa saloadak\", \"085145929395\", \"Bidan\", \"IUD/IMPLAN,KIP/Konseling,Sertifikat Kompetensi IUD/Implan\", \"-\", \"FEBRUARI\"], [563, \"SULAWESI BARAT\", \"MAMUJU TENGAH\", \"TOBADAK\", \"SALOADAK\", \"poskesdes tawaro\", 760600601, \"Eld\", \"760\", \"Dsn Tawaro,Desa Saloadak\", \"085243019708\", \"Bidan\", \"Belum Terlatih\", \"-\", \"FEBRUARI\"], [564, \"SULAWESI BARAT\", \"MAMUJU TENGAH\", \"TOBADAK\", \"SALOADAK\", \"poskesdes tawaro\", 760600601, \"Eld\", \"999\", \"Dsn Tawaro,Desa Saloadak\", \"085243019708\", \"Bidan\", \"Belum Terlatih\", \"-\", \"FEBRUARI\"], [565, \"SULAWESI BARAT\", \"MAMUJU TENGAH\", \"TOBADAK\", \"SEJATI\", \"pustu sejati\", 760600602, \"Suk\", \"760\", \"Dsn Timor Oan Namkari\", \"082195934910\", \"Bidan\", \"Belum Terlatih\", \"-\", \"FEBRUARI\"], [566, \"SULAWESI BARAT\", \"MAMUJU TENGAH\", \"TOBADAK\", \"SEJATI\", \"pustu sejati\", 760600602, \"Sej\", \"760\", \"Dsn Timor Oan Dame\", \"082347513523\", \"Perawat\", \"Belum Terlatih\", \"-\", \"FEBRUARI\"], [567, \"SULAWESI BARAT\", \"MAMUJU TENGAH\", \"TOBADAK\", \"SALOADAK\", \"PUSTU RAWA MAKMUR\", 760600603, \"HER\", \"760\", \"Dusun Rawa Makmur\", \"082259930644\", \"Bidan\", \"IUD/IMPLAN,R/R\", \"-\", \"FEBRUARI\"], [568, \"SULAWESI BARAT\", \"MAMUJU TENGAH\", \"TOBADAK\", \"SALOADAK\", \"PUSTU RAWA MAKMUR\", 760600603, \"ERM\", \"760\", \"Saloadak\", \"085397627481\", \"Perawat\", \"Belum Terlatih\", \"-\", \"FEBRUARI\"], [569, \"SULAWESI BARAT\", \"MAMUJU TENGAH\", \"TOPOYO\", \"TOPOYO\", \"PUSKESMAS TOPOYO\", 7606007, \"Hj.\", \"720\", \"Desa Topoyo\", \"NA\", \"Bidan\", \"IUD/IMPLAN,KIP/Konseling\", \"-\", \"FEBRUARI\"], [570, \"SULAWESI BARAT\", \"MAMUJU TENGAH\", \"TOPOYO\", \"TOPOYO\", \"PUSKESMAS TOPOYO\", 7606007, \"Nur\", \"731\", \"Desa Topoyo\", \"NA\", \"Bidan\", \"Belum Terlatih\", \"-\", \"FEBRUARI\"], [571, \"SULAWESI BARAT\", \"MAMUJU TENGAH\", \"TOPOYO\", \"TOPOYO\", \"PUSKESMAS TOPOYO\", 7606007, \"Wah\", \"760\", \"Desa Topoyo\", \"NA\", \"Bidan\", \"IUD/IMPLAN\", \"-\", \"FEBRUARI\"], [572, \"SULAWESI BARAT\", \"MAMUJU TENGAH\", \"TOPOYO\", \"TOPOYO\", \"PUSKESMAS TOPOYO\", 7606007, \"Mar\", \"760\", \"Desa Topoyo\", \"NA\", \"Bidan\", \"Belum Terlatih\", \"-\", \"FEBRUARI\"], [573, \"SULAWESI BARAT\", \"MAMUJU TENGAH\", \"TOPOYO\", \"TOPOYO\", \"PUSKESMAS TOPOYO\", 7606007, \"And\", \"731\", \"Desa Topoyo\", \"NA\", \"Bidan\", \"Belum Terlatih\", \"-\", \"FEBRUARI\"], [574, \"SULAWESI BARAT\", \"MAMUJU TENGAH\", \"TOPOYO\", \"TOPOYO\", \"PUSKESMAS TOPOYO\", 7606007, \"Irm\", \"760\", \"Dusun Benteng Desa Tobadak\", \"NA\", \"Bidan\", \"Belum Terlatih\", \"-\", \"FEBRUARI\"], [575, \"SULAWESI BARAT\", \"MAMUJU TENGAH\", \"TOPOYO\", \"TOPOYO\", \"PUSKESMAS TOPOYO\", 7606007, \"Ism\", \"760\", \"Dusun Tallungallo Desa Tobadak\", \"NA\", \"Bidan\", \"Belum Terlatih\", \"-\", \"FEBRUARI\"], [576, \"SULAWESI BARAT\", \"MAMUJU TENGAH\", \"TOPOYO\", \"TOPOYO\", \"PUSKESMAS TOPOYO\", 7606007, \"Hij\", \"760\", \"Desa Topoyo\", \"NA\", \"Bidan\", \"IUD/IMPLAN\", \"-\", \"FEBRUARI\"], [577, \"SULAWESI BARAT\", \"MAMUJU TENGAH\", \"TOPOYO\", \"TOPOYO\", \"PUSKESMAS TOPOYO\", 7606007, \"Nur\", \"760\", \"Desa Topoyo\", \"NA\", \"Bidan\", \"Belum Terlatih\", \"-\", \"FEBRUARI\"], [578, \"SULAWESI BARAT\", \"MAMUJU TENGAH\", \"TOPOYO\", \"TOPOYO\", \"PUSKESMAS TOPOYO\", 7606007, \"Sar\", \"760\", \"Topoyo\", \"NA\", \"Bidan\", \"Belum Terlatih\", \"-\", \"FEBRUARI\"], [579, \"SULAWESI BARAT\", \"MAMUJU TENGAH\", \"TOPOYO\", \"TOPOYO\", \"PUSKESMAS TOPOYO\", 7606007, \"Irm\", \"760\", \"Topoyo\", \"NA\", \"Bidan\", \"IUD/IMPLAN\", \"-\", \"FEBRUARI\"], [580, \"SULAWESI BARAT\", \"MAMUJU TENGAH\", \"TOPOYO\", \"TOPOYO\", \"PUSKESMAS TOPOYO\", 7606007, \"Pah\", \"760\", \"Desa Topoyo\", \"NA\", \"Bidan\", \"Belum Terlatih\", \"-\", \"FEBRUARI\"], [581, \"SULAWESI BARAT\", \"MAMUJU TENGAH\", \"TOPOYO\", \"TOPOYO\", \"PUSKESMAS TOPOYO\", 7606007, \"Rid\", \"760\", \"Topoyo\", \"082398537660\", \"Bidan\", \"IUD/IMPLAN\", \"-\", \"FEBRUARI\"], [582, \"SULAWESI BARAT\", \"MAMUJU TENGAH\", \"TOPOYO\", \"TOPOYO\", \"PUSKESMAS TOPOYO\", 7606007, \"Sur\", \"727\", \"Topoyo\", \"081357669972\", \"Bidan\", \"Belum Terlatih\", \"-\", \"FEBRUARI\"], [583, \"SULAWESI BARAT\", \"MAMUJU TENGAH\", \"TOPOYO\", \"TOPOYO\", \"PUSKESMAS TOPOYO\", 7606007, \"NUR\", \"760\", \"BAYOR\", \"085299630796\", \"Bidan\", \"Belum Terlatih\", \"-\", \"FEBRUARI\"], [584, \"SULAWESI BARAT\", \"MAMUJU TENGAH\", \"TOPOYO\", \"TOPOYO\", \"PUSKESMAS TOPOYO\", 7606007, \"Hij\", \"999\", \"Bayor\", \"NA\", \"Bidan\", \"IUD/IMPLAN\", \"-\", \"FEBRUARI\"], [585, \"SULAWESI BARAT\", \"MAMUJU TENGAH\", \"TOPOYO\", \"KABUBU\", \"PUSTU KABUBU\", 760600702, \"KHU\", \"760\", \"NA\", \"NA\", \"Bidan\", \"R/R\", \"-\", \"FEBRUARI\"], [586, \"SULAWESI BARAT\", \"MAMUJU TENGAH\", \"TOPOYO\", \"WAEPUTEH\", \"PUSTU WAEPUTEH\", 760600703, \"SUR\", \"760\", \"Desa Waeputeh\", \"NA\", \"Bidan\", \"Belum Terlatih\", \"-\", \"FEBRUARI\"], [587, \"SULAWESI BARAT\"