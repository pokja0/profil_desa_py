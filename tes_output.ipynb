{
 "cells": [
  {
   "cell_type": "code",
   "execution_count": 8,
   "metadata": {},
   "outputs": [],
   "source": [
    "import polars as pl\n",
    "from itables import show"
   ]
  },
  {
   "cell_type": "code",
   "execution_count": 2,
   "metadata": {},
   "outputs": [],
   "source": [
    "filter_kabupaten = [\"PASANGKAYU\", \"PASANGKAYU\", \"MAMUJU\", \"MAMUJU\"]\n",
    "filter_kecamatan = [\"PASANGKAYU\", \"PASANGKAYU\", \"PAPALANG\", \"PAPALANG\"]\n",
    "filter_desa = [\"AKO\", \"GUNUNG SARI\", \"BODA-BODA\", \"SISANGO\"]\n",
    "filter_bulan = ['JANUARI']"
   ]
  },
  {
   "cell_type": "markdown",
   "metadata": {},
   "source": [
    "# Faskes"
   ]
  },
  {
   "cell_type": "code",
   "execution_count": 3,
   "metadata": {},
   "outputs": [
    {
     "data": {
      "text/html": [
       "<table id=\"itables_bb6b9929_bf65_4369_ba07_b18169f0f5e6\" class=\"display nowrap\" data-quarto-disable-processing=\"true\" style=\"table-layout:auto;width:auto;margin:auto;caption-side:bottom\">\n",
       "<thead>\n",
       "    <tr style=\"text-align: right;\">\n",
       "      \n",
       "      <th>NO</th>\n",
       "      <th>PROVINSI</th>\n",
       "      <th>KABUPATEN</th>\n",
       "      <th>KECAMATAN</th>\n",
       "      <th>KELURAHAN</th>\n",
       "      <th>NAMA FASKES</th>\n",
       "      <th>NO REGISTRASI</th>\n",
       "      <th>NAMA BIDAN</th>\n",
       "      <th>NIK BIDAN</th>\n",
       "      <th>ALAMAT</th>\n",
       "      <th>NO HP</th>\n",
       "      <th>PROFESI</th>\n",
       "      <th>PELATIHAN</th>\n",
       "      <th>STATUS UPDATE</th>\n",
       "      <th>BULAN</th>\n",
       "    </tr>\n",
       "  </thead><tbody><tr>\n",
       "<td style=\"vertical-align:middle; text-align:left\">\n",
       "<a href=https://mwouts.github.io/itables/><svg class=\"main-svg\" xmlns=\"http://www.w3.org/2000/svg\" xmlns:xlink=\"http://www.w3.org/1999/xlink\"\n",
       "width=\"64\" viewBox=\"0 0 500 400\" style=\"font-family: 'Droid Sans', sans-serif;\">\n",
       "    <g style=\"fill:#d9d7fc\">\n",
       "        <path d=\"M100,400H500V357H100Z\" />\n",
       "        <path d=\"M100,300H400V257H100Z\" />\n",
       "        <path d=\"M0,200H400V157H0Z\" />\n",
       "        <path d=\"M100,100H500V57H100Z\" />\n",
       "        <path d=\"M100,350H500V307H100Z\" />\n",
       "        <path d=\"M100,250H400V207H100Z\" />\n",
       "        <path d=\"M0,150H400V107H0Z\" />\n",
       "        <path d=\"M100,50H500V7H100Z\" />\n",
       "    </g>\n",
       "    <g style=\"fill:#1a1366;stroke:#1a1366;\">\n",
       "   <rect x=\"100\" y=\"7\" width=\"400\" height=\"43\">\n",
       "    <animate\n",
       "      attributeName=\"width\"\n",
       "      values=\"0;400;0\"\n",
       "      dur=\"5s\"\n",
       "      repeatCount=\"indefinite\" />\n",
       "      <animate\n",
       "      attributeName=\"x\"\n",
       "      values=\"100;100;500\"\n",
       "      dur=\"5s\"\n",
       "      repeatCount=\"indefinite\" />\n",
       "  </rect>\n",
       "        <rect x=\"0\" y=\"107\" width=\"400\" height=\"43\">\n",
       "    <animate\n",
       "      attributeName=\"width\"\n",
       "      values=\"0;400;0\"\n",
       "      dur=\"3.5s\"\n",
       "      repeatCount=\"indefinite\" />\n",
       "    <animate\n",
       "      attributeName=\"x\"\n",
       "      values=\"0;0;400\"\n",
       "      dur=\"3.5s\"\n",
       "      repeatCount=\"indefinite\" />\n",
       "  </rect>\n",
       "        <rect x=\"100\" y=\"207\" width=\"300\" height=\"43\">\n",
       "    <animate\n",
       "      attributeName=\"width\"\n",
       "      values=\"0;300;0\"\n",
       "      dur=\"3s\"\n",
       "      repeatCount=\"indefinite\" />\n",
       "    <animate\n",
       "      attributeName=\"x\"\n",
       "      values=\"100;100;400\"\n",
       "      dur=\"3s\"\n",
       "      repeatCount=\"indefinite\" />\n",
       "  </rect>\n",
       "        <rect x=\"100\" y=\"307\" width=\"400\" height=\"43\">\n",
       "    <animate\n",
       "      attributeName=\"width\"\n",
       "      values=\"0;400;0\"\n",
       "      dur=\"4s\"\n",
       "      repeatCount=\"indefinite\" />\n",
       "      <animate\n",
       "      attributeName=\"x\"\n",
       "      values=\"100;100;500\"\n",
       "      dur=\"4s\"\n",
       "      repeatCount=\"indefinite\" />\n",
       "  </rect>\n",
       "        <g style=\"fill:transparent;stroke-width:8; stroke-linejoin:round\" rx=\"5\">\n",
       "            <g transform=\"translate(45 50) rotate(-45)\">\n",
       "                <circle r=\"33\" cx=\"0\" cy=\"0\" />\n",
       "                <rect x=\"-8\" y=\"32\" width=\"16\" height=\"30\" />\n",
       "            </g>\n",
       "\n",
       "            <g transform=\"translate(450 152)\">\n",
       "                <polyline points=\"-15,-20 -35,-20 -35,40 25,40 25,20\" />\n",
       "                <rect x=\"-15\" y=\"-40\" width=\"60\" height=\"60\" />\n",
       "            </g>\n",
       "\n",
       "            <g transform=\"translate(50 352)\">\n",
       "                <polygon points=\"-35,-5 0,-40 35,-5\" />\n",
       "                <polygon points=\"-35,10 0,45 35,10\" />\n",
       "            </g>\n",
       "\n",
       "            <g transform=\"translate(75 250)\">\n",
       "                <polyline points=\"-30,30 -60,0 -30,-30\" />\n",
       "                <polyline points=\"0,30 -30,0 0,-30\" />\n",
       "            </g>\n",
       "\n",
       "            <g transform=\"translate(425 250) rotate(180)\">\n",
       "                <polyline points=\"-30,30 -60,0 -30,-30\" />\n",
       "                <polyline points=\"0,30 -30,0 0,-30\" />\n",
       "            </g>\n",
       "        </g>\n",
       "    </g>\n",
       "</svg>\n",
       "</a>\n",
       "Loading ITables v2.2.5 from the internet...\n",
       "(need <a href=https://mwouts.github.io/itables/troubleshooting.html>help</a>?)</td>\n",
       "</tr></tbody>\n",
       "</table>\n",
       "<link href=\"https://www.unpkg.com/dt_for_itables@2.0.13/dt_bundle.css\" rel=\"stylesheet\">\n",
       "<script type=\"module\">\n",
       "    import {DataTable, jQuery as $} from 'https://www.unpkg.com/dt_for_itables@2.0.13/dt_bundle.js';\n",
       "\n",
       "    document.querySelectorAll(\"#itables_bb6b9929_bf65_4369_ba07_b18169f0f5e6:not(.dataTable)\").forEach(table => {\n",
       "        if (!(table instanceof HTMLTableElement))\n",
       "            return;\n",
       "\n",
       "        // Define the table data\n",
       "        const data = [[67, \"SULAWESI BARAT\", \"PASANGKAYU\", \"PASANGKAYU\", \"AKO\", \"Poskesdes Taranja\", 760100403, \"Irm\", \"760\", \"TARANJA\", \"081222391877\", \"Bidan\", \"R/R\", \"-\", \"JANUARI\"], [68, \"SULAWESI BARAT\", \"PASANGKAYU\", \"PASANGKAYU\", \"AKO\", \"Poskesdes Taranja\", 760100403, \"Har\", \"731\", \"BULU LANGA\", \"082187127491\", \"Bidan\", \"R/R\", \"-\", \"JANUARI\"], [80, \"SULAWESI BARAT\", \"PASANGKAYU\", \"PASANGKAYU\", \"GUNUNG SARI\", \"Polindes Bambamone\", 760100502, \"Ina\", \"760\", \"KELURAHAN MARTAJAYA\", \"082319310013\", \"Bidan\", \"IUD/IMPLAN,KIP/Konseling,R/R\", \"-\", \"JANUARI\"], [242, \"SULAWESI BARAT\", \"PASANGKAYU\", \"PASANGKAYU\", \"AKO\", \"RSUD Kabupaten Pasangkayu\", 7601016, \"dr.\", \"NA\", \"NA\", \"NA\", \"Dokter Bedah/Urologi\", \"Vasektomi\", \"-\", \"JANUARI\"], [243, \"SULAWESI BARAT\", \"PASANGKAYU\", \"PASANGKAYU\", \"AKO\", \"RSUD Kabupaten Pasangkayu\", 7601016, \"dr.\", \"999\", \"BUKIT HUSADA\", \"NA\", \"Dokter Kebidanan dan Kandungan\", \"Tubektomi\", \"-\", \"JANUARI\"], [244, \"SULAWESI BARAT\", \"PASANGKAYU\", \"PASANGKAYU\", \"AKO\", \"RSUD Kabupaten Pasangkayu\", 7601016, \"NUR\", \"760\", \"JLN. FATMAWATI\", \"081287886373\", \"Bidan\", \"IUD/IMPLAN,R/R\", \"-\", \"JANUARI\"], [245, \"SULAWESI BARAT\", \"PASANGKAYU\", \"PASANGKAYU\", \"AKO\", \"RSUD Kabupaten Pasangkayu\", 7601016, \"RAM\", \"760\", \"Jl. Sultan Hasanuddin\", \"085242390885\", \"Bidan\", \"IUD/IMPLAN\", \"-\", \"JANUARI\"], [246, \"SULAWESI BARAT\", \"PASANGKAYU\", \"PASANGKAYU\", \"AKO\", \"RSUD Kabupaten Pasangkayu\", 7601016, \"Had\", \"731\", \"Btn Gria Matra\", \"085255888350\", \"Bidan\", \"Belum Terlatih\", \"-\", \"JANUARI\"], [247, \"SULAWESI BARAT\", \"PASANGKAYU\", \"PASANGKAYU\", \"AKO\", \"RSUD Kabupaten Pasangkayu\", 7601016, \"MEL\", \"730\", \"Jl. Andi Pelang\", \"NA\", \"Bidan\", \"Belum Terlatih\", \"-\", \"JANUARI\"], [248, \"SULAWESI BARAT\", \"PASANGKAYU\", \"PASANGKAYU\", \"AKO\", \"RSUD Kabupaten Pasangkayu\", 7601016, \"ERM\", \"760\", \"Jl. P. Diponegoro\", \"085240747533\", \"Bidan\", \"Belum Terlatih\", \"-\", \"JANUARI\"], [249, \"SULAWESI BARAT\", \"PASANGKAYU\", \"PASANGKAYU\", \"GUNUNG SARI\", \"Poli Klinik Kebun PT. Pasangkayu\", 7601017, \"Sit\", \"NA\", \"NA\", \"NA\", \"Bidan\", \"IUD/IMPLAN\", \"-\", \"JANUARI\"], [250, \"SULAWESI BARAT\", \"PASANGKAYU\", \"PASANGKAYU\", \"GUNUNG SARI\", \"Poli Klinik Kebun PT. Pasangkayu\", 7601017, \"Sit\", \"999\", \"Perumahan Pt. Pasangkayu\", \"00000000\", \"Bidan\", \"IUD/IMPLAN\", \"-\", \"JANUARI\"], [251, \"SULAWESI BARAT\", \"PASANGKAYU\", \"PASANGKAYU\", \"GUNUNG SARI\", \"Poli Klinik Kebun PT. Pasangkayu\", 7601017, \"MAU\", \"999\", \"PT. PASANGKAYU\", \"085241238258\", \"Dokter Umum\", \"Belum Terlatih\", \"-\", \"JANUARI\"], [252, \"SULAWESI BARAT\", \"PASANGKAYU\", \"PASANGKAYU\", \"GUNUNG SARI\", \"Poli Klinik Kebun PT. Pasangkayu\", 7601017, \"SRI\", \"999\", \"PT. PASANGKAYU\", \"082187480874\", \"Perawat\", \"Belum Terlatih\", \"-\", \"JANUARI\"], [253, \"SULAWESI BARAT\", \"PASANGKAYU\", \"PASANGKAYU\", \"GUNUNG SARI\", \"Poli Klinik Kebun PT. Pasangkayu\", 7601017, \"KAS\", \"999\", \"PT. PASANGKAYU\", \"082196138187\", \"Perawat\", \"Belum Terlatih\", \"-\", \"JANUARI\"], [254, \"SULAWESI BARAT\", \"PASANGKAYU\", \"PASANGKAYU\", \"GUNUNG SARI\", \"Poli Klinik Kebun PT. Pasangkayu\", 7601017, \"RIA\", \"760\", \"PT. PASANGKAYU\", \"082213606334\", \"Bidan\", \"Belum Terlatih\", \"-\", \"JANUARI\"], [279, \"SULAWESI BARAT\", \"PASANGKAYU\", \"PASANGKAYU\", \"AKO\", \"Unit Kesehatan Karyawan TSL-TBL\", 7601054, \"dr.\", \"999\", \"PT. PASANGKAYU\", \"085241238258\", \"Dokter Umum\", \"Belum Terlatih\", \"-\", \"JANUARI\"], [280, \"SULAWESI BARAT\", \"PASANGKAYU\", \"PASANGKAYU\", \"AKO\", \"Unit Kesehatan Karyawan TSL-TBL\", 7601054, \"Sat\", \"760\", \"PT. TSL\", \"082290001156\", \"Bidan\", \"R/R\", \"-\", \"JANUARI\"], [281, \"SULAWESI BARAT\", \"PASANGKAYU\", \"PASANGKAYU\", \"AKO\", \"Unit Kesehatan Karyawan TSL-TBL\", 7601054, \"Ari\", \"760\", \"PT. TSL\", \"082193453347\", \"Bidan\", \"R/R\", \"-\", \"JANUARI\"], [487, \"SULAWESI BARAT\", \"MAMUJU\", \"PAPALANG\", \"BODA-BODA\", \"Poskesdes Boda-boda\", 760201203, \"Res\", \"760\", \"Dusun Rantekamase\", \"NA\", \"Bidan\", \"KIP/Konseling,R/R\", \"-\", \"JANUARI\"], [488, \"SULAWESI BARAT\", \"MAMUJU\", \"PAPALANG\", \"BODA-BODA\", \"Poskesdes Boda-boda\", 760201203, \"Des\", \"760\", \"Dusun Rantekamase\", \"NA\", \"Bidan\", \"Belum Terlatih\", \"-\", \"JANUARI\"], [489, \"SULAWESI BARAT\", \"MAMUJU\", \"PAPALANG\", \"SISANGO\", \"Puskesdes Sisango I/ Sisango Selatan\", 760201204, \"mar\", \"760\", \"Desa Boda Boda\", \"NA\", \"Bidan\", \"Belum Terlatih\", \"-\", \"JANUARI\"], [490, \"SULAWESI BARAT\", \"MAMUJU\", \"PAPALANG\", \"SISANGO\", \"Puskesdes Sisango I/ Sisango Selatan\", 760201204, \"Lid\", \"760\", \"Dusun Salomasa Utara\", \"NA\", \"Perawat\", \"Belum Terlatih\", \"-\", \"JANUARI\"], [491, \"SULAWESI BARAT\", \"MAMUJU\", \"PAPALANG\", \"SISANGO\", \"Puskesdes Sisango II/Sisango Utara\", 760201205, \"Rit\", \"737\", \"Dusun Sisango Utara\", \"NA\", \"Bidan\", \"Belum Terlatih\", \"-\", \"JANUARI\"]];\n",
       "\n",
       "        // Define the dt_args\n",
       "        let dt_args = {\"layout\": {\"topStart\": \"pageLength\", \"topEnd\": \"search\", \"bottomStart\": \"info\", \"bottomEnd\": \"paging\"}, \"order\": [], \"warn_on_selected_rows_not_rendered\": true};\n",
       "        dt_args[\"data\"] = data;\n",
       "\n",
       "        \n",
       "        new DataTable(table, dt_args);\n",
       "    });\n",
       "</script>\n"
      ],
      "text/plain": [
       "<IPython.core.display.HTML object>"
      ]
     },
     "metadata": {},
     "output_type": "display_data"
    }
   ],
   "source": [
    "faskes_sdm = pl.read_csv(\"data/data_faskes_siga.csv\")\n",
    "show(\n",
    "    faskes_sdm.filter(\n",
    "    pl.col(\"KABUPATEN\").is_in(filter_kabupaten),\n",
    "    pl.col(\"KECAMATAN\").is_in(filter_kecamatan),\n",
    "    pl.col(\"KELURAHAN\").is_in(filter_desa),\n",
    "    pl.col(\"BULAN\").is_in(filter_bulan)\n",
    ")\n",
    ")"
   ]
  },
  {
   "cell_type": "code",
   "execution_count": 4,
   "metadata": {},
   "outputs": [
    {
     "data": {
      "text/plain": [
       "8"
      ]
     },
     "execution_count": 4,
     "metadata": {},
     "output_type": "execute_result"
    }
   ],
   "source": [
    "faskes_sdm.filter(\n",
    "    pl.col(\"KABUPATEN\").is_in(filter_kabupaten),\n",
    "    pl.col(\"KECAMATAN\").is_in(filter_kecamatan),\n",
    "    pl.col(\"KELURAHAN\").is_in(filter_desa),\n",
    "    pl.col(\"BULAN\").is_in(filter_bulan)\n",
    ").select(pl.col(\"NO REGISTRASI\").n_unique()).item()"
   ]
  },
  {
   "cell_type": "code",
   "execution_count": 5,
   "metadata": {},
   "outputs": [
    {
     "data": {
      "text/plain": [
       "7"
      ]
     },
     "execution_count": 5,
     "metadata": {},
     "output_type": "execute_result"
    }
   ],
   "source": [
    "faskes_sdm.filter(\n",
    "    pl.col(\"KABUPATEN\").is_in(filter_kabupaten),\n",
    "    pl.col(\"KECAMATAN\").is_in(filter_kecamatan),\n",
    "    pl.col(\"KELURAHAN\").is_in(filter_desa),\n",
    "    pl.col(\"BULAN\").is_in(filter_bulan)\n",
    ").filter(\n",
    "    (pl.col(\"PELATIHAN\").str.contains(\"IUD\")) |\n",
    "    (pl.col(\"PELATIHAN\").str.contains(\"IMPLAN\")) |\n",
    "    (pl.col(\"PELATIHAN\").str.contains(\"Tubektomi\")) |\n",
    "    (pl.col(\"PELATIHAN\").str.contains(\"Vasektomi\"))\n",
    ").shape[0]"
   ]
  },
  {
   "cell_type": "code",
   "execution_count": 6,
   "metadata": {},
   "outputs": [
    {
     "name": "stdout",
     "output_type": "stream",
     "text": [
      "IUD/IMPLAN,Sertifikat Kompetensi IUD/Implan,Belum Terlatih\n",
      "IUD/IMPLAN\n",
      "IUD/IMPLAN,Belum Terlatih\n",
      "IUD/IMPLAN,Sertifikat Kompetensi IUD/Implan\n",
      "IUD/IMPLAN,R/R\n",
      "KIP/Konseling\n",
      "R/R,Sertifikat Kompetensi IUD/Implan\n",
      "Vasektomi\n",
      "IUD/IMPLAN,KIP/Konseling,Sertifikat Kompetensi IUD/Implan\n",
      "KIP/Konseling,R/R\n",
      "Sertifikat Kompetensi IUD/Implan\n",
      "IUD/IMPLAN,KIP/Konseling,R/R\n",
      "Belum Terlatih\n",
      "IUD/IMPLAN,R/R,Sertifikat Kompetensi IUD/Implan\n",
      "Tubektomi,KIP/Konseling,R/R\n",
      "IUD/IMPLAN,KIP/Konseling\n",
      "NA\n",
      "IUD/IMPLAN,Vasektomi,KIP/Konseling\n",
      "Tubektomi\n",
      "Tubektomi,KIP/Konseling\n",
      "R/R\n",
      "IUD/IMPLAN,KIP/Konseling,R/R,Sertifikat Kompetensi IUD/Implan\n",
      "Vasektomi,R/R\n",
      "KIP/Konseling,Sertifikat Kompetensi IUD/Implan\n"
     ]
    }
   ],
   "source": [
    "for i in faskes_sdm['PELATIHAN'].unique():\n",
    "    print(i)"
   ]
  },
  {
   "cell_type": "code",
   "execution_count": 7,
   "metadata": {},
   "outputs": [
    {
     "data": {
      "text/plain": [
       "4"
      ]
     },
     "execution_count": 7,
     "metadata": {},
     "output_type": "execute_result"
    }
   ],
   "source": [
    "df = pl.DataFrame({\n",
    "    \"PELATIHAN\": [\n",
    "        \"Pelatihan IUD dan IMPLAN\",\n",
    "        \"Pemasangan Tubektomi\",\n",
    "        \"Pelatihan KB Vasektomi\",\n",
    "        \"Pelatihan Dasar Kesehatan\",\n",
    "        \"Pengenalan Alat Kontrasepsi IUD\"\n",
    "    ]\n",
    "})\n",
    "\n",
    "# Filter baris yang mengandung salah satu dari teks tertentu\n",
    "df.filter(\n",
    "    (pl.col(\"PELATIHAN\").str.contains(\"IUD\")) |\n",
    "    (pl.col(\"PELATIHAN\").str.contains(\"IMPLAN\")) |\n",
    "    (pl.col(\"PELATIHAN\").str.contains(\"Tubektomi\")) |\n",
    "    (pl.col(\"PELATIHAN\").str.contains(\"Vasektomi\"))\n",
    ").shape[0]\n"
   ]
  },
  {
   "cell_type": "markdown",
   "metadata": {},
   "source": [
    "# KRS"
   ]
  },
  {
   "cell_type": "code",
   "execution_count": 21,
   "metadata": {},
   "outputs": [
    {
     "data": {
      "text/html": [
       "<div><style>\n",
       ".dataframe > thead > tr,\n",
       ".dataframe > tbody > tr {\n",
       "  text-align: right;\n",
       "  white-space: pre-wrap;\n",
       "}\n",
       "</style>\n",
       "<small>shape: (4, 15)</small><table border=\"1\" class=\"dataframe\"><thead><tr><th>PROVINSI</th><th>KABUPATEN</th><th>KECAMATAN</th><th>KELURAHAN</th><th>PUNYA BADUTA</th><th>PUNYA BALITA</th><th>PUS</th><th>PUS HAMIL</th><th>AIR MINUM</th><th>TEMPAT BUANG AIR</th><th>TERLALU MUDA</th><th>TERLALU TUA</th><th>TERLALU DEKAT</th><th>TERLALU BANYAK</th><th>KRS</th></tr><tr><td>str</td><td>str</td><td>str</td><td>str</td><td>i64</td><td>i64</td><td>i64</td><td>i64</td><td>i64</td><td>i64</td><td>i64</td><td>i64</td><td>i64</td><td>i64</td><td>i64</td></tr></thead><tbody><tr><td>&quot;SULAWESI BARAT&quot;</td><td>&quot;MAMUJU&quot;</td><td>&quot;PAPALANG&quot;</td><td>&quot;BODA-BODA&quot;</td><td>37</td><td>74</td><td>257</td><td>8</td><td>24</td><td>46</td><td>2</td><td>54</td><td>4</td><td>77</td><td>201</td></tr><tr><td>&quot;SULAWESI BARAT&quot;</td><td>&quot;MAMUJU&quot;</td><td>&quot;PAPALANG&quot;</td><td>&quot;SISANGO&quot;</td><td>24</td><td>30</td><td>146</td><td>7</td><td>23</td><td>4</td><td>2</td><td>33</td><td>0</td><td>34</td><td>108</td></tr><tr><td>&quot;SULAWESI BARAT&quot;</td><td>&quot;PASANGKAYU&quot;</td><td>&quot;PASANGKAYU&quot;</td><td>&quot;AKO&quot;</td><td>60</td><td>139</td><td>581</td><td>14</td><td>19</td><td>45</td><td>12</td><td>147</td><td>6</td><td>185</td><td>367</td></tr><tr><td>&quot;SULAWESI BARAT&quot;</td><td>&quot;PASANGKAYU&quot;</td><td>&quot;PASANGKAYU&quot;</td><td>&quot;GUNUNG SARI&quot;</td><td>18</td><td>122</td><td>675</td><td>2</td><td>75</td><td>1</td><td>10</td><td>166</td><td>2</td><td>172</td><td>477</td></tr></tbody></table></div>"
      ],
      "text/plain": [
       "shape: (4, 15)\n",
       "┌────────────┬────────────┬────────────┬────────────┬───┬────────────┬───────────┬───────────┬─────┐\n",
       "│ PROVINSI   ┆ KABUPATEN  ┆ KECAMATAN  ┆ KELURAHAN  ┆ … ┆ TERLALU    ┆ TERLALU   ┆ TERLALU   ┆ KRS │\n",
       "│ ---        ┆ ---        ┆ ---        ┆ ---        ┆   ┆ TUA        ┆ DEKAT     ┆ BANYAK    ┆ --- │\n",
       "│ str        ┆ str        ┆ str        ┆ str        ┆   ┆ ---        ┆ ---       ┆ ---       ┆ i64 │\n",
       "│            ┆            ┆            ┆            ┆   ┆ i64        ┆ i64       ┆ i64       ┆     │\n",
       "╞════════════╪════════════╪════════════╪════════════╪═══╪════════════╪═══════════╪═══════════╪═════╡\n",
       "│ SULAWESI   ┆ MAMUJU     ┆ PAPALANG   ┆ BODA-BODA  ┆ … ┆ 54         ┆ 4         ┆ 77        ┆ 201 │\n",
       "│ BARAT      ┆            ┆            ┆            ┆   ┆            ┆           ┆           ┆     │\n",
       "│ SULAWESI   ┆ MAMUJU     ┆ PAPALANG   ┆ SISANGO    ┆ … ┆ 33         ┆ 0         ┆ 34        ┆ 108 │\n",
       "│ BARAT      ┆            ┆            ┆            ┆   ┆            ┆           ┆           ┆     │\n",
       "│ SULAWESI   ┆ PASANGKAYU ┆ PASANGKAYU ┆ AKO        ┆ … ┆ 147        ┆ 6         ┆ 185       ┆ 367 │\n",
       "│ BARAT      ┆            ┆            ┆            ┆   ┆            ┆           ┆           ┆     │\n",
       "│ SULAWESI   ┆ PASANGKAYU ┆ PASANGKAYU ┆ GUNUNG     ┆ … ┆ 166        ┆ 2         ┆ 172       ┆ 477 │\n",
       "│ BARAT      ┆            ┆            ┆ SARI       ┆   ┆            ┆           ┆           ┆     │\n",
       "└────────────┴────────────┴────────────┴────────────┴───┴────────────┴───────────┴───────────┴─────┘"
      ]
     },
     "execution_count": 21,
     "metadata": {},
     "output_type": "execute_result"
    }
   ],
   "source": [
    "data_krs_verval = pl.read_csv(\"data/data_verval_krs_2024_sem1.csv\")\n",
    "data_krs_verval.filter(\n",
    "    pl.col(\"KABUPATEN\").is_in(filter_kabupaten),\n",
    "    pl.col(\"KECAMATAN\").is_in(filter_kecamatan),\n",
    "    pl.col(\"KELURAHAN\").is_in(filter_desa)\n",
    ")"
   ]
  },
  {
   "cell_type": "code",
   "execution_count": null,
   "metadata": {},
   "outputs": [
    {
     "data": {
      "text/plain": [
       "1153"
      ]
     },
     "execution_count": 22,
     "metadata": {},
     "output_type": "execute_result"
    }
   ],
   "source": [
    "data_krs_verval.filter(\n",
    "    pl.col(\"KABUPATEN\").is_in(filter_kabupaten),\n",
    "    pl.col(\"KECAMATAN\").is_in(filter_kecamatan),\n",
    "    pl.col(\"KELURAHAN\").is_in(filter_desa)\n",
    ").group_by(\n",
    "    'PROVINSI'\n",
    ").agg([\n",
    "    pl.col(\"KRS\").sum(),\n",
    "]).select(pl.col(\"KRS\")).item()"
   ]
  },
  {
   "cell_type": "code",
   "execution_count": 31,
   "metadata": {},
   "outputs": [],
   "source": [
    "sasaran_poktan = pl.read_csv(\"data/sasaran_poktan_gabung.csv\")"
   ]
  },
  {
   "cell_type": "code",
   "execution_count": 32,
   "metadata": {},
   "outputs": [
    {
     "data": {
      "text/plain": [
       "653"
      ]
     },
     "execution_count": 32,
     "metadata": {},
     "output_type": "execute_result"
    }
   ],
   "source": [
    "sasaran_poktan.filter(\n",
    "    pl.col(\"KABUPATEN\").is_in(filter_kabupaten),\n",
    "    pl.col(\"KECAMATAN\").is_in(filter_kecamatan),\n",
    "    pl.col(\"KELURAHAN\").is_in(filter_desa),\n",
    "    pl.col(\"BULAN\").is_in(filter_bulan)\n",
    ").group_by(\n",
    "    'PROVINSI'\n",
    ").agg([\n",
    "    pl.col(\"SASARAN BKB\").sum(),\n",
    "]).select(pl.col(\"SASARAN BKB\")).item()"
   ]
  },
  {
   "cell_type": "code",
   "execution_count": null,
   "metadata": {},
   "outputs": [],
   "source": []
  },
  {
   "cell_type": "markdown",
   "metadata": {},
   "source": [
    "# Profil"
   ]
  },
  {
   "cell_type": "code",
   "execution_count": null,
   "metadata": {},
   "outputs": [
    {
     "data": {
      "text/html": [
       "<table id=\"itables_6e74ee97_c4cb_4ffd_a03d_187f55cc5269\" class=\"display nowrap\" data-quarto-disable-processing=\"true\" style=\"table-layout:auto;width:auto;margin:auto;caption-side:bottom\">\n",
       "<thead>\n",
       "    <tr style=\"text-align: right;\">\n",
       "      \n",
       "      <th>PROVINSI</th>\n",
       "      <th>KABUPATEN</th>\n",
       "      <th>KECAMATAN</th>\n",
       "      <th>KELURAHAN</th>\n",
       "      <th>JUMLAH_BKB</th>\n",
       "      <th>BULAN</th>\n",
       "    </tr>\n",
       "  </thead><tbody><tr>\n",
       "<td style=\"vertical-align:middle; text-align:left\">\n",
       "<a href=https://mwouts.github.io/itables/><svg class=\"main-svg\" xmlns=\"http://www.w3.org/2000/svg\" xmlns:xlink=\"http://www.w3.org/1999/xlink\"\n",
       "width=\"64\" viewBox=\"0 0 500 400\" style=\"font-family: 'Droid Sans', sans-serif;\">\n",
       "    <g style=\"fill:#d9d7fc\">\n",
       "        <path d=\"M100,400H500V357H100Z\" />\n",
       "        <path d=\"M100,300H400V257H100Z\" />\n",
       "        <path d=\"M0,200H400V157H0Z\" />\n",
       "        <path d=\"M100,100H500V57H100Z\" />\n",
       "        <path d=\"M100,350H500V307H100Z\" />\n",
       "        <path d=\"M100,250H400V207H100Z\" />\n",
       "        <path d=\"M0,150H400V107H0Z\" />\n",
       "        <path d=\"M100,50H500V7H100Z\" />\n",
       "    </g>\n",
       "    <g style=\"fill:#1a1366;stroke:#1a1366;\">\n",
       "   <rect x=\"100\" y=\"7\" width=\"400\" height=\"43\">\n",
       "    <animate\n",
       "      attributeName=\"width\"\n",
       "      values=\"0;400;0\"\n",
       "      dur=\"5s\"\n",
       "      repeatCount=\"indefinite\" />\n",
       "      <animate\n",
       "      attributeName=\"x\"\n",
       "      values=\"100;100;500\"\n",
       "      dur=\"5s\"\n",
       "      repeatCount=\"indefinite\" />\n",
       "  </rect>\n",
       "        <rect x=\"0\" y=\"107\" width=\"400\" height=\"43\">\n",
       "    <animate\n",
       "      attributeName=\"width\"\n",
       "      values=\"0;400;0\"\n",
       "      dur=\"3.5s\"\n",
       "      repeatCount=\"indefinite\" />\n",
       "    <animate\n",
       "      attributeName=\"x\"\n",
       "      values=\"0;0;400\"\n",
       "      dur=\"3.5s\"\n",
       "      repeatCount=\"indefinite\" />\n",
       "  </rect>\n",
       "        <rect x=\"100\" y=\"207\" width=\"300\" height=\"43\">\n",
       "    <animate\n",
       "      attributeName=\"width\"\n",
       "      values=\"0;300;0\"\n",
       "      dur=\"3s\"\n",
       "      repeatCount=\"indefinite\" />\n",
       "    <animate\n",
       "      attributeName=\"x\"\n",
       "      values=\"100;100;400\"\n",
       "      dur=\"3s\"\n",
       "      repeatCount=\"indefinite\" />\n",
       "  </rect>\n",
       "        <rect x=\"100\" y=\"307\" width=\"400\" height=\"43\">\n",
       "    <animate\n",
       "      attributeName=\"width\"\n",
       "      values=\"0;400;0\"\n",
       "      dur=\"4s\"\n",
       "      repeatCount=\"indefinite\" />\n",
       "      <animate\n",
       "      attributeName=\"x\"\n",
       "      values=\"100;100;500\"\n",
       "      dur=\"4s\"\n",
       "      repeatCount=\"indefinite\" />\n",
       "  </rect>\n",
       "        <g style=\"fill:transparent;stroke-width:8; stroke-linejoin:round\" rx=\"5\">\n",
       "            <g transform=\"translate(45 50) rotate(-45)\">\n",
       "                <circle r=\"33\" cx=\"0\" cy=\"0\" />\n",
       "                <rect x=\"-8\" y=\"32\" width=\"16\" height=\"30\" />\n",
       "            </g>\n",
       "\n",
       "            <g transform=\"translate(450 152)\">\n",
       "                <polyline points=\"-15,-20 -35,-20 -35,40 25,40 25,20\" />\n",
       "                <rect x=\"-15\" y=\"-40\" width=\"60\" height=\"60\" />\n",
       "            </g>\n",
       "\n",
       "            <g transform=\"translate(50 352)\">\n",
       "                <polygon points=\"-35,-5 0,-40 35,-5\" />\n",
       "                <polygon points=\"-35,10 0,45 35,10\" />\n",
       "            </g>\n",
       "\n",
       "            <g transform=\"translate(75 250)\">\n",
       "                <polyline points=\"-30,30 -60,0 -30,-30\" />\n",
       "                <polyline points=\"0,30 -30,0 0,-30\" />\n",
       "            </g>\n",
       "\n",
       "            <g transform=\"translate(425 250) rotate(180)\">\n",
       "                <polyline points=\"-30,30 -60,0 -30,-30\" />\n",
       "                <polyline points=\"0,30 -30,0 0,-30\" />\n",
       "            </g>\n",
       "        </g>\n",
       "    </g>\n",
       "</svg>\n",
       "</a>\n",
       "Loading ITables v2.2.5 from the internet...\n",
       "(need <a href=https://mwouts.github.io/itables/troubleshooting.html>help</a>?)</td>\n",
       "</tr></tbody>\n",
       "</table>\n",
       "<link href=\"https://www.unpkg.com/dt_for_itables@2.0.13/dt_bundle.css\" rel=\"stylesheet\">\n",
       "<script type=\"module\">\n",
       "    import {DataTable, jQuery as $} from 'https://www.unpkg.com/dt_for_itables@2.0.13/dt_bundle.js';\n",
       "\n",
       "    document.querySelectorAll(\"#itables_6e74ee97_c4cb_4ffd_a03d_187f55cc5269:not(.dataTable)\").forEach(table => {\n",
       "        if (!(table instanceof HTMLTableElement))\n",
       "            return;\n",
       "\n",
       "        // Define the table data\n",
       "        const data = [[\"SULAWESI BARAT\", \"MAMUJU\", \"PAPALANG\", \"BODA-BODA\", 1, \"JANUARI\"], [\"SULAWESI BARAT\", \"MAMUJU\", \"PAPALANG\", \"SISANGO\", 1, \"JANUARI\"], [\"SULAWESI BARAT\", \"PASANGKAYU\", \"PASANGKAYU\", \"AKO\", 1, \"JANUARI\"], [\"SULAWESI BARAT\", \"PASANGKAYU\", \"PASANGKAYU\", \"GUNUNG SARI\", 1, \"JANUARI\"]];\n",
       "\n",
       "        // Define the dt_args\n",
       "        let dt_args = {\"layout\": {\"topStart\": null, \"topEnd\": null, \"bottomStart\": null, \"bottomEnd\": null}, \"order\": [], \"warn_on_selected_rows_not_rendered\": true};\n",
       "        dt_args[\"data\"] = data;\n",
       "\n",
       "        \n",
       "        new DataTable(table, dt_args);\n",
       "    });\n",
       "</script>\n"
      ],
      "text/plain": [
       "<IPython.core.display.HTML object>"
      ]
     },
     "metadata": {},
     "output_type": "display_data"
    }
   ],
   "source": [
    "data_bkb = pl.read_csv(\"data/data_bkb.csv\")\n",
    "show(\n",
    "    data_bkb.filter(\n",
    "        pl.col(\"KABUPATEN\").is_in(filter_kabupaten),\n",
    "        pl.col(\"KECAMATAN\").is_in(filter_kecamatan),\n",
    "        pl.col(\"KELURAHAN\").is_in(filter_desa),\n",
    "        pl.col(\"BULAN\").is_in(filter_bulan)\n",
    "    ).\n",
    ")"
   ]
  },
  {
   "cell_type": "code",
   "execution_count": null,
   "metadata": {},
   "outputs": [
    {
     "ename": "TypeError",
     "evalue": "'tuple' object is not callable",
     "output_type": "error",
     "traceback": [
      "\u001b[0;31m---------------------------------------------------------------------------\u001b[0m",
      "\u001b[0;31mTypeError\u001b[0m                                 Traceback (most recent call last)",
      "Cell \u001b[0;32mIn[17], line 6\u001b[0m\n\u001b[1;32m      1\u001b[0m \u001b[43mdata_bkb\u001b[49m\u001b[38;5;241;43m.\u001b[39;49m\u001b[43mfilter\u001b[49m\u001b[43m(\u001b[49m\n\u001b[1;32m      2\u001b[0m \u001b[43m    \u001b[49m\u001b[43mpl\u001b[49m\u001b[38;5;241;43m.\u001b[39;49m\u001b[43mcol\u001b[49m\u001b[43m(\u001b[49m\u001b[38;5;124;43m\"\u001b[39;49m\u001b[38;5;124;43mKABUPATEN\u001b[39;49m\u001b[38;5;124;43m\"\u001b[39;49m\u001b[43m)\u001b[49m\u001b[38;5;241;43m.\u001b[39;49m\u001b[43mis_in\u001b[49m\u001b[43m(\u001b[49m\u001b[43mfilter_kabupaten\u001b[49m\u001b[43m)\u001b[49m\u001b[43m,\u001b[49m\n\u001b[1;32m      3\u001b[0m \u001b[43m    \u001b[49m\u001b[43mpl\u001b[49m\u001b[38;5;241;43m.\u001b[39;49m\u001b[43mcol\u001b[49m\u001b[43m(\u001b[49m\u001b[38;5;124;43m\"\u001b[39;49m\u001b[38;5;124;43mKECAMATAN\u001b[39;49m\u001b[38;5;124;43m\"\u001b[39;49m\u001b[43m)\u001b[49m\u001b[38;5;241;43m.\u001b[39;49m\u001b[43mis_in\u001b[49m\u001b[43m(\u001b[49m\u001b[43mfilter_kecamatan\u001b[49m\u001b[43m)\u001b[49m\u001b[43m,\u001b[49m\n\u001b[1;32m      4\u001b[0m \u001b[43m    \u001b[49m\u001b[43mpl\u001b[49m\u001b[38;5;241;43m.\u001b[39;49m\u001b[43mcol\u001b[49m\u001b[43m(\u001b[49m\u001b[38;5;124;43m\"\u001b[39;49m\u001b[38;5;124;43mKELURAHAN\u001b[39;49m\u001b[38;5;124;43m\"\u001b[39;49m\u001b[43m)\u001b[49m\u001b[38;5;241;43m.\u001b[39;49m\u001b[43mis_in\u001b[49m\u001b[43m(\u001b[49m\u001b[43mfilter_desa\u001b[49m\u001b[43m)\u001b[49m\u001b[43m,\u001b[49m\n\u001b[1;32m      5\u001b[0m \u001b[43m    \u001b[49m\u001b[43mpl\u001b[49m\u001b[38;5;241;43m.\u001b[39;49m\u001b[43mcol\u001b[49m\u001b[43m(\u001b[49m\u001b[38;5;124;43m\"\u001b[39;49m\u001b[38;5;124;43mBULAN\u001b[39;49m\u001b[38;5;124;43m\"\u001b[39;49m\u001b[43m)\u001b[49m\u001b[38;5;241;43m.\u001b[39;49m\u001b[43mis_in\u001b[49m\u001b[43m(\u001b[49m\u001b[43mfilter_bulan\u001b[49m\u001b[43m)\u001b[49m\n\u001b[0;32m----> 6\u001b[0m \u001b[43m)\u001b[49m\u001b[38;5;241;43m.\u001b[39;49m\u001b[43mshape\u001b[49m\u001b[43m(\u001b[49m\u001b[43m)\u001b[49m\n",
      "\u001b[0;31mTypeError\u001b[0m: 'tuple' object is not callable"
     ]
    }
   ],
   "source": [
    "data_bkb.filter(\n",
    "    pl.col(\"KABUPATEN\").is_in(filter_kabupaten),\n",
    "    pl.col(\"KECAMATAN\").is_in(filter_kecamatan),\n",
    "    pl.col(\"KELURAHAN\").is_in(filter_desa),\n",
    "    pl.col(\"BULAN\").is_in(filter_bulan)\n",
    ").select(pl.col(\"JUMLAH_BKB\")).sum().item()"
   ]
  },
  {
   "cell_type": "code",
   "execution_count": 18,
   "metadata": {},
   "outputs": [
    {
     "data": {
      "text/plain": [
       "4"
      ]
     },
     "execution_count": 18,
     "metadata": {},
     "output_type": "execute_result"
    }
   ],
   "source": [
    "data_bkb.filter(\n",
    "    pl.col(\"KABUPATEN\").is_in(filter_kabupaten),\n",
    "    pl.col(\"KECAMATAN\").is_in(filter_kecamatan),\n",
    "    pl.col(\"KELURAHAN\").is_in(filter_desa),\n",
    "    pl.col(\"BULAN\").is_in(filter_bulan)\n",
    ").height"
   ]
  },
  {
   "cell_type": "code",
   "execution_count": 28,
   "metadata": {},
   "outputs": [
    {
     "data": {
      "text/plain": [
       "['PASANGKAYU', 'PASANGKAYU', 'MAMUJU', 'MAMUJU']"
      ]
     },
     "execution_count": 28,
     "metadata": {},
     "output_type": "execute_result"
    }
   ],
   "source": [
    "filter()[0]"
   ]
  },
  {
   "cell_type": "code",
   "execution_count": 31,
   "metadata": {},
   "outputs": [],
   "source": [
    "data_bkb = pl.read_csv(\"data/data_bkb.csv\")\n",
    "data_bkr = pl.read_csv(\"data/data_bkr.csv\")\n",
    "data_bkl = pl.read_csv(\"data/data_bkl.csv\")\n",
    "data_uppka = pl.read_csv(\"data/data_uppka.csv\")\n",
    "data_pikr = pl.read_csv(\"data/data_pikr.csv\")\n",
    "data_kkb = pl.read_csv(\"data/data_kkb.csv\")\n",
    "data_rdk = pl.read_csv(\"data/data_rdk.csv\")"
   ]
  },
  {
   "cell_type": "markdown",
   "metadata": {},
   "source": [
    "# KB\n",
    "## Baris 1 Tren"
   ]
  },
  {
   "cell_type": "code",
   "execution_count": 2,
   "metadata": {},
   "outputs": [],
   "source": [
    "import plotly.express as px\n",
    "import polars as pl\n",
    "from itables import show\n",
    "\n",
    "data_pus = pl.read_csv(\"data/data_pus.csv\")\n",
    "data_mix = pl.read_csv(\"data/data_mix_kontra.csv\")\n",
    "\n",
    "def bulan_hingga(bulan_terpilih):\n",
    "    daftar_bulan = [\"JANUARI\", \"FEBRUARI\", \"MARET\", \"APRIL\", \"MEI\", \"JUNI\", \"JULI\", \"AGUSTUS\", \"SEPTEMBER\", \"OKTOBER\", \"NOVEMBER\", \"DESEMBER\"]\n",
    "    index = daftar_bulan.index(bulan_terpilih)\n",
    "    return daftar_bulan[:index + 1]"
   ]
  },
  {
   "cell_type": "code",
   "execution_count": 95,
   "metadata": {},
   "outputs": [],
   "source": [
    "filter_kabupaten = [\"PASANGKAYU\", \"PASANGKAYU\", \"MAMUJU\", \"MAMUJU\"]\n",
    "filter_kecamatan = [\"PASANGKAYU\", \"PASANGKAYU\", \"PAPALANG\", \"PAPALANG\"]\n",
    "filter_desa = [\"AKO\", \"GUNUNG SARI\", \"BODA-BODA\", \"SISANGO\"]\n",
    "filter_bulan = 'FEBRUARI'"
   ]
  },
  {
   "cell_type": "code",
   "execution_count": 96,
   "metadata": {},
   "outputs": [
    {
     "data": {
      "text/html": [
       "<table id=\"itables_d21f22df_86a1_4937_a651_41eb9c788f4e\" class=\"display nowrap\" data-quarto-disable-processing=\"true\" style=\"table-layout:auto;width:auto;margin:auto;caption-side:bottom\">\n",
       "<thead>\n",
       "    <tr style=\"text-align: right;\">\n",
       "      \n",
       "      <th>PROVINSI</th>\n",
       "      <th>BULAN</th>\n",
       "      <th>PUS</th>\n",
       "    </tr>\n",
       "  </thead><tbody><tr>\n",
       "<td style=\"vertical-align:middle; text-align:left\">\n",
       "<a href=https://mwouts.github.io/itables/><svg class=\"main-svg\" xmlns=\"http://www.w3.org/2000/svg\" xmlns:xlink=\"http://www.w3.org/1999/xlink\"\n",
       "width=\"64\" viewBox=\"0 0 500 400\" style=\"font-family: 'Droid Sans', sans-serif;\">\n",
       "    <g style=\"fill:#d9d7fc\">\n",
       "        <path d=\"M100,400H500V357H100Z\" />\n",
       "        <path d=\"M100,300H400V257H100Z\" />\n",
       "        <path d=\"M0,200H400V157H0Z\" />\n",
       "        <path d=\"M100,100H500V57H100Z\" />\n",
       "        <path d=\"M100,350H500V307H100Z\" />\n",
       "        <path d=\"M100,250H400V207H100Z\" />\n",
       "        <path d=\"M0,150H400V107H0Z\" />\n",
       "        <path d=\"M100,50H500V7H100Z\" />\n",
       "    </g>\n",
       "    <g style=\"fill:#1a1366;stroke:#1a1366;\">\n",
       "   <rect x=\"100\" y=\"7\" width=\"400\" height=\"43\">\n",
       "    <animate\n",
       "      attributeName=\"width\"\n",
       "      values=\"0;400;0\"\n",
       "      dur=\"5s\"\n",
       "      repeatCount=\"indefinite\" />\n",
       "      <animate\n",
       "      attributeName=\"x\"\n",
       "      values=\"100;100;500\"\n",
       "      dur=\"5s\"\n",
       "      repeatCount=\"indefinite\" />\n",
       "  </rect>\n",
       "        <rect x=\"0\" y=\"107\" width=\"400\" height=\"43\">\n",
       "    <animate\n",
       "      attributeName=\"width\"\n",
       "      values=\"0;400;0\"\n",
       "      dur=\"3.5s\"\n",
       "      repeatCount=\"indefinite\" />\n",
       "    <animate\n",
       "      attributeName=\"x\"\n",
       "      values=\"0;0;400\"\n",
       "      dur=\"3.5s\"\n",
       "      repeatCount=\"indefinite\" />\n",
       "  </rect>\n",
       "        <rect x=\"100\" y=\"207\" width=\"300\" height=\"43\">\n",
       "    <animate\n",
       "      attributeName=\"width\"\n",
       "      values=\"0;300;0\"\n",
       "      dur=\"3s\"\n",
       "      repeatCount=\"indefinite\" />\n",
       "    <animate\n",
       "      attributeName=\"x\"\n",
       "      values=\"100;100;400\"\n",
       "      dur=\"3s\"\n",
       "      repeatCount=\"indefinite\" />\n",
       "  </rect>\n",
       "        <rect x=\"100\" y=\"307\" width=\"400\" height=\"43\">\n",
       "    <animate\n",
       "      attributeName=\"width\"\n",
       "      values=\"0;400;0\"\n",
       "      dur=\"4s\"\n",
       "      repeatCount=\"indefinite\" />\n",
       "      <animate\n",
       "      attributeName=\"x\"\n",
       "      values=\"100;100;500\"\n",
       "      dur=\"4s\"\n",
       "      repeatCount=\"indefinite\" />\n",
       "  </rect>\n",
       "        <g style=\"fill:transparent;stroke-width:8; stroke-linejoin:round\" rx=\"5\">\n",
       "            <g transform=\"translate(45 50) rotate(-45)\">\n",
       "                <circle r=\"33\" cx=\"0\" cy=\"0\" />\n",
       "                <rect x=\"-8\" y=\"32\" width=\"16\" height=\"30\" />\n",
       "            </g>\n",
       "\n",
       "            <g transform=\"translate(450 152)\">\n",
       "                <polyline points=\"-15,-20 -35,-20 -35,40 25,40 25,20\" />\n",
       "                <rect x=\"-15\" y=\"-40\" width=\"60\" height=\"60\" />\n",
       "            </g>\n",
       "\n",
       "            <g transform=\"translate(50 352)\">\n",
       "                <polygon points=\"-35,-5 0,-40 35,-5\" />\n",
       "                <polygon points=\"-35,10 0,45 35,10\" />\n",
       "            </g>\n",
       "\n",
       "            <g transform=\"translate(75 250)\">\n",
       "                <polyline points=\"-30,30 -60,0 -30,-30\" />\n",
       "                <polyline points=\"0,30 -30,0 0,-30\" />\n",
       "            </g>\n",
       "\n",
       "            <g transform=\"translate(425 250) rotate(180)\">\n",
       "                <polyline points=\"-30,30 -60,0 -30,-30\" />\n",
       "                <polyline points=\"0,30 -30,0 0,-30\" />\n",
       "            </g>\n",
       "        </g>\n",
       "    </g>\n",
       "</svg>\n",
       "</a>\n",
       "Loading ITables v2.2.5 from the internet...\n",
       "(need <a href=https://mwouts.github.io/itables/troubleshooting.html>help</a>?)</td>\n",
       "</tr></tbody>\n",
       "</table>\n",
       "<link href=\"https://www.unpkg.com/dt_for_itables@2.0.13/dt_bundle.css\" rel=\"stylesheet\">\n",
       "<script type=\"module\">\n",
       "    import {DataTable, jQuery as $} from 'https://www.unpkg.com/dt_for_itables@2.0.13/dt_bundle.js';\n",
       "\n",
       "    document.querySelectorAll(\"#itables_d21f22df_86a1_4937_a651_41eb9c788f4e:not(.dataTable)\").forEach(table => {\n",
       "        if (!(table instanceof HTMLTableElement))\n",
       "            return;\n",
       "\n",
       "        // Define the table data\n",
       "        const data = [[\"SULAWESI BARAT\", \"JANUARI\", 1769], [\"SULAWESI BARAT\", \"FEBRUARI\", 1786]];\n",
       "\n",
       "        // Define the dt_args\n",
       "        let dt_args = {\"layout\": {\"topStart\": null, \"topEnd\": null, \"bottomStart\": null, \"bottomEnd\": null}, \"order\": [], \"warn_on_selected_rows_not_rendered\": true};\n",
       "        dt_args[\"data\"] = data;\n",
       "\n",
       "        \n",
       "        new DataTable(table, dt_args);\n",
       "    });\n",
       "</script>\n"
      ],
      "text/plain": [
       "<IPython.core.display.HTML object>"
      ]
     },
     "metadata": {},
     "output_type": "display_data"
    }
   ],
   "source": [
    "show(\n",
    "    data_pus.filter(\n",
    "        pl.col(\"KABUPATEN\").is_in(filter_kabupaten),\n",
    "        pl.col(\"KECAMATAN\").is_in(filter_kecamatan),\n",
    "        pl.col(\"KELURAHAN\").is_in(filter_desa),\n",
    "        pl.col(\"BULAN\").is_in(bulan_hingga(filter_bulan))\n",
    "    ).group_by(\n",
    "        'PROVINSI', 'BULAN'\n",
    "    ).agg([\n",
    "        pl.col(\"PUS\").sum()\n",
    "    ])\n",
    ")"
   ]
  },
  {
   "cell_type": "code",
   "execution_count": null,
   "metadata": {},
   "outputs": [],
   "source": [
    "aggregated =  data_pus.filter(\n",
    "        pl.col(\"KABUPATEN\").is_in(filter_kabupaten),\n",
    "        pl.col(\"KECAMATAN\").is_in(filter_kecamatan),\n",
    "        pl.col(\"KELURAHAN\").is_in(filter_desa),\n",
    "        pl.col(\"BULAN\").is_in(bulan_hingga(filter_bulan))\n",
    "    ).group_by(\n",
    "        'PROVINSI', 'BULAN'\n",
    "    ).agg([\n",
    "        pl.col(\"PUS\").sum()\n",
    "    ])\n",
    "\n",
    "# Mengurutkan bulan sesuai urutan kronologis\n",
    "month_order = {\n",
    "    'JANUARI': 1,\n",
    "    'FEBRUARI': 2,\n",
    "    'MARET': 3,\n",
    "    'APRIL': 4,\n",
    "    'MEI': 5,\n",
    "    'JUNI': 6,\n",
    "    'JULI': 7,\n",
    "    'AGUSTUS': 8,\n",
    "    'SEPTEMBER': 9,\n",
    "    'OKTOBER': 10,\n",
    "    'NOVEMBER': 11,\n",
    "    'DESEMBER': 12\n",
    "}\n",
    "\n",
    "aggregated = aggregated.with_columns(\n",
    "    pl.col(\"BULAN\").replace(month_order).alias(\"month_num\")\n",
    ").sort(\"month_num\").drop(\"month_num\")\n",
    "\n",
    "# Hitung nilai minimum untuk sumbu Y (Januari - 10%)\n",
    "nilai_januari = aggregated.filter(pl.col(\"BULAN\") == \"JANUARI\")[\"PUS\"][0]\n",
    "y_min = nilai_januari - (nilai_januari * 0.05)  # Januari - 10%\n",
    "max_value = aggregated[\"PUS\"].max() * 1.05\n",
    "\n",
    "fig = px.line(\n",
    "    aggregated,  # Langsung gunakan Polars DataFrame\n",
    "    x=\"BULAN\",\n",
    "    y=\"PUS\",\n",
    "    title=\"Tren Total PUS per Bulan di Sulawesi Barat\",\n",
    "    labels={\"BULAN\": \"Bulan\", \"PUS\": \"Jumlah PUS\"},\n",
    "    markers=True  # Menambahkan dot (marker) di setiap titik\n",
    ")\n",
    "fig.update_layout(showlegend=False)\n",
    "fig.update_layout(\n",
    "    paper_bgcolor=\"#f6f8fa\",\n",
    "    plot_bgcolor=\"#f6f8fa\"\n",
    ")\n",
    "# Atur rentang sumbu Y dimulai dari nilai Januari - 10%\n",
    "fig.update_yaxes(range=[y_min, max_value])  # `None` untuk batas atas otomatis\n",
    "# Menampilkan grafik\n",
    "# fig.show()"
   ]
  },
  {
   "cell_type": "code",
   "execution_count": 97,
   "metadata": {},
   "outputs": [
    {
     "data": {
      "text/html": [
       "<div><style>\n",
       ".dataframe > thead > tr,\n",
       ".dataframe > tbody > tr {\n",
       "  text-align: right;\n",
       "  white-space: pre-wrap;\n",
       "}\n",
       "</style>\n",
       "<small>shape: (2, 3)</small><table border=\"1\" class=\"dataframe\"><thead><tr><th>PROVINSI</th><th>BULAN</th><th>PUS</th></tr><tr><td>str</td><td>str</td><td>i64</td></tr></thead><tbody><tr><td>&quot;SULAWESI BARAT&quot;</td><td>&quot;FEBRUARI&quot;</td><td>1786</td></tr><tr><td>&quot;SULAWESI BARAT&quot;</td><td>&quot;JANUARI&quot;</td><td>1769</td></tr></tbody></table></div>"
      ],
      "text/plain": [
       "shape: (2, 3)\n",
       "┌────────────────┬──────────┬──────┐\n",
       "│ PROVINSI       ┆ BULAN    ┆ PUS  │\n",
       "│ ---            ┆ ---      ┆ ---  │\n",
       "│ str            ┆ str      ┆ i64  │\n",
       "╞════════════════╪══════════╪══════╡\n",
       "│ SULAWESI BARAT ┆ FEBRUARI ┆ 1786 │\n",
       "│ SULAWESI BARAT ┆ JANUARI  ┆ 1769 │\n",
       "└────────────────┴──────────┴──────┘"
      ]
     },
     "execution_count": 97,
     "metadata": {},
     "output_type": "execute_result"
    }
   ],
   "source": [
    "aggregated =  data_pus.filter(\n",
    "        pl.col(\"KABUPATEN\").is_in(filter_kabupaten),\n",
    "        pl.col(\"KECAMATAN\").is_in(filter_kecamatan),\n",
    "        pl.col(\"KELURAHAN\").is_in(filter_desa),\n",
    "        pl.col(\"BULAN\").is_in(bulan_hingga(filter_bulan))\n",
    "    ).group_by(\n",
    "        'PROVINSI', 'BULAN'\n",
    "    ).agg([\n",
    "        pl.col(\"PUS\").sum()\n",
    "    ])\n",
    "\n",
    "aggregated"
   ]
  },
  {
   "cell_type": "code",
   "execution_count": 101,
   "metadata": {},
   "outputs": [
    {
     "data": {
      "text/html": [
       "\n",
       "<style>\n",
       "  #altair-viz-f21542fa78554d1cae805653d97e36e9.vega-embed {\n",
       "    width: 100%;\n",
       "    display: flex;\n",
       "  }\n",
       "\n",
       "  #altair-viz-f21542fa78554d1cae805653d97e36e9.vega-embed details,\n",
       "  #altair-viz-f21542fa78554d1cae805653d97e36e9.vega-embed details summary {\n",
       "    position: relative;\n",
       "  }\n",
       "</style>\n",
       "<div id=\"altair-viz-f21542fa78554d1cae805653d97e36e9\"></div>\n",
       "<script type=\"text/javascript\">\n",
       "  var VEGA_DEBUG = (typeof VEGA_DEBUG == \"undefined\") ? {} : VEGA_DEBUG;\n",
       "  (function(spec, embedOpt){\n",
       "    let outputDiv = document.currentScript.previousElementSibling;\n",
       "    if (outputDiv.id !== \"altair-viz-f21542fa78554d1cae805653d97e36e9\") {\n",
       "      outputDiv = document.getElementById(\"altair-viz-f21542fa78554d1cae805653d97e36e9\");\n",
       "    }\n",
       "\n",
       "    const paths = {\n",
       "      \"vega\": \"https://cdn.jsdelivr.net/npm/vega@5?noext\",\n",
       "      \"vega-lib\": \"https://cdn.jsdelivr.net/npm/vega-lib?noext\",\n",
       "      \"vega-lite\": \"https://cdn.jsdelivr.net/npm/vega-lite@5.20.1?noext\",\n",
       "      \"vega-embed\": \"https://cdn.jsdelivr.net/npm/vega-embed@6?noext\",\n",
       "    };\n",
       "\n",
       "    function maybeLoadScript(lib, version) {\n",
       "      var key = `${lib.replace(\"-\", \"\")}_version`;\n",
       "      return (VEGA_DEBUG[key] == version) ?\n",
       "        Promise.resolve(paths[lib]) :\n",
       "        new Promise(function(resolve, reject) {\n",
       "          var s = document.createElement('script');\n",
       "          document.getElementsByTagName(\"head\")[0].appendChild(s);\n",
       "          s.async = true;\n",
       "          s.onload = () => {\n",
       "            VEGA_DEBUG[key] = version;\n",
       "            return resolve(paths[lib]);\n",
       "          };\n",
       "          s.onerror = () => reject(`Error loading script: ${paths[lib]}`);\n",
       "          s.src = paths[lib];\n",
       "        });\n",
       "    }\n",
       "\n",
       "    function showError(err) {\n",
       "      outputDiv.innerHTML = `<div class=\"error\" style=\"color:red;\">${err}</div>`;\n",
       "      throw err;\n",
       "    }\n",
       "\n",
       "    function displayChart(vegaEmbed) {\n",
       "      vegaEmbed(outputDiv, spec, embedOpt)\n",
       "        .catch(err => showError(`Javascript Error: ${err.message}<br>This usually means there's a typo in your chart specification. See the javascript console for the full traceback.`));\n",
       "    }\n",
       "\n",
       "    if(typeof define === \"function\" && define.amd) {\n",
       "      requirejs.config({paths});\n",
       "      let deps = [\"vega-embed\"];\n",
       "      require(deps, displayChart, err => showError(`Error loading script: ${err.message}`));\n",
       "    } else {\n",
       "      maybeLoadScript(\"vega\", \"5\")\n",
       "        .then(() => maybeLoadScript(\"vega-lite\", \"5.20.1\"))\n",
       "        .then(() => maybeLoadScript(\"vega-embed\", \"6\"))\n",
       "        .catch(showError)\n",
       "        .then(() => displayChart(vegaEmbed));\n",
       "    }\n",
       "  })({\"config\": {\"view\": {\"continuousWidth\": 300, \"continuousHeight\": 300}, \"background\": \"#f6f8fa\", \"padding\": 20}, \"data\": {\"name\": \"data-acfc9fbbf31b2d041589feb94b6934f3\"}, \"mark\": {\"type\": \"line\", \"point\": true}, \"encoding\": {\"tooltip\": [{\"field\": \"BULAN\", \"title\": \"Bulan\", \"type\": \"nominal\"}, {\"field\": \"PUS_formatted\", \"title\": \"Jumlah PUS\", \"type\": \"nominal\"}], \"x\": {\"axis\": {\"labelAngle\": 0, \"labelLimit\": 150, \"labelOverlap\": \"parity\"}, \"field\": \"BULAN\", \"sort\": [\"JANUARI\", \"FEBRUARI\", \"MARET\", \"APRIL\", \"MEI\", \"JUNI\", \"JULI\", \"AGUSTUS\", \"SEPTEMBER\", \"OKTOBER\", \"NOVEMBER\", \"DESEMBER\"], \"type\": \"nominal\"}, \"y\": {\"axis\": {\"labelExpr\": \"replace(format(datum.value, \\\",.0f\\\"), \\\",\\\", \\\".\\\")\", \"title\": \"Jumlah PUS\"}, \"field\": \"PUS\", \"scale\": {\"domain\": [1680.55, 1875.3], \"nice\": false}, \"type\": \"quantitative\"}}, \"title\": \"Tren Jumlah PUS di Sulawesi Barat\", \"$schema\": \"https://vega.github.io/schema/vega-lite/v5.20.1.json\", \"datasets\": {\"data-acfc9fbbf31b2d041589feb94b6934f3\": [{\"PROVINSI\": \"SULAWESI BARAT\", \"BULAN\": \"JANUARI\", \"PUS\": 1769, \"month_order\": \"1\", \"PUS_formatted\": \"1.769\"}, {\"PROVINSI\": \"SULAWESI BARAT\", \"BULAN\": \"FEBRUARI\", \"PUS\": 1786, \"month_order\": \"2\", \"PUS_formatted\": \"1.786\"}]}}, {\"mode\": \"vega-lite\"});\n",
       "</script>"
      ],
      "text/plain": [
       "alt.Chart(...)"
      ]
     },
     "execution_count": 101,
     "metadata": {},
     "output_type": "execute_result"
    }
   ],
   "source": [
    "# Urutan bulan yang benar\n",
    "bulan_order = {\n",
    "    \"JANUARI\": 1,\n",
    "    \"FEBRUARI\": 2,\n",
    "    \"MARET\": 3,\n",
    "    \"APRIL\": 4,\n",
    "    \"MEI\": 5,\n",
    "    \"JUNI\": 6,\n",
    "    \"JULI\": 7,\n",
    "    \"AGUSTUS\": 8,\n",
    "    \"SEPTEMBER\": 9,\n",
    "    \"OKTOBER\": 10,\n",
    "    \"NOVEMBER\": 11,\n",
    "    \"DESEMBER\": 12\n",
    "}\n",
    "\n",
    "# Proses data dengan Polars\n",
    "df_processed = (\n",
    "    aggregated\n",
    "    .with_columns(\n",
    "        pl.col(\"BULAN\").replace(bulan_order).alias(\"month_order\"),\n",
    "        # Format angka dengan pemisah titik (.) untuk tooltip\n",
    "        pl.col(\"PUS\").map_elements(\n",
    "            lambda x: f\"{x:,}\".replace(\",\", \".\"),\n",
    "            return_dtype=pl.Utf8\n",
    "        ).alias(\"PUS_formatted\")\n",
    "    )\n",
    "    .sort(\"month_order\")\n",
    ")\n",
    "\n",
    "# Hitung batas y-axis\n",
    "min_value = df_processed[\"PUS\"].min()\n",
    "max_value = df_processed[\"PUS\"].max()\n",
    "y_min = min_value - (min_value * 0.05)\n",
    "y_max = max_value + (max_value * 0.05)\n",
    "\n",
    "# Konversi ke Pandas untuk Altair\n",
    "df_for_viz = df_processed.to_pandas()\n",
    "\n",
    "# Buat grafik\n",
    "chart = alt.Chart(df_for_viz).mark_line(point=True).encode(\n",
    "    x=alt.X('BULAN:N', \n",
    "            sort=list(bulan_order.keys()),\n",
    "            axis=alt.Axis(\n",
    "                labelAngle=0,  # Label horizontal\n",
    "                labelLimit=150,  # Batas lebar label sebelum otomatis rotate\n",
    "                labelOverlap=\"parity\"  # Hindari tumpang tindih\n",
    "            )),\n",
    "    y=alt.Y('PUS:Q',\n",
    "            scale=alt.Scale(domain=(y_min, y_max), nice=False),\n",
    "            axis=alt.Axis(\n",
    "                labelExpr='replace(format(datum.value, \",.0f\"), \",\", \".\")',\n",
    "                title='Jumlah PUS'\n",
    "            )),\n",
    "    tooltip=[\n",
    "        alt.Tooltip('BULAN:N', title='Bulan'),\n",
    "        alt.Tooltip('PUS_formatted:N', title='Jumlah PUS')\n",
    "    ]\n",
    ").properties(\n",
    "    title='Tren Jumlah PUS di Sulawesi Barat'\n",
    ").configure_view(\n",
    "    strokeWidth=0\n",
    ").configure_axis(\n",
    "    grid=False\n",
    ").configure_point(\n",
    "    size=100\n",
    ").configure(\n",
    "    padding=20,  # Tambah padding\n",
    "    background='#f6f8fa'  # Warna background\n",
    ")\n",
    "\n",
    "chart"
   ]
  },
  {
   "cell_type": "code",
   "execution_count": null,
   "metadata": {},
   "outputs": [],
   "source": [
    "bar_chart = pygal.Bar()\n",
    "bar_chart.title = 'Browser usage evolution (in %)'\n",
    "bar_chart.x_labels = map(str, range(2002, 2013))\n",
    "bar_chart.add('Firefox', [None, None, 0, 16.6,   25,   31, 36.4, 45.5, 46.3, 42.8, 37.1])\n",
    "bar_chart.add('Chrome',  [None, None, None, None, None, None,    0,  3.9, 10.8, 23.8, 35.3])\n",
    "bar_chart.add('IE',      [85.8, 84.6, 84.7, 74.5,   66, 58.6, 54.7, 44.8, 36.2, 26.6, 20.1])\n",
    "bar_chart.add('Others',  [14.2, 15.4, 15.3,  8.9,    9, 10.4,  8.9,  5.8,  6.7,  6.8,  7.5])\n",
    "bar_chart.render_in_browser"
   ]
  },
  {
   "cell_type": "code",
   "execution_count": null,
   "metadata": {},
   "outputs": [
    {
     "data": {
      "application/vnd.plotly.v1+json": {
       "config": {
        "plotlyServerURL": "https://plot.ly"
       },
       "data": [
        {
         "hovertemplate": "Bulan = %{x}<br>Jumlah PA = %{y:,.0f}",
         "legendgroup": "",
         "line": {
          "color": "#636efa",
          "dash": "solid"
         },
         "marker": {
          "symbol": "circle"
         },
         "mode": "lines+markers",
         "name": "",
         "orientation": "v",
         "showlegend": false,
         "type": "scatter",
         "x": [
          "JANUARI",
          "MARET"
         ],
         "xaxis": "x",
         "y": {
          "bdata": "ZAAsAQ==",
          "dtype": "i2"
         },
         "yaxis": "y"
        }
       ],
       "layout": {
        "legend": {
         "tracegroupgap": 0
        },
        "margin": {
         "b": 50,
         "l": 50,
         "r": 50,
         "t": 80
        },
        "paper_bgcolor": "#f6f8fa",
        "plot_bgcolor": "#f6f8fa",
        "showlegend": false,
        "template": {
         "data": {
          "bar": [
           {
            "error_x": {
             "color": "#2a3f5f"
            },
            "error_y": {
             "color": "#2a3f5f"
            },
            "marker": {
             "line": {
              "color": "#E5ECF6",
              "width": 0.5
             },
             "pattern": {
              "fillmode": "overlay",
              "size": 10,
              "solidity": 0.2
             }
            },
            "type": "bar"
           }
          ],
          "barpolar": [
           {
            "marker": {
             "line": {
              "color": "#E5ECF6",
              "width": 0.5
             },
             "pattern": {
              "fillmode": "overlay",
              "size": 10,
              "solidity": 0.2
             }
            },
            "type": "barpolar"
           }
          ],
          "carpet": [
           {
            "aaxis": {
             "endlinecolor": "#2a3f5f",
             "gridcolor": "white",
             "linecolor": "white",
             "minorgridcolor": "white",
             "startlinecolor": "#2a3f5f"
            },
            "baxis": {
             "endlinecolor": "#2a3f5f",
             "gridcolor": "white",
             "linecolor": "white",
             "minorgridcolor": "white",
             "startlinecolor": "#2a3f5f"
            },
            "type": "carpet"
           }
          ],
          "choropleth": [
           {
            "colorbar": {
             "outlinewidth": 0,
             "ticks": ""
            },
            "type": "choropleth"
           }
          ],
          "contour": [
           {
            "colorbar": {
             "outlinewidth": 0,
             "ticks": ""
            },
            "colorscale": [
             [
              0,
              "#0d0887"
             ],
             [
              0.1111111111111111,
              "#46039f"
             ],
             [
              0.2222222222222222,
              "#7201a8"
             ],
             [
              0.3333333333333333,
              "#9c179e"
             ],
             [
              0.4444444444444444,
              "#bd3786"
             ],
             [
              0.5555555555555556,
              "#d8576b"
             ],
             [
              0.6666666666666666,
              "#ed7953"
             ],
             [
              0.7777777777777778,
              "#fb9f3a"
             ],
             [
              0.8888888888888888,
              "#fdca26"
             ],
             [
              1,
              "#f0f921"
             ]
            ],
            "type": "contour"
           }
          ],
          "contourcarpet": [
           {
            "colorbar": {
             "outlinewidth": 0,
             "ticks": ""
            },
            "type": "contourcarpet"
           }
          ],
          "heatmap": [
           {
            "colorbar": {
             "outlinewidth": 0,
             "ticks": ""
            },
            "colorscale": [
             [
              0,
              "#0d0887"
             ],
             [
              0.1111111111111111,
              "#46039f"
             ],
             [
              0.2222222222222222,
              "#7201a8"
             ],
             [
              0.3333333333333333,
              "#9c179e"
             ],
             [
              0.4444444444444444,
              "#bd3786"
             ],
             [
              0.5555555555555556,
              "#d8576b"
             ],
             [
              0.6666666666666666,
              "#ed7953"
             ],
             [
              0.7777777777777778,
              "#fb9f3a"
             ],
             [
              0.8888888888888888,
              "#fdca26"
             ],
             [
              1,
              "#f0f921"
             ]
            ],
            "type": "heatmap"
           }
          ],
          "histogram": [
           {
            "marker": {
             "pattern": {
              "fillmode": "overlay",
              "size": 10,
              "solidity": 0.2
             }
            },
            "type": "histogram"
           }
          ],
          "histogram2d": [
           {
            "colorbar": {
             "outlinewidth": 0,
             "ticks": ""
            },
            "colorscale": [
             [
              0,
              "#0d0887"
             ],
             [
              0.1111111111111111,
              "#46039f"
             ],
             [
              0.2222222222222222,
              "#7201a8"
             ],
             [
              0.3333333333333333,
              "#9c179e"
             ],
             [
              0.4444444444444444,
              "#bd3786"
             ],
             [
              0.5555555555555556,
              "#d8576b"
             ],
             [
              0.6666666666666666,
              "#ed7953"
             ],
             [
              0.7777777777777778,
              "#fb9f3a"
             ],
             [
              0.8888888888888888,
              "#fdca26"
             ],
             [
              1,
              "#f0f921"
             ]
            ],
            "type": "histogram2d"
           }
          ],
          "histogram2dcontour": [
           {
            "colorbar": {
             "outlinewidth": 0,
             "ticks": ""
            },
            "colorscale": [
             [
              0,
              "#0d0887"
             ],
             [
              0.1111111111111111,
              "#46039f"
             ],
             [
              0.2222222222222222,
              "#7201a8"
             ],
             [
              0.3333333333333333,
              "#9c179e"
             ],
             [
              0.4444444444444444,
              "#bd3786"
             ],
             [
              0.5555555555555556,
              "#d8576b"
             ],
             [
              0.6666666666666666,
              "#ed7953"
             ],
             [
              0.7777777777777778,
              "#fb9f3a"
             ],
             [
              0.8888888888888888,
              "#fdca26"
             ],
             [
              1,
              "#f0f921"
             ]
            ],
            "type": "histogram2dcontour"
           }
          ],
          "mesh3d": [
           {
            "colorbar": {
             "outlinewidth": 0,
             "ticks": ""
            },
            "type": "mesh3d"
           }
          ],
          "parcoords": [
           {
            "line": {
             "colorbar": {
              "outlinewidth": 0,
              "ticks": ""
             }
            },
            "type": "parcoords"
           }
          ],
          "pie": [
           {
            "automargin": true,
            "type": "pie"
           }
          ],
          "scatter": [
           {
            "fillpattern": {
             "fillmode": "overlay",
             "size": 10,
             "solidity": 0.2
            },
            "type": "scatter"
           }
          ],
          "scatter3d": [
           {
            "line": {
             "colorbar": {
              "outlinewidth": 0,
              "ticks": ""
             }
            },
            "marker": {
             "colorbar": {
              "outlinewidth": 0,
              "ticks": ""
             }
            },
            "type": "scatter3d"
           }
          ],
          "scattercarpet": [
           {
            "marker": {
             "colorbar": {
              "outlinewidth": 0,
              "ticks": ""
             }
            },
            "type": "scattercarpet"
           }
          ],
          "scattergeo": [
           {
            "marker": {
             "colorbar": {
              "outlinewidth": 0,
              "ticks": ""
             }
            },
            "type": "scattergeo"
           }
          ],
          "scattergl": [
           {
            "marker": {
             "colorbar": {
              "outlinewidth": 0,
              "ticks": ""
             }
            },
            "type": "scattergl"
           }
          ],
          "scattermap": [
           {
            "marker": {
             "colorbar": {
              "outlinewidth": 0,
              "ticks": ""
             }
            },
            "type": "scattermap"
           }
          ],
          "scattermapbox": [
           {
            "marker": {
             "colorbar": {
              "outlinewidth": 0,
              "ticks": ""
             }
            },
            "type": "scattermapbox"
           }
          ],
          "scatterpolar": [
           {
            "marker": {
             "colorbar": {
              "outlinewidth": 0,
              "ticks": ""
             }
            },
            "type": "scatterpolar"
           }
          ],
          "scatterpolargl": [
           {
            "marker": {
             "colorbar": {
              "outlinewidth": 0,
              "ticks": ""
             }
            },
            "type": "scatterpolargl"
           }
          ],
          "scatterternary": [
           {
            "marker": {
             "colorbar": {
              "outlinewidth": 0,
              "ticks": ""
             }
            },
            "type": "scatterternary"
           }
          ],
          "surface": [
           {
            "colorbar": {
             "outlinewidth": 0,
             "ticks": ""
            },
            "colorscale": [
             [
              0,
              "#0d0887"
             ],
             [
              0.1111111111111111,
              "#46039f"
             ],
             [
              0.2222222222222222,
              "#7201a8"
             ],
             [
              0.3333333333333333,
              "#9c179e"
             ],
             [
              0.4444444444444444,
              "#bd3786"
             ],
             [
              0.5555555555555556,
              "#d8576b"
             ],
             [
              0.6666666666666666,
              "#ed7953"
             ],
             [
              0.7777777777777778,
              "#fb9f3a"
             ],
             [
              0.8888888888888888,
              "#fdca26"
             ],
             [
              1,
              "#f0f921"
             ]
            ],
            "type": "surface"
           }
          ],
          "table": [
           {
            "cells": {
             "fill": {
              "color": "#EBF0F8"
             },
             "line": {
              "color": "white"
             }
            },
            "header": {
             "fill": {
              "color": "#C8D4E3"
             },
             "line": {
              "color": "white"
             }
            },
            "type": "table"
           }
          ]
         },
         "layout": {
          "annotationdefaults": {
           "arrowcolor": "#2a3f5f",
           "arrowhead": 0,
           "arrowwidth": 1
          },
          "autotypenumbers": "strict",
          "coloraxis": {
           "colorbar": {
            "outlinewidth": 0,
            "ticks": ""
           }
          },
          "colorscale": {
           "diverging": [
            [
             0,
             "#8e0152"
            ],
            [
             0.1,
             "#c51b7d"
            ],
            [
             0.2,
             "#de77ae"
            ],
            [
             0.3,
             "#f1b6da"
            ],
            [
             0.4,
             "#fde0ef"
            ],
            [
             0.5,
             "#f7f7f7"
            ],
            [
             0.6,
             "#e6f5d0"
            ],
            [
             0.7,
             "#b8e186"
            ],
            [
             0.8,
             "#7fbc41"
            ],
            [
             0.9,
             "#4d9221"
            ],
            [
             1,
             "#276419"
            ]
           ],
           "sequential": [
            [
             0,
             "#0d0887"
            ],
            [
             0.1111111111111111,
             "#46039f"
            ],
            [
             0.2222222222222222,
             "#7201a8"
            ],
            [
             0.3333333333333333,
             "#9c179e"
            ],
            [
             0.4444444444444444,
             "#bd3786"
            ],
            [
             0.5555555555555556,
             "#d8576b"
            ],
            [
             0.6666666666666666,
             "#ed7953"
            ],
            [
             0.7777777777777778,
             "#fb9f3a"
            ],
            [
             0.8888888888888888,
             "#fdca26"
            ],
            [
             1,
             "#f0f921"
            ]
           ],
           "sequentialminus": [
            [
             0,
             "#0d0887"
            ],
            [
             0.1111111111111111,
             "#46039f"
            ],
            [
             0.2222222222222222,
             "#7201a8"
            ],
            [
             0.3333333333333333,
             "#9c179e"
            ],
            [
             0.4444444444444444,
             "#bd3786"
            ],
            [
             0.5555555555555556,
             "#d8576b"
            ],
            [
             0.6666666666666666,
             "#ed7953"
            ],
            [
             0.7777777777777778,
             "#fb9f3a"
            ],
            [
             0.8888888888888888,
             "#fdca26"
            ],
            [
             1,
             "#f0f921"
            ]
           ]
          },
          "colorway": [
           "#636efa",
           "#EF553B",
           "#00cc96",
           "#ab63fa",
           "#FFA15A",
           "#19d3f3",
           "#FF6692",
           "#B6E880",
           "#FF97FF",
           "#FECB52"
          ],
          "font": {
           "color": "#2a3f5f"
          },
          "geo": {
           "bgcolor": "white",
           "lakecolor": "white",
           "landcolor": "#E5ECF6",
           "showlakes": true,
           "showland": true,
           "subunitcolor": "white"
          },
          "hoverlabel": {
           "align": "left"
          },
          "hovermode": "closest",
          "mapbox": {
           "style": "light"
          },
          "paper_bgcolor": "white",
          "plot_bgcolor": "#E5ECF6",
          "polar": {
           "angularaxis": {
            "gridcolor": "white",
            "linecolor": "white",
            "ticks": ""
           },
           "bgcolor": "#E5ECF6",
           "radialaxis": {
            "gridcolor": "white",
            "linecolor": "white",
            "ticks": ""
           }
          },
          "scene": {
           "xaxis": {
            "backgroundcolor": "#E5ECF6",
            "gridcolor": "white",
            "gridwidth": 2,
            "linecolor": "white",
            "showbackground": true,
            "ticks": "",
            "zerolinecolor": "white"
           },
           "yaxis": {
            "backgroundcolor": "#E5ECF6",
            "gridcolor": "white",
            "gridwidth": 2,
            "linecolor": "white",
            "showbackground": true,
            "ticks": "",
            "zerolinecolor": "white"
           },
           "zaxis": {
            "backgroundcolor": "#E5ECF6",
            "gridcolor": "white",
            "gridwidth": 2,
            "linecolor": "white",
            "showbackground": true,
            "ticks": "",
            "zerolinecolor": "white"
           }
          },
          "shapedefaults": {
           "line": {
            "color": "#2a3f5f"
           }
          },
          "ternary": {
           "aaxis": {
            "gridcolor": "white",
            "linecolor": "white",
            "ticks": ""
           },
           "baxis": {
            "gridcolor": "white",
            "linecolor": "white",
            "ticks": ""
           },
           "bgcolor": "#E5ECF6",
           "caxis": {
            "gridcolor": "white",
            "linecolor": "white",
            "ticks": ""
           }
          },
          "title": {
           "x": 0.05
          },
          "xaxis": {
           "automargin": true,
           "gridcolor": "white",
           "linecolor": "white",
           "ticks": "",
           "title": {
            "standoff": 15
           },
           "zerolinecolor": "white",
           "zerolinewidth": 2
          },
          "yaxis": {
           "automargin": true,
           "gridcolor": "white",
           "linecolor": "white",
           "ticks": "",
           "title": {
            "standoff": 15
           },
           "zerolinecolor": "white",
           "zerolinewidth": 2
          }
         }
        },
        "title": {
         "text": "Tren Total PA"
        },
        "xaxis": {
         "anchor": "y",
         "domain": [
          0,
          1
         ],
         "title": {
          "text": "Bulan"
         }
        },
        "yaxis": {
         "anchor": "x",
         "domain": [
          0,
          1
         ],
         "range": [
          95,
          315
         ],
         "tickformat": ",.0f",
         "title": {
          "text": "Jumlah PA"
         }
        }
       }
      }
     },
     "metadata": {},
     "output_type": "display_data"
    }
   ],
   "source": [
    "import polars as pl\n",
    "import plotly.express as px\n",
    "\n",
    "# Data contoh\n",
    "data_mix = pl.DataFrame({\n",
    "    \"KABUPATEN\": [\"KAB_A\", \"KAB_B\", \"KAB_A\"],\n",
    "    \"KECAMATAN\": [\"KEC_X\", \"KEC_Y\", \"KEC_X\"],\n",
    "    \"KELURAHAN\": [\"DES_1\", \"DES_2\", \"DES_1\"],\n",
    "    \"BULAN\": [\"JANUARI\", \"FEBRUARI\", \"MARET\"],\n",
    "    \"PROVINSI\": [\"PROV_A\", \"PROV_A\", \"PROV_A\"],\n",
    "    \"PA\": [100, 200, 300]\n",
    "})\n",
    "\n",
    "# Filter input\n",
    "filter_kabupaten = [\"KAB_A\"]\n",
    "filter_kecamatan = [\"KEC_X\"]\n",
    "filter_desa = [\"DES_1\"]\n",
    "filter_bulan = \"MARET\"\n",
    "\n",
    "# Fungsi untuk menghasilkan daftar bulan hingga bulan tertentu\n",
    "def bulan_hingga(bulan_akhir):\n",
    "    bulan_order = {\n",
    "        'JANUARI': 1,\n",
    "        'FEBRUARI': 2,\n",
    "        'MARET': 3,\n",
    "        'APRIL': 4,\n",
    "        'MEI': 5,\n",
    "        'JUNI': 6,\n",
    "        'JULI': 7,\n",
    "        'AGUSTUS': 8,\n",
    "        'SEPTEMBER': 9,\n",
    "        'OKTOBER': 10,\n",
    "        'NOVEMBER': 11,\n",
    "        'DESEMBER': 12\n",
    "    }\n",
    "    return [bulan for bulan, num in bulan_order.items() if num <= bulan_order[bulan_akhir]]\n",
    "\n",
    "# Agregasi data\n",
    "aggregated = data_mix.filter(\n",
    "    pl.col(\"KABUPATEN\").is_in(filter_kabupaten),\n",
    "    pl.col(\"KECAMATAN\").is_in(filter_kecamatan),\n",
    "    pl.col(\"KELURAHAN\").is_in(filter_desa),\n",
    "    pl.col(\"BULAN\").is_in(bulan_hingga(filter_bulan))\n",
    ").group_by(\n",
    "    'PROVINSI', 'BULAN'\n",
    ").agg([\n",
    "    pl.col(\"PA\").sum()\n",
    "])\n",
    "\n",
    "# Mengurutkan bulan sesuai urutan kronologis\n",
    "month_order = {\n",
    "    'JANUARI': 1,\n",
    "    'FEBRUARI': 2,\n",
    "    'MARET': 3,\n",
    "    'APRIL': 4,\n",
    "    'MEI': 5,\n",
    "    'JUNI': 6,\n",
    "    'JULI': 7,\n",
    "    'AGUSTUS': 8,\n",
    "    'SEPTEMBER': 9,\n",
    "    'OKTOBER': 10,\n",
    "    'NOVEMBER': 11,\n",
    "    'DESEMBER': 12\n",
    "}\n",
    "\n",
    "aggregated = aggregated.with_columns(\n",
    "    pl.col(\"BULAN\").replace(month_order).alias(\"month_num\")\n",
    ").sort(\"month_num\").drop(\"month_num\")\n",
    "\n",
    "# Hitung nilai minimum untuk sumbu Y (Januari - 10%)\n",
    "januari_data = aggregated.filter(pl.col(\"BULAN\") == \"JANUARI\")\n",
    "if januari_data.height > 0:  # Pastikan ada data untuk Januari\n",
    "    nilai_januari = januari_data[\"PA\"][0]\n",
    "    y_min = nilai_januari - (nilai_januari * 0.05)  # Januari - 10%\n",
    "else:\n",
    "    y_min = 0  # Default jika tidak ada data Januari\n",
    "\n",
    "max_value = aggregated[\"PA\"].max() * 1.05\n",
    "\n",
    "# Konversi ke Pandas untuk Plotly\n",
    "aggregated_pd = aggregated.to_pandas()\n",
    "\n",
    "# Buat grafik dengan Plotly\n",
    "fig = px.line(\n",
    "    aggregated_pd,  # Gunakan DataFrame Pandas\n",
    "    x=\"BULAN\",\n",
    "    y=\"PA\",\n",
    "    title=\"Tren Total PA\",\n",
    "    labels={\"BULAN\": \"Bulan\", \"PA\": \"Jumlah PA\"},\n",
    "    markers=True  # Menambahkan dot (marker) di setiap titik\n",
    ")\n",
    "\n",
    "# Update y-axis\n",
    "fig.update_yaxes(\n",
    "    range=[y_min, max_value],\n",
    "    tickformat=\",.0f\"  # Format angka tanpa desimal, dengan pemisah ribuan\n",
    ")\n",
    "\n",
    "# Update layout\n",
    "fig.update_layout(\n",
    "    showlegend=False,\n",
    "    paper_bgcolor=\"#f6f8fa\",\n",
    "    plot_bgcolor=\"#f6f8fa\",\n",
    "    margin=dict(l=50, r=50, t=80, b=50)  # Padding: kiri, kanan, atas, bawah\n",
    ")\n",
    "\n",
    "# Update tooltip\n",
    "fig.update_traces(\n",
    "    hovertemplate=\"Bulan = %{x}<br>Jumlah PA = %{y:,.0f}\"  # Format angka dengan pemisah ribuan\n",
    ")\n",
    "\n",
    "# Tampilkan grafik\n",
    "fig.show()"
   ]
  },
  {
   "cell_type": "code",
   "execution_count": 22,
   "metadata": {},
   "outputs": [
    {
     "data": {
      "application/vnd.plotly.v1+json": {
       "config": {
        "plotlyServerURL": "https://plot.ly"
       },
       "data": [
        {
         "hovertemplate": "Bulan = %{x}<br>Jumlah PA = %{y}",
         "legendgroup": "",
         "line": {
          "color": "#636efa",
          "dash": "solid"
         },
         "marker": {
          "symbol": "circle"
         },
         "mode": "lines+markers",
         "name": "",
         "orientation": "v",
         "showlegend": false,
         "type": "scatter",
         "x": [
          "JANUARI",
          "FEBRUARI"
         ],
         "xaxis": "x",
         "y": {
          "bdata": "WwQNBQ==",
          "dtype": "i2"
         },
         "yaxis": "y"
        }
       ],
       "layout": {
        "legend": {
         "tracegroupgap": 0
        },
        "margin": {
         "b": 50,
         "l": 50,
         "r": 50,
         "t": 80
        },
        "paper_bgcolor": "#f6f8fa",
        "plot_bgcolor": "#f6f8fa",
        "showlegend": false,
        "template": {
         "data": {
          "bar": [
           {
            "error_x": {
             "color": "#2a3f5f"
            },
            "error_y": {
             "color": "#2a3f5f"
            },
            "marker": {
             "line": {
              "color": "#E5ECF6",
              "width": 0.5
             },
             "pattern": {
              "fillmode": "overlay",
              "size": 10,
              "solidity": 0.2
             }
            },
            "type": "bar"
           }
          ],
          "barpolar": [
           {
            "marker": {
             "line": {
              "color": "#E5ECF6",
              "width": 0.5
             },
             "pattern": {
              "fillmode": "overlay",
              "size": 10,
              "solidity": 0.2
             }
            },
            "type": "barpolar"
           }
          ],
          "carpet": [
           {
            "aaxis": {
             "endlinecolor": "#2a3f5f",
             "gridcolor": "white",
             "linecolor": "white",
             "minorgridcolor": "white",
             "startlinecolor": "#2a3f5f"
            },
            "baxis": {
             "endlinecolor": "#2a3f5f",
             "gridcolor": "white",
             "linecolor": "white",
             "minorgridcolor": "white",
             "startlinecolor": "#2a3f5f"
            },
            "type": "carpet"
           }
          ],
          "choropleth": [
           {
            "colorbar": {
             "outlinewidth": 0,
             "ticks": ""
            },
            "type": "choropleth"
           }
          ],
          "contour": [
           {
            "colorbar": {
             "outlinewidth": 0,
             "ticks": ""
            },
            "colorscale": [
             [
              0,
              "#0d0887"
             ],
             [
              0.1111111111111111,
              "#46039f"
             ],
             [
              0.2222222222222222,
              "#7201a8"
             ],
             [
              0.3333333333333333,
              "#9c179e"
             ],
             [
              0.4444444444444444,
              "#bd3786"
             ],
             [
              0.5555555555555556,
              "#d8576b"
             ],
             [
              0.6666666666666666,
              "#ed7953"
             ],
             [
              0.7777777777777778,
              "#fb9f3a"
             ],
             [
              0.8888888888888888,
              "#fdca26"
             ],
             [
              1,
              "#f0f921"
             ]
            ],
            "type": "contour"
           }
          ],
          "contourcarpet": [
           {
            "colorbar": {
             "outlinewidth": 0,
             "ticks": ""
            },
            "type": "contourcarpet"
           }
          ],
          "heatmap": [
           {
            "colorbar": {
             "outlinewidth": 0,
             "ticks": ""
            },
            "colorscale": [
             [
              0,
              "#0d0887"
             ],
             [
              0.1111111111111111,
              "#46039f"
             ],
             [
              0.2222222222222222,
              "#7201a8"
             ],
             [
              0.3333333333333333,
              "#9c179e"
             ],
             [
              0.4444444444444444,
              "#bd3786"
             ],
             [
              0.5555555555555556,
              "#d8576b"
             ],
             [
              0.6666666666666666,
              "#ed7953"
             ],
             [
              0.7777777777777778,
              "#fb9f3a"
             ],
             [
              0.8888888888888888,
              "#fdca26"
             ],
             [
              1,
              "#f0f921"
             ]
            ],
            "type": "heatmap"
           }
          ],
          "histogram": [
           {
            "marker": {
             "pattern": {
              "fillmode": "overlay",
              "size": 10,
              "solidity": 0.2
             }
            },
            "type": "histogram"
           }
          ],
          "histogram2d": [
           {
            "colorbar": {
             "outlinewidth": 0,
             "ticks": ""
            },
            "colorscale": [
             [
              0,
              "#0d0887"
             ],
             [
              0.1111111111111111,
              "#46039f"
             ],
             [
              0.2222222222222222,
              "#7201a8"
             ],
             [
              0.3333333333333333,
              "#9c179e"
             ],
             [
              0.4444444444444444,
              "#bd3786"
             ],
             [
              0.5555555555555556,
              "#d8576b"
             ],
             [
              0.6666666666666666,
              "#ed7953"
             ],
             [
              0.7777777777777778,
              "#fb9f3a"
             ],
             [
              0.8888888888888888,
              "#fdca26"
             ],
             [
              1,
              "#f0f921"
             ]
            ],
            "type": "histogram2d"
           }
          ],
          "histogram2dcontour": [
           {
            "colorbar": {
             "outlinewidth": 0,
             "ticks": ""
            },
            "colorscale": [
             [
              0,
              "#0d0887"
             ],
             [
              0.1111111111111111,
              "#46039f"
             ],
             [
              0.2222222222222222,
              "#7201a8"
             ],
             [
              0.3333333333333333,
              "#9c179e"
             ],
             [
              0.4444444444444444,
              "#bd3786"
             ],
             [
              0.5555555555555556,
              "#d8576b"
             ],
             [
              0.6666666666666666,
              "#ed7953"
             ],
             [
              0.7777777777777778,
              "#fb9f3a"
             ],
             [
              0.8888888888888888,
              "#fdca26"
             ],
             [
              1,
              "#f0f921"
             ]
            ],
            "type": "histogram2dcontour"
           }
          ],
          "mesh3d": [
           {
            "colorbar": {
             "outlinewidth": 0,
             "ticks": ""
            },
            "type": "mesh3d"
           }
          ],
          "parcoords": [
           {
            "line": {
             "colorbar": {
              "outlinewidth": 0,
              "ticks": ""
             }
            },
            "type": "parcoords"
           }
          ],
          "pie": [
           {
            "automargin": true,
            "type": "pie"
           }
          ],
          "scatter": [
           {
            "fillpattern": {
             "fillmode": "overlay",
             "size": 10,
             "solidity": 0.2
            },
            "type": "scatter"
           }
          ],
          "scatter3d": [
           {
            "line": {
             "colorbar": {
              "outlinewidth": 0,
              "ticks": ""
             }
            },
            "marker": {
             "colorbar": {
              "outlinewidth": 0,
              "ticks": ""
             }
            },
            "type": "scatter3d"
           }
          ],
          "scattercarpet": [
           {
            "marker": {
             "colorbar": {
              "outlinewidth": 0,
              "ticks": ""
             }
            },
            "type": "scattercarpet"
           }
          ],
          "scattergeo": [
           {
            "marker": {
             "colorbar": {
              "outlinewidth": 0,
              "ticks": ""
             }
            },
            "type": "scattergeo"
           }
          ],
          "scattergl": [
           {
            "marker": {
             "colorbar": {
              "outlinewidth": 0,
              "ticks": ""
             }
            },
            "type": "scattergl"
           }
          ],
          "scattermap": [
           {
            "marker": {
             "colorbar": {
              "outlinewidth": 0,
              "ticks": ""
             }
            },
            "type": "scattermap"
           }
          ],
          "scattermapbox": [
           {
            "marker": {
             "colorbar": {
              "outlinewidth": 0,
              "ticks": ""
             }
            },
            "type": "scattermapbox"
           }
          ],
          "scatterpolar": [
           {
            "marker": {
             "colorbar": {
              "outlinewidth": 0,
              "ticks": ""
             }
            },
            "type": "scatterpolar"
           }
          ],
          "scatterpolargl": [
           {
            "marker": {
             "colorbar": {
              "outlinewidth": 0,
              "ticks": ""
             }
            },
            "type": "scatterpolargl"
           }
          ],
          "scatterternary": [
           {
            "marker": {
             "colorbar": {
              "outlinewidth": 0,
              "ticks": ""
             }
            },
            "type": "scatterternary"
           }
          ],
          "surface": [
           {
            "colorbar": {
             "outlinewidth": 0,
             "ticks": ""
            },
            "colorscale": [
             [
              0,
              "#0d0887"
             ],
             [
              0.1111111111111111,
              "#46039f"
             ],
             [
              0.2222222222222222,
              "#7201a8"
             ],
             [
              0.3333333333333333,
              "#9c179e"
             ],
             [
              0.4444444444444444,
              "#bd3786"
             ],
             [
              0.5555555555555556,
              "#d8576b"
             ],
             [
              0.6666666666666666,
              "#ed7953"
             ],
             [
              0.7777777777777778,
              "#fb9f3a"
             ],
             [
              0.8888888888888888,
              "#fdca26"
             ],
             [
              1,
              "#f0f921"
             ]
            ],
            "type": "surface"
           }
          ],
          "table": [
           {
            "cells": {
             "fill": {
              "color": "#EBF0F8"
             },
             "line": {
              "color": "white"
             }
            },
            "header": {
             "fill": {
              "color": "#C8D4E3"
             },
             "line": {
              "color": "white"
             }
            },
            "type": "table"
           }
          ]
         },
         "layout": {
          "annotationdefaults": {
           "arrowcolor": "#2a3f5f",
           "arrowhead": 0,
           "arrowwidth": 1
          },
          "autotypenumbers": "strict",
          "coloraxis": {
           "colorbar": {
            "outlinewidth": 0,
            "ticks": ""
           }
          },
          "colorscale": {
           "diverging": [
            [
             0,
             "#8e0152"
            ],
            [
             0.1,
             "#c51b7d"
            ],
            [
             0.2,
             "#de77ae"
            ],
            [
             0.3,
             "#f1b6da"
            ],
            [
             0.4,
             "#fde0ef"
            ],
            [
             0.5,
             "#f7f7f7"
            ],
            [
             0.6,
             "#e6f5d0"
            ],
            [
             0.7,
             "#b8e186"
            ],
            [
             0.8,
             "#7fbc41"
            ],
            [
             0.9,
             "#4d9221"
            ],
            [
             1,
             "#276419"
            ]
           ],
           "sequential": [
            [
             0,
             "#0d0887"
            ],
            [
             0.1111111111111111,
             "#46039f"
            ],
            [
             0.2222222222222222,
             "#7201a8"
            ],
            [
             0.3333333333333333,
             "#9c179e"
            ],
            [
             0.4444444444444444,
             "#bd3786"
            ],
            [
             0.5555555555555556,
             "#d8576b"
            ],
            [
             0.6666666666666666,
             "#ed7953"
            ],
            [
             0.7777777777777778,
             "#fb9f3a"
            ],
            [
             0.8888888888888888,
             "#fdca26"
            ],
            [
             1,
             "#f0f921"
            ]
           ],
           "sequentialminus": [
            [
             0,
             "#0d0887"
            ],
            [
             0.1111111111111111,
             "#46039f"
            ],
            [
             0.2222222222222222,
             "#7201a8"
            ],
            [
             0.3333333333333333,
             "#9c179e"
            ],
            [
             0.4444444444444444,
             "#bd3786"
            ],
            [
             0.5555555555555556,
             "#d8576b"
            ],
            [
             0.6666666666666666,
             "#ed7953"
            ],
            [
             0.7777777777777778,
             "#fb9f3a"
            ],
            [
             0.8888888888888888,
             "#fdca26"
            ],
            [
             1,
             "#f0f921"
            ]
           ]
          },
          "colorway": [
           "#636efa",
           "#EF553B",
           "#00cc96",
           "#ab63fa",
           "#FFA15A",
           "#19d3f3",
           "#FF6692",
           "#B6E880",
           "#FF97FF",
           "#FECB52"
          ],
          "font": {
           "color": "#2a3f5f"
          },
          "geo": {
           "bgcolor": "white",
           "lakecolor": "white",
           "landcolor": "#E5ECF6",
           "showlakes": true,
           "showland": true,
           "subunitcolor": "white"
          },
          "hoverlabel": {
           "align": "left"
          },
          "hovermode": "closest",
          "mapbox": {
           "style": "light"
          },
          "paper_bgcolor": "white",
          "plot_bgcolor": "#E5ECF6",
          "polar": {
           "angularaxis": {
            "gridcolor": "white",
            "linecolor": "white",
            "ticks": ""
           },
           "bgcolor": "#E5ECF6",
           "radialaxis": {
            "gridcolor": "white",
            "linecolor": "white",
            "ticks": ""
           }
          },
          "scene": {
           "xaxis": {
            "backgroundcolor": "#E5ECF6",
            "gridcolor": "white",
            "gridwidth": 2,
            "linecolor": "white",
            "showbackground": true,
            "ticks": "",
            "zerolinecolor": "white"
           },
           "yaxis": {
            "backgroundcolor": "#E5ECF6",
            "gridcolor": "white",
            "gridwidth": 2,
            "linecolor": "white",
            "showbackground": true,
            "ticks": "",
            "zerolinecolor": "white"
           },
           "zaxis": {
            "backgroundcolor": "#E5ECF6",
            "gridcolor": "white",
            "gridwidth": 2,
            "linecolor": "white",
            "showbackground": true,
            "ticks": "",
            "zerolinecolor": "white"
           }
          },
          "shapedefaults": {
           "line": {
            "color": "#2a3f5f"
           }
          },
          "ternary": {
           "aaxis": {
            "gridcolor": "white",
            "linecolor": "white",
            "ticks": ""
           },
           "baxis": {
            "gridcolor": "white",
            "linecolor": "white",
            "ticks": ""
           },
           "bgcolor": "#E5ECF6",
           "caxis": {
            "gridcolor": "white",
            "linecolor": "white",
            "ticks": ""
           }
          },
          "title": {
           "x": 0.05
          },
          "xaxis": {
           "automargin": true,
           "gridcolor": "white",
           "linecolor": "white",
           "ticks": "",
           "title": {
            "standoff": 15
           },
           "zerolinecolor": "white",
           "zerolinewidth": 2
          },
          "yaxis": {
           "automargin": true,
           "gridcolor": "white",
           "linecolor": "white",
           "ticks": "",
           "title": {
            "standoff": 15
           },
           "zerolinecolor": "white",
           "zerolinewidth": 2
          }
         }
        },
        "title": {
         "text": "Tren Total PA"
        },
        "xaxis": {
         "anchor": "y",
         "domain": [
          0,
          1
         ],
         "title": {
          "text": "Bulan"
         }
        },
        "yaxis": {
         "anchor": "x",
         "domain": [
          0,
          1
         ],
         "range": [
          1059.25,
          1357.65
         ],
         "tickformat": ",.0f",
         "title": {
          "text": "Jumlah PA"
         }
        }
       }
      }
     },
     "metadata": {},
     "output_type": "display_data"
    }
   ],
   "source": [
    "aggregated =  data_mix.filter(\n",
    "        pl.col(\"KABUPATEN\").is_in(filter_kabupaten),\n",
    "        pl.col(\"KECAMATAN\").is_in(filter_kecamatan),\n",
    "        pl.col(\"KELURAHAN\").is_in(filter_desa),\n",
    "        pl.col(\"BULAN\").is_in(bulan_hingga(filter_bulan))\n",
    "    ).group_by(\n",
    "        'PROVINSI', 'BULAN'\n",
    "    ).agg([\n",
    "        pl.col(\"PA\").sum()\n",
    "    ])\n",
    "\n",
    "# Mengurutkan bulan sesuai urutan kronologis\n",
    "month_order = {\n",
    "    'JANUARI': 1,\n",
    "    'FEBRUARI': 2,\n",
    "    'MARET': 3,\n",
    "    'APRIL': 4,\n",
    "    'MEI': 5,\n",
    "    'JUNI': 6,\n",
    "    'JULI': 7,\n",
    "    'AGUSTUS': 8,\n",
    "    'SEPTEMBER': 9,\n",
    "    'OKTOBER': 10,\n",
    "    'NOVEMBER': 11,\n",
    "    'DESEMBER': 12\n",
    "}\n",
    "\n",
    "aggregated = aggregated.with_columns(\n",
    "    pl.col(\"BULAN\").replace(month_order).alias(\"month_num\")\n",
    ").sort(\"month_num\").drop(\"month_num\")\n",
    "\n",
    "# Hitung nilai minimum untuk sumbu Y (Januari - 10%)\n",
    "nilai_januari = aggregated.filter(pl.col(\"BULAN\") == \"JANUARI\")[\"PA\"][0]\n",
    "y_min = nilai_januari - (nilai_januari * 0.05)  # Januari - 10%\n",
    "max_value = aggregated[\"PA\"].max() * 1.05\n",
    "\n",
    "fig = px.line(\n",
    "    aggregated,  # Langsung gunakan Polars DataFrame\n",
    "    x=\"BULAN\",\n",
    "    y=\"PA\",\n",
    "    title=\"Tren Total PA\",\n",
    "    labels={\"BULAN\": \"Bulan\", \"PA\": \"Jumlah PA\"},\n",
    "    markers=True  # Menambahkan dot (marker) di setiap titik\n",
    ")\n",
    "fig.update_yaxes(\n",
    "    range=[y_min, max_value],\n",
    "    tickformat=\",.0f\")  # `None` untuk batas atas otomatis \n",
    "\n",
    "fig.update_layout(\n",
    "    showlegend=False,\n",
    "    paper_bgcolor=\"#f6f8fa\",\n",
    "    plot_bgcolor=\"#f6f8fa\",\n",
    "    margin=dict(l=50, r=50, t=80, b=50)  # Padding: kiri, kanan, atas, bawah\n",
    ")\n",
    "fig.update_traces(\n",
    "    hovertemplate=\"Bulan = %{x}<br>Jumlah PA = %{y}\"\n",
    ")"
   ]
  },
  {
   "cell_type": "code",
   "execution_count": 10,
   "metadata": {},
   "outputs": [
    {
     "data": {
      "application/vnd.plotly.v1+json": {
       "config": {
        "plotlyServerURL": "https://plot.ly"
       },
       "data": [
        {
         "hovertemplate": "Bulan = %{x}<br>Persentase MKJP = %{y}%",
         "legendgroup": "",
         "line": {
          "color": "#636efa",
          "dash": "solid"
         },
         "marker": {
          "symbol": "circle"
         },
         "mode": "lines+markers",
         "name": "",
         "orientation": "v",
         "showlegend": false,
         "type": "scatter",
         "x": [
          "JANUARI",
          "FEBRUARI"
         ],
         "xaxis": "x",
         "y": {
          "bdata": "w/UoXI8COkAAAAAAAAA5QA==",
          "dtype": "f8"
         },
         "yaxis": "y"
        }
       ],
       "layout": {
        "legend": {
         "tracegroupgap": 0
        },
        "margin": {
         "b": 50,
         "l": 50,
         "r": 50,
         "t": 80
        },
        "paper_bgcolor": "#f6f8fa",
        "plot_bgcolor": "#f6f8fa",
        "showlegend": false,
        "template": {
         "data": {
          "bar": [
           {
            "error_x": {
             "color": "#2a3f5f"
            },
            "error_y": {
             "color": "#2a3f5f"
            },
            "marker": {
             "line": {
              "color": "#E5ECF6",
              "width": 0.5
             },
             "pattern": {
              "fillmode": "overlay",
              "size": 10,
              "solidity": 0.2
             }
            },
            "type": "bar"
           }
          ],
          "barpolar": [
           {
            "marker": {
             "line": {
              "color": "#E5ECF6",
              "width": 0.5
             },
             "pattern": {
              "fillmode": "overlay",
              "size": 10,
              "solidity": 0.2
             }
            },
            "type": "barpolar"
           }
          ],
          "carpet": [
           {
            "aaxis": {
             "endlinecolor": "#2a3f5f",
             "gridcolor": "white",
             "linecolor": "white",
             "minorgridcolor": "white",
             "startlinecolor": "#2a3f5f"
            },
            "baxis": {
             "endlinecolor": "#2a3f5f",
             "gridcolor": "white",
             "linecolor": "white",
             "minorgridcolor": "white",
             "startlinecolor": "#2a3f5f"
            },
            "type": "carpet"
           }
          ],
          "choropleth": [
           {
            "colorbar": {
             "outlinewidth": 0,
             "ticks": ""
            },
            "type": "choropleth"
           }
          ],
          "contour": [
           {
            "colorbar": {
             "outlinewidth": 0,
             "ticks": ""
            },
            "colorscale": [
             [
              0,
              "#0d0887"
             ],
             [
              0.1111111111111111,
              "#46039f"
             ],
             [
              0.2222222222222222,
              "#7201a8"
             ],
             [
              0.3333333333333333,
              "#9c179e"
             ],
             [
              0.4444444444444444,
              "#bd3786"
             ],
             [
              0.5555555555555556,
              "#d8576b"
             ],
             [
              0.6666666666666666,
              "#ed7953"
             ],
             [
              0.7777777777777778,
              "#fb9f3a"
             ],
             [
              0.8888888888888888,
              "#fdca26"
             ],
             [
              1,
              "#f0f921"
             ]
            ],
            "type": "contour"
           }
          ],
          "contourcarpet": [
           {
            "colorbar": {
             "outlinewidth": 0,
             "ticks": ""
            },
            "type": "contourcarpet"
           }
          ],
          "heatmap": [
           {
            "colorbar": {
             "outlinewidth": 0,
             "ticks": ""
            },
            "colorscale": [
             [
              0,
              "#0d0887"
             ],
             [
              0.1111111111111111,
              "#46039f"
             ],
             [
              0.2222222222222222,
              "#7201a8"
             ],
             [
              0.3333333333333333,
              "#9c179e"
             ],
             [
              0.4444444444444444,
              "#bd3786"
             ],
             [
              0.5555555555555556,
              "#d8576b"
             ],
             [
              0.6666666666666666,
              "#ed7953"
             ],
             [
              0.7777777777777778,
              "#fb9f3a"
             ],
             [
              0.8888888888888888,
              "#fdca26"
             ],
             [
              1,
              "#f0f921"
             ]
            ],
            "type": "heatmap"
           }
          ],
          "histogram": [
           {
            "marker": {
             "pattern": {
              "fillmode": "overlay",
              "size": 10,
              "solidity": 0.2
             }
            },
            "type": "histogram"
           }
          ],
          "histogram2d": [
           {
            "colorbar": {
             "outlinewidth": 0,
             "ticks": ""
            },
            "colorscale": [
             [
              0,
              "#0d0887"
             ],
             [
              0.1111111111111111,
              "#46039f"
             ],
             [
              0.2222222222222222,
              "#7201a8"
             ],
             [
              0.3333333333333333,
              "#9c179e"
             ],
             [
              0.4444444444444444,
              "#bd3786"
             ],
             [
              0.5555555555555556,
              "#d8576b"
             ],
             [
              0.6666666666666666,
              "#ed7953"
             ],
             [
              0.7777777777777778,
              "#fb9f3a"
             ],
             [
              0.8888888888888888,
              "#fdca26"
             ],
             [
              1,
              "#f0f921"
             ]
            ],
            "type": "histogram2d"
           }
          ],
          "histogram2dcontour": [
           {
            "colorbar": {
             "outlinewidth": 0,
             "ticks": ""
            },
            "colorscale": [
             [
              0,
              "#0d0887"
             ],
             [
              0.1111111111111111,
              "#46039f"
             ],
             [
              0.2222222222222222,
              "#7201a8"
             ],
             [
              0.3333333333333333,
              "#9c179e"
             ],
             [
              0.4444444444444444,
              "#bd3786"
             ],
             [
              0.5555555555555556,
              "#d8576b"
             ],
             [
              0.6666666666666666,
              "#ed7953"
             ],
             [
              0.7777777777777778,
              "#fb9f3a"
             ],
             [
              0.8888888888888888,
              "#fdca26"
             ],
             [
              1,
              "#f0f921"
             ]
            ],
            "type": "histogram2dcontour"
           }
          ],
          "mesh3d": [
           {
            "colorbar": {
             "outlinewidth": 0,
             "ticks": ""
            },
            "type": "mesh3d"
           }
          ],
          "parcoords": [
           {
            "line": {
             "colorbar": {
              "outlinewidth": 0,
              "ticks": ""
             }
            },
            "type": "parcoords"
           }
          ],
          "pie": [
           {
            "automargin": true,
            "type": "pie"
           }
          ],
          "scatter": [
           {
            "fillpattern": {
             "fillmode": "overlay",
             "size": 10,
             "solidity": 0.2
            },
            "type": "scatter"
           }
          ],
          "scatter3d": [
           {
            "line": {
             "colorbar": {
              "outlinewidth": 0,
              "ticks": ""
             }
            },
            "marker": {
             "colorbar": {
              "outlinewidth": 0,
              "ticks": ""
             }
            },
            "type": "scatter3d"
           }
          ],
          "scattercarpet": [
           {
            "marker": {
             "colorbar": {
              "outlinewidth": 0,
              "ticks": ""
             }
            },
            "type": "scattercarpet"
           }
          ],
          "scattergeo": [
           {
            "marker": {
             "colorbar": {
              "outlinewidth": 0,
              "ticks": ""
             }
            },
            "type": "scattergeo"
           }
          ],
          "scattergl": [
           {
            "marker": {
             "colorbar": {
              "outlinewidth": 0,
              "ticks": ""
             }
            },
            "type": "scattergl"
           }
          ],
          "scattermap": [
           {
            "marker": {
             "colorbar": {
              "outlinewidth": 0,
              "ticks": ""
             }
            },
            "type": "scattermap"
           }
          ],
          "scattermapbox": [
           {
            "marker": {
             "colorbar": {
              "outlinewidth": 0,
              "ticks": ""
             }
            },
            "type": "scattermapbox"
           }
          ],
          "scatterpolar": [
           {
            "marker": {
             "colorbar": {
              "outlinewidth": 0,
              "ticks": ""
             }
            },
            "type": "scatterpolar"
           }
          ],
          "scatterpolargl": [
           {
            "marker": {
             "colorbar": {
              "outlinewidth": 0,
              "ticks": ""
             }
            },
            "type": "scatterpolargl"
           }
          ],
          "scatterternary": [
           {
            "marker": {
             "colorbar": {
              "outlinewidth": 0,
              "ticks": ""
             }
            },
            "type": "scatterternary"
           }
          ],
          "surface": [
           {
            "colorbar": {
             "outlinewidth": 0,
             "ticks": ""
            },
            "colorscale": [
             [
              0,
              "#0d0887"
             ],
             [
              0.1111111111111111,
              "#46039f"
             ],
             [
              0.2222222222222222,
              "#7201a8"
             ],
             [
              0.3333333333333333,
              "#9c179e"
             ],
             [
              0.4444444444444444,
              "#bd3786"
             ],
             [
              0.5555555555555556,
              "#d8576b"
             ],
             [
              0.6666666666666666,
              "#ed7953"
             ],
             [
              0.7777777777777778,
              "#fb9f3a"
             ],
             [
              0.8888888888888888,
              "#fdca26"
             ],
             [
              1,
              "#f0f921"
             ]
            ],
            "type": "surface"
           }
          ],
          "table": [
           {
            "cells": {
             "fill": {
              "color": "#EBF0F8"
             },
             "line": {
              "color": "white"
             }
            },
            "header": {
             "fill": {
              "color": "#C8D4E3"
             },
             "line": {
              "color": "white"
             }
            },
            "type": "table"
           }
          ]
         },
         "layout": {
          "annotationdefaults": {
           "arrowcolor": "#2a3f5f",
           "arrowhead": 0,
           "arrowwidth": 1
          },
          "autotypenumbers": "strict",
          "coloraxis": {
           "colorbar": {
            "outlinewidth": 0,
            "ticks": ""
           }
          },
          "colorscale": {
           "diverging": [
            [
             0,
             "#8e0152"
            ],
            [
             0.1,
             "#c51b7d"
            ],
            [
             0.2,
             "#de77ae"
            ],
            [
             0.3,
             "#f1b6da"
            ],
            [
             0.4,
             "#fde0ef"
            ],
            [
             0.5,
             "#f7f7f7"
            ],
            [
             0.6,
             "#e6f5d0"
            ],
            [
             0.7,
             "#b8e186"
            ],
            [
             0.8,
             "#7fbc41"
            ],
            [
             0.9,
             "#4d9221"
            ],
            [
             1,
             "#276419"
            ]
           ],
           "sequential": [
            [
             0,
             "#0d0887"
            ],
            [
             0.1111111111111111,
             "#46039f"
            ],
            [
             0.2222222222222222,
             "#7201a8"
            ],
            [
             0.3333333333333333,
             "#9c179e"
            ],
            [
             0.4444444444444444,
             "#bd3786"
            ],
            [
             0.5555555555555556,
             "#d8576b"
            ],
            [
             0.6666666666666666,
             "#ed7953"
            ],
            [
             0.7777777777777778,
             "#fb9f3a"
            ],
            [
             0.8888888888888888,
             "#fdca26"
            ],
            [
             1,
             "#f0f921"
            ]
           ],
           "sequentialminus": [
            [
             0,
             "#0d0887"
            ],
            [
             0.1111111111111111,
             "#46039f"
            ],
            [
             0.2222222222222222,
             "#7201a8"
            ],
            [
             0.3333333333333333,
             "#9c179e"
            ],
            [
             0.4444444444444444,
             "#bd3786"
            ],
            [
             0.5555555555555556,
             "#d8576b"
            ],
            [
             0.6666666666666666,
             "#ed7953"
            ],
            [
             0.7777777777777778,
             "#fb9f3a"
            ],
            [
             0.8888888888888888,
             "#fdca26"
            ],
            [
             1,
             "#f0f921"
            ]
           ]
          },
          "colorway": [
           "#636efa",
           "#EF553B",
           "#00cc96",
           "#ab63fa",
           "#FFA15A",
           "#19d3f3",
           "#FF6692",
           "#B6E880",
           "#FF97FF",
           "#FECB52"
          ],
          "font": {
           "color": "#2a3f5f"
          },
          "geo": {
           "bgcolor": "white",
           "lakecolor": "white",
           "landcolor": "#E5ECF6",
           "showlakes": true,
           "showland": true,
           "subunitcolor": "white"
          },
          "hoverlabel": {
           "align": "left"
          },
          "hovermode": "closest",
          "mapbox": {
           "style": "light"
          },
          "paper_bgcolor": "white",
          "plot_bgcolor": "#E5ECF6",
          "polar": {
           "angularaxis": {
            "gridcolor": "white",
            "linecolor": "white",
            "ticks": ""
           },
           "bgcolor": "#E5ECF6",
           "radialaxis": {
            "gridcolor": "white",
            "linecolor": "white",
            "ticks": ""
           }
          },
          "scene": {
           "xaxis": {
            "backgroundcolor": "#E5ECF6",
            "gridcolor": "white",
            "gridwidth": 2,
            "linecolor": "white",
            "showbackground": true,
            "ticks": "",
            "zerolinecolor": "white"
           },
           "yaxis": {
            "backgroundcolor": "#E5ECF6",
            "gridcolor": "white",
            "gridwidth": 2,
            "linecolor": "white",
            "showbackground": true,
            "ticks": "",
            "zerolinecolor": "white"
           },
           "zaxis": {
            "backgroundcolor": "#E5ECF6",
            "gridcolor": "white",
            "gridwidth": 2,
            "linecolor": "white",
            "showbackground": true,
            "ticks": "",
            "zerolinecolor": "white"
           }
          },
          "shapedefaults": {
           "line": {
            "color": "#2a3f5f"
           }
          },
          "ternary": {
           "aaxis": {
            "gridcolor": "white",
            "linecolor": "white",
            "ticks": ""
           },
           "baxis": {
            "gridcolor": "white",
            "linecolor": "white",
            "ticks": ""
           },
           "bgcolor": "#E5ECF6",
           "caxis": {
            "gridcolor": "white",
            "linecolor": "white",
            "ticks": ""
           }
          },
          "title": {
           "x": 0.05
          },
          "xaxis": {
           "automargin": true,
           "gridcolor": "white",
           "linecolor": "white",
           "ticks": "",
           "title": {
            "standoff": 15
           },
           "zerolinecolor": "white",
           "zerolinewidth": 2
          },
          "yaxis": {
           "automargin": true,
           "gridcolor": "white",
           "linecolor": "white",
           "ticks": "",
           "title": {
            "standoff": 15
           },
           "zerolinecolor": "white",
           "zerolinewidth": 2
          }
         }
        },
        "title": {
         "text": "Tren Total PA"
        },
        "xaxis": {
         "anchor": "y",
         "domain": [
          0,
          1
         ],
         "title": {
          "text": "Bulan"
         }
        },
        "yaxis": {
         "anchor": "x",
         "domain": [
          0,
          1
         ],
         "range": [
          24.709500000000002,
          27.3105
         ],
         "tickformat": ",.0f",
         "title": {
          "text": "MKJP"
         }
        }
       }
      }
     },
     "metadata": {},
     "output_type": "display_data"
    }
   ],
   "source": [
    "aggregated = data_mix.filter(\n",
    "    pl.col(\"KABUPATEN\").is_in(filter_kabupaten),\n",
    "    pl.col(\"KECAMATAN\").is_in(filter_kecamatan),\n",
    "    pl.col(\"KELURAHAN\").is_in(filter_desa),\n",
    "    pl.col(\"BULAN\").is_in(bulan_hingga(filter_bulan))\n",
    ").group_by('PROVINSI', \"BULAN\").agg([\n",
    "    pl.col(\"IMPLAN\").sum(),\n",
    "    pl.col(\"IUD\").sum(),\n",
    "    pl.col(\"VASEKTOMI\").sum(),\n",
    "    pl.col(\"TUBEKTOMI\").sum(),\n",
    "    pl.col(\"KB MODERN\").sum()\n",
    "]).with_columns(\n",
    "    (((pl.col(\"IUD\") + pl.col(\"IMPLAN\") + pl.col(\"VASEKTOMI\") + pl.col(\"TUBEKTOMI\")) / pl.col(\"KB MODERN\"))* 100).round(2).alias('MKJP')\n",
    ")\n",
    "\n",
    "# Mengurutkan bulan sesuai urutan kronologis\n",
    "month_order = {\n",
    "    'JANUARI': 1,\n",
    "    'FEBRUARI': 2,\n",
    "    'MARET': 3,\n",
    "    'APRIL': 4,\n",
    "    'MEI': 5,\n",
    "    'JUNI': 6,\n",
    "    'JULI': 7,\n",
    "    'AGUSTUS': 8,\n",
    "    'SEPTEMBER': 9,\n",
    "    'OKTOBER': 10,\n",
    "    'NOVEMBER': 11,\n",
    "    'DESEMBER': 12\n",
    "}\n",
    "\n",
    "aggregated = aggregated.with_columns(\n",
    "    pl.col(\"BULAN\").replace(month_order).alias(\"month_num\")\n",
    ").sort(\"month_num\").drop(\"month_num\")\n",
    "\n",
    "# Hitung nilai minimum untuk sumbu Y (Januari - 10%)\n",
    "nilai_januari = aggregated.filter(pl.col(\"BULAN\") == \"JANUARI\")[\"MKJP\"][0]\n",
    "y_min = nilai_januari - (nilai_januari * 0.05)  # Januari - 10%\n",
    "max_value = aggregated[\"MKJP\"].max() * 1.05\n",
    "\n",
    "fig = px.line(\n",
    "    aggregated,  # Langsung gunakan Polars DataFrame\n",
    "    x=\"BULAN\",\n",
    "    y=\"MKJP\",\n",
    "    title=\"Tren Total PA\",\n",
    "    labels={\"BULAN\": \"Bulan\", \"PA\": \"Persentase MKJP\"},\n",
    "    markers=True  # Menambahkan dot (marker) di setiap titik\n",
    ")\n",
    "fig.update_yaxes(\n",
    "    range=[y_min, max_value],\n",
    "    tickformat=\",.0f\")  # `None` untuk batas atas otomatis \n",
    "\n",
    "fig.update_layout(\n",
    "    showlegend=False,\n",
    "    paper_bgcolor=\"#f6f8fa\",\n",
    "    plot_bgcolor=\"#f6f8fa\",\n",
    "    margin=dict(l=50, r=50, t=80, b=50)  # Padding: kiri, kanan, atas, bawah\n",
    ")\n",
    "fig.update_traces(\n",
    "    hovertemplate=\"Bulan = %{x}<br>Persentase MKJP = %{y}%\"\n",
    ")"
   ]
  },
  {
   "cell_type": "code",
   "execution_count": 18,
   "metadata": {},
   "outputs": [
    {
     "data": {
      "application/vnd.plotly.v1+json": {
       "config": {
        "plotlyServerURL": "https://plot.ly"
       },
       "data": [
        {
         "hovertemplate": "Bulan = %{x}<br>Persentase Unmet Need = %{y}%",
         "legendgroup": "",
         "line": {
          "color": "#636efa",
          "dash": "solid"
         },
         "marker": {
          "symbol": "circle"
         },
         "mode": "lines+markers",
         "name": "",
         "orientation": "v",
         "showlegend": false,
         "type": "scatter",
         "x": [
          "JANUARI",
          "FEBRUARI"
         ],
         "xaxis": "x",
         "y": {
          "bdata": "4QF7fiaGIUBw2NH0clshQA==",
          "dtype": "f8"
         },
         "yaxis": "y"
        }
       ],
       "layout": {
        "legend": {
         "tracegroupgap": 0
        },
        "margin": {
         "b": 50,
         "l": 50,
         "r": 50,
         "t": 80
        },
        "paper_bgcolor": "#f6f8fa",
        "plot_bgcolor": "#f6f8fa",
        "showlegend": false,
        "template": {
         "data": {
          "bar": [
           {
            "error_x": {
             "color": "#2a3f5f"
            },
            "error_y": {
             "color": "#2a3f5f"
            },
            "marker": {
             "line": {
              "color": "#E5ECF6",
              "width": 0.5
             },
             "pattern": {
              "fillmode": "overlay",
              "size": 10,
              "solidity": 0.2
             }
            },
            "type": "bar"
           }
          ],
          "barpolar": [
           {
            "marker": {
             "line": {
              "color": "#E5ECF6",
              "width": 0.5
             },
             "pattern": {
              "fillmode": "overlay",
              "size": 10,
              "solidity": 0.2
             }
            },
            "type": "barpolar"
           }
          ],
          "carpet": [
           {
            "aaxis": {
             "endlinecolor": "#2a3f5f",
             "gridcolor": "white",
             "linecolor": "white",
             "minorgridcolor": "white",
             "startlinecolor": "#2a3f5f"
            },
            "baxis": {
             "endlinecolor": "#2a3f5f",
             "gridcolor": "white",
             "linecolor": "white",
             "minorgridcolor": "white",
             "startlinecolor": "#2a3f5f"
            },
            "type": "carpet"
           }
          ],
          "choropleth": [
           {
            "colorbar": {
             "outlinewidth": 0,
             "ticks": ""
            },
            "type": "choropleth"
           }
          ],
          "contour": [
           {
            "colorbar": {
             "outlinewidth": 0,
             "ticks": ""
            },
            "colorscale": [
             [
              0,
              "#0d0887"
             ],
             [
              0.1111111111111111,
              "#46039f"
             ],
             [
              0.2222222222222222,
              "#7201a8"
             ],
             [
              0.3333333333333333,
              "#9c179e"
             ],
             [
              0.4444444444444444,
              "#bd3786"
             ],
             [
              0.5555555555555556,
              "#d8576b"
             ],
             [
              0.6666666666666666,
              "#ed7953"
             ],
             [
              0.7777777777777778,
              "#fb9f3a"
             ],
             [
              0.8888888888888888,
              "#fdca26"
             ],
             [
              1,
              "#f0f921"
             ]
            ],
            "type": "contour"
           }
          ],
          "contourcarpet": [
           {
            "colorbar": {
             "outlinewidth": 0,
             "ticks": ""
            },
            "type": "contourcarpet"
           }
          ],
          "heatmap": [
           {
            "colorbar": {
             "outlinewidth": 0,
             "ticks": ""
            },
            "colorscale": [
             [
              0,
              "#0d0887"
             ],
             [
              0.1111111111111111,
              "#46039f"
             ],
             [
              0.2222222222222222,
              "#7201a8"
             ],
             [
              0.3333333333333333,
              "#9c179e"
             ],
             [
              0.4444444444444444,
              "#bd3786"
             ],
             [
              0.5555555555555556,
              "#d8576b"
             ],
             [
              0.6666666666666666,
              "#ed7953"
             ],
             [
              0.7777777777777778,
              "#fb9f3a"
             ],
             [
              0.8888888888888888,
              "#fdca26"
             ],
             [
              1,
              "#f0f921"
             ]
            ],
            "type": "heatmap"
           }
          ],
          "histogram": [
           {
            "marker": {
             "pattern": {
              "fillmode": "overlay",
              "size": 10,
              "solidity": 0.2
             }
            },
            "type": "histogram"
           }
          ],
          "histogram2d": [
           {
            "colorbar": {
             "outlinewidth": 0,
             "ticks": ""
            },
            "colorscale": [
             [
              0,
              "#0d0887"
             ],
             [
              0.1111111111111111,
              "#46039f"
             ],
             [
              0.2222222222222222,
              "#7201a8"
             ],
             [
              0.3333333333333333,
              "#9c179e"
             ],
             [
              0.4444444444444444,
              "#bd3786"
             ],
             [
              0.5555555555555556,
              "#d8576b"
             ],
             [
              0.6666666666666666,
              "#ed7953"
             ],
             [
              0.7777777777777778,
              "#fb9f3a"
             ],
             [
              0.8888888888888888,
              "#fdca26"
             ],
             [
              1,
              "#f0f921"
             ]
            ],
            "type": "histogram2d"
           }
          ],
          "histogram2dcontour": [
           {
            "colorbar": {
             "outlinewidth": 0,
             "ticks": ""
            },
            "colorscale": [
             [
              0,
              "#0d0887"
             ],
             [
              0.1111111111111111,
              "#46039f"
             ],
             [
              0.2222222222222222,
              "#7201a8"
             ],
             [
              0.3333333333333333,
              "#9c179e"
             ],
             [
              0.4444444444444444,
              "#bd3786"
             ],
             [
              0.5555555555555556,
              "#d8576b"
             ],
             [
              0.6666666666666666,
              "#ed7953"
             ],
             [
              0.7777777777777778,
              "#fb9f3a"
             ],
             [
              0.8888888888888888,
              "#fdca26"
             ],
             [
              1,
              "#f0f921"
             ]
            ],
            "type": "histogram2dcontour"
           }
          ],
          "mesh3d": [
           {
            "colorbar": {
             "outlinewidth": 0,
             "ticks": ""
            },
            "type": "mesh3d"
           }
          ],
          "parcoords": [
           {
            "line": {
             "colorbar": {
              "outlinewidth": 0,
              "ticks": ""
             }
            },
            "type": "parcoords"
           }
          ],
          "pie": [
           {
            "automargin": true,
            "type": "pie"
           }
          ],
          "scatter": [
           {
            "fillpattern": {
             "fillmode": "overlay",
             "size": 10,
             "solidity": 0.2
            },
            "type": "scatter"
           }
          ],
          "scatter3d": [
           {
            "line": {
             "colorbar": {
              "outlinewidth": 0,
              "ticks": ""
             }
            },
            "marker": {
             "colorbar": {
              "outlinewidth": 0,
              "ticks": ""
             }
            },
            "type": "scatter3d"
           }
          ],
          "scattercarpet": [
           {
            "marker": {
             "colorbar": {
              "outlinewidth": 0,
              "ticks": ""
             }
            },
            "type": "scattercarpet"
           }
          ],
          "scattergeo": [
           {
            "marker": {
             "colorbar": {
              "outlinewidth": 0,
              "ticks": ""
             }
            },
            "type": "scattergeo"
           }
          ],
          "scattergl": [
           {
            "marker": {
             "colorbar": {
              "outlinewidth": 0,
              "ticks": ""
             }
            },
            "type": "scattergl"
           }
          ],
          "scattermap": [
           {
            "marker": {
             "colorbar": {
              "outlinewidth": 0,
              "ticks": ""
             }
            },
            "type": "scattermap"
           }
          ],
          "scattermapbox": [
           {
            "marker": {
             "colorbar": {
              "outlinewidth": 0,
              "ticks": ""
             }
            },
            "type": "scattermapbox"
           }
          ],
          "scatterpolar": [
           {
            "marker": {
             "colorbar": {
              "outlinewidth": 0,
              "ticks": ""
             }
            },
            "type": "scatterpolar"
           }
          ],
          "scatterpolargl": [
           {
            "marker": {
             "colorbar": {
              "outlinewidth": 0,
              "ticks": ""
             }
            },
            "type": "scatterpolargl"
           }
          ],
          "scatterternary": [
           {
            "marker": {
             "colorbar": {
              "outlinewidth": 0,
              "ticks": ""
             }
            },
            "type": "scatterternary"
           }
          ],
          "surface": [
           {
            "colorbar": {
             "outlinewidth": 0,
             "ticks": ""
            },
            "colorscale": [
             [
              0,
              "#0d0887"
             ],
             [
              0.1111111111111111,
              "#46039f"
             ],
             [
              0.2222222222222222,
              "#7201a8"
             ],
             [
              0.3333333333333333,
              "#9c179e"
             ],
             [
              0.4444444444444444,
              "#bd3786"
             ],
             [
              0.5555555555555556,
              "#d8576b"
             ],
             [
              0.6666666666666666,
              "#ed7953"
             ],
             [
              0.7777777777777778,
              "#fb9f3a"
             ],
             [
              0.8888888888888888,
              "#fdca26"
             ],
             [
              1,
              "#f0f921"
             ]
            ],
            "type": "surface"
           }
          ],
          "table": [
           {
            "cells": {
             "fill": {
              "color": "#EBF0F8"
             },
             "line": {
              "color": "white"
             }
            },
            "header": {
             "fill": {
              "color": "#C8D4E3"
             },
             "line": {
              "color": "white"
             }
            },
            "type": "table"
           }
          ]
         },
         "layout": {
          "annotationdefaults": {
           "arrowcolor": "#2a3f5f",
           "arrowhead": 0,
           "arrowwidth": 1
          },
          "autotypenumbers": "strict",
          "coloraxis": {
           "colorbar": {
            "outlinewidth": 0,
            "ticks": ""
           }
          },
          "colorscale": {
           "diverging": [
            [
             0,
             "#8e0152"
            ],
            [
             0.1,
             "#c51b7d"
            ],
            [
             0.2,
             "#de77ae"
            ],
            [
             0.3,
             "#f1b6da"
            ],
            [
             0.4,
             "#fde0ef"
            ],
            [
             0.5,
             "#f7f7f7"
            ],
            [
             0.6,
             "#e6f5d0"
            ],
            [
             0.7,
             "#b8e186"
            ],
            [
             0.8,
             "#7fbc41"
            ],
            [
             0.9,
             "#4d9221"
            ],
            [
             1,
             "#276419"
            ]
           ],
           "sequential": [
            [
             0,
             "#0d0887"
            ],
            [
             0.1111111111111111,
             "#46039f"
            ],
            [
             0.2222222222222222,
             "#7201a8"
            ],
            [
             0.3333333333333333,
             "#9c179e"
            ],
            [
             0.4444444444444444,
             "#bd3786"
            ],
            [
             0.5555555555555556,
             "#d8576b"
            ],
            [
             0.6666666666666666,
             "#ed7953"
            ],
            [
             0.7777777777777778,
             "#fb9f3a"
            ],
            [
             0.8888888888888888,
             "#fdca26"
            ],
            [
             1,
             "#f0f921"
            ]
           ],
           "sequentialminus": [
            [
             0,
             "#0d0887"
            ],
            [
             0.1111111111111111,
             "#46039f"
            ],
            [
             0.2222222222222222,
             "#7201a8"
            ],
            [
             0.3333333333333333,
             "#9c179e"
            ],
            [
             0.4444444444444444,
             "#bd3786"
            ],
            [
             0.5555555555555556,
             "#d8576b"
            ],
            [
             0.6666666666666666,
             "#ed7953"
            ],
            [
             0.7777777777777778,
             "#fb9f3a"
            ],
            [
             0.8888888888888888,
             "#fdca26"
            ],
            [
             1,
             "#f0f921"
            ]
           ]
          },
          "colorway": [
           "#636efa",
           "#EF553B",
           "#00cc96",
           "#ab63fa",
           "#FFA15A",
           "#19d3f3",
           "#FF6692",
           "#B6E880",
           "#FF97FF",
           "#FECB52"
          ],
          "font": {
           "color": "#2a3f5f"
          },
          "geo": {
           "bgcolor": "white",
           "lakecolor": "white",
           "landcolor": "#E5ECF6",
           "showlakes": true,
           "showland": true,
           "subunitcolor": "white"
          },
          "hoverlabel": {
           "align": "left"
          },
          "hovermode": "closest",
          "mapbox": {
           "style": "light"
          },
          "paper_bgcolor": "white",
          "plot_bgcolor": "#E5ECF6",
          "polar": {
           "angularaxis": {
            "gridcolor": "white",
            "linecolor": "white",
            "ticks": ""
           },
           "bgcolor": "#E5ECF6",
           "radialaxis": {
            "gridcolor": "white",
            "linecolor": "white",
            "ticks": ""
           }
          },
          "scene": {
           "xaxis": {
            "backgroundcolor": "#E5ECF6",
            "gridcolor": "white",
            "gridwidth": 2,
            "linecolor": "white",
            "showbackground": true,
            "ticks": "",
            "zerolinecolor": "white"
           },
           "yaxis": {
            "backgroundcolor": "#E5ECF6",
            "gridcolor": "white",
            "gridwidth": 2,
            "linecolor": "white",
            "showbackground": true,
            "ticks": "",
            "zerolinecolor": "white"
           },
           "zaxis": {
            "backgroundcolor": "#E5ECF6",
            "gridcolor": "white",
            "gridwidth": 2,
            "linecolor": "white",
            "showbackground": true,
            "ticks": "",
            "zerolinecolor": "white"
           }
          },
          "shapedefaults": {
           "line": {
            "color": "#2a3f5f"
           }
          },
          "ternary": {
           "aaxis": {
            "gridcolor": "white",
            "linecolor": "white",
            "ticks": ""
           },
           "baxis": {
            "gridcolor": "white",
            "linecolor": "white",
            "ticks": ""
           },
           "bgcolor": "#E5ECF6",
           "caxis": {
            "gridcolor": "white",
            "linecolor": "white",
            "ticks": ""
           }
          },
          "title": {
           "x": 0.05
          },
          "xaxis": {
           "automargin": true,
           "gridcolor": "white",
           "linecolor": "white",
           "ticks": "",
           "title": {
            "standoff": 15
           },
           "zerolinecolor": "white",
           "zerolinewidth": 2
          },
          "yaxis": {
           "automargin": true,
           "gridcolor": "white",
           "linecolor": "white",
           "ticks": "",
           "title": {
            "standoff": 15
           },
           "zerolinecolor": "white",
           "zerolinewidth": 2
          }
         }
        },
        "title": {
         "text": "Tren Persentase Unmet Need"
        },
        "xaxis": {
         "anchor": "y",
         "domain": [
          0,
          1
         ],
         "title": {
          "text": "Bulan"
         }
        },
        "yaxis": {
         "anchor": "x",
         "domain": [
          0,
          1
         ],
         "range": [
          8.32391181458451,
          9.200113058224986
         ],
         "tickformat": ",.0f",
         "title": {
          "text": "UNMET NEED"
         }
        }
       }
      }
     },
     "metadata": {},
     "output_type": "display_data"
    }
   ],
   "source": [
    "aggregated = data_pus.filter(\n",
    "    pl.col(\"KABUPATEN\").is_in(filter_kabupaten),\n",
    "    pl.col(\"KECAMATAN\").is_in(filter_kecamatan),\n",
    "    pl.col(\"KELURAHAN\").is_in(filter_desa),\n",
    "    pl.col(\"BULAN\").is_in(bulan_hingga(filter_bulan))\n",
    ").group_by('PROVINSI', 'BULAN').agg([\n",
    "    pl.col(\"PUS\").sum(),\n",
    "    pl.col(\"UNMET NEED\").sum()\n",
    "]).with_columns(\n",
    "    ((pl.col(\"UNMET NEED\") / pl.col(\"PUS\"))* 100).alias('UNMET NEED')\n",
    ")\n",
    "\n",
    "aggregated = aggregated.with_columns(\n",
    "    pl.col(\"BULAN\").replace(month_order).alias(\"month_num\")\n",
    ").sort(\"month_num\").drop(\"month_num\")\n",
    "\n",
    "# Hitung nilai minimum untuk sumbu Y (Januari - 10%)\n",
    "nilai_januari = aggregated.filter(pl.col(\"BULAN\") == \"JANUARI\")[\"UNMET NEED\"][0]\n",
    "y_min = nilai_januari - (nilai_januari * 0.05)  # Januari - 10%\n",
    "max_value = aggregated[\"UNMET NEED\"].max() * 1.05\n",
    "\n",
    "fig = px.line(\n",
    "    aggregated,  # Langsung gunakan Polars DataFrame\n",
    "    x=\"BULAN\",\n",
    "    y=\"UNMET NEED\",\n",
    "    title=\"Tren Persentase Unmet Need\",\n",
    "    labels={\"BULAN\": \"Bulan\", \"PA\": \"Persentase Unmet Need\"},\n",
    "    markers=True  # Menambahkan dot (marker) di setiap titik\n",
    ")\n",
    "fig.update_yaxes(\n",
    "    range=[y_min, max_value],\n",
    "    tickformat=\",.0f\")  # `None` untuk batas atas otomatis \n",
    "\n",
    "fig.update_layout(\n",
    "    showlegend=False,\n",
    "    paper_bgcolor=\"#f6f8fa\",\n",
    "    plot_bgcolor=\"#f6f8fa\",\n",
    "    margin=dict(l=50, r=50, t=80, b=50)  # Padding: kiri, kanan, atas, bawah\n",
    ")\n",
    "fig.update_traces(\n",
    "    hovertemplate=\"Bulan = %{x}<br>Persentase Unmet Need = %{y}%\"\n",
    ")"
   ]
  },
  {
   "cell_type": "code",
   "execution_count": 39,
   "metadata": {},
   "outputs": [
    {
     "data": {
      "text/html": [
       "<table id=\"itables_2b8d3785_7b1c_46e7_8388_0a7a7f4c3422\" class=\"display nowrap\" data-quarto-disable-processing=\"true\" style=\"table-layout:auto;width:auto;margin:auto;caption-side:bottom\">\n",
       "<thead>\n",
       "    <tr style=\"text-align: right;\">\n",
       "      \n",
       "      <th>PROVINSI</th>\n",
       "      <th>SUNTIK</th>\n",
       "      <th>PIL</th>\n",
       "      <th>KONDOM</th>\n",
       "      <th>MAL</th>\n",
       "      <th>IMPLAN</th>\n",
       "      <th>IUD</th>\n",
       "      <th>VASEKTOMI</th>\n",
       "      <th>TUBEKTOMI</th>\n",
       "    </tr>\n",
       "  </thead><tbody><tr>\n",
       "<td style=\"vertical-align:middle; text-align:left\">\n",
       "<a href=https://mwouts.github.io/itables/><svg class=\"main-svg\" xmlns=\"http://www.w3.org/2000/svg\" xmlns:xlink=\"http://www.w3.org/1999/xlink\"\n",
       "width=\"64\" viewBox=\"0 0 500 400\" style=\"font-family: 'Droid Sans', sans-serif;\">\n",
       "    <g style=\"fill:#d9d7fc\">\n",
       "        <path d=\"M100,400H500V357H100Z\" />\n",
       "        <path d=\"M100,300H400V257H100Z\" />\n",
       "        <path d=\"M0,200H400V157H0Z\" />\n",
       "        <path d=\"M100,100H500V57H100Z\" />\n",
       "        <path d=\"M100,350H500V307H100Z\" />\n",
       "        <path d=\"M100,250H400V207H100Z\" />\n",
       "        <path d=\"M0,150H400V107H0Z\" />\n",
       "        <path d=\"M100,50H500V7H100Z\" />\n",
       "    </g>\n",
       "    <g style=\"fill:#1a1366;stroke:#1a1366;\">\n",
       "   <rect x=\"100\" y=\"7\" width=\"400\" height=\"43\">\n",
       "    <animate\n",
       "      attributeName=\"width\"\n",
       "      values=\"0;400;0\"\n",
       "      dur=\"5s\"\n",
       "      repeatCount=\"indefinite\" />\n",
       "      <animate\n",
       "      attributeName=\"x\"\n",
       "      values=\"100;100;500\"\n",
       "      dur=\"5s\"\n",
       "      repeatCount=\"indefinite\" />\n",
       "  </rect>\n",
       "        <rect x=\"0\" y=\"107\" width=\"400\" height=\"43\">\n",
       "    <animate\n",
       "      attributeName=\"width\"\n",
       "      values=\"0;400;0\"\n",
       "      dur=\"3.5s\"\n",
       "      repeatCount=\"indefinite\" />\n",
       "    <animate\n",
       "      attributeName=\"x\"\n",
       "      values=\"0;0;400\"\n",
       "      dur=\"3.5s\"\n",
       "      repeatCount=\"indefinite\" />\n",
       "  </rect>\n",
       "        <rect x=\"100\" y=\"207\" width=\"300\" height=\"43\">\n",
       "    <animate\n",
       "      attributeName=\"width\"\n",
       "      values=\"0;300;0\"\n",
       "      dur=\"3s\"\n",
       "      repeatCount=\"indefinite\" />\n",
       "    <animate\n",
       "      attributeName=\"x\"\n",
       "      values=\"100;100;400\"\n",
       "      dur=\"3s\"\n",
       "      repeatCount=\"indefinite\" />\n",
       "  </rect>\n",
       "        <rect x=\"100\" y=\"307\" width=\"400\" height=\"43\">\n",
       "    <animate\n",
       "      attributeName=\"width\"\n",
       "      values=\"0;400;0\"\n",
       "      dur=\"4s\"\n",
       "      repeatCount=\"indefinite\" />\n",
       "      <animate\n",
       "      attributeName=\"x\"\n",
       "      values=\"100;100;500\"\n",
       "      dur=\"4s\"\n",
       "      repeatCount=\"indefinite\" />\n",
       "  </rect>\n",
       "        <g style=\"fill:transparent;stroke-width:8; stroke-linejoin:round\" rx=\"5\">\n",
       "            <g transform=\"translate(45 50) rotate(-45)\">\n",
       "                <circle r=\"33\" cx=\"0\" cy=\"0\" />\n",
       "                <rect x=\"-8\" y=\"32\" width=\"16\" height=\"30\" />\n",
       "            </g>\n",
       "\n",
       "            <g transform=\"translate(450 152)\">\n",
       "                <polyline points=\"-15,-20 -35,-20 -35,40 25,40 25,20\" />\n",
       "                <rect x=\"-15\" y=\"-40\" width=\"60\" height=\"60\" />\n",
       "            </g>\n",
       "\n",
       "            <g transform=\"translate(50 352)\">\n",
       "                <polygon points=\"-35,-5 0,-40 35,-5\" />\n",
       "                <polygon points=\"-35,10 0,45 35,10\" />\n",
       "            </g>\n",
       "\n",
       "            <g transform=\"translate(75 250)\">\n",
       "                <polyline points=\"-30,30 -60,0 -30,-30\" />\n",
       "                <polyline points=\"0,30 -30,0 0,-30\" />\n",
       "            </g>\n",
       "\n",
       "            <g transform=\"translate(425 250) rotate(180)\">\n",
       "                <polyline points=\"-30,30 -60,0 -30,-30\" />\n",
       "                <polyline points=\"0,30 -30,0 0,-30\" />\n",
       "            </g>\n",
       "        </g>\n",
       "    </g>\n",
       "</svg>\n",
       "</a>\n",
       "Loading ITables v2.2.5 from the internet...\n",
       "(need <a href=https://mwouts.github.io/itables/troubleshooting.html>help</a>?)</td>\n",
       "</tr></tbody>\n",
       "</table>\n",
       "<link href=\"https://www.unpkg.com/dt_for_itables@2.0.13/dt_bundle.css\" rel=\"stylesheet\">\n",
       "<script type=\"module\">\n",
       "    import {DataTable, jQuery as $} from 'https://www.unpkg.com/dt_for_itables@2.0.13/dt_bundle.js';\n",
       "\n",
       "    document.querySelectorAll(\"#itables_2b8d3785_7b1c_46e7_8388_0a7a7f4c3422:not(.dataTable)\").forEach(table => {\n",
       "        if (!(table instanceof HTMLTableElement))\n",
       "            return;\n",
       "\n",
       "        // Define the table data\n",
       "        const data = [[\"SULAWESI BARAT\", 664, 278, 12, 0, 214, 63, 0, 41]];\n",
       "\n",
       "        // Define the dt_args\n",
       "        let dt_args = {\"layout\": {\"topStart\": null, \"topEnd\": null, \"bottomStart\": null, \"bottomEnd\": null}, \"order\": [], \"warn_on_selected_rows_not_rendered\": true};\n",
       "        dt_args[\"data\"] = data;\n",
       "\n",
       "        \n",
       "        new DataTable(table, dt_args);\n",
       "    });\n",
       "</script>\n"
      ],
      "text/plain": [
       "<IPython.core.display.HTML object>"
      ]
     },
     "metadata": {},
     "output_type": "display_data"
    }
   ],
   "source": [
    "mix_kontra = data_mix.filter(\n",
    "    pl.col(\"KABUPATEN\").is_in(filter_kabupaten),\n",
    "    pl.col(\"KECAMATAN\").is_in(filter_kecamatan),\n",
    "    pl.col(\"KELURAHAN\").is_in(filter_desa),\n",
    "    pl.col(\"BULAN\").is_in([filter_bulan])\n",
    ").group_by('PROVINSI').agg([\n",
    "    pl.col(\"SUNTIK\").sum(),\n",
    "    pl.col(\"PIL\").sum(),\n",
    "    pl.col(\"KONDOM\").sum(),\n",
    "    pl.col(\"MAL\").sum(),\n",
    "    pl.col(\"IMPLAN\").sum(),\n",
    "    pl.col(\"IUD\").sum(),\n",
    "    pl.col(\"VASEKTOMI\").sum(),\n",
    "    pl.col(\"TUBEKTOMI\").sum()\n",
    "])\n",
    "show(mix_kontra)"
   ]
  },
  {
   "cell_type": "code",
   "execution_count": 29,
   "metadata": {},
   "outputs": [
    {
     "data": {
      "application/vnd.plotly.v1+json": {
       "config": {
        "plotlyServerURL": "https://plot.ly"
       },
       "data": [
        {
         "hovertemplate": "Metode KB: %{y}<br>Jumlah Pengguna: %{x}<extra></extra>",
         "legendgroup": "",
         "marker": {
          "color": "#636efa",
          "pattern": {
           "shape": ""
          }
         },
         "name": "",
         "orientation": "h",
         "showlegend": false,
         "text": {
          "bdata": "AAAAAAAAAAAAAAAAAAAAAAAAAAAAAChAAAAAAACAREAAAAAAAIBPQAAAAAAAwGpAAAAAAABgcUAAAAAAAMCEQA==",
          "dtype": "f8"
         },
         "textposition": "outside",
         "texttemplate": "%{x}",
         "type": "bar",
         "x": {
          "bdata": "AAAAAAwAKQA/ANYAFgGYAg==",
          "dtype": "i2"
         },
         "xaxis": "x",
         "y": [
          "MAL",
          "VASEKTOMI",
          "KONDOM",
          "TUBEKTOMI",
          "IUD",
          "IMPLAN",
          "PIL",
          "SUNTIK"
         ],
         "yaxis": "y"
        }
       ],
       "layout": {
        "barmode": "relative",
        "legend": {
         "tracegroupgap": 0
        },
        "margin": {
         "b": 50,
         "l": 150,
         "r": 50,
         "t": 80
        },
        "paper_bgcolor": "#f6f8fa",
        "plot_bgcolor": "#f6f8fa",
        "showlegend": false,
        "template": {
         "data": {
          "bar": [
           {
            "error_x": {
             "color": "#2a3f5f"
            },
            "error_y": {
             "color": "#2a3f5f"
            },
            "marker": {
             "line": {
              "color": "#E5ECF6",
              "width": 0.5
             },
             "pattern": {
              "fillmode": "overlay",
              "size": 10,
              "solidity": 0.2
             }
            },
            "type": "bar"
           }
          ],
          "barpolar": [
           {
            "marker": {
             "line": {
              "color": "#E5ECF6",
              "width": 0.5
             },
             "pattern": {
              "fillmode": "overlay",
              "size": 10,
              "solidity": 0.2
             }
            },
            "type": "barpolar"
           }
          ],
          "carpet": [
           {
            "aaxis": {
             "endlinecolor": "#2a3f5f",
             "gridcolor": "white",
             "linecolor": "white",
             "minorgridcolor": "white",
             "startlinecolor": "#2a3f5f"
            },
            "baxis": {
             "endlinecolor": "#2a3f5f",
             "gridcolor": "white",
             "linecolor": "white",
             "minorgridcolor": "white",
             "startlinecolor": "#2a3f5f"
            },
            "type": "carpet"
           }
          ],
          "choropleth": [
           {
            "colorbar": {
             "outlinewidth": 0,
             "ticks": ""
            },
            "type": "choropleth"
           }
          ],
          "contour": [
           {
            "colorbar": {
             "outlinewidth": 0,
             "ticks": ""
            },
            "colorscale": [
             [
              0,
              "#0d0887"
             ],
             [
              0.1111111111111111,
              "#46039f"
             ],
             [
              0.2222222222222222,
              "#7201a8"
             ],
             [
              0.3333333333333333,
              "#9c179e"
             ],
             [
              0.4444444444444444,
              "#bd3786"
             ],
             [
              0.5555555555555556,
              "#d8576b"
             ],
             [
              0.6666666666666666,
              "#ed7953"
             ],
             [
              0.7777777777777778,
              "#fb9f3a"
             ],
             [
              0.8888888888888888,
              "#fdca26"
             ],
             [
              1,
              "#f0f921"
             ]
            ],
            "type": "contour"
           }
          ],
          "contourcarpet": [
           {
            "colorbar": {
             "outlinewidth": 0,
             "ticks": ""
            },
            "type": "contourcarpet"
           }
          ],
          "heatmap": [
           {
            "colorbar": {
             "outlinewidth": 0,
             "ticks": ""
            },
            "colorscale": [
             [
              0,
              "#0d0887"
             ],
             [
              0.1111111111111111,
              "#46039f"
             ],
             [
              0.2222222222222222,
              "#7201a8"
             ],
             [
              0.3333333333333333,
              "#9c179e"
             ],
             [
              0.4444444444444444,
              "#bd3786"
             ],
             [
              0.5555555555555556,
              "#d8576b"
             ],
             [
              0.6666666666666666,
              "#ed7953"
             ],
             [
              0.7777777777777778,
              "#fb9f3a"
             ],
             [
              0.8888888888888888,
              "#fdca26"
             ],
             [
              1,
              "#f0f921"
             ]
            ],
            "type": "heatmap"
           }
          ],
          "histogram": [
           {
            "marker": {
             "pattern": {
              "fillmode": "overlay",
              "size": 10,
              "solidity": 0.2
             }
            },
            "type": "histogram"
           }
          ],
          "histogram2d": [
           {
            "colorbar": {
             "outlinewidth": 0,
             "ticks": ""
            },
            "colorscale": [
             [
              0,
              "#0d0887"
             ],
             [
              0.1111111111111111,
              "#46039f"
             ],
             [
              0.2222222222222222,
              "#7201a8"
             ],
             [
              0.3333333333333333,
              "#9c179e"
             ],
             [
              0.4444444444444444,
              "#bd3786"
             ],
             [
              0.5555555555555556,
              "#d8576b"
             ],
             [
              0.6666666666666666,
              "#ed7953"
             ],
             [
              0.7777777777777778,
              "#fb9f3a"
             ],
             [
              0.8888888888888888,
              "#fdca26"
             ],
             [
              1,
              "#f0f921"
             ]
            ],
            "type": "histogram2d"
           }
          ],
          "histogram2dcontour": [
           {
            "colorbar": {
             "outlinewidth": 0,
             "ticks": ""
            },
            "colorscale": [
             [
              0,
              "#0d0887"
             ],
             [
              0.1111111111111111,
              "#46039f"
             ],
             [
              0.2222222222222222,
              "#7201a8"
             ],
             [
              0.3333333333333333,
              "#9c179e"
             ],
             [
              0.4444444444444444,
              "#bd3786"
             ],
             [
              0.5555555555555556,
              "#d8576b"
             ],
             [
              0.6666666666666666,
              "#ed7953"
             ],
             [
              0.7777777777777778,
              "#fb9f3a"
             ],
             [
              0.8888888888888888,
              "#fdca26"
             ],
             [
              1,
              "#f0f921"
             ]
            ],
            "type": "histogram2dcontour"
           }
          ],
          "mesh3d": [
           {
            "colorbar": {
             "outlinewidth": 0,
             "ticks": ""
            },
            "type": "mesh3d"
           }
          ],
          "parcoords": [
           {
            "line": {
             "colorbar": {
              "outlinewidth": 0,
              "ticks": ""
             }
            },
            "type": "parcoords"
           }
          ],
          "pie": [
           {
            "automargin": true,
            "type": "pie"
           }
          ],
          "scatter": [
           {
            "fillpattern": {
             "fillmode": "overlay",
             "size": 10,
             "solidity": 0.2
            },
            "type": "scatter"
           }
          ],
          "scatter3d": [
           {
            "line": {
             "colorbar": {
              "outlinewidth": 0,
              "ticks": ""
             }
            },
            "marker": {
             "colorbar": {
              "outlinewidth": 0,
              "ticks": ""
             }
            },
            "type": "scatter3d"
           }
          ],
          "scattercarpet": [
           {
            "marker": {
             "colorbar": {
              "outlinewidth": 0,
              "ticks": ""
             }
            },
            "type": "scattercarpet"
           }
          ],
          "scattergeo": [
           {
            "marker": {
             "colorbar": {
              "outlinewidth": 0,
              "ticks": ""
             }
            },
            "type": "scattergeo"
           }
          ],
          "scattergl": [
           {
            "marker": {
             "colorbar": {
              "outlinewidth": 0,
              "ticks": ""
             }
            },
            "type": "scattergl"
           }
          ],
          "scattermap": [
           {
            "marker": {
             "colorbar": {
              "outlinewidth": 0,
              "ticks": ""
             }
            },
            "type": "scattermap"
           }
          ],
          "scattermapbox": [
           {
            "marker": {
             "colorbar": {
              "outlinewidth": 0,
              "ticks": ""
             }
            },
            "type": "scattermapbox"
           }
          ],
          "scatterpolar": [
           {
            "marker": {
             "colorbar": {
              "outlinewidth": 0,
              "ticks": ""
             }
            },
            "type": "scatterpolar"
           }
          ],
          "scatterpolargl": [
           {
            "marker": {
             "colorbar": {
              "outlinewidth": 0,
              "ticks": ""
             }
            },
            "type": "scatterpolargl"
           }
          ],
          "scatterternary": [
           {
            "marker": {
             "colorbar": {
              "outlinewidth": 0,
              "ticks": ""
             }
            },
            "type": "scatterternary"
           }
          ],
          "surface": [
           {
            "colorbar": {
             "outlinewidth": 0,
             "ticks": ""
            },
            "colorscale": [
             [
              0,
              "#0d0887"
             ],
             [
              0.1111111111111111,
              "#46039f"
             ],
             [
              0.2222222222222222,
              "#7201a8"
             ],
             [
              0.3333333333333333,
              "#9c179e"
             ],
             [
              0.4444444444444444,
              "#bd3786"
             ],
             [
              0.5555555555555556,
              "#d8576b"
             ],
             [
              0.6666666666666666,
              "#ed7953"
             ],
             [
              0.7777777777777778,
              "#fb9f3a"
             ],
             [
              0.8888888888888888,
              "#fdca26"
             ],
             [
              1,
              "#f0f921"
             ]
            ],
            "type": "surface"
           }
          ],
          "table": [
           {
            "cells": {
             "fill": {
              "color": "#EBF0F8"
             },
             "line": {
              "color": "white"
             }
            },
            "header": {
             "fill": {
              "color": "#C8D4E3"
             },
             "line": {
              "color": "white"
             }
            },
            "type": "table"
           }
          ]
         },
         "layout": {
          "annotationdefaults": {
           "arrowcolor": "#2a3f5f",
           "arrowhead": 0,
           "arrowwidth": 1
          },
          "autotypenumbers": "strict",
          "coloraxis": {
           "colorbar": {
            "outlinewidth": 0,
            "ticks": ""
           }
          },
          "colorscale": {
           "diverging": [
            [
             0,
             "#8e0152"
            ],
            [
             0.1,
             "#c51b7d"
            ],
            [
             0.2,
             "#de77ae"
            ],
            [
             0.3,
             "#f1b6da"
            ],
            [
             0.4,
             "#fde0ef"
            ],
            [
             0.5,
             "#f7f7f7"
            ],
            [
             0.6,
             "#e6f5d0"
            ],
            [
             0.7,
             "#b8e186"
            ],
            [
             0.8,
             "#7fbc41"
            ],
            [
             0.9,
             "#4d9221"
            ],
            [
             1,
             "#276419"
            ]
           ],
           "sequential": [
            [
             0,
             "#0d0887"
            ],
            [
             0.1111111111111111,
             "#46039f"
            ],
            [
             0.2222222222222222,
             "#7201a8"
            ],
            [
             0.3333333333333333,
             "#9c179e"
            ],
            [
             0.4444444444444444,
             "#bd3786"
            ],
            [
             0.5555555555555556,
             "#d8576b"
            ],
            [
             0.6666666666666666,
             "#ed7953"
            ],
            [
             0.7777777777777778,
             "#fb9f3a"
            ],
            [
             0.8888888888888888,
             "#fdca26"
            ],
            [
             1,
             "#f0f921"
            ]
           ],
           "sequentialminus": [
            [
             0,
             "#0d0887"
            ],
            [
             0.1111111111111111,
             "#46039f"
            ],
            [
             0.2222222222222222,
             "#7201a8"
            ],
            [
             0.3333333333333333,
             "#9c179e"
            ],
            [
             0.4444444444444444,
             "#bd3786"
            ],
            [
             0.5555555555555556,
             "#d8576b"
            ],
            [
             0.6666666666666666,
             "#ed7953"
            ],
            [
             0.7777777777777778,
             "#fb9f3a"
            ],
            [
             0.8888888888888888,
             "#fdca26"
            ],
            [
             1,
             "#f0f921"
            ]
           ]
          },
          "colorway": [
           "#636efa",
           "#EF553B",
           "#00cc96",
           "#ab63fa",
           "#FFA15A",
           "#19d3f3",
           "#FF6692",
           "#B6E880",
           "#FF97FF",
           "#FECB52"
          ],
          "font": {
           "color": "#2a3f5f"
          },
          "geo": {
           "bgcolor": "white",
           "lakecolor": "white",
           "landcolor": "#E5ECF6",
           "showlakes": true,
           "showland": true,
           "subunitcolor": "white"
          },
          "hoverlabel": {
           "align": "left"
          },
          "hovermode": "closest",
          "mapbox": {
           "style": "light"
          },
          "paper_bgcolor": "white",
          "plot_bgcolor": "#E5ECF6",
          "polar": {
           "angularaxis": {
            "gridcolor": "white",
            "linecolor": "white",
            "ticks": ""
           },
           "bgcolor": "#E5ECF6",
           "radialaxis": {
            "gridcolor": "white",
            "linecolor": "white",
            "ticks": ""
           }
          },
          "scene": {
           "xaxis": {
            "backgroundcolor": "#E5ECF6",
            "gridcolor": "white",
            "gridwidth": 2,
            "linecolor": "white",
            "showbackground": true,
            "ticks": "",
            "zerolinecolor": "white"
           },
           "yaxis": {
            "backgroundcolor": "#E5ECF6",
            "gridcolor": "white",
            "gridwidth": 2,
            "linecolor": "white",
            "showbackground": true,
            "ticks": "",
            "zerolinecolor": "white"
           },
           "zaxis": {
            "backgroundcolor": "#E5ECF6",
            "gridcolor": "white",
            "gridwidth": 2,
            "linecolor": "white",
            "showbackground": true,
            "ticks": "",
            "zerolinecolor": "white"
           }
          },
          "shapedefaults": {
           "line": {
            "color": "#2a3f5f"
           }
          },
          "ternary": {
           "aaxis": {
            "gridcolor": "white",
            "linecolor": "white",
            "ticks": ""
           },
           "baxis": {
            "gridcolor": "white",
            "linecolor": "white",
            "ticks": ""
           },
           "bgcolor": "#E5ECF6",
           "caxis": {
            "gridcolor": "white",
            "linecolor": "white",
            "ticks": ""
           }
          },
          "title": {
           "x": 0.05
          },
          "xaxis": {
           "automargin": true,
           "gridcolor": "white",
           "linecolor": "white",
           "ticks": "",
           "title": {
            "standoff": 15
           },
           "zerolinecolor": "white",
           "zerolinewidth": 2
          },
          "yaxis": {
           "automargin": true,
           "gridcolor": "white",
           "linecolor": "white",
           "ticks": "",
           "title": {
            "standoff": 15
           },
           "zerolinecolor": "white",
           "zerolinewidth": 2
          }
         }
        },
        "title": {
         "text": "Jumlah Pengguna Metode KB di Sulawesi Barat"
        },
        "xaxis": {
         "anchor": "y",
         "domain": [
          0,
          1
         ],
         "title": {
          "text": "Jumlah Pengguna"
         }
        },
        "yaxis": {
         "anchor": "x",
         "domain": [
          0,
          1
         ],
         "title": {
          "text": "Metode KB"
         }
        }
       }
      }
     },
     "metadata": {},
     "output_type": "display_data"
    }
   ],
   "source": [
    "\n",
    "# Ubah data menjadi format \"long\" menggunakan `unpivot`\n",
    "data_long = mix_kontra.unpivot(\n",
    "    index=\"PROVINSI\",  # Kolom yang tetap\n",
    "    on=[\"SUNTIK\", \"PIL\", \"KONDOM\", \"MAL\", \"IMPLAN\", \"IUD\", \"VASEKTOMI\", \"TUBEKTOMI\"],  # Kolom yang di-unpivot\n",
    "    variable_name=\"METODE_KB\",  # Nama kolom untuk metode KB\n",
    "    value_name=\"JUMLAH\"  # Nama kolom untuk jumlah pengguna\n",
    ")\n",
    "\n",
    "# Urutkan data berdasarkan jumlah pengguna (terbesar ke terkecil)\n",
    "data_sorted = data_long.sort(\"JUMLAH\", descending=False)\n",
    "\n",
    "# Buat grafik batang horizontal\n",
    "fig = px.bar(\n",
    "    data_sorted,\n",
    "    y=\"METODE_KB\",  # Metode KB di sumbu-y\n",
    "    x=\"JUMLAH\",     # Jumlah pengguna di sumbu-x\n",
    "    title=\"Jumlah Pengguna Metode KB di Sulawesi Barat\",\n",
    "    labels={\"METODE_KB\": \"Metode KB\", \"JUMLAH\": \"Jumlah Pengguna\"},  # Label sumbu\n",
    "    orientation=\"h\",  # Horizontal bar chart\n",
    "    text=\"JUMLAH\"  # Tampilkan nilai di setiap bar\n",
    ")\n",
    "\n",
    "# Perbarui tata letak grafik\n",
    "fig.update_layout(\n",
    "    showlegend=False,  # Tidak perlu legenda\n",
    "    paper_bgcolor=\"#f6f8fa\",  # Warna latar belakang kertas\n",
    "    plot_bgcolor=\"#f6f8fa\",  # Warna latar belakang plot\n",
    "    margin=dict(l=150, r=50, t=80, b=50)  # Padding: kiri, kanan, atas, bawah\n",
    ")\n",
    "\n",
    "# Pastikan label tetap ditampilkan meski nilainya 0\n",
    "fig.update_traces(\n",
    "    texttemplate=\"%{x}\",  # Format teks pada bar\n",
    "    textposition=\"outside\",  # Letakkan teks di luar bar\n",
    "    hovertemplate=\"Metode KB: %{y}<br>Jumlah Pengguna: %{x}<extra></extra>\"  # Hover informatif\n",
    ")\n",
    "\n",
    "# Tampilkan grafik\n",
    "fig.show()"
   ]
  },
  {
   "cell_type": "code",
   "execution_count": 38,
   "metadata": {},
   "outputs": [
    {
     "data": {
      "application/vnd.plotly.v1+json": {
       "config": {
        "plotlyServerURL": "https://plot.ly"
       },
       "data": [
        {
         "customdata": [
          [
           "Sudah Terlatih"
          ],
          [
           "Belum Terlatih"
          ]
         ],
         "domain": {
          "x": [
           0,
           1
          ],
          "y": [
           0,
           1
          ]
         },
         "hole": 0.4,
         "hovertemplate": "%{label}: %{value:,.0f} (%{percent})<extra></extra>",
         "labels": [
          "Sudah Terlatih",
          "Belum Terlatih"
         ],
         "legendgroup": "",
         "marker": {
          "colors": [
           "#0d6efd",
           "#ffc107"
          ]
         },
         "name": "",
         "showlegend": true,
         "textposition": "outside",
         "texttemplate": "%{label}<br>%{value:,.0f} (%{percent})",
         "type": "pie",
         "values": {
          "bdata": "AgAAAAMAAAA=",
          "dtype": "u4"
         }
        }
       ],
       "layout": {
        "legend": {
         "tracegroupgap": 0
        },
        "margin": {
         "b": 50,
         "l": 50,
         "r": 50,
         "t": 80
        },
        "paper_bgcolor": "#f6f8fa",
        "plot_bgcolor": "#f6f8fa",
        "showlegend": false,
        "template": {
         "data": {
          "bar": [
           {
            "error_x": {
             "color": "#2a3f5f"
            },
            "error_y": {
             "color": "#2a3f5f"
            },
            "marker": {
             "line": {
              "color": "#E5ECF6",
              "width": 0.5
             },
             "pattern": {
              "fillmode": "overlay",
              "size": 10,
              "solidity": 0.2
             }
            },
            "type": "bar"
           }
          ],
          "barpolar": [
           {
            "marker": {
             "line": {
              "color": "#E5ECF6",
              "width": 0.5
             },
             "pattern": {
              "fillmode": "overlay",
              "size": 10,
              "solidity": 0.2
             }
            },
            "type": "barpolar"
           }
          ],
          "carpet": [
           {
            "aaxis": {
             "endlinecolor": "#2a3f5f",
             "gridcolor": "white",
             "linecolor": "white",
             "minorgridcolor": "white",
             "startlinecolor": "#2a3f5f"
            },
            "baxis": {
             "endlinecolor": "#2a3f5f",
             "gridcolor": "white",
             "linecolor": "white",
             "minorgridcolor": "white",
             "startlinecolor": "#2a3f5f"
            },
            "type": "carpet"
           }
          ],
          "choropleth": [
           {
            "colorbar": {
             "outlinewidth": 0,
             "ticks": ""
            },
            "type": "choropleth"
           }
          ],
          "contour": [
           {
            "colorbar": {
             "outlinewidth": 0,
             "ticks": ""
            },
            "colorscale": [
             [
              0,
              "#0d0887"
             ],
             [
              0.1111111111111111,
              "#46039f"
             ],
             [
              0.2222222222222222,
              "#7201a8"
             ],
             [
              0.3333333333333333,
              "#9c179e"
             ],
             [
              0.4444444444444444,
              "#bd3786"
             ],
             [
              0.5555555555555556,
              "#d8576b"
             ],
             [
              0.6666666666666666,
              "#ed7953"
             ],
             [
              0.7777777777777778,
              "#fb9f3a"
             ],
             [
              0.8888888888888888,
              "#fdca26"
             ],
             [
              1,
              "#f0f921"
             ]
            ],
            "type": "contour"
           }
          ],
          "contourcarpet": [
           {
            "colorbar": {
             "outlinewidth": 0,
             "ticks": ""
            },
            "type": "contourcarpet"
           }
          ],
          "heatmap": [
           {
            "colorbar": {
             "outlinewidth": 0,
             "ticks": ""
            },
            "colorscale": [
             [
              0,
              "#0d0887"
             ],
             [
              0.1111111111111111,
              "#46039f"
             ],
             [
              0.2222222222222222,
              "#7201a8"
             ],
             [
              0.3333333333333333,
              "#9c179e"
             ],
             [
              0.4444444444444444,
              "#bd3786"
             ],
             [
              0.5555555555555556,
              "#d8576b"
             ],
             [
              0.6666666666666666,
              "#ed7953"
             ],
             [
              0.7777777777777778,
              "#fb9f3a"
             ],
             [
              0.8888888888888888,
              "#fdca26"
             ],
             [
              1,
              "#f0f921"
             ]
            ],
            "type": "heatmap"
           }
          ],
          "histogram": [
           {
            "marker": {
             "pattern": {
              "fillmode": "overlay",
              "size": 10,
              "solidity": 0.2
             }
            },
            "type": "histogram"
           }
          ],
          "histogram2d": [
           {
            "colorbar": {
             "outlinewidth": 0,
             "ticks": ""
            },
            "colorscale": [
             [
              0,
              "#0d0887"
             ],
             [
              0.1111111111111111,
              "#46039f"
             ],
             [
              0.2222222222222222,
              "#7201a8"
             ],
             [
              0.3333333333333333,
              "#9c179e"
             ],
             [
              0.4444444444444444,
              "#bd3786"
             ],
             [
              0.5555555555555556,
              "#d8576b"
             ],
             [
              0.6666666666666666,
              "#ed7953"
             ],
             [
              0.7777777777777778,
              "#fb9f3a"
             ],
             [
              0.8888888888888888,
              "#fdca26"
             ],
             [
              1,
              "#f0f921"
             ]
            ],
            "type": "histogram2d"
           }
          ],
          "histogram2dcontour": [
           {
            "colorbar": {
             "outlinewidth": 0,
             "ticks": ""
            },
            "colorscale": [
             [
              0,
              "#0d0887"
             ],
             [
              0.1111111111111111,
              "#46039f"
             ],
             [
              0.2222222222222222,
              "#7201a8"
             ],
             [
              0.3333333333333333,
              "#9c179e"
             ],
             [
              0.4444444444444444,
              "#bd3786"
             ],
             [
              0.5555555555555556,
              "#d8576b"
             ],
             [
              0.6666666666666666,
              "#ed7953"
             ],
             [
              0.7777777777777778,
              "#fb9f3a"
             ],
             [
              0.8888888888888888,
              "#fdca26"
             ],
             [
              1,
              "#f0f921"
             ]
            ],
            "type": "histogram2dcontour"
           }
          ],
          "mesh3d": [
           {
            "colorbar": {
             "outlinewidth": 0,
             "ticks": ""
            },
            "type": "mesh3d"
           }
          ],
          "parcoords": [
           {
            "line": {
             "colorbar": {
              "outlinewidth": 0,
              "ticks": ""
             }
            },
            "type": "parcoords"
           }
          ],
          "pie": [
           {
            "automargin": true,
            "type": "pie"
           }
          ],
          "scatter": [
           {
            "fillpattern": {
             "fillmode": "overlay",
             "size": 10,
             "solidity": 0.2
            },
            "type": "scatter"
           }
          ],
          "scatter3d": [
           {
            "line": {
             "colorbar": {
              "outlinewidth": 0,
              "ticks": ""
             }
            },
            "marker": {
             "colorbar": {
              "outlinewidth": 0,
              "ticks": ""
             }
            },
            "type": "scatter3d"
           }
          ],
          "scattercarpet": [
           {
            "marker": {
             "colorbar": {
              "outlinewidth": 0,
              "ticks": ""
             }
            },
            "type": "scattercarpet"
           }
          ],
          "scattergeo": [
           {
            "marker": {
             "colorbar": {
              "outlinewidth": 0,
              "ticks": ""
             }
            },
            "type": "scattergeo"
           }
          ],
          "scattergl": [
           {
            "marker": {
             "colorbar": {
              "outlinewidth": 0,
              "ticks": ""
             }
            },
            "type": "scattergl"
           }
          ],
          "scattermap": [
           {
            "marker": {
             "colorbar": {
              "outlinewidth": 0,
              "ticks": ""
             }
            },
            "type": "scattermap"
           }
          ],
          "scattermapbox": [
           {
            "marker": {
             "colorbar": {
              "outlinewidth": 0,
              "ticks": ""
             }
            },
            "type": "scattermapbox"
           }
          ],
          "scatterpolar": [
           {
            "marker": {
             "colorbar": {
              "outlinewidth": 0,
              "ticks": ""
             }
            },
            "type": "scatterpolar"
           }
          ],
          "scatterpolargl": [
           {
            "marker": {
             "colorbar": {
              "outlinewidth": 0,
              "ticks": ""
             }
            },
            "type": "scatterpolargl"
           }
          ],
          "scatterternary": [
           {
            "marker": {
             "colorbar": {
              "outlinewidth": 0,
              "ticks": ""
             }
            },
            "type": "scatterternary"
           }
          ],
          "surface": [
           {
            "colorbar": {
             "outlinewidth": 0,
             "ticks": ""
            },
            "colorscale": [
             [
              0,
              "#0d0887"
             ],
             [
              0.1111111111111111,
              "#46039f"
             ],
             [
              0.2222222222222222,
              "#7201a8"
             ],
             [
              0.3333333333333333,
              "#9c179e"
             ],
             [
              0.4444444444444444,
              "#bd3786"
             ],
             [
              0.5555555555555556,
              "#d8576b"
             ],
             [
              0.6666666666666666,
              "#ed7953"
             ],
             [
              0.7777777777777778,
              "#fb9f3a"
             ],
             [
              0.8888888888888888,
              "#fdca26"
             ],
             [
              1,
              "#f0f921"
             ]
            ],
            "type": "surface"
           }
          ],
          "table": [
           {
            "cells": {
             "fill": {
              "color": "#EBF0F8"
             },
             "line": {
              "color": "white"
             }
            },
            "header": {
             "fill": {
              "color": "#C8D4E3"
             },
             "line": {
              "color": "white"
             }
            },
            "type": "table"
           }
          ]
         },
         "layout": {
          "annotationdefaults": {
           "arrowcolor": "#2a3f5f",
           "arrowhead": 0,
           "arrowwidth": 1
          },
          "autotypenumbers": "strict",
          "coloraxis": {
           "colorbar": {
            "outlinewidth": 0,
            "ticks": ""
           }
          },
          "colorscale": {
           "diverging": [
            [
             0,
             "#8e0152"
            ],
            [
             0.1,
             "#c51b7d"
            ],
            [
             0.2,
             "#de77ae"
            ],
            [
             0.3,
             "#f1b6da"
            ],
            [
             0.4,
             "#fde0ef"
            ],
            [
             0.5,
             "#f7f7f7"
            ],
            [
             0.6,
             "#e6f5d0"
            ],
            [
             0.7,
             "#b8e186"
            ],
            [
             0.8,
             "#7fbc41"
            ],
            [
             0.9,
             "#4d9221"
            ],
            [
             1,
             "#276419"
            ]
           ],
           "sequential": [
            [
             0,
             "#0d0887"
            ],
            [
             0.1111111111111111,
             "#46039f"
            ],
            [
             0.2222222222222222,
             "#7201a8"
            ],
            [
             0.3333333333333333,
             "#9c179e"
            ],
            [
             0.4444444444444444,
             "#bd3786"
            ],
            [
             0.5555555555555556,
             "#d8576b"
            ],
            [
             0.6666666666666666,
             "#ed7953"
            ],
            [
             0.7777777777777778,
             "#fb9f3a"
            ],
            [
             0.8888888888888888,
             "#fdca26"
            ],
            [
             1,
             "#f0f921"
            ]
           ],
           "sequentialminus": [
            [
             0,
             "#0d0887"
            ],
            [
             0.1111111111111111,
             "#46039f"
            ],
            [
             0.2222222222222222,
             "#7201a8"
            ],
            [
             0.3333333333333333,
             "#9c179e"
            ],
            [
             0.4444444444444444,
             "#bd3786"
            ],
            [
             0.5555555555555556,
             "#d8576b"
            ],
            [
             0.6666666666666666,
             "#ed7953"
            ],
            [
             0.7777777777777778,
             "#fb9f3a"
            ],
            [
             0.8888888888888888,
             "#fdca26"
            ],
            [
             1,
             "#f0f921"
            ]
           ]
          },
          "colorway": [
           "#636efa",
           "#EF553B",
           "#00cc96",
           "#ab63fa",
           "#FFA15A",
           "#19d3f3",
           "#FF6692",
           "#B6E880",
           "#FF97FF",
           "#FECB52"
          ],
          "font": {
           "color": "#2a3f5f"
          },
          "geo": {
           "bgcolor": "white",
           "lakecolor": "white",
           "landcolor": "#E5ECF6",
           "showlakes": true,
           "showland": true,
           "subunitcolor": "white"
          },
          "hoverlabel": {
           "align": "left"
          },
          "hovermode": "closest",
          "mapbox": {
           "style": "light"
          },
          "paper_bgcolor": "white",
          "plot_bgcolor": "#E5ECF6",
          "polar": {
           "angularaxis": {
            "gridcolor": "white",
            "linecolor": "white",
            "ticks": ""
           },
           "bgcolor": "#E5ECF6",
           "radialaxis": {
            "gridcolor": "white",
            "linecolor": "white",
            "ticks": ""
           }
          },
          "scene": {
           "xaxis": {
            "backgroundcolor": "#E5ECF6",
            "gridcolor": "white",
            "gridwidth": 2,
            "linecolor": "white",
            "showbackground": true,
            "ticks": "",
            "zerolinecolor": "white"
           },
           "yaxis": {
            "backgroundcolor": "#E5ECF6",
            "gridcolor": "white",
            "gridwidth": 2,
            "linecolor": "white",
            "showbackground": true,
            "ticks": "",
            "zerolinecolor": "white"
           },
           "zaxis": {
            "backgroundcolor": "#E5ECF6",
            "gridcolor": "white",
            "gridwidth": 2,
            "linecolor": "white",
            "showbackground": true,
            "ticks": "",
            "zerolinecolor": "white"
           }
          },
          "shapedefaults": {
           "line": {
            "color": "#2a3f5f"
           }
          },
          "ternary": {
           "aaxis": {
            "gridcolor": "white",
            "linecolor": "white",
            "ticks": ""
           },
           "baxis": {
            "gridcolor": "white",
            "linecolor": "white",
            "ticks": ""
           },
           "bgcolor": "#E5ECF6",
           "caxis": {
            "gridcolor": "white",
            "linecolor": "white",
            "ticks": ""
           }
          },
          "title": {
           "x": 0.05
          },
          "xaxis": {
           "automargin": true,
           "gridcolor": "white",
           "linecolor": "white",
           "ticks": "",
           "title": {
            "standoff": 15
           },
           "zerolinecolor": "white",
           "zerolinewidth": 2
          },
          "yaxis": {
           "automargin": true,
           "gridcolor": "white",
           "linecolor": "white",
           "ticks": "",
           "title": {
            "standoff": 15
           },
           "zerolinecolor": "white",
           "zerolinewidth": 2
          }
         }
        },
        "title": {
         "font": {
          "size": 20
         },
         "text": "Perbandingan Tenaga Kerja Sudah Terlatih dan Belum Terlatih"
        }
       }
      }
     },
     "metadata": {},
     "output_type": "display_data"
    }
   ],
   "source": [
    "import polars as pl\n",
    "import plotly.express as px\n",
    "\n",
    "# Data Anda dalam bentuk Polars DataFrame\n",
    "data = pl.DataFrame({\n",
    "    \"NO\": [0, 1, 2, 3, 4],\n",
    "    \"PROVINSI\": [\"SULAWESI BARAT\"] * 5,\n",
    "    \"KABUPATEN\": [\"PASANGKAYU\"] * 5,\n",
    "    \"KECAMATAN\": [\"SARJO\"] * 5,\n",
    "    \"KELURAHAN\": [\"SARJO\"] * 5,\n",
    "    \"NAMA FASKES\": [\"UPT PUSKESMAS SARJO\"] * 5,\n",
    "    \"NO REGISTRASI\": [\"7601001\"] * 5,\n",
    "    \"NAMA BIDAN\": [\"Mar\", \"NUR\", \"Irm\", \"Rit\", \"ASM\"],\n",
    "    \"NIK BIDAN\": [760] * 5,\n",
    "    \"ALAMAT\": [\"SARJO\", \"SARUDE\", \"LETAWA\", \"LETAWA\", \"SARUDE\"],\n",
    "    \"NO HP\": [\"NA\", \"85397882590\", \"82396497703\", \"82349677921\", \"85242892212\"],\n",
    "    \"PROFESI\": [\"Bidan\"] * 5,\n",
    "    \"PELATIHAN\": [\n",
    "        \"KIP/Konseling,R/R\",\n",
    "        \"Belum Terlatih\",\n",
    "        \"IUD/IMPLAN,R/R,Sertifikat Kompetensi IUD/Implan\",\n",
    "        \"IUD/IMPLAN,KIP/Konseling,R/R\",\n",
    "        \"Belum Terlatih\"\n",
    "    ]\n",
    "})\n",
    "\n",
    "# Klasifikasi tenaga kerja berdasarkan kolom PELATIHAN\n",
    "data_with_classification = data.with_columns(\n",
    "    pl.when(\n",
    "        pl.col(\"PELATIHAN\").str.contains(\"(?i)IUD|Implan|Tubektomi|Vasektomi\")\n",
    "    ).then(pl.lit(\"Sudah Terlatih\")).otherwise(pl.lit(\"Belum Terlatih\")).alias(\"KLASIFIKASI\")\n",
    ")\n",
    "\n",
    "# Hitung jumlah tenaga kerja untuk setiap klasifikasi\n",
    "summary_data = data_with_classification.group_by(\"KLASIFIKASI\").agg(\n",
    "    pl.len().alias(\"count\")  # Menggunakan .len() sebagai pengganti .count()\n",
    ")\n",
    "\n",
    "# Tambahkan kolom persentase\n",
    "total_count = summary_data[\"count\"].sum()\n",
    "summary_data = summary_data.with_columns(\n",
    "    (pl.col(\"count\") / total_count * 100).round(2).alias(\"PERSENTASE\")\n",
    ")\n",
    "\n",
    "# Buat donut chart menggunakan Plotly (langsung dari Polars DataFrame)\n",
    "fig = px.pie(\n",
    "    summary_data,  # Langsung gunakan Polars DataFrame\n",
    "    names=\"KLASIFIKASI\",       # Label untuk kategori\n",
    "    values=\"count\",            # Nilai untuk ukuran slice\n",
    "    title=\"Perbandingan Tenaga Kerja Sudah Terlatih dan Belum Terlatih\",\n",
    "    hole=0.4,                  # Membuat donut chart (hole di tengah)\n",
    "    color=\"KLASIFIKASI\",       # Warna berdasarkan kategori\n",
    "    color_discrete_map={\"Sudah Terlatih\": \"#0d6efd\", \"Belum Terlatih\": \"#ffc107\"},  # Warna kustom\n",
    ")\n",
    "\n",
    "# Perbarui tata letak grafik\n",
    "fig.update_traces(\n",
    "    textposition=\"outside\",  # Letakkan teks di luar donut chart\n",
    "    texttemplate=\"%{label}<br>%{value:,.0f} (%{percent})\",  # Format angka dengan pemisah ribuan\n",
    "    hovertemplate=\"%{label}: %{value:,.0f} (%{percent})<extra></extra>\"  # Format hover\n",
    ")\n",
    "\n",
    "fig.update_layout(\n",
    "    showlegend=False,           # Hilangkan legenda\n",
    "    paper_bgcolor=\"#f6f8fa\",    # Warna latar belakang kertas\n",
    "    plot_bgcolor=\"#f6f8fa\",     # Warna latar belakang plot\n",
    "    margin=dict(l=50, r=50, t=80, b=50),  # Padding: kiri, kanan, atas, bawah\n",
    "    title_font_size=20          # Ukuran font judul\n",
    ")\n",
    "\n",
    "# Tampilkan grafik\n",
    "fig.show()"
   ]
  },
  {
   "cell_type": "code",
   "execution_count": 35,
   "metadata": {},
   "outputs": [
    {
     "data": {
      "text/html": [
       "<div><style>\n",
       ".dataframe > thead > tr,\n",
       ".dataframe > tbody > tr {\n",
       "  text-align: right;\n",
       "  white-space: pre-wrap;\n",
       "}\n",
       "</style>\n",
       "<small>shape: (5, 14)</small><table border=\"1\" class=\"dataframe\"><thead><tr><th>NO</th><th>PROVINSI</th><th>KABUPATEN</th><th>KECAMATAN</th><th>KELURAHAN</th><th>NAMA FASKES</th><th>NO REGISTRASI</th><th>NAMA BIDAN</th><th>NIK BIDAN</th><th>ALAMAT</th><th>NO HP</th><th>PROFESI</th><th>PELATIHAN</th><th>KLASIFIKASI</th></tr><tr><td>i64</td><td>str</td><td>str</td><td>str</td><td>str</td><td>str</td><td>str</td><td>str</td><td>i64</td><td>str</td><td>str</td><td>str</td><td>str</td><td>str</td></tr></thead><tbody><tr><td>0</td><td>&quot;SULAWESI BARAT&quot;</td><td>&quot;PASANGKAYU&quot;</td><td>&quot;SARJO&quot;</td><td>&quot;SARJO&quot;</td><td>&quot;UPT PUSKESMAS SARJO&quot;</td><td>&quot;7601001&quot;</td><td>&quot;Mar&quot;</td><td>760</td><td>&quot;SARJO&quot;</td><td>&quot;NA&quot;</td><td>&quot;Bidan&quot;</td><td>&quot;KIP/Konseling,R/R&quot;</td><td>&quot;Belum Terlatih&quot;</td></tr><tr><td>1</td><td>&quot;SULAWESI BARAT&quot;</td><td>&quot;PASANGKAYU&quot;</td><td>&quot;SARJO&quot;</td><td>&quot;SARJO&quot;</td><td>&quot;UPT PUSKESMAS SARJO&quot;</td><td>&quot;7601001&quot;</td><td>&quot;NUR&quot;</td><td>760</td><td>&quot;SARUDE&quot;</td><td>&quot;85397882590&quot;</td><td>&quot;Bidan&quot;</td><td>&quot;Belum Terlatih&quot;</td><td>&quot;Belum Terlatih&quot;</td></tr><tr><td>2</td><td>&quot;SULAWESI BARAT&quot;</td><td>&quot;PASANGKAYU&quot;</td><td>&quot;SARJO&quot;</td><td>&quot;SARJO&quot;</td><td>&quot;UPT PUSKESMAS SARJO&quot;</td><td>&quot;7601001&quot;</td><td>&quot;Irm&quot;</td><td>760</td><td>&quot;LETAWA&quot;</td><td>&quot;82396497703&quot;</td><td>&quot;Bidan&quot;</td><td>&quot;IUD/IMPLAN,R/R,Sertifikat Komp…</td><td>&quot;Sudah Terlatih&quot;</td></tr><tr><td>3</td><td>&quot;SULAWESI BARAT&quot;</td><td>&quot;PASANGKAYU&quot;</td><td>&quot;SARJO&quot;</td><td>&quot;SARJO&quot;</td><td>&quot;UPT PUSKESMAS SARJO&quot;</td><td>&quot;7601001&quot;</td><td>&quot;Rit&quot;</td><td>760</td><td>&quot;LETAWA&quot;</td><td>&quot;82349677921&quot;</td><td>&quot;Bidan&quot;</td><td>&quot;IUD/IMPLAN,KIP/Konseling,R/R&quot;</td><td>&quot;Sudah Terlatih&quot;</td></tr><tr><td>4</td><td>&quot;SULAWESI BARAT&quot;</td><td>&quot;PASANGKAYU&quot;</td><td>&quot;SARJO&quot;</td><td>&quot;SARJO&quot;</td><td>&quot;UPT PUSKESMAS SARJO&quot;</td><td>&quot;7601001&quot;</td><td>&quot;ASM&quot;</td><td>760</td><td>&quot;SARUDE&quot;</td><td>&quot;85242892212&quot;</td><td>&quot;Bidan&quot;</td><td>&quot;Belum Terlatih&quot;</td><td>&quot;Belum Terlatih&quot;</td></tr></tbody></table></div>"
      ],
      "text/plain": [
       "shape: (5, 14)\n",
       "┌─────┬─────────────┬────────────┬───────────┬───┬─────────────┬─────────┬────────────┬────────────┐\n",
       "│ NO  ┆ PROVINSI    ┆ KABUPATEN  ┆ KECAMATAN ┆ … ┆ NO HP       ┆ PROFESI ┆ PELATIHAN  ┆ KLASIFIKAS │\n",
       "│ --- ┆ ---         ┆ ---        ┆ ---       ┆   ┆ ---         ┆ ---     ┆ ---        ┆ I          │\n",
       "│ i64 ┆ str         ┆ str        ┆ str       ┆   ┆ str         ┆ str     ┆ str        ┆ ---        │\n",
       "│     ┆             ┆            ┆           ┆   ┆             ┆         ┆            ┆ str        │\n",
       "╞═════╪═════════════╪════════════╪═══════════╪═══╪═════════════╪═════════╪════════════╪════════════╡\n",
       "│ 0   ┆ SULAWESI    ┆ PASANGKAYU ┆ SARJO     ┆ … ┆ NA          ┆ Bidan   ┆ KIP/Konsel ┆ Belum      │\n",
       "│     ┆ BARAT       ┆            ┆           ┆   ┆             ┆         ┆ ing,R/R    ┆ Terlatih   │\n",
       "│ 1   ┆ SULAWESI    ┆ PASANGKAYU ┆ SARJO     ┆ … ┆ 85397882590 ┆ Bidan   ┆ Belum      ┆ Belum      │\n",
       "│     ┆ BARAT       ┆            ┆           ┆   ┆             ┆         ┆ Terlatih   ┆ Terlatih   │\n",
       "│ 2   ┆ SULAWESI    ┆ PASANGKAYU ┆ SARJO     ┆ … ┆ 82396497703 ┆ Bidan   ┆ IUD/IMPLAN ┆ Sudah      │\n",
       "│     ┆ BARAT       ┆            ┆           ┆   ┆             ┆         ┆ ,R/R,Serti ┆ Terlatih   │\n",
       "│     ┆             ┆            ┆           ┆   ┆             ┆         ┆ fikat      ┆            │\n",
       "│     ┆             ┆            ┆           ┆   ┆             ┆         ┆ Komp…      ┆            │\n",
       "│ 3   ┆ SULAWESI    ┆ PASANGKAYU ┆ SARJO     ┆ … ┆ 82349677921 ┆ Bidan   ┆ IUD/IMPLAN ┆ Sudah      │\n",
       "│     ┆ BARAT       ┆            ┆           ┆   ┆             ┆         ┆ ,KIP/Konse ┆ Terlatih   │\n",
       "│     ┆             ┆            ┆           ┆   ┆             ┆         ┆ ling,R/R   ┆            │\n",
       "│ 4   ┆ SULAWESI    ┆ PASANGKAYU ┆ SARJO     ┆ … ┆ 85242892212 ┆ Bidan   ┆ Belum      ┆ Belum      │\n",
       "│     ┆ BARAT       ┆            ┆           ┆   ┆             ┆         ┆ Terlatih   ┆ Terlatih   │\n",
       "└─────┴─────────────┴────────────┴───────────┴───┴─────────────┴─────────┴────────────┴────────────┘"
      ]
     },
     "execution_count": 35,
     "metadata": {},
     "output_type": "execute_result"
    }
   ],
   "source": [
    "data_with_classification"
   ]
  },
  {
   "cell_type": "code",
   "execution_count": 11,
   "metadata": {},
   "outputs": [
    {
     "ename": "ModuleNotFoundError",
     "evalue": "No module named 'panel'",
     "output_type": "error",
     "traceback": [
      "\u001b[0;31m---------------------------------------------------------------------------\u001b[0m",
      "\u001b[0;31mModuleNotFoundError\u001b[0m                       Traceback (most recent call last)",
      "Cell \u001b[0;32mIn[11], line 3\u001b[0m\n\u001b[1;32m      1\u001b[0m \u001b[38;5;28;01mimport\u001b[39;00m\u001b[38;5;250m \u001b[39m\u001b[38;5;21;01maltair\u001b[39;00m\u001b[38;5;250m \u001b[39m\u001b[38;5;28;01mas\u001b[39;00m\u001b[38;5;250m \u001b[39m\u001b[38;5;21;01malt\u001b[39;00m\n\u001b[1;32m      2\u001b[0m \u001b[38;5;28;01mimport\u001b[39;00m\u001b[38;5;250m \u001b[39m\u001b[38;5;21;01mpandas\u001b[39;00m\u001b[38;5;250m \u001b[39m\u001b[38;5;28;01mas\u001b[39;00m\u001b[38;5;250m \u001b[39m\u001b[38;5;21;01mpd\u001b[39;00m\n\u001b[0;32m----> 3\u001b[0m \u001b[38;5;28;01mimport\u001b[39;00m\u001b[38;5;250m \u001b[39m\u001b[38;5;21;01mpanel\u001b[39;00m\u001b[38;5;250m \u001b[39m\u001b[38;5;28;01mas\u001b[39;00m\u001b[38;5;250m \u001b[39m\u001b[38;5;21;01mpn\u001b[39;00m\n\u001b[1;32m      5\u001b[0m \u001b[38;5;66;03m# Contoh data\u001b[39;00m\n\u001b[1;32m      6\u001b[0m df \u001b[38;5;241m=\u001b[39m pd\u001b[38;5;241m.\u001b[39mDataFrame({\n\u001b[1;32m      7\u001b[0m     \u001b[38;5;124m'\u001b[39m\u001b[38;5;124mx\u001b[39m\u001b[38;5;124m'\u001b[39m: [\u001b[38;5;241m1\u001b[39m, \u001b[38;5;241m2\u001b[39m, \u001b[38;5;241m3\u001b[39m, \u001b[38;5;241m4\u001b[39m, \u001b[38;5;241m5\u001b[39m],\n\u001b[1;32m      8\u001b[0m     \u001b[38;5;124m'\u001b[39m\u001b[38;5;124my\u001b[39m\u001b[38;5;124m'\u001b[39m: [\u001b[38;5;241m10\u001b[39m, \u001b[38;5;241m20\u001b[39m, \u001b[38;5;241m30\u001b[39m, \u001b[38;5;241m40\u001b[39m, \u001b[38;5;241m50\u001b[39m],\n\u001b[1;32m      9\u001b[0m     \u001b[38;5;124m'\u001b[39m\u001b[38;5;124mcategory\u001b[39m\u001b[38;5;124m'\u001b[39m: [\u001b[38;5;124m'\u001b[39m\u001b[38;5;124mA\u001b[39m\u001b[38;5;124m'\u001b[39m, \u001b[38;5;124m'\u001b[39m\u001b[38;5;124mB\u001b[39m\u001b[38;5;124m'\u001b[39m, \u001b[38;5;124m'\u001b[39m\u001b[38;5;124mC\u001b[39m\u001b[38;5;124m'\u001b[39m, \u001b[38;5;124m'\u001b[39m\u001b[38;5;124mD\u001b[39m\u001b[38;5;124m'\u001b[39m, \u001b[38;5;124m'\u001b[39m\u001b[38;5;124mE\u001b[39m\u001b[38;5;124m'\u001b[39m]\n\u001b[1;32m     10\u001b[0m })\n",
      "\u001b[0;31mModuleNotFoundError\u001b[0m: No module named 'panel'"
     ]
    }
   ],
   "source": [
    "import altair as alt\n",
    "import pandas as pd\n",
    "import panel as pn\n",
    "\n",
    "# Contoh data\n",
    "df = pd.DataFrame({\n",
    "    'x': [1, 2, 3, 4, 5],\n",
    "    'y': [10, 20, 30, 40, 50],\n",
    "    'category': ['A', 'B', 'C', 'D', 'E']\n",
    "})\n",
    "\n",
    "# Buat grafik Altair\n",
    "chart = alt.Chart(df).mark_circle().encode(\n",
    "    x='x',\n",
    "    y='y',\n",
    "    tooltip=['x', 'y', 'category']\n",
    ").interactive()\n",
    "\n",
    "# Tampilkan grafik di Panel\n",
    "pn.extension('vega')\n",
    "pane = pn.pane.Vega(chart, height=400, width=600)\n",
    "\n",
    "# Tambahkan interaktivitas\n",
    "def on_click(event):\n",
    "    print(f\"Data yang diklik: {event}\")\n",
    "\n",
    "pane.on_click(on_click)\n",
    "\n",
    "# Tampilkan di notebook atau server\n",
    "pane.servable()"
   ]
  },
  {
   "cell_type": "code",
   "execution_count": 14,
   "metadata": {},
   "outputs": [
    {
     "name": "stderr",
     "output_type": "stream",
     "text": [
      "/tmp/ipykernel_3251/154283295.py:5: UserWarning: Using Panel interactively in VSCode notebooks requires the jupyter_bokeh package to be installed. You can install it with:\n",
      "\n",
      "   pip install jupyter_bokeh\n",
      "\n",
      "or:\n",
      "    conda install jupyter_bokeh\n",
      "\n",
      "and try again.\n",
      "  pn.extension('vega')\n"
     ]
    },
    {
     "data": {
      "text/html": [
       "<script type=\"esms-options\">{\"shimMode\": true}</script><style>*[data-root-id],\n",
       "*[data-root-id] > * {\n",
       "  box-sizing: border-box;\n",
       "  font-family: var(--jp-ui-font-family);\n",
       "  font-size: var(--jp-ui-font-size1);\n",
       "  color: var(--vscode-editor-foreground, var(--jp-ui-font-color1));\n",
       "}\n",
       "\n",
       "/* Override VSCode background color */\n",
       ".cell-output-ipywidget-background:has(\n",
       "    > .cell-output-ipywidget-background > .lm-Widget > *[data-root-id]\n",
       "  ),\n",
       ".cell-output-ipywidget-background:has(> .lm-Widget > *[data-root-id]) {\n",
       "  background-color: transparent !important;\n",
       "}\n",
       "</style>"
      ]
     },
     "metadata": {},
     "output_type": "display_data"
    },
    {
     "data": {
      "application/javascript": "(function(root) {\n  function now() {\n    return new Date();\n  }\n\n  const force = true;\n  const py_version = '3.6.3'.replace('rc', '-rc.').replace('.dev', '-dev.');\n  const reloading = false;\n  const Bokeh = root.Bokeh;\n\n  // Set a timeout for this load but only if we are not already initializing\n  if (typeof (root._bokeh_timeout) === \"undefined\" || (force || !root._bokeh_is_initializing)) {\n    root._bokeh_timeout = Date.now() + 5000;\n    root._bokeh_failed_load = false;\n  }\n\n  function run_callbacks() {\n    try {\n      root._bokeh_onload_callbacks.forEach(function(callback) {\n        if (callback != null)\n          callback();\n      });\n    } finally {\n      delete root._bokeh_onload_callbacks;\n    }\n    console.debug(\"Bokeh: all callbacks have finished\");\n  }\n\n  function load_libs(css_urls, js_urls, js_modules, js_exports, callback) {\n    if (css_urls == null) css_urls = [];\n    if (js_urls == null) js_urls = [];\n    if (js_modules == null) js_modules = [];\n    if (js_exports == null) js_exports = {};\n\n    root._bokeh_onload_callbacks.push(callback);\n\n    if (root._bokeh_is_loading > 0) {\n      // Don't load bokeh if it is still initializing\n      console.debug(\"Bokeh: BokehJS is being loaded, scheduling callback at\", now());\n      return null;\n    } else if (js_urls.length === 0 && js_modules.length === 0 && Object.keys(js_exports).length === 0) {\n      // There is nothing to load\n      run_callbacks();\n      return null;\n    }\n\n    function on_load() {\n      root._bokeh_is_loading--;\n      if (root._bokeh_is_loading === 0) {\n        console.debug(\"Bokeh: all BokehJS libraries/stylesheets loaded\");\n        run_callbacks()\n      }\n    }\n    window._bokeh_on_load = on_load\n\n    function on_error(e) {\n      const src_el = e.srcElement\n      console.error(\"failed to load \" + (src_el.href || src_el.src));\n    }\n\n    const skip = [];\n    if (window.requirejs) {\n      window.requirejs.config({'packages': {}, 'paths': {'vega-embed': 'https://cdn.jsdelivr.net/npm/vega-embed@6/build/vega-embed.min', 'vega-lite': 'https://cdn.jsdelivr.net/npm/vega-lite@5/build/vega-lite.min', 'vega': 'https://cdn.jsdelivr.net/npm/vega@5/build/vega.min'}, 'shim': {}});\n      require([\"vega-embed\"], function(vegaEmbed) {\n        window.vegaEmbed = vegaEmbed\n        on_load()\n      })\n      require([\"vega-lite\"], function(vl) {\n        window.vl = vl\n        on_load()\n      })\n      require([\"vega\"], function(vega) {\n        window.vega = vega\n        on_load()\n      })\n      root._bokeh_is_loading = css_urls.length + 3;\n    } else {\n      root._bokeh_is_loading = css_urls.length + js_urls.length + js_modules.length + Object.keys(js_exports).length;\n    }\n\n    const existing_stylesheets = []\n    const links = document.getElementsByTagName('link')\n    for (let i = 0; i < links.length; i++) {\n      const link = links[i]\n      if (link.href != null) {\n        existing_stylesheets.push(link.href)\n      }\n    }\n    for (let i = 0; i < css_urls.length; i++) {\n      const url = css_urls[i];\n      const escaped = encodeURI(url)\n      if (existing_stylesheets.indexOf(escaped) !== -1) {\n        on_load()\n        continue;\n      }\n      const element = document.createElement(\"link\");\n      element.onload = on_load;\n      element.onerror = on_error;\n      element.rel = \"stylesheet\";\n      element.type = \"text/css\";\n      element.href = url;\n      console.debug(\"Bokeh: injecting link tag for BokehJS stylesheet: \", url);\n      document.body.appendChild(element);\n    }    if (((window.vega !== undefined) && (!(window.vega instanceof HTMLElement))) || window.requirejs) {\n      var urls = ['https://cdn.holoviz.org/panel/1.6.1/dist/bundled/vegaplot/vega@5'];\n      for (var i = 0; i < urls.length; i++) {\n        skip.push(encodeURI(urls[i]))\n      }\n    }    if (((window.vegaLite !== undefined) && (!(window.vegaLite instanceof HTMLElement))) || window.requirejs) {\n      var urls = ['https://cdn.holoviz.org/panel/1.6.1/dist/bundled/vegaplot/vega-lite@5'];\n      for (var i = 0; i < urls.length; i++) {\n        skip.push(encodeURI(urls[i]))\n      }\n    }    if (((window.vegaEmbed !== undefined) && (!(window.vegaEmbed instanceof HTMLElement))) || window.requirejs) {\n      var urls = ['https://cdn.holoviz.org/panel/1.6.1/dist/bundled/vegaplot/vega-embed@6'];\n      for (var i = 0; i < urls.length; i++) {\n        skip.push(encodeURI(urls[i]))\n      }\n    }    var existing_scripts = []\n    const scripts = document.getElementsByTagName('script')\n    for (let i = 0; i < scripts.length; i++) {\n      var script = scripts[i]\n      if (script.src != null) {\n        existing_scripts.push(script.src)\n      }\n    }\n    for (let i = 0; i < js_urls.length; i++) {\n      const url = js_urls[i];\n      const escaped = encodeURI(url)\n      if (skip.indexOf(escaped) !== -1 || existing_scripts.indexOf(escaped) !== -1) {\n        if (!window.requirejs) {\n          on_load();\n        }\n        continue;\n      }\n      const element = document.createElement('script');\n      element.onload = on_load;\n      element.onerror = on_error;\n      element.async = false;\n      element.src = url;\n      console.debug(\"Bokeh: injecting script tag for BokehJS library: \", url);\n      document.head.appendChild(element);\n    }\n    for (let i = 0; i < js_modules.length; i++) {\n      const url = js_modules[i];\n      const escaped = encodeURI(url)\n      if (skip.indexOf(escaped) !== -1 || existing_scripts.indexOf(escaped) !== -1) {\n        if (!window.requirejs) {\n          on_load();\n        }\n        continue;\n      }\n      var element = document.createElement('script');\n      element.onload = on_load;\n      element.onerror = on_error;\n      element.async = false;\n      element.src = url;\n      element.type = \"module\";\n      console.debug(\"Bokeh: injecting script tag for BokehJS library: \", url);\n      document.head.appendChild(element);\n    }\n    for (const name in js_exports) {\n      const url = js_exports[name];\n      const escaped = encodeURI(url)\n      if (skip.indexOf(escaped) >= 0 || root[name] != null) {\n        if (!window.requirejs) {\n          on_load();\n        }\n        continue;\n      }\n      var element = document.createElement('script');\n      element.onerror = on_error;\n      element.async = false;\n      element.type = \"module\";\n      console.debug(\"Bokeh: injecting script tag for BokehJS library: \", url);\n      element.textContent = `\n      import ${name} from \"${url}\"\n      window.${name} = ${name}\n      window._bokeh_on_load()\n      `\n      document.head.appendChild(element);\n    }\n    if (!js_urls.length && !js_modules.length) {\n      on_load()\n    }\n  };\n\n  function inject_raw_css(css) {\n    const element = document.createElement(\"style\");\n    element.appendChild(document.createTextNode(css));\n    document.body.appendChild(element);\n  }\n\n  const js_urls = [\"https://cdn.holoviz.org/panel/1.6.1/dist/bundled/reactiveesm/es-module-shims@^1.10.0/dist/es-module-shims.min.js\", \"https://cdn.holoviz.org/panel/1.6.1/dist/bundled/vegaplot/vega@5\", \"https://cdn.holoviz.org/panel/1.6.1/dist/bundled/vegaplot/vega-lite@5\", \"https://cdn.holoviz.org/panel/1.6.1/dist/bundled/vegaplot/vega-embed@6\", \"https://cdn.bokeh.org/bokeh/release/bokeh-3.6.3.min.js\", \"https://cdn.bokeh.org/bokeh/release/bokeh-gl-3.6.3.min.js\", \"https://cdn.bokeh.org/bokeh/release/bokeh-widgets-3.6.3.min.js\", \"https://cdn.bokeh.org/bokeh/release/bokeh-tables-3.6.3.min.js\", \"https://cdn.holoviz.org/panel/1.6.1/dist/panel.min.js\"];\n  const js_modules = [];\n  const js_exports = {};\n  const css_urls = [];\n  const inline_js = [    function(Bokeh) {\n      Bokeh.set_log_level(\"info\");\n    },\nfunction(Bokeh) {} // ensure no trailing comma for IE\n  ];\n\n  function run_inline_js() {\n    if ((root.Bokeh !== undefined) || (force === true)) {\n      for (let i = 0; i < inline_js.length; i++) {\n        try {\n          inline_js[i].call(root, root.Bokeh);\n        } catch(e) {\n          if (!reloading) {\n            throw e;\n          }\n        }\n      }\n      // Cache old bokeh versions\n      if (Bokeh != undefined && !reloading) {\n        var NewBokeh = root.Bokeh;\n        if (Bokeh.versions === undefined) {\n          Bokeh.versions = new Map();\n        }\n        if (NewBokeh.version !== Bokeh.version) {\n          Bokeh.versions.set(NewBokeh.version, NewBokeh)\n        }\n        root.Bokeh = Bokeh;\n      }\n    } else if (Date.now() < root._bokeh_timeout) {\n      setTimeout(run_inline_js, 100);\n    } else if (!root._bokeh_failed_load) {\n      console.log(\"Bokeh: BokehJS failed to load within specified timeout.\");\n      root._bokeh_failed_load = true;\n    }\n    root._bokeh_is_initializing = false\n  }\n\n  function load_or_wait() {\n    // Implement a backoff loop that tries to ensure we do not load multiple\n    // versions of Bokeh and its dependencies at the same time.\n    // In recent versions we use the root._bokeh_is_initializing flag\n    // to determine whether there is an ongoing attempt to initialize\n    // bokeh, however for backward compatibility we also try to ensure\n    // that we do not start loading a newer (Panel>=1.0 and Bokeh>3) version\n    // before older versions are fully initialized.\n    if (root._bokeh_is_initializing && Date.now() > root._bokeh_timeout) {\n      // If the timeout and bokeh was not successfully loaded we reset\n      // everything and try loading again\n      root._bokeh_timeout = Date.now() + 5000;\n      root._bokeh_is_initializing = false;\n      root._bokeh_onload_callbacks = undefined;\n      root._bokeh_is_loading = 0\n      console.log(\"Bokeh: BokehJS was loaded multiple times but one version failed to initialize.\");\n      load_or_wait();\n    } else if (root._bokeh_is_initializing || (typeof root._bokeh_is_initializing === \"undefined\" && root._bokeh_onload_callbacks !== undefined)) {\n      setTimeout(load_or_wait, 100);\n    } else {\n      root._bokeh_is_initializing = true\n      root._bokeh_onload_callbacks = []\n      const bokeh_loaded = root.Bokeh != null && (root.Bokeh.version === py_version || (root.Bokeh.versions !== undefined && root.Bokeh.versions.has(py_version)));\n      if (!reloading && !bokeh_loaded) {\n        if (root.Bokeh) {\n          root.Bokeh = undefined;\n        }\n        console.debug(\"Bokeh: BokehJS not loaded, scheduling load and callback at\", now());\n      }\n      load_libs(css_urls, js_urls, js_modules, js_exports, function() {\n        console.debug(\"Bokeh: BokehJS plotting callback run at\", now());\n        run_inline_js();\n      });\n    }\n  }\n  // Give older versions of the autoload script a head-start to ensure\n  // they initialize before we start loading newer version.\n  setTimeout(load_or_wait, 100)\n}(window));",
      "application/vnd.holoviews_load.v0+json": ""
     },
     "metadata": {},
     "output_type": "display_data"
    },
    {
     "data": {
      "application/javascript": "\nif ((window.PyViz === undefined) || (window.PyViz instanceof HTMLElement)) {\n  window.PyViz = {comms: {}, comm_status:{}, kernels:{}, receivers: {}, plot_index: []}\n}\n\n\n    function JupyterCommManager() {\n    }\n\n    JupyterCommManager.prototype.register_target = function(plot_id, comm_id, msg_handler) {\n      if (window.comm_manager || ((window.Jupyter !== undefined) && (Jupyter.notebook.kernel != null))) {\n        var comm_manager = window.comm_manager || Jupyter.notebook.kernel.comm_manager;\n        comm_manager.register_target(comm_id, function(comm) {\n          comm.on_msg(msg_handler);\n        });\n      } else if ((plot_id in window.PyViz.kernels) && (window.PyViz.kernels[plot_id])) {\n        window.PyViz.kernels[plot_id].registerCommTarget(comm_id, function(comm) {\n          comm.onMsg = msg_handler;\n        });\n      } else if (typeof google != 'undefined' && google.colab.kernel != null) {\n        google.colab.kernel.comms.registerTarget(comm_id, (comm) => {\n          var messages = comm.messages[Symbol.asyncIterator]();\n          function processIteratorResult(result) {\n            var message = result.value;\n            console.log(message)\n            var content = {data: message.data, comm_id};\n            var buffers = []\n            for (var buffer of message.buffers || []) {\n              buffers.push(new DataView(buffer))\n            }\n            var metadata = message.metadata || {};\n            var msg = {content, buffers, metadata}\n            msg_handler(msg);\n            return messages.next().then(processIteratorResult);\n          }\n          return messages.next().then(processIteratorResult);\n        })\n      }\n    }\n\n    JupyterCommManager.prototype.get_client_comm = function(plot_id, comm_id, msg_handler) {\n      if (comm_id in window.PyViz.comms) {\n        return window.PyViz.comms[comm_id];\n      } else if (window.comm_manager || ((window.Jupyter !== undefined) && (Jupyter.notebook.kernel != null))) {\n        var comm_manager = window.comm_manager || Jupyter.notebook.kernel.comm_manager;\n        var comm = comm_manager.new_comm(comm_id, {}, {}, {}, comm_id);\n        if (msg_handler) {\n          comm.on_msg(msg_handler);\n        }\n      } else if ((plot_id in window.PyViz.kernels) && (window.PyViz.kernels[plot_id])) {\n        var comm = window.PyViz.kernels[plot_id].connectToComm(comm_id);\n        comm.open();\n        if (msg_handler) {\n          comm.onMsg = msg_handler;\n        }\n      } else if (typeof google != 'undefined' && google.colab.kernel != null) {\n        var comm_promise = google.colab.kernel.comms.open(comm_id)\n        comm_promise.then((comm) => {\n          window.PyViz.comms[comm_id] = comm;\n          if (msg_handler) {\n            var messages = comm.messages[Symbol.asyncIterator]();\n            function processIteratorResult(result) {\n              var message = result.value;\n              var content = {data: message.data};\n              var metadata = message.metadata || {comm_id};\n              var msg = {content, metadata}\n              msg_handler(msg);\n              return messages.next().then(processIteratorResult);\n            }\n            return messages.next().then(processIteratorResult);\n          }\n        })\n        var sendClosure = (data, metadata, buffers, disposeOnDone) => {\n          return comm_promise.then((comm) => {\n            comm.send(data, metadata, buffers, disposeOnDone);\n          });\n        };\n        var comm = {\n          send: sendClosure\n        };\n      }\n      window.PyViz.comms[comm_id] = comm;\n      return comm;\n    }\n    window.PyViz.comm_manager = new JupyterCommManager();\n    \n\n\nvar JS_MIME_TYPE = 'application/javascript';\nvar HTML_MIME_TYPE = 'text/html';\nvar EXEC_MIME_TYPE = 'application/vnd.holoviews_exec.v0+json';\nvar CLASS_NAME = 'output';\n\n/**\n * Render data to the DOM node\n */\nfunction render(props, node) {\n  var div = document.createElement(\"div\");\n  var script = document.createElement(\"script\");\n  node.appendChild(div);\n  node.appendChild(script);\n}\n\n/**\n * Handle when a new output is added\n */\nfunction handle_add_output(event, handle) {\n  var output_area = handle.output_area;\n  var output = handle.output;\n  if ((output.data == undefined) || (!output.data.hasOwnProperty(EXEC_MIME_TYPE))) {\n    return\n  }\n  var id = output.metadata[EXEC_MIME_TYPE][\"id\"];\n  var toinsert = output_area.element.find(\".\" + CLASS_NAME.split(' ')[0]);\n  if (id !== undefined) {\n    var nchildren = toinsert.length;\n    var html_node = toinsert[nchildren-1].children[0];\n    html_node.innerHTML = output.data[HTML_MIME_TYPE];\n    var scripts = [];\n    var nodelist = html_node.querySelectorAll(\"script\");\n    for (var i in nodelist) {\n      if (nodelist.hasOwnProperty(i)) {\n        scripts.push(nodelist[i])\n      }\n    }\n\n    scripts.forEach( function (oldScript) {\n      var newScript = document.createElement(\"script\");\n      var attrs = [];\n      var nodemap = oldScript.attributes;\n      for (var j in nodemap) {\n        if (nodemap.hasOwnProperty(j)) {\n          attrs.push(nodemap[j])\n        }\n      }\n      attrs.forEach(function(attr) { newScript.setAttribute(attr.name, attr.value) });\n      newScript.appendChild(document.createTextNode(oldScript.innerHTML));\n      oldScript.parentNode.replaceChild(newScript, oldScript);\n    });\n    if (JS_MIME_TYPE in output.data) {\n      toinsert[nchildren-1].children[1].textContent = output.data[JS_MIME_TYPE];\n    }\n    output_area._hv_plot_id = id;\n    if ((window.Bokeh !== undefined) && (id in Bokeh.index)) {\n      window.PyViz.plot_index[id] = Bokeh.index[id];\n    } else {\n      window.PyViz.plot_index[id] = null;\n    }\n  } else if (output.metadata[EXEC_MIME_TYPE][\"server_id\"] !== undefined) {\n    var bk_div = document.createElement(\"div\");\n    bk_div.innerHTML = output.data[HTML_MIME_TYPE];\n    var script_attrs = bk_div.children[0].attributes;\n    for (var i = 0; i < script_attrs.length; i++) {\n      toinsert[toinsert.length - 1].childNodes[1].setAttribute(script_attrs[i].name, script_attrs[i].value);\n    }\n    // store reference to server id on output_area\n    output_area._bokeh_server_id = output.metadata[EXEC_MIME_TYPE][\"server_id\"];\n  }\n}\n\n/**\n * Handle when an output is cleared or removed\n */\nfunction handle_clear_output(event, handle) {\n  var id = handle.cell.output_area._hv_plot_id;\n  var server_id = handle.cell.output_area._bokeh_server_id;\n  if (((id === undefined) || !(id in PyViz.plot_index)) && (server_id !== undefined)) { return; }\n  var comm = window.PyViz.comm_manager.get_client_comm(\"hv-extension-comm\", \"hv-extension-comm\", function () {});\n  if (server_id !== null) {\n    comm.send({event_type: 'server_delete', 'id': server_id});\n    return;\n  } else if (comm !== null) {\n    comm.send({event_type: 'delete', 'id': id});\n  }\n  delete PyViz.plot_index[id];\n  if ((window.Bokeh !== undefined) & (id in window.Bokeh.index)) {\n    var doc = window.Bokeh.index[id].model.document\n    doc.clear();\n    const i = window.Bokeh.documents.indexOf(doc);\n    if (i > -1) {\n      window.Bokeh.documents.splice(i, 1);\n    }\n  }\n}\n\n/**\n * Handle kernel restart event\n */\nfunction handle_kernel_cleanup(event, handle) {\n  delete PyViz.comms[\"hv-extension-comm\"];\n  window.PyViz.plot_index = {}\n}\n\n/**\n * Handle update_display_data messages\n */\nfunction handle_update_output(event, handle) {\n  handle_clear_output(event, {cell: {output_area: handle.output_area}})\n  handle_add_output(event, handle)\n}\n\nfunction register_renderer(events, OutputArea) {\n  function append_mime(data, metadata, element) {\n    // create a DOM node to render to\n    var toinsert = this.create_output_subarea(\n    metadata,\n    CLASS_NAME,\n    EXEC_MIME_TYPE\n    );\n    this.keyboard_manager.register_events(toinsert);\n    // Render to node\n    var props = {data: data, metadata: metadata[EXEC_MIME_TYPE]};\n    render(props, toinsert[0]);\n    element.append(toinsert);\n    return toinsert\n  }\n\n  events.on('output_added.OutputArea', handle_add_output);\n  events.on('output_updated.OutputArea', handle_update_output);\n  events.on('clear_output.CodeCell', handle_clear_output);\n  events.on('delete.Cell', handle_clear_output);\n  events.on('kernel_ready.Kernel', handle_kernel_cleanup);\n\n  OutputArea.prototype.register_mime_type(EXEC_MIME_TYPE, append_mime, {\n    safe: true,\n    index: 0\n  });\n}\n\nif (window.Jupyter !== undefined) {\n  try {\n    var events = require('base/js/events');\n    var OutputArea = require('notebook/js/outputarea').OutputArea;\n    if (OutputArea.prototype.mime_types().indexOf(EXEC_MIME_TYPE) == -1) {\n      register_renderer(events, OutputArea);\n    }\n  } catch(err) {\n  }\n}\n",
      "application/vnd.holoviews_load.v0+json": ""
     },
     "metadata": {},
     "output_type": "display_data"
    },
    {
     "data": {
      "application/vnd.holoviews_exec.v0+json": "",
      "text/html": [
       "<div id='a39d650f-ef02-4972-b723-9257fde40ed1'>\n",
       "  <div id=\"e667913f-f647-4185-8a9a-ed1b7347b7b9\" data-root-id=\"a39d650f-ef02-4972-b723-9257fde40ed1\" style=\"display: contents;\"></div>\n",
       "</div>\n",
       "<script type=\"application/javascript\">(function(root) {\n",
       "  var docs_json = {\"2bc85b9d-5401-463b-99ac-e148f6dfd0a3\":{\"version\":\"3.6.3\",\"title\":\"Bokeh Application\",\"roots\":[{\"type\":\"object\",\"name\":\"panel.models.browser.BrowserInfo\",\"id\":\"a39d650f-ef02-4972-b723-9257fde40ed1\"},{\"type\":\"object\",\"name\":\"panel.models.comm_manager.CommManager\",\"id\":\"0fa49e47-1d09-40d7-be1e-4f2f0ddf6a64\",\"attributes\":{\"plot_id\":\"a39d650f-ef02-4972-b723-9257fde40ed1\",\"comm_id\":\"0a18fc960e474fa39784e036da3d4de8\",\"client_comm_id\":\"24809384502f496fafd3e382f3120e13\"}}],\"defs\":[{\"type\":\"model\",\"name\":\"ReactiveHTML1\"},{\"type\":\"model\",\"name\":\"FlexBox1\",\"properties\":[{\"name\":\"align_content\",\"kind\":\"Any\",\"default\":\"flex-start\"},{\"name\":\"align_items\",\"kind\":\"Any\",\"default\":\"flex-start\"},{\"name\":\"flex_direction\",\"kind\":\"Any\",\"default\":\"row\"},{\"name\":\"flex_wrap\",\"kind\":\"Any\",\"default\":\"wrap\"},{\"name\":\"gap\",\"kind\":\"Any\",\"default\":\"\"},{\"name\":\"justify_content\",\"kind\":\"Any\",\"default\":\"flex-start\"}]},{\"type\":\"model\",\"name\":\"FloatPanel1\",\"properties\":[{\"name\":\"config\",\"kind\":\"Any\",\"default\":{\"type\":\"map\"}},{\"name\":\"contained\",\"kind\":\"Any\",\"default\":true},{\"name\":\"position\",\"kind\":\"Any\",\"default\":\"right-top\"},{\"name\":\"offsetx\",\"kind\":\"Any\",\"default\":null},{\"name\":\"offsety\",\"kind\":\"Any\",\"default\":null},{\"name\":\"theme\",\"kind\":\"Any\",\"default\":\"primary\"},{\"name\":\"status\",\"kind\":\"Any\",\"default\":\"normalized\"}]},{\"type\":\"model\",\"name\":\"GridStack1\",\"properties\":[{\"name\":\"mode\",\"kind\":\"Any\",\"default\":\"warn\"},{\"name\":\"ncols\",\"kind\":\"Any\",\"default\":null},{\"name\":\"nrows\",\"kind\":\"Any\",\"default\":null},{\"name\":\"allow_resize\",\"kind\":\"Any\",\"default\":true},{\"name\":\"allow_drag\",\"kind\":\"Any\",\"default\":true},{\"name\":\"state\",\"kind\":\"Any\",\"default\":[]}]},{\"type\":\"model\",\"name\":\"drag1\",\"properties\":[{\"name\":\"slider_width\",\"kind\":\"Any\",\"default\":5},{\"name\":\"slider_color\",\"kind\":\"Any\",\"default\":\"black\"},{\"name\":\"value\",\"kind\":\"Any\",\"default\":50}]},{\"type\":\"model\",\"name\":\"click1\",\"properties\":[{\"name\":\"terminal_output\",\"kind\":\"Any\",\"default\":\"\"},{\"name\":\"debug_name\",\"kind\":\"Any\",\"default\":\"\"},{\"name\":\"clears\",\"kind\":\"Any\",\"default\":0}]},{\"type\":\"model\",\"name\":\"FastWrapper1\",\"properties\":[{\"name\":\"object\",\"kind\":\"Any\",\"default\":null},{\"name\":\"style\",\"kind\":\"Any\",\"default\":null}]},{\"type\":\"model\",\"name\":\"NotificationAreaBase1\",\"properties\":[{\"name\":\"js_events\",\"kind\":\"Any\",\"default\":{\"type\":\"map\"}},{\"name\":\"position\",\"kind\":\"Any\",\"default\":\"bottom-right\"},{\"name\":\"_clear\",\"kind\":\"Any\",\"default\":0}]},{\"type\":\"model\",\"name\":\"NotificationArea1\",\"properties\":[{\"name\":\"js_events\",\"kind\":\"Any\",\"default\":{\"type\":\"map\"}},{\"name\":\"notifications\",\"kind\":\"Any\",\"default\":[]},{\"name\":\"position\",\"kind\":\"Any\",\"default\":\"bottom-right\"},{\"name\":\"_clear\",\"kind\":\"Any\",\"default\":0},{\"name\":\"types\",\"kind\":\"Any\",\"default\":[{\"type\":\"map\",\"entries\":[[\"type\",\"warning\"],[\"background\",\"#ffc107\"],[\"icon\",{\"type\":\"map\",\"entries\":[[\"className\",\"fas fa-exclamation-triangle\"],[\"tagName\",\"i\"],[\"color\",\"white\"]]}]]},{\"type\":\"map\",\"entries\":[[\"type\",\"info\"],[\"background\",\"#007bff\"],[\"icon\",{\"type\":\"map\",\"entries\":[[\"className\",\"fas fa-info-circle\"],[\"tagName\",\"i\"],[\"color\",\"white\"]]}]]}]}]},{\"type\":\"model\",\"name\":\"Notification\",\"properties\":[{\"name\":\"background\",\"kind\":\"Any\",\"default\":null},{\"name\":\"duration\",\"kind\":\"Any\",\"default\":3000},{\"name\":\"icon\",\"kind\":\"Any\",\"default\":null},{\"name\":\"message\",\"kind\":\"Any\",\"default\":\"\"},{\"name\":\"notification_type\",\"kind\":\"Any\",\"default\":null},{\"name\":\"_rendered\",\"kind\":\"Any\",\"default\":false},{\"name\":\"_destroyed\",\"kind\":\"Any\",\"default\":false}]},{\"type\":\"model\",\"name\":\"TemplateActions1\",\"properties\":[{\"name\":\"open_modal\",\"kind\":\"Any\",\"default\":0},{\"name\":\"close_modal\",\"kind\":\"Any\",\"default\":0}]},{\"type\":\"model\",\"name\":\"BootstrapTemplateActions1\",\"properties\":[{\"name\":\"open_modal\",\"kind\":\"Any\",\"default\":0},{\"name\":\"close_modal\",\"kind\":\"Any\",\"default\":0}]},{\"type\":\"model\",\"name\":\"TemplateEditor1\",\"properties\":[{\"name\":\"layout\",\"kind\":\"Any\",\"default\":[]}]},{\"type\":\"model\",\"name\":\"MaterialTemplateActions1\",\"properties\":[{\"name\":\"open_modal\",\"kind\":\"Any\",\"default\":0},{\"name\":\"close_modal\",\"kind\":\"Any\",\"default\":0}]},{\"type\":\"model\",\"name\":\"ReactiveESM1\",\"properties\":[{\"name\":\"esm_constants\",\"kind\":\"Any\",\"default\":{\"type\":\"map\"}}]},{\"type\":\"model\",\"name\":\"JSComponent1\",\"properties\":[{\"name\":\"esm_constants\",\"kind\":\"Any\",\"default\":{\"type\":\"map\"}}]},{\"type\":\"model\",\"name\":\"ReactComponent1\",\"properties\":[{\"name\":\"esm_constants\",\"kind\":\"Any\",\"default\":{\"type\":\"map\"}}]},{\"type\":\"model\",\"name\":\"AnyWidgetComponent1\",\"properties\":[{\"name\":\"esm_constants\",\"kind\":\"Any\",\"default\":{\"type\":\"map\"}}]},{\"type\":\"model\",\"name\":\"request_value1\",\"properties\":[{\"name\":\"fill\",\"kind\":\"Any\",\"default\":\"none\"},{\"name\":\"_synced\",\"kind\":\"Any\",\"default\":null},{\"name\":\"_request_sync\",\"kind\":\"Any\",\"default\":0}]}]}};\n",
       "  var render_items = [{\"docid\":\"2bc85b9d-5401-463b-99ac-e148f6dfd0a3\",\"roots\":{\"a39d650f-ef02-4972-b723-9257fde40ed1\":\"e667913f-f647-4185-8a9a-ed1b7347b7b9\"},\"root_ids\":[\"a39d650f-ef02-4972-b723-9257fde40ed1\"]}];\n",
       "  var docs = Object.values(docs_json)\n",
       "  if (!docs) {\n",
       "    return\n",
       "  }\n",
       "  const py_version = docs[0].version.replace('rc', '-rc.').replace('.dev', '-dev.')\n",
       "  async function embed_document(root) {\n",
       "    var Bokeh = get_bokeh(root)\n",
       "    await Bokeh.embed.embed_items_notebook(docs_json, render_items);\n",
       "    for (const render_item of render_items) {\n",
       "      for (const root_id of render_item.root_ids) {\n",
       "\tconst id_el = document.getElementById(root_id)\n",
       "\tif (id_el.children.length && id_el.children[0].hasAttribute('data-root-id')) {\n",
       "\t  const root_el = id_el.children[0]\n",
       "\t  root_el.id = root_el.id + '-rendered'\n",
       "\t  for (const child of root_el.children) {\n",
       "            // Ensure JupyterLab does not capture keyboard shortcuts\n",
       "            // see: https://jupyterlab.readthedocs.io/en/4.1.x/extension/notebook.html#keyboard-interaction-model\n",
       "\t    child.setAttribute('data-lm-suppress-shortcuts', 'true')\n",
       "\t  }\n",
       "\t}\n",
       "      }\n",
       "    }\n",
       "  }\n",
       "  function get_bokeh(root) {\n",
       "    if (root.Bokeh === undefined) {\n",
       "      return null\n",
       "    } else if (root.Bokeh.version !== py_version) {\n",
       "      if (root.Bokeh.versions === undefined || !root.Bokeh.versions.has(py_version)) {\n",
       "\treturn null\n",
       "      }\n",
       "      return root.Bokeh.versions.get(py_version);\n",
       "    } else if (root.Bokeh.version === py_version) {\n",
       "      return root.Bokeh\n",
       "    }\n",
       "    return null\n",
       "  }\n",
       "  function is_loaded(root) {\n",
       "    var Bokeh = get_bokeh(root)\n",
       "    return (Bokeh != null && Bokeh.Panel !== undefined && ( root.vega !== undefined) && ( root.vega !== undefined) && ( root.vega !== undefined))\n",
       "  }\n",
       "  if (is_loaded(root)) {\n",
       "    embed_document(root);\n",
       "  } else {\n",
       "    var attempts = 0;\n",
       "    var timer = setInterval(function(root) {\n",
       "      if (is_loaded(root)) {\n",
       "        clearInterval(timer);\n",
       "        embed_document(root);\n",
       "      } else if (document.readyState == \"complete\") {\n",
       "        attempts++;\n",
       "        if (attempts > 200) {\n",
       "          clearInterval(timer);\n",
       "\t  var Bokeh = get_bokeh(root)\n",
       "\t  if (Bokeh == null || Bokeh.Panel == null) {\n",
       "            console.warn(\"Panel: ERROR: Unable to run Panel code because Bokeh or Panel library is missing\");\n",
       "\t  } else {\n",
       "\t    console.warn(\"Panel: WARNING: Attempting to render but not all required libraries could be resolved.\")\n",
       "\t    embed_document(root)\n",
       "\t  }\n",
       "        }\n",
       "      }\n",
       "    }, 25, root)\n",
       "  }\n",
       "})(window);</script>"
      ]
     },
     "metadata": {
      "application/vnd.holoviews_exec.v0+json": {
       "id": "a39d650f-ef02-4972-b723-9257fde40ed1"
      }
     },
     "output_type": "display_data"
    },
    {
     "name": "stderr",
     "output_type": "stream",
     "text": [
      "/tmp/ipykernel_3251/154283295.py:18: AltairDeprecationWarning: \n",
      "Deprecated since `altair=5.0.0`. Use selection_point instead.\n",
      "  selection = alt.selection_single(on='click', empty='none')\n",
      "/tmp/ipykernel_3251/154283295.py:25: AltairDeprecationWarning: \n",
      "Deprecated since `altair=5.0.0`. Use add_params instead.\n",
      "  ).add_selection(selection)\n"
     ]
    },
    {
     "data": {},
     "metadata": {},
     "output_type": "display_data"
    },
    {
     "data": {
      "application/vnd.holoviews_exec.v0+json": "",
      "text/html": [
       "<div id='6ec98778-7eb1-4395-bb63-1ec43e315d8f'>\n",
       "  <div id=\"a5f286c3-c059-4233-b3e6-777d770195c1\" data-root-id=\"6ec98778-7eb1-4395-bb63-1ec43e315d8f\" style=\"display: contents;\"></div>\n",
       "</div>\n",
       "<script type=\"application/javascript\">(function(root) {\n",
       "  var docs_json = {\"82903d6f-c75d-45c0-8695-f0b765aafe5c\":{\"version\":\"3.6.3\",\"title\":\"Bokeh Application\",\"roots\":[{\"type\":\"object\",\"name\":\"panel.models.vega.VegaPlot\",\"id\":\"6ec98778-7eb1-4395-bb63-1ec43e315d8f\",\"attributes\":{\"subscribed_events\":{\"type\":\"set\",\"entries\":[\"vega_event\"]},\"stylesheets\":[\"\\n:host(.pn-loading):before, .pn-loading:before {\\n  background-color: #c3c3c3;\\n  mask-size: auto calc(min(50%, 400px));\\n  -webkit-mask-size: auto calc(min(50%, 400px));\\n}\",{\"type\":\"object\",\"name\":\"ImportedStyleSheet\",\"id\":\"3109c84b-9b60-40a0-91d7-86d847739a23\",\"attributes\":{\"url\":\"https://cdn.holoviz.org/panel/1.6.1/dist/css/loading.css\"}},{\"type\":\"object\",\"name\":\"ImportedStyleSheet\",\"id\":\"628f7896-6d53-4485-8414-108cfbdd1d1a\",\"attributes\":{\"url\":\"https://cdn.holoviz.org/panel/1.6.1/dist/bundled/theme/default.css\"}},{\"type\":\"object\",\"name\":\"ImportedStyleSheet\",\"id\":\"17bb7f2d-cb80-4eb8-8511-673b20a7de5e\",\"attributes\":{\"url\":\"https://cdn.holoviz.org/panel/1.6.1/dist/bundled/theme/native.css\"}}],\"margin\":[5,10],\"align\":\"start\",\"data\":{\"type\":\"map\",\"entries\":[[\"config\",{\"type\":\"map\",\"entries\":[[\"view\",{\"type\":\"map\",\"entries\":[[\"continuousWidth\",300],[\"continuousHeight\",300]]}]]}],[\"layer\",[{\"type\":\"map\",\"entries\":[[\"mark\",{\"type\":\"map\",\"entries\":[[\"type\",\"circle\"]]}],[\"encoding\",{\"type\":\"map\",\"entries\":[[\"tooltip\",[{\"type\":\"map\",\"entries\":[[\"field\",\"x\"],[\"type\",\"quantitative\"]]},{\"type\":\"map\",\"entries\":[[\"field\",\"y\"],[\"type\",\"quantitative\"]]},{\"type\":\"map\",\"entries\":[[\"field\",\"category\"],[\"type\",\"nominal\"]]}]],[\"x\",{\"type\":\"map\",\"entries\":[[\"field\",\"x\"],[\"type\",\"quantitative\"]]}],[\"y\",{\"type\":\"map\",\"entries\":[[\"field\",\"y\"],[\"type\",\"quantitative\"]]}]]}],[\"name\",\"view_8\"]]},{\"type\":\"map\",\"entries\":[[\"mark\",{\"type\":\"map\",\"entries\":[[\"type\",\"text\"],[\"dy\",-15],[\"size\",14]]}],[\"encoding\",{\"type\":\"map\",\"entries\":[[\"opacity\",{\"type\":\"map\",\"entries\":[[\"condition\",{\"type\":\"map\",\"entries\":[[\"param\",\"param_6\"],[\"value\",1],[\"empty\",false]]}],[\"value\",0]]}],[\"text\",{\"type\":\"map\",\"entries\":[[\"field\",\"tooltip_text\"],[\"type\",\"nominal\"]]}],[\"x\",{\"type\":\"map\",\"entries\":[[\"field\",\"x\"],[\"type\",\"quantitative\"]]}],[\"y\",{\"type\":\"map\",\"entries\":[[\"field\",\"y\"],[\"type\",\"quantitative\"]]}]]}]]}]],[\"data\",{\"type\":\"map\",\"entries\":[[\"name\",\"data-1b58b696ab383bfabebfe9308e6dfca8\"]]}],[\"height\",400],[\"params\",[{\"type\":\"map\",\"entries\":[[\"name\",\"param_6\"],[\"select\",{\"type\":\"map\",\"entries\":[[\"type\",\"point\"],[\"on\",\"click\"]]}],[\"views\",[\"view_8\"]]]}]],[\"width\",600],[\"$schema\",\"https://vega.github.io/schema/vega-lite/v5.20.1.json\"],[\"datasets\",{\"type\":\"map\"}]]},\"data_sources\":{\"type\":\"map\",\"entries\":[[\"data-1b58b696ab383bfabebfe9308e6dfca8\",{\"type\":\"object\",\"name\":\"ColumnDataSource\",\"id\":\"e930e829-427b-4910-8dcc-1eb2653aa0af\",\"attributes\":{\"selected\":{\"type\":\"object\",\"name\":\"Selection\",\"id\":\"838ec7e1-a570-45a9-aed1-a407fcc85c26\",\"attributes\":{\"indices\":[],\"line_indices\":[]}},\"selection_policy\":{\"type\":\"object\",\"name\":\"UnionRenderers\",\"id\":\"b1f2da07-7acb-4249-a6d9-d7d9b5729d06\"},\"data\":{\"type\":\"map\",\"entries\":[[\"index\",{\"type\":\"ndarray\",\"array\":{\"type\":\"bytes\",\"data\":\"AAAAAAEAAAACAAAAAwAAAAQAAAA=\"},\"shape\":[5],\"dtype\":\"int32\",\"order\":\"little\"}],[\"x\",{\"type\":\"ndarray\",\"array\":{\"type\":\"bytes\",\"data\":\"AQAAAAIAAAADAAAABAAAAAUAAAA=\"},\"shape\":[5],\"dtype\":\"int32\",\"order\":\"little\"}],[\"y\",{\"type\":\"ndarray\",\"array\":{\"type\":\"bytes\",\"data\":\"CgAAABQAAAAeAAAAKAAAADIAAAA=\"},\"shape\":[5],\"dtype\":\"int32\",\"order\":\"little\"}],[\"category\",{\"type\":\"ndarray\",\"array\":[\"A\",\"B\",\"C\",\"D\",\"E\"],\"shape\":[5],\"dtype\":\"object\",\"order\":\"little\"}],[\"tooltip_text\",{\"type\":\"ndarray\",\"array\":[\"x: 1, y: 10, category: A\",\"x: 2, y: 20, category: B\",\"x: 3, y: 30, category: C\",\"x: 4, y: 40, category: D\",\"x: 5, y: 50, category: E\"],\"shape\":[5],\"dtype\":\"object\",\"order\":\"little\"}]]}}}]]},\"events\":[\"param_6\"],\"throttle\":{\"type\":\"map\",\"entries\":[[\"param_6\",20]]}}},{\"type\":\"object\",\"name\":\"panel.models.comm_manager.CommManager\",\"id\":\"52880817-c5bc-40e5-a865-0b0cdb179238\",\"attributes\":{\"plot_id\":\"6ec98778-7eb1-4395-bb63-1ec43e315d8f\",\"comm_id\":\"a30a5f24b8b44716b12fb52351b7086c\",\"client_comm_id\":\"dba603e536cf4c80a356fc208f01a273\"}}],\"defs\":[{\"type\":\"model\",\"name\":\"ReactiveHTML1\"},{\"type\":\"model\",\"name\":\"FlexBox1\",\"properties\":[{\"name\":\"align_content\",\"kind\":\"Any\",\"default\":\"flex-start\"},{\"name\":\"align_items\",\"kind\":\"Any\",\"default\":\"flex-start\"},{\"name\":\"flex_direction\",\"kind\":\"Any\",\"default\":\"row\"},{\"name\":\"flex_wrap\",\"kind\":\"Any\",\"default\":\"wrap\"},{\"name\":\"gap\",\"kind\":\"Any\",\"default\":\"\"},{\"name\":\"justify_content\",\"kind\":\"Any\",\"default\":\"flex-start\"}]},{\"type\":\"model\",\"name\":\"FloatPanel1\",\"properties\":[{\"name\":\"config\",\"kind\":\"Any\",\"default\":{\"type\":\"map\"}},{\"name\":\"contained\",\"kind\":\"Any\",\"default\":true},{\"name\":\"position\",\"kind\":\"Any\",\"default\":\"right-top\"},{\"name\":\"offsetx\",\"kind\":\"Any\",\"default\":null},{\"name\":\"offsety\",\"kind\":\"Any\",\"default\":null},{\"name\":\"theme\",\"kind\":\"Any\",\"default\":\"primary\"},{\"name\":\"status\",\"kind\":\"Any\",\"default\":\"normalized\"}]},{\"type\":\"model\",\"name\":\"GridStack1\",\"properties\":[{\"name\":\"mode\",\"kind\":\"Any\",\"default\":\"warn\"},{\"name\":\"ncols\",\"kind\":\"Any\",\"default\":null},{\"name\":\"nrows\",\"kind\":\"Any\",\"default\":null},{\"name\":\"allow_resize\",\"kind\":\"Any\",\"default\":true},{\"name\":\"allow_drag\",\"kind\":\"Any\",\"default\":true},{\"name\":\"state\",\"kind\":\"Any\",\"default\":[]}]},{\"type\":\"model\",\"name\":\"drag1\",\"properties\":[{\"name\":\"slider_width\",\"kind\":\"Any\",\"default\":5},{\"name\":\"slider_color\",\"kind\":\"Any\",\"default\":\"black\"},{\"name\":\"value\",\"kind\":\"Any\",\"default\":50}]},{\"type\":\"model\",\"name\":\"click1\",\"properties\":[{\"name\":\"terminal_output\",\"kind\":\"Any\",\"default\":\"\"},{\"name\":\"debug_name\",\"kind\":\"Any\",\"default\":\"\"},{\"name\":\"clears\",\"kind\":\"Any\",\"default\":0}]},{\"type\":\"model\",\"name\":\"FastWrapper1\",\"properties\":[{\"name\":\"object\",\"kind\":\"Any\",\"default\":null},{\"name\":\"style\",\"kind\":\"Any\",\"default\":null}]},{\"type\":\"model\",\"name\":\"NotificationAreaBase1\",\"properties\":[{\"name\":\"js_events\",\"kind\":\"Any\",\"default\":{\"type\":\"map\"}},{\"name\":\"position\",\"kind\":\"Any\",\"default\":\"bottom-right\"},{\"name\":\"_clear\",\"kind\":\"Any\",\"default\":0}]},{\"type\":\"model\",\"name\":\"NotificationArea1\",\"properties\":[{\"name\":\"js_events\",\"kind\":\"Any\",\"default\":{\"type\":\"map\"}},{\"name\":\"notifications\",\"kind\":\"Any\",\"default\":[]},{\"name\":\"position\",\"kind\":\"Any\",\"default\":\"bottom-right\"},{\"name\":\"_clear\",\"kind\":\"Any\",\"default\":0},{\"name\":\"types\",\"kind\":\"Any\",\"default\":[{\"type\":\"map\",\"entries\":[[\"type\",\"warning\"],[\"background\",\"#ffc107\"],[\"icon\",{\"type\":\"map\",\"entries\":[[\"className\",\"fas fa-exclamation-triangle\"],[\"tagName\",\"i\"],[\"color\",\"white\"]]}]]},{\"type\":\"map\",\"entries\":[[\"type\",\"info\"],[\"background\",\"#007bff\"],[\"icon\",{\"type\":\"map\",\"entries\":[[\"className\",\"fas fa-info-circle\"],[\"tagName\",\"i\"],[\"color\",\"white\"]]}]]}]}]},{\"type\":\"model\",\"name\":\"Notification\",\"properties\":[{\"name\":\"background\",\"kind\":\"Any\",\"default\":null},{\"name\":\"duration\",\"kind\":\"Any\",\"default\":3000},{\"name\":\"icon\",\"kind\":\"Any\",\"default\":null},{\"name\":\"message\",\"kind\":\"Any\",\"default\":\"\"},{\"name\":\"notification_type\",\"kind\":\"Any\",\"default\":null},{\"name\":\"_rendered\",\"kind\":\"Any\",\"default\":false},{\"name\":\"_destroyed\",\"kind\":\"Any\",\"default\":false}]},{\"type\":\"model\",\"name\":\"TemplateActions1\",\"properties\":[{\"name\":\"open_modal\",\"kind\":\"Any\",\"default\":0},{\"name\":\"close_modal\",\"kind\":\"Any\",\"default\":0}]},{\"type\":\"model\",\"name\":\"BootstrapTemplateActions1\",\"properties\":[{\"name\":\"open_modal\",\"kind\":\"Any\",\"default\":0},{\"name\":\"close_modal\",\"kind\":\"Any\",\"default\":0}]},{\"type\":\"model\",\"name\":\"TemplateEditor1\",\"properties\":[{\"name\":\"layout\",\"kind\":\"Any\",\"default\":[]}]},{\"type\":\"model\",\"name\":\"MaterialTemplateActions1\",\"properties\":[{\"name\":\"open_modal\",\"kind\":\"Any\",\"default\":0},{\"name\":\"close_modal\",\"kind\":\"Any\",\"default\":0}]},{\"type\":\"model\",\"name\":\"ReactiveESM1\",\"properties\":[{\"name\":\"esm_constants\",\"kind\":\"Any\",\"default\":{\"type\":\"map\"}}]},{\"type\":\"model\",\"name\":\"JSComponent1\",\"properties\":[{\"name\":\"esm_constants\",\"kind\":\"Any\",\"default\":{\"type\":\"map\"}}]},{\"type\":\"model\",\"name\":\"ReactComponent1\",\"properties\":[{\"name\":\"esm_constants\",\"kind\":\"Any\",\"default\":{\"type\":\"map\"}}]},{\"type\":\"model\",\"name\":\"AnyWidgetComponent1\",\"properties\":[{\"name\":\"esm_constants\",\"kind\":\"Any\",\"default\":{\"type\":\"map\"}}]},{\"type\":\"model\",\"name\":\"request_value1\",\"properties\":[{\"name\":\"fill\",\"kind\":\"Any\",\"default\":\"none\"},{\"name\":\"_synced\",\"kind\":\"Any\",\"default\":null},{\"name\":\"_request_sync\",\"kind\":\"Any\",\"default\":0}]}]}};\n",
       "  var render_items = [{\"docid\":\"82903d6f-c75d-45c0-8695-f0b765aafe5c\",\"roots\":{\"6ec98778-7eb1-4395-bb63-1ec43e315d8f\":\"a5f286c3-c059-4233-b3e6-777d770195c1\"},\"root_ids\":[\"6ec98778-7eb1-4395-bb63-1ec43e315d8f\"]}];\n",
       "  var docs = Object.values(docs_json)\n",
       "  if (!docs) {\n",
       "    return\n",
       "  }\n",
       "  const py_version = docs[0].version.replace('rc', '-rc.').replace('.dev', '-dev.')\n",
       "  async function embed_document(root) {\n",
       "    var Bokeh = get_bokeh(root)\n",
       "    await Bokeh.embed.embed_items_notebook(docs_json, render_items);\n",
       "    for (const render_item of render_items) {\n",
       "      for (const root_id of render_item.root_ids) {\n",
       "\tconst id_el = document.getElementById(root_id)\n",
       "\tif (id_el.children.length && id_el.children[0].hasAttribute('data-root-id')) {\n",
       "\t  const root_el = id_el.children[0]\n",
       "\t  root_el.id = root_el.id + '-rendered'\n",
       "\t  for (const child of root_el.children) {\n",
       "            // Ensure JupyterLab does not capture keyboard shortcuts\n",
       "            // see: https://jupyterlab.readthedocs.io/en/4.1.x/extension/notebook.html#keyboard-interaction-model\n",
       "\t    child.setAttribute('data-lm-suppress-shortcuts', 'true')\n",
       "\t  }\n",
       "\t}\n",
       "      }\n",
       "    }\n",
       "  }\n",
       "  function get_bokeh(root) {\n",
       "    if (root.Bokeh === undefined) {\n",
       "      return null\n",
       "    } else if (root.Bokeh.version !== py_version) {\n",
       "      if (root.Bokeh.versions === undefined || !root.Bokeh.versions.has(py_version)) {\n",
       "\treturn null\n",
       "      }\n",
       "      return root.Bokeh.versions.get(py_version);\n",
       "    } else if (root.Bokeh.version === py_version) {\n",
       "      return root.Bokeh\n",
       "    }\n",
       "    return null\n",
       "  }\n",
       "  function is_loaded(root) {\n",
       "    var Bokeh = get_bokeh(root)\n",
       "    return (Bokeh != null && Bokeh.Panel !== undefined && ( root.vega !== undefined) && ( root.vega !== undefined) && ( root.vega !== undefined))\n",
       "  }\n",
       "  if (is_loaded(root)) {\n",
       "    embed_document(root);\n",
       "  } else {\n",
       "    var attempts = 0;\n",
       "    var timer = setInterval(function(root) {\n",
       "      if (is_loaded(root)) {\n",
       "        clearInterval(timer);\n",
       "        embed_document(root);\n",
       "      } else if (document.readyState == \"complete\") {\n",
       "        attempts++;\n",
       "        if (attempts > 200) {\n",
       "          clearInterval(timer);\n",
       "\t  var Bokeh = get_bokeh(root)\n",
       "\t  if (Bokeh == null || Bokeh.Panel == null) {\n",
       "            console.warn(\"Panel: ERROR: Unable to run Panel code because Bokeh or Panel library is missing\");\n",
       "\t  } else {\n",
       "\t    console.warn(\"Panel: WARNING: Attempting to render but not all required libraries could be resolved.\")\n",
       "\t    embed_document(root)\n",
       "\t  }\n",
       "        }\n",
       "      }\n",
       "    }, 25, root)\n",
       "  }\n",
       "})(window);</script>"
      ],
      "text/plain": [
       "Vega(LayerChart, selection=Selection)"
      ]
     },
     "execution_count": 14,
     "metadata": {
      "application/vnd.holoviews_exec.v0+json": {
       "id": "6ec98778-7eb1-4395-bb63-1ec43e315d8f"
      }
     },
     "output_type": "execute_result"
    }
   ],
   "source": [
    "import altair as alt\n",
    "import pandas as pd\n",
    "import panel as pn\n",
    "\n",
    "pn.extension('vega')\n",
    "\n",
    "# Contoh data\n",
    "df = pd.DataFrame({\n",
    "    'x': [1, 2, 3, 4, 5],\n",
    "    'y': [10, 20, 30, 40, 50],\n",
    "    'category': ['A', 'B', 'C', 'D', 'E']\n",
    "})\n",
    "\n",
    "# Buat kolom teks untuk tooltip persisten\n",
    "df['tooltip_text'] = df.apply(lambda row: f\"x: {row['x']}, y: {row['y']}, category: {row['category']}\", axis=1)\n",
    "\n",
    "# Seleksi saat titik diklik\n",
    "selection = alt.selection_single(on='click', empty='none')\n",
    "\n",
    "# Grafik utama dengan tooltip hover\n",
    "points = alt.Chart(df).mark_circle().encode(\n",
    "    x='x',\n",
    "    y='y',\n",
    "    tooltip=['x', 'y', 'category']\n",
    ").add_selection(selection)\n",
    "\n",
    "# Teks yang akan muncul saat diklik\n",
    "text = alt.Chart(df).mark_text(\n",
    "    dy=-15,  # Posisi teks di atas titik\n",
    "    size=14\n",
    ").encode(\n",
    "    x='x',\n",
    "    y='y',\n",
    "    text='tooltip_text:N',\n",
    "    opacity=alt.condition(selection, alt.value(1), alt.value(0))  # Muncul hanya saat dipilih\n",
    ")\n",
    "\n",
    "# Gabungkan grafik\n",
    "chart = (points + text).properties(\n",
    "    width=600,\n",
    "    height=400\n",
    ")\n",
    "\n",
    "# Tampilkan di Panel\n",
    "pn.pane.Vega(chart).servable()"
   ]
  },
  {
   "cell_type": "code",
   "execution_count": 15,
   "metadata": {},
   "outputs": [
    {
     "data": {
      "text/html": [
       "\n",
       "<!DOCTYPE html>\n",
       "<html>\n",
       " <head>\n",
       "   <script type=\"text/javascript\" src=\"http://kozea.github.com/pygal.js/javascripts/svg.jquery.js\"></script>\n",
       "   <script type=\"text/javascript\" src=\"https://kozea.github.io/pygal.js/2.0.x/pygal-tooltips.min.js\"\"></script>\n",
       " </head>\n",
       " <body>\n",
       "   <figure>\n",
       "    <?xml version='1.0' encoding='utf-8'?>\n",
       "<svg xmlns=\"http://www.w3.org/2000/svg\" xmlns:xlink=\"http://www.w3.org/1999/xlink\" id=\"chart-9e841e58-3343-40b4-8768-ae0afe73e6c2\" class=\"pygal-chart\" viewBox=\"0 0 800 600\"><!--Generated with pygal 3.0.5 (lxml) ©Kozea 2012-2016 on 2025-03-09--><!--http://pygal.org--><!--http://github.com/Kozea/pygal--><defs><style type=\"text/css\">#chart-9e841e58-3343-40b4-8768-ae0afe73e6c2{-webkit-user-select:none;-webkit-font-smoothing:antialiased;font-family:Consolas,\"Liberation Mono\",Menlo,Courier,monospace}#chart-9e841e58-3343-40b4-8768-ae0afe73e6c2 .title{font-family:Consolas,\"Liberation Mono\",Menlo,Courier,monospace;font-size:16px}#chart-9e841e58-3343-40b4-8768-ae0afe73e6c2 .legends .legend text{font-family:Consolas,\"Liberation Mono\",Menlo,Courier,monospace;font-size:14px}#chart-9e841e58-3343-40b4-8768-ae0afe73e6c2 .axis text{font-family:Consolas,\"Liberation Mono\",Menlo,Courier,monospace;font-size:10px}#chart-9e841e58-3343-40b4-8768-ae0afe73e6c2 .axis text.major{font-family:Consolas,\"Liberation Mono\",Menlo,Courier,monospace;font-size:10px}#chart-9e841e58-3343-40b4-8768-ae0afe73e6c2 .text-overlay text.value{font-family:Consolas,\"Liberation Mono\",Menlo,Courier,monospace;font-size:16px}#chart-9e841e58-3343-40b4-8768-ae0afe73e6c2 .text-overlay text.label{font-family:Consolas,\"Liberation Mono\",Menlo,Courier,monospace;font-size:10px}#chart-9e841e58-3343-40b4-8768-ae0afe73e6c2 .tooltip{font-family:Consolas,\"Liberation Mono\",Menlo,Courier,monospace;font-size:14px}#chart-9e841e58-3343-40b4-8768-ae0afe73e6c2 text.no_data{font-family:Consolas,\"Liberation Mono\",Menlo,Courier,monospace;font-size:64px}\n",
       "#chart-9e841e58-3343-40b4-8768-ae0afe73e6c2{background-color:rgba(249,249,249,1)}#chart-9e841e58-3343-40b4-8768-ae0afe73e6c2 path,#chart-9e841e58-3343-40b4-8768-ae0afe73e6c2 line,#chart-9e841e58-3343-40b4-8768-ae0afe73e6c2 rect,#chart-9e841e58-3343-40b4-8768-ae0afe73e6c2 circle{-webkit-transition:150ms;-moz-transition:150ms;transition:150ms}#chart-9e841e58-3343-40b4-8768-ae0afe73e6c2 .graph &gt; .background{fill:rgba(249,249,249,1)}#chart-9e841e58-3343-40b4-8768-ae0afe73e6c2 .plot &gt; .background{fill:rgba(255,255,255,1)}#chart-9e841e58-3343-40b4-8768-ae0afe73e6c2 .graph{fill:rgba(0,0,0,.87)}#chart-9e841e58-3343-40b4-8768-ae0afe73e6c2 text.no_data{fill:rgba(0,0,0,1)}#chart-9e841e58-3343-40b4-8768-ae0afe73e6c2 .title{fill:rgba(0,0,0,1)}#chart-9e841e58-3343-40b4-8768-ae0afe73e6c2 .legends .legend text{fill:rgba(0,0,0,.87)}#chart-9e841e58-3343-40b4-8768-ae0afe73e6c2 .legends .legend:hover text{fill:rgba(0,0,0,1)}#chart-9e841e58-3343-40b4-8768-ae0afe73e6c2 .axis .line{stroke:rgba(0,0,0,1)}#chart-9e841e58-3343-40b4-8768-ae0afe73e6c2 .axis .guide.line{stroke:rgba(0,0,0,.54)}#chart-9e841e58-3343-40b4-8768-ae0afe73e6c2 .axis .major.line{stroke:rgba(0,0,0,.87)}#chart-9e841e58-3343-40b4-8768-ae0afe73e6c2 .axis text.major{fill:rgba(0,0,0,1)}#chart-9e841e58-3343-40b4-8768-ae0afe73e6c2 .axis.y .guides:hover .guide.line,#chart-9e841e58-3343-40b4-8768-ae0afe73e6c2 .line-graph .axis.x .guides:hover .guide.line,#chart-9e841e58-3343-40b4-8768-ae0afe73e6c2 .stackedline-graph .axis.x .guides:hover .guide.line,#chart-9e841e58-3343-40b4-8768-ae0afe73e6c2 .xy-graph .axis.x .guides:hover .guide.line{stroke:rgba(0,0,0,1)}#chart-9e841e58-3343-40b4-8768-ae0afe73e6c2 .axis .guides:hover text{fill:rgba(0,0,0,1)}#chart-9e841e58-3343-40b4-8768-ae0afe73e6c2 .reactive{fill-opacity:.7;stroke-opacity:.8;stroke-width:1}#chart-9e841e58-3343-40b4-8768-ae0afe73e6c2 .ci{stroke:rgba(0,0,0,.87)}#chart-9e841e58-3343-40b4-8768-ae0afe73e6c2 .reactive.active,#chart-9e841e58-3343-40b4-8768-ae0afe73e6c2 .active .reactive{fill-opacity:.8;stroke-opacity:.9;stroke-width:4}#chart-9e841e58-3343-40b4-8768-ae0afe73e6c2 .ci .reactive.active{stroke-width:1.5}#chart-9e841e58-3343-40b4-8768-ae0afe73e6c2 .series text{fill:rgba(0,0,0,1)}#chart-9e841e58-3343-40b4-8768-ae0afe73e6c2 .tooltip rect{fill:rgba(255,255,255,1);stroke:rgba(0,0,0,1);-webkit-transition:opacity 150ms;-moz-transition:opacity 150ms;transition:opacity 150ms}#chart-9e841e58-3343-40b4-8768-ae0afe73e6c2 .tooltip .label{fill:rgba(0,0,0,.87)}#chart-9e841e58-3343-40b4-8768-ae0afe73e6c2 .tooltip .label{fill:rgba(0,0,0,.87)}#chart-9e841e58-3343-40b4-8768-ae0afe73e6c2 .tooltip .legend{font-size:.8em;fill:rgba(0,0,0,.54)}#chart-9e841e58-3343-40b4-8768-ae0afe73e6c2 .tooltip .x_label{font-size:.6em;fill:rgba(0,0,0,1)}#chart-9e841e58-3343-40b4-8768-ae0afe73e6c2 .tooltip .xlink{font-size:.5em;text-decoration:underline}#chart-9e841e58-3343-40b4-8768-ae0afe73e6c2 .tooltip .value{font-size:1.5em}#chart-9e841e58-3343-40b4-8768-ae0afe73e6c2 .bound{font-size:.5em}#chart-9e841e58-3343-40b4-8768-ae0afe73e6c2 .max-value{font-size:.75em;fill:rgba(0,0,0,.54)}#chart-9e841e58-3343-40b4-8768-ae0afe73e6c2 .map-element{fill:rgba(255,255,255,1);stroke:rgba(0,0,0,.54) !important}#chart-9e841e58-3343-40b4-8768-ae0afe73e6c2 .map-element .reactive{fill-opacity:inherit;stroke-opacity:inherit}#chart-9e841e58-3343-40b4-8768-ae0afe73e6c2 .color-0,#chart-9e841e58-3343-40b4-8768-ae0afe73e6c2 .color-0 a:visited{stroke:#F44336;fill:#F44336}#chart-9e841e58-3343-40b4-8768-ae0afe73e6c2 .color-1,#chart-9e841e58-3343-40b4-8768-ae0afe73e6c2 .color-1 a:visited{stroke:#3F51B5;fill:#3F51B5}#chart-9e841e58-3343-40b4-8768-ae0afe73e6c2 .color-2,#chart-9e841e58-3343-40b4-8768-ae0afe73e6c2 .color-2 a:visited{stroke:#009688;fill:#009688}#chart-9e841e58-3343-40b4-8768-ae0afe73e6c2 .color-3,#chart-9e841e58-3343-40b4-8768-ae0afe73e6c2 .color-3 a:visited{stroke:#FFC107;fill:#FFC107}#chart-9e841e58-3343-40b4-8768-ae0afe73e6c2 .text-overlay .color-0 text{fill:black}#chart-9e841e58-3343-40b4-8768-ae0afe73e6c2 .text-overlay .color-1 text{fill:black}#chart-9e841e58-3343-40b4-8768-ae0afe73e6c2 .text-overlay .color-2 text{fill:black}#chart-9e841e58-3343-40b4-8768-ae0afe73e6c2 .text-overlay .color-3 text{fill:black}\n",
       "#chart-9e841e58-3343-40b4-8768-ae0afe73e6c2 text.no_data{text-anchor:middle}#chart-9e841e58-3343-40b4-8768-ae0afe73e6c2 .guide.line{fill:none}#chart-9e841e58-3343-40b4-8768-ae0afe73e6c2 .centered{text-anchor:middle}#chart-9e841e58-3343-40b4-8768-ae0afe73e6c2 .title{text-anchor:middle}#chart-9e841e58-3343-40b4-8768-ae0afe73e6c2 .legends .legend text{fill-opacity:1}#chart-9e841e58-3343-40b4-8768-ae0afe73e6c2 .axis.x text{text-anchor:middle}#chart-9e841e58-3343-40b4-8768-ae0afe73e6c2 .axis.x:not(.web) text[transform]{text-anchor:start}#chart-9e841e58-3343-40b4-8768-ae0afe73e6c2 .axis.x:not(.web) text[transform].backwards{text-anchor:end}#chart-9e841e58-3343-40b4-8768-ae0afe73e6c2 .axis.y text{text-anchor:end}#chart-9e841e58-3343-40b4-8768-ae0afe73e6c2 .axis.y text[transform].backwards{text-anchor:start}#chart-9e841e58-3343-40b4-8768-ae0afe73e6c2 .axis.y2 text{text-anchor:start}#chart-9e841e58-3343-40b4-8768-ae0afe73e6c2 .axis.y2 text[transform].backwards{text-anchor:end}#chart-9e841e58-3343-40b4-8768-ae0afe73e6c2 .axis .guide.line{stroke-dasharray:4,4;stroke:black}#chart-9e841e58-3343-40b4-8768-ae0afe73e6c2 .axis .major.guide.line{stroke-dasharray:6,6;stroke:black}#chart-9e841e58-3343-40b4-8768-ae0afe73e6c2 .horizontal .axis.y .guide.line,#chart-9e841e58-3343-40b4-8768-ae0afe73e6c2 .horizontal .axis.y2 .guide.line,#chart-9e841e58-3343-40b4-8768-ae0afe73e6c2 .vertical .axis.x .guide.line{opacity:0}#chart-9e841e58-3343-40b4-8768-ae0afe73e6c2 .horizontal .axis.always_show .guide.line,#chart-9e841e58-3343-40b4-8768-ae0afe73e6c2 .vertical .axis.always_show .guide.line{opacity:1 !important}#chart-9e841e58-3343-40b4-8768-ae0afe73e6c2 .axis.y .guides:hover .guide.line,#chart-9e841e58-3343-40b4-8768-ae0afe73e6c2 .axis.y2 .guides:hover .guide.line,#chart-9e841e58-3343-40b4-8768-ae0afe73e6c2 .axis.x .guides:hover .guide.line{opacity:1}#chart-9e841e58-3343-40b4-8768-ae0afe73e6c2 .axis .guides:hover text{opacity:1}#chart-9e841e58-3343-40b4-8768-ae0afe73e6c2 .nofill{fill:none}#chart-9e841e58-3343-40b4-8768-ae0afe73e6c2 .subtle-fill{fill-opacity:.2}#chart-9e841e58-3343-40b4-8768-ae0afe73e6c2 .dot{stroke-width:1px;fill-opacity:1;stroke-opacity:1}#chart-9e841e58-3343-40b4-8768-ae0afe73e6c2 .dot.active{stroke-width:5px}#chart-9e841e58-3343-40b4-8768-ae0afe73e6c2 .dot.negative{fill:transparent}#chart-9e841e58-3343-40b4-8768-ae0afe73e6c2 text,#chart-9e841e58-3343-40b4-8768-ae0afe73e6c2 tspan{stroke:none !important}#chart-9e841e58-3343-40b4-8768-ae0afe73e6c2 .series text.active{opacity:1}#chart-9e841e58-3343-40b4-8768-ae0afe73e6c2 .tooltip rect{fill-opacity:.95;stroke-width:.5}#chart-9e841e58-3343-40b4-8768-ae0afe73e6c2 .tooltip text{fill-opacity:1}#chart-9e841e58-3343-40b4-8768-ae0afe73e6c2 .showable{visibility:hidden}#chart-9e841e58-3343-40b4-8768-ae0afe73e6c2 .showable.shown{visibility:visible}#chart-9e841e58-3343-40b4-8768-ae0afe73e6c2 .gauge-background{fill:rgba(229,229,229,1);stroke:none}#chart-9e841e58-3343-40b4-8768-ae0afe73e6c2 .bg-lines{stroke:rgba(249,249,249,1);stroke-width:2px}</style><script type=\"text/javascript\">window.pygal = window.pygal || {};window.pygal.config = window.pygal.config || {};window.pygal.config['9e841e58-3343-40b4-8768-ae0afe73e6c2'] = {\"allow_interruptions\": false, \"box_mode\": \"extremes\", \"classes\": [\"pygal-chart\"], \"css\": [\"file://style.css\", \"file://graph.css\"], \"defs\": [], \"disable_xml_declaration\": false, \"dots_size\": 2.5, \"dynamic_print_values\": false, \"explicit_size\": false, \"fill\": false, \"force_uri_protocol\": \"https\", \"formatter\": null, \"half_pie\": false, \"height\": 600, \"include_x_axis\": false, \"inner_radius\": 0, \"interpolate\": null, \"interpolation_parameters\": {}, \"interpolation_precision\": 250, \"inverse_y_axis\": false, \"js\": [\"//kozea.github.io/pygal.js/2.0.x/pygal-tooltips.min.js\"], \"legend_at_bottom\": false, \"legend_at_bottom_columns\": null, \"legend_box_size\": 12, \"logarithmic\": false, \"margin\": 20, \"margin_bottom\": null, \"margin_left\": null, \"margin_right\": null, \"margin_top\": null, \"max_scale\": 16, \"min_scale\": 4, \"missing_value_fill_truncation\": \"x\", \"no_data_text\": \"No data\", \"no_prefix\": false, \"order_min\": null, \"pretty_print\": false, \"print_labels\": false, \"print_values\": false, \"print_values_position\": \"center\", \"print_zeroes\": true, \"range\": null, \"rounded_bars\": null, \"secondary_range\": null, \"show_dots\": true, \"show_legend\": true, \"show_minor_x_labels\": true, \"show_minor_y_labels\": true, \"show_only_major_dots\": false, \"show_x_guides\": false, \"show_x_labels\": true, \"show_y_guides\": true, \"show_y_labels\": true, \"spacing\": 10, \"stack_from_top\": false, \"strict\": false, \"stroke\": true, \"stroke_style\": null, \"style\": {\"background\": \"rgba(249, 249, 249, 1)\", \"ci_colors\": [], \"colors\": [\"#F44336\", \"#3F51B5\", \"#009688\", \"#FFC107\", \"#FF5722\", \"#9C27B0\", \"#03A9F4\", \"#8BC34A\", \"#FF9800\", \"#E91E63\", \"#2196F3\", \"#4CAF50\", \"#FFEB3B\", \"#673AB7\", \"#00BCD4\", \"#CDDC39\", \"#9E9E9E\", \"#607D8B\"], \"dot_opacity\": \"1\", \"font_family\": \"Consolas, \\\"Liberation Mono\\\", Menlo, Courier, monospace\", \"foreground\": \"rgba(0, 0, 0, .87)\", \"foreground_strong\": \"rgba(0, 0, 0, 1)\", \"foreground_subtle\": \"rgba(0, 0, 0, .54)\", \"guide_stroke_color\": \"black\", \"guide_stroke_dasharray\": \"4,4\", \"label_font_family\": \"Consolas, \\\"Liberation Mono\\\", Menlo, Courier, monospace\", \"label_font_size\": 10, \"legend_font_family\": \"Consolas, \\\"Liberation Mono\\\", Menlo, Courier, monospace\", \"legend_font_size\": 14, \"major_guide_stroke_color\": \"black\", \"major_guide_stroke_dasharray\": \"6,6\", \"major_label_font_family\": \"Consolas, \\\"Liberation Mono\\\", Menlo, Courier, monospace\", \"major_label_font_size\": 10, \"no_data_font_family\": \"Consolas, \\\"Liberation Mono\\\", Menlo, Courier, monospace\", \"no_data_font_size\": 64, \"opacity\": \".7\", \"opacity_hover\": \".8\", \"plot_background\": \"rgba(255, 255, 255, 1)\", \"stroke_opacity\": \".8\", \"stroke_opacity_hover\": \".9\", \"stroke_width\": \"1\", \"stroke_width_hover\": \"4\", \"title_font_family\": \"Consolas, \\\"Liberation Mono\\\", Menlo, Courier, monospace\", \"title_font_size\": 16, \"tooltip_font_family\": \"Consolas, \\\"Liberation Mono\\\", Menlo, Courier, monospace\", \"tooltip_font_size\": 14, \"transition\": \"150ms\", \"value_background\": \"rgba(229, 229, 229, 1)\", \"value_colors\": [], \"value_font_family\": \"Consolas, \\\"Liberation Mono\\\", Menlo, Courier, monospace\", \"value_font_size\": 16, \"value_label_font_family\": \"Consolas, \\\"Liberation Mono\\\", Menlo, Courier, monospace\", \"value_label_font_size\": 10}, \"title\": \"Browser usage evolution (in %)\", \"tooltip_border_radius\": 0, \"tooltip_fancy_mode\": true, \"truncate_label\": null, \"truncate_legend\": null, \"width\": 800, \"x_label_rotation\": 0, \"x_labels\": [\"2002\", \"2003\", \"2004\", \"2005\", \"2006\", \"2007\", \"2008\", \"2009\", \"2010\", \"2011\", \"2012\"], \"x_labels_major\": null, \"x_labels_major_count\": null, \"x_labels_major_every\": null, \"x_title\": null, \"xrange\": null, \"y_label_rotation\": 0, \"y_labels\": null, \"y_labels_major\": null, \"y_labels_major_count\": null, \"y_labels_major_every\": null, \"y_title\": null, \"zero\": 0, \"legends\": [\"Firefox\", \"Chrome\", \"IE\", \"Others\"]}</script><script type=\"text/javascript\" xlink:href=\"https://kozea.github.io/pygal.js/2.0.x/pygal-tooltips.min.js\"/></defs><title>Browser usage evolution (in %)</title><g class=\"graph bar-graph vertical\"><rect x=\"0\" y=\"0\" width=\"800\" height=\"600\" class=\"background\"/><g transform=\"translate(122, 46)\" class=\"plot\"><rect x=\"0\" y=\"0\" width=\"657.2\" height=\"514\" class=\"background\"/><g class=\"axis y always_show\"><g class=\"guides\"><path d=\"M0.000000 504.115385 h657.200000\" class=\"axis major line\"/><text x=\"-5\" y=\"507.61538461538464\" class=\"major\">0</text><title>0</title></g><g class=\"guides\"><path d=\"M0.000000 446.512731 h657.200000\" class=\"guide line\"/><text x=\"-5\" y=\"450.0127308588847\" class=\"\">10</text><title>10</title></g><g class=\"guides\"><path d=\"M0.000000 388.910077 h657.200000\" class=\"guide line\"/><text x=\"-5\" y=\"392.4100771023848\" class=\"\">20</text><title>20</title></g><g class=\"guides\"><path d=\"M0.000000 331.307423 h657.200000\" class=\"guide line\"/><text x=\"-5\" y=\"334.80742334588484\" class=\"\">30</text><title>30</title></g><g class=\"guides\"><path d=\"M0.000000 273.704770 h657.200000\" class=\"guide line\"/><text x=\"-5\" y=\"277.2047695893849\" class=\"\">40</text><title>40</title></g><g class=\"guides\"><path d=\"M0.000000 216.102116 h657.200000\" class=\"major guide line\"/><text x=\"-5\" y=\"219.60211583288498\" class=\"major\">50</text><title>50</title></g><g class=\"guides\"><path d=\"M0.000000 158.499462 h657.200000\" class=\"guide line\"/><text x=\"-5\" y=\"161.9994620763851\" class=\"\">60</text><title>60</title></g><g class=\"guides\"><path d=\"M0.000000 100.896808 h657.200000\" class=\"guide line\"/><text x=\"-5\" y=\"104.39680831988522\" class=\"\">70</text><title>70</title></g><g class=\"guides\"><path d=\"M0.000000 43.294155 h657.200000\" class=\"guide line\"/><text x=\"-5\" y=\"46.79415456338529\" class=\"\">80</text><title>80</title></g></g><g class=\"axis x\"><path d=\"M0.000000 0.000000 v514.000000\" class=\"line\"/><g class=\"guides\"><path d=\"M41.362238 0.000000 v514.000000\" class=\"guide line\"/><text x=\"41.36223776223777\" y=\"529.0\" class=\"\">2002</text></g><g class=\"guides\"><path d=\"M98.809790 0.000000 v514.000000\" class=\"guide line\"/><text x=\"98.80979020979021\" y=\"529.0\" class=\"\">2003</text></g><g class=\"guides\"><path d=\"M156.257343 0.000000 v514.000000\" class=\"guide line\"/><text x=\"156.25734265734263\" y=\"529.0\" class=\"\">2004</text></g><g class=\"guides\"><path d=\"M213.704895 0.000000 v514.000000\" class=\"guide line\"/><text x=\"213.70489510489512\" y=\"529.0\" class=\"\">2005</text></g><g class=\"guides\"><path d=\"M271.152448 0.000000 v514.000000\" class=\"guide line\"/><text x=\"271.15244755244754\" y=\"529.0\" class=\"\">2006</text></g><g class=\"guides\"><path d=\"M328.600000 0.000000 v514.000000\" class=\"guide line\"/><text x=\"328.6\" y=\"529.0\" class=\"\">2007</text></g><g class=\"guides\"><path d=\"M386.047552 0.000000 v514.000000\" class=\"guide line\"/><text x=\"386.04755244755245\" y=\"529.0\" class=\"\">2008</text></g><g class=\"guides\"><path d=\"M443.495105 0.000000 v514.000000\" class=\"guide line\"/><text x=\"443.49510489510493\" y=\"529.0\" class=\"\">2009</text></g><g class=\"guides\"><path d=\"M500.942657 0.000000 v514.000000\" class=\"guide line\"/><text x=\"500.94265734265736\" y=\"529.0\" class=\"\">2010</text></g><g class=\"guides\"><path d=\"M558.390210 0.000000 v514.000000\" class=\"guide line\"/><text x=\"558.3902097902098\" y=\"529.0\" class=\"\">2011</text></g><g class=\"guides\"><path d=\"M615.837762 0.000000 v514.000000\" class=\"guide line\"/><text x=\"615.8377622377623\" y=\"529.0\" class=\"\">2012</text></g></g><g class=\"series serie-0 color-0\"><g class=\"bars\"><g class=\"bar\"><rect x=\"131.7387272727273\" y=\"504.11538461538464\" rx=\"0\" ry=\"0\" width=\"11.121846153846153\" height=\"0.0\" class=\"rect reactive tooltip-trigger\"/><desc class=\"value\">0</desc><desc class=\"x centered\">137.29965034965036</desc><desc class=\"y centered\">504.11538461538464</desc><desc class=\"x_label\">2004</desc></g><g class=\"bar\"><rect x=\"189.18627972027974\" y=\"408.4949793795947\" rx=\"0\" ry=\"0\" width=\"11.121846153846153\" height=\"95.62040523578992\" class=\"rect reactive tooltip-trigger\"/><desc class=\"value\">16.6</desc><desc class=\"x centered\">194.74720279720282</desc><desc class=\"y centered\">456.3051819974897</desc><desc class=\"x_label\">2005</desc></g><g class=\"bar\"><rect x=\"246.63383216783217\" y=\"360.10875022413484\" rx=\"0\" ry=\"0\" width=\"11.121846153846153\" height=\"144.0066343912498\" class=\"rect reactive tooltip-trigger\"/><desc class=\"value\">25</desc><desc class=\"x centered\">252.19475524475524</desc><desc class=\"y centered\">432.11206741975974</desc><desc class=\"x_label\">2006</desc></g><g class=\"bar\"><rect x=\"304.08138461538465\" y=\"325.5471579702348\" rx=\"0\" ry=\"0\" width=\"11.121846153846153\" height=\"178.56822664514982\" class=\"rect reactive tooltip-trigger\"/><desc class=\"value\">31</desc><desc class=\"x centered\">309.6423076923077</desc><desc class=\"y centered\">414.83127129280973</desc><desc class=\"x_label\">2007</desc></g><g class=\"bar\"><rect x=\"361.5289370629371\" y=\"294.44172494172494\" rx=\"0\" ry=\"0\" width=\"11.121846153846153\" height=\"209.6736596736597\" class=\"rect reactive tooltip-trigger\"/><desc class=\"value\">36.4</desc><desc class=\"x centered\">367.08986013986015</desc><desc class=\"y centered\">399.2785547785548</desc><desc class=\"x_label\">2008</desc></g><g class=\"bar\"><rect x=\"418.97648951048956\" y=\"242.02331002331\" rx=\"0\" ry=\"0\" width=\"11.121846153846153\" height=\"262.09207459207465\" class=\"rect reactive tooltip-trigger\"/><desc class=\"value\">45.5</desc><desc class=\"x centered\">424.53741258741263</desc><desc class=\"y centered\">373.06934731934734</desc><desc class=\"x_label\">2009</desc></g><g class=\"bar\"><rect x=\"476.424041958042\" y=\"237.41509772279\" rx=\"0\" ry=\"0\" width=\"11.121846153846153\" height=\"266.70028689259465\" class=\"rect reactive tooltip-trigger\"/><desc class=\"value\">46.3</desc><desc class=\"x centered\">481.98496503496506</desc><desc class=\"y centered\">370.7652411690873</desc><desc class=\"x_label\">2010</desc></g><g class=\"bar\"><rect x=\"533.8715944055945\" y=\"257.576026537565\" rx=\"0\" ry=\"0\" width=\"11.121846153846153\" height=\"246.53935807781966\" class=\"rect reactive tooltip-trigger\"/><desc class=\"value\">42.8</desc><desc class=\"x centered\">539.4325174825176</desc><desc class=\"y centered\">380.8457055764748</desc><desc class=\"x_label\">2011</desc></g><g class=\"bar\"><rect x=\"591.3191468531469\" y=\"290.4095391787699\" rx=\"0\" ry=\"0\" width=\"11.121846153846153\" height=\"213.70584543661477\" class=\"rect reactive tooltip-trigger\"/><desc class=\"value\">37.1</desc><desc class=\"x centered\">596.88006993007</desc><desc class=\"y centered\">397.2624618970773</desc><desc class=\"x_label\">2012</desc></g></g></g><g class=\"series serie-1 color-1\"><g class=\"bars\"><g class=\"bar\"><rect x=\"374.1673986013986\" y=\"504.11538461538464\" rx=\"0\" ry=\"0\" width=\"11.121846153846153\" height=\"0.0\" class=\"rect reactive tooltip-trigger\"/><desc class=\"value\">0</desc><desc class=\"x centered\">379.72832167832166</desc><desc class=\"y centered\">504.11538461538464</desc><desc class=\"x_label\">2008</desc></g><g class=\"bar\"><rect x=\"431.61495104895107\" y=\"481.65034965034965\" rx=\"0\" ry=\"0\" width=\"11.121846153846153\" height=\"22.465034965034988\" class=\"rect reactive tooltip-trigger\"/><desc class=\"value\">3.9</desc><desc class=\"x centered\">437.17587412587415</desc><desc class=\"y centered\">492.88286713286715</desc><desc class=\"x_label\">2009</desc></g><g class=\"bar\"><rect x=\"489.0625034965035\" y=\"441.9045185583647\" rx=\"0\" ry=\"0\" width=\"11.121846153846153\" height=\"62.21086605701993\" class=\"rect reactive tooltip-trigger\"/><desc class=\"value\">10.8</desc><desc class=\"x centered\">494.62342657342657</desc><desc class=\"y centered\">473.00995158687465</desc><desc class=\"x_label\">2010</desc></g><g class=\"bar\"><rect x=\"546.510055944056\" y=\"367.0210686749148\" rx=\"0\" ry=\"0\" width=\"11.121846153846153\" height=\"137.09431594046987\" class=\"rect reactive tooltip-trigger\"/><desc class=\"value\">23.8</desc><desc class=\"x centered\">552.0709790209792</desc><desc class=\"y centered\">435.5682266451497</desc><desc class=\"x_label\">2011</desc></g><g class=\"bar\"><rect x=\"603.9576083916085\" y=\"300.7780168549399\" rx=\"0\" ry=\"0\" width=\"11.121846153846153\" height=\"203.33736776044475\" class=\"rect reactive tooltip-trigger\"/><desc class=\"value\">35.3</desc><desc class=\"x centered\">609.5185314685316</desc><desc class=\"y centered\">402.44670073516227</desc><desc class=\"x_label\">2012</desc></g></g></g><g class=\"series serie-2 color-2\"><g class=\"bars\"><g class=\"bar\"><rect x=\"42.12054545454545\" y=\"9.884615384615358\" rx=\"0\" ry=\"0\" width=\"11.121846153846153\" height=\"494.2307692307693\" class=\"rect reactive tooltip-trigger\"/><desc class=\"value\">85.8</desc><desc class=\"x centered\">47.681468531468525</desc><desc class=\"y centered\">257.0</desc><desc class=\"x_label\">2002</desc></g><g class=\"bar\"><rect x=\"99.5680979020979\" y=\"16.796933835395407\" rx=\"0\" ry=\"0\" width=\"11.121846153846153\" height=\"487.31845077998923\" class=\"rect reactive tooltip-trigger\"/><desc class=\"value\">84.6</desc><desc class=\"x centered\">105.12902097902098</desc><desc class=\"y centered\">260.45615922539</desc><desc class=\"x_label\">2003</desc></g><g class=\"bar\"><rect x=\"157.01565034965037\" y=\"16.22090729783031\" rx=\"0\" ry=\"0\" width=\"11.121846153846153\" height=\"487.89447731755433\" class=\"rect reactive tooltip-trigger\"/><desc class=\"value\">84.7</desc><desc class=\"x centered\">162.57657342657345</desc><desc class=\"y centered\">260.1681459566075</desc><desc class=\"x_label\">2004</desc></g><g class=\"bar\"><rect x=\"214.46320279720283\" y=\"74.97561412946021\" rx=\"0\" ry=\"0\" width=\"11.121846153846153\" height=\"429.13977048592443\" class=\"rect reactive tooltip-trigger\"/><desc class=\"value\">74.5</desc><desc class=\"x centered\">220.0241258741259</desc><desc class=\"y centered\">289.54549937242246</desc><desc class=\"x_label\">2005</desc></g><g class=\"bar\"><rect x=\"271.91075524475525\" y=\"123.93786982248514\" rx=\"0\" ry=\"0\" width=\"11.121846153846153\" height=\"380.1775147928995\" class=\"rect reactive tooltip-trigger\"/><desc class=\"value\">66</desc><desc class=\"x centered\">277.4716783216783</desc><desc class=\"y centered\">314.0266272189349</desc><desc class=\"x_label\">2006</desc></g><g class=\"bar\"><rect x=\"329.35830769230773\" y=\"166.56383360229506\" rx=\"0\" ry=\"0\" width=\"11.121846153846153\" height=\"337.5515510130896\" class=\"rect reactive tooltip-trigger\"/><desc class=\"value\">58.6</desc><desc class=\"x centered\">334.9192307692308</desc><desc class=\"y centered\">335.33960910883985</desc><desc class=\"x_label\">2007</desc></g><g class=\"bar\"><rect x=\"386.80586013986016\" y=\"189.02886856733005\" rx=\"0\" ry=\"0\" width=\"11.121846153846153\" height=\"315.0865160480546\" class=\"rect reactive tooltip-trigger\"/><desc class=\"value\">54.7</desc><desc class=\"x centered\">392.36678321678323</desc><desc class=\"y centered\">346.57212659135735</desc><desc class=\"x_label\">2008</desc></g><g class=\"bar\"><rect x=\"444.25341258741264\" y=\"246.055495786265\" rx=\"0\" ry=\"0\" width=\"11.121846153846153\" height=\"258.05988882911964\" class=\"rect reactive tooltip-trigger\"/><desc class=\"value\">44.8</desc><desc class=\"x centered\">449.8143356643357</desc><desc class=\"y centered\">375.0854402008248</desc><desc class=\"x_label\">2009</desc></g><g class=\"bar\"><rect x=\"501.70096503496507\" y=\"295.5937780168549\" rx=\"0\" ry=\"0\" width=\"11.121846153846153\" height=\"208.52160659852973\" class=\"rect reactive tooltip-trigger\"/><desc class=\"value\">36.2</desc><desc class=\"x centered\">507.26188811188814</desc><desc class=\"y centered\">399.8545813161198</desc><desc class=\"x_label\">2010</desc></g><g class=\"bar\"><rect x=\"559.1485174825175\" y=\"350.89232562309485\" rx=\"0\" ry=\"0\" width=\"11.121846153846153\" height=\"153.2230589922898\" class=\"rect reactive tooltip-trigger\"/><desc class=\"value\">26.6</desc><desc class=\"x centered\">564.7094405594406</desc><desc class=\"y centered\">427.50385511923974</desc><desc class=\"x_label\">2011</desc></g><g class=\"bar\"><rect x=\"616.5960699300699\" y=\"388.3340505648198\" rx=\"0\" ry=\"0\" width=\"11.121846153846153\" height=\"115.78133405056485\" class=\"rect reactive tooltip-trigger\"/><desc class=\"value\">20.1</desc><desc class=\"x centered\">622.156993006993</desc><desc class=\"y centered\">446.2247175901022</desc><desc class=\"x_label\">2012</desc></g></g></g><g class=\"series serie-3 color-3\"><g class=\"bars\"><g class=\"bar\"><rect x=\"54.759006993006984\" y=\"422.3196162811547\" rx=\"0\" ry=\"0\" width=\"11.121846153846153\" height=\"81.79576833422993\" class=\"rect reactive tooltip-trigger\"/><desc class=\"value\">14.2</desc><desc class=\"x centered\">60.31993006993006</desc><desc class=\"y centered\">463.2175004482697</desc><desc class=\"x_label\">2002</desc></g><g class=\"bar\"><rect x=\"112.20655944055945\" y=\"415.4072978303748\" rx=\"0\" ry=\"0\" width=\"11.121846153846153\" height=\"88.70808678500987\" class=\"rect reactive tooltip-trigger\"/><desc class=\"value\">15.4</desc><desc class=\"x centered\">117.76748251748252</desc><desc class=\"y centered\">459.7613412228797</desc><desc class=\"x_label\">2003</desc></g><g class=\"bar\"><rect x=\"169.65411188811188\" y=\"415.98332436793976\" rx=\"0\" ry=\"0\" width=\"11.121846153846153\" height=\"88.13206024744488\" class=\"rect reactive tooltip-trigger\"/><desc class=\"value\">15.3</desc><desc class=\"x centered\">175.21503496503496</desc><desc class=\"y centered\">460.0493544916622</desc><desc class=\"x_label\">2004</desc></g><g class=\"bar\"><rect x=\"227.10166433566437\" y=\"452.8490227720997\" rx=\"0\" ry=\"0\" width=\"11.121846153846153\" height=\"51.266361843284926\" class=\"rect reactive tooltip-trigger\"/><desc class=\"value\">8.9</desc><desc class=\"x centered\">232.66258741258744</desc><desc class=\"y centered\">478.4822036937422</desc><desc class=\"x_label\">2005</desc></g><g class=\"bar\"><rect x=\"284.5492167832168\" y=\"452.2729962345347\" rx=\"0\" ry=\"0\" width=\"11.121846153846153\" height=\"51.84238838084997\" class=\"rect reactive tooltip-trigger\"/><desc class=\"value\">9</desc><desc class=\"x centered\">290.1101398601399</desc><desc class=\"y centered\">478.19419042495963</desc><desc class=\"x_label\">2006</desc></g><g class=\"bar\"><rect x=\"341.99676923076925\" y=\"444.2086247086247\" rx=\"0\" ry=\"0\" width=\"11.121846153846153\" height=\"59.90675990675993\" class=\"rect reactive tooltip-trigger\"/><desc class=\"value\">10.4</desc><desc class=\"x centered\">347.5576923076923</desc><desc class=\"y centered\">474.1620046620047</desc><desc class=\"x_label\">2007</desc></g><g class=\"bar\"><rect x=\"399.44432167832167\" y=\"452.8490227720997\" rx=\"0\" ry=\"0\" width=\"11.121846153846153\" height=\"51.266361843284926\" class=\"rect reactive tooltip-trigger\"/><desc class=\"value\">8.9</desc><desc class=\"x centered\">405.00524475524475</desc><desc class=\"y centered\">478.4822036937422</desc><desc class=\"x_label\">2008</desc></g><g class=\"bar\"><rect x=\"456.89187412587415\" y=\"470.70584543661465\" rx=\"0\" ry=\"0\" width=\"11.121846153846153\" height=\"33.40953917876999\" class=\"rect reactive tooltip-trigger\"/><desc class=\"value\">5.8</desc><desc class=\"x centered\">462.4527972027972</desc><desc class=\"y centered\">487.4106150259996</desc><desc class=\"x_label\">2009</desc></g><g class=\"bar\"><rect x=\"514.3394265734265\" y=\"465.5216065985297\" rx=\"0\" ry=\"0\" width=\"11.121846153846153\" height=\"38.59377801685497\" class=\"rect reactive tooltip-trigger\"/><desc class=\"value\">6.7</desc><desc class=\"x centered\">519.9003496503497</desc><desc class=\"y centered\">484.8184956069572</desc><desc class=\"x_label\">2010</desc></g><g class=\"bar\"><rect x=\"571.7869790209791\" y=\"464.9455800609647\" rx=\"0\" ry=\"0\" width=\"11.121846153846153\" height=\"39.169804554419954\" class=\"rect reactive tooltip-trigger\"/><desc class=\"value\">6.8</desc><desc class=\"x centered\">577.3479020979022</desc><desc class=\"y centered\">484.5304823381747</desc><desc class=\"x_label\">2011</desc></g><g class=\"bar\"><rect x=\"629.2345314685315\" y=\"460.9133942980097\" rx=\"0\" ry=\"0\" width=\"11.121846153846153\" height=\"43.201990317374964\" class=\"rect reactive tooltip-trigger\"/><desc class=\"value\">7.5</desc><desc class=\"x centered\">634.7954545454546</desc><desc class=\"y centered\">482.51438945669713</desc><desc class=\"x_label\">2012</desc></g></g></g></g><g class=\"titles\"><text x=\"400.0\" y=\"26\" class=\"title plot_title\">Browser usage evolution (in %)</text></g><g transform=\"translate(122, 46)\" class=\"plot overlay\"><g class=\"series serie-0 color-0\"/><g class=\"series serie-1 color-1\"/><g class=\"series serie-2 color-2\"/><g class=\"series serie-3 color-3\"/></g><g transform=\"translate(122, 46)\" class=\"plot text-overlay\"><g class=\"series serie-0 color-0\"/><g class=\"series serie-1 color-1\"/><g class=\"series serie-2 color-2\"/><g class=\"series serie-3 color-3\"/></g><g transform=\"translate(122, 46)\" class=\"plot tooltip-overlay\"><g transform=\"translate(0 0)\" style=\"opacity: 0\" class=\"tooltip\"><rect rx=\"0\" ry=\"0\" width=\"0\" height=\"0\" class=\"tooltip-box\"/><g class=\"text\"/></g></g><g transform=\"translate(10, 56)\" class=\"legends\"><g id=\"activate-serie-0\" class=\"legend reactive activate-serie\"><rect x=\"0.0\" y=\"1.0\" width=\"12\" height=\"12\" class=\"color-0 reactive\"/><text x=\"17.0\" y=\"11.2\">Firefox</text></g><g id=\"activate-serie-1\" class=\"legend reactive activate-serie\"><rect x=\"0.0\" y=\"22.0\" width=\"12\" height=\"12\" class=\"color-1 reactive\"/><text x=\"17.0\" y=\"32.2\">Chrome</text></g><g id=\"activate-serie-2\" class=\"legend reactive activate-serie\"><rect x=\"0.0\" y=\"43.0\" width=\"12\" height=\"12\" class=\"color-2 reactive\"/><text x=\"17.0\" y=\"53.2\">IE</text></g><g id=\"activate-serie-3\" class=\"legend reactive activate-serie\"><rect x=\"0.0\" y=\"64.0\" width=\"12\" height=\"12\" class=\"color-3 reactive\"/><text x=\"17.0\" y=\"74.2\">Others</text></g></g><g transform=\"translate(790, 56)\" class=\"legends\"/></g></svg>\n",
       "   </figure>\n",
       " </body>\n",
       "</html>\n"
      ],
      "text/plain": [
       "<IPython.core.display.HTML object>"
      ]
     },
     "metadata": {},
     "output_type": "display_data"
    }
   ],
   "source": [
    "import pygal\n",
    "from IPython.display import display, HTML\n",
    "\n",
    "base_html = u\"\"\"\n",
    "<!DOCTYPE html>\n",
    "<html>\n",
    " <head>\n",
    "   <script type=\"text/javascript\" src=\"http://kozea.github.com/pygal.js/javascripts/svg.jquery.js\"></script>\n",
    "   <script type=\"text/javascript\" src=\"https://kozea.github.io/pygal.js/2.0.x/pygal-tooltips.min.js\"\"></script>\n",
    " </head>\n",
    " <body>\n",
    "   <figure>\n",
    "    {rendered_chart}\n",
    "   </figure>\n",
    " </body>\n",
    "</html>\n",
    "\"\"\"\n",
    "\n",
    "bar_chart = pygal.Bar()\n",
    "bar_chart.title = 'Browser usage evolution (in %)'\n",
    "bar_chart.x_labels = map(str, range(2002, 2013))\n",
    "bar_chart.add('Firefox', [None, None, 0, 16.6,   25,   31, 36.4, 45.5, 46.3, 42.8, 37.1])\n",
    "bar_chart.add('Chrome',  [None, None, None, None, None, None,    0,  3.9, 10.8, 23.8, 35.3])\n",
    "bar_chart.add('IE',      [85.8, 84.6, 84.7, 74.5,   66, 58.6, 54.7, 44.8, 36.2, 26.6, 20.1])\n",
    "bar_chart.add('Others',  [14.2, 15.4, 15.3,  8.9,    9, 10.4,  8.9,  5.8,  6.7,  6.8,  7.5])\n",
    "\n",
    "# display graph\n",
    "display(HTML(base_html.format(rendered_chart=bar_chart.render(is_unicode=True))))"
   ]
  },
  {
   "cell_type": "code",
   "execution_count": 24,
   "metadata": {},
   "outputs": [
    {
     "data": {
      "text/html": [
       "\n",
       "  <div id=\"b86ccb87-c125-421f-aca6-a05dcbb8ab0c\" data-root-id=\"p1195\" style=\"display: contents;\"></div>\n"
      ]
     },
     "metadata": {},
     "output_type": "display_data"
    },
    {
     "data": {
      "application/javascript": "(function(root) {\n  function embed_document(root) {\n  const docs_json = {\"714d0988-cc44-40d0-b35e-1aedcf8ff2e3\":{\"version\":\"3.6.3\",\"title\":\"Bokeh Application\",\"roots\":[{\"type\":\"object\",\"name\":\"Column\",\"id\":\"p1195\",\"attributes\":{\"children\":[{\"type\":\"object\",\"name\":\"TextInput\",\"id\":\"p1193\",\"attributes\":{\"title\":\"Label:\",\"description\":{\"type\":\"object\",\"name\":\"Tooltip\",\"id\":\"p1190\",\"attributes\":{\"position\":\"right\",\"content\":\"plain text tooltip\"}},\"value\":\"default\"}},{\"type\":\"object\",\"name\":\"TextInput\",\"id\":\"p1194\",\"attributes\":{\"title\":\"Label2:\",\"description\":{\"type\":\"object\",\"name\":\"Tooltip\",\"id\":\"p1192\",\"attributes\":{\"position\":\"right\",\"content\":{\"type\":\"object\",\"name\":\"bokeh.models.dom.HTML\",\"id\":\"p1191\",\"attributes\":{\"html\":[\"<b>HTML</b> tooltip\"]}}}},\"value\":\"default\"}}]}}]}};\n  const render_items = [{\"docid\":\"714d0988-cc44-40d0-b35e-1aedcf8ff2e3\",\"roots\":{\"p1195\":\"b86ccb87-c125-421f-aca6-a05dcbb8ab0c\"},\"root_ids\":[\"p1195\"]}];\n  void root.Bokeh.embed.embed_items_notebook(docs_json, render_items);\n  }\n  if (root.Bokeh !== undefined) {\n    embed_document(root);\n  } else {\n    let attempts = 0;\n    const timer = setInterval(function(root) {\n      if (root.Bokeh !== undefined) {\n        clearInterval(timer);\n        embed_document(root);\n      } else {\n        attempts++;\n        if (attempts > 100) {\n          clearInterval(timer);\n          console.log(\"Bokeh: ERROR: Unable to run BokehJS code because BokehJS library is missing\");\n        }\n      }\n    }, 10, root)\n  }\n})(window);",
      "application/vnd.bokehjs_exec.v0+json": ""
     },
     "metadata": {
      "application/vnd.bokehjs_exec.v0+json": {
       "id": "p1195"
      }
     },
     "output_type": "display_data"
    }
   ],
   "source": [
    "from bokeh.io import show\n",
    "from bokeh.layouts import column\n",
    "from bokeh.models import TextInput, Tooltip\n",
    "from bokeh.models.dom import HTML\n",
    "\n",
    "plaintext_tooltip = Tooltip(content=\"plain text tooltip\", position=\"right\")\n",
    "html_tooltip = Tooltip(content=HTML(\"<b>HTML</b> tooltip\"), position=\"right\")\n",
    "\n",
    "input_with_plaintext_tooltip = TextInput(value=\"default\", title=\"Label:\", description=plaintext_tooltip)\n",
    "input_with_html_tooltip = TextInput(value=\"default\", title=\"Label2:\", description=html_tooltip)\n",
    "\n",
    "show(column(input_with_plaintext_tooltip, input_with_html_tooltip))"
   ]
  },
  {
   "cell_type": "code",
   "execution_count": null,
   "metadata": {},
   "outputs": [],
   "source": []
  }
 ],
 "metadata": {
  "kernelspec": {
   "display_name": ".venv",
   "language": "python",
   "name": "python3"
  },
  "language_info": {
   "codemirror_mode": {
    "name": "ipython",
    "version": 3
   },
   "file_extension": ".py",
   "mimetype": "text/x-python",
   "name": "python",
   "nbconvert_exporter": "python",
   "pygments_lexer": "ipython3",
   "version": "3.10.12"
  }
 },
 "nbformat": 4,
 "nbformat_minor": 2
}
