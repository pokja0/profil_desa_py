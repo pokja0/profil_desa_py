{
 "cells": [
  {
   "cell_type": "code",
   "execution_count": 8,
   "metadata": {},
   "outputs": [],
   "source": [
    "import polars as pl\n",
    "from itables import show"
   ]
  },
  {
   "cell_type": "code",
   "execution_count": 2,
   "metadata": {},
   "outputs": [],
   "source": [
    "filter_kabupaten = [\"PASANGKAYU\", \"PASANGKAYU\", \"MAMUJU\", \"MAMUJU\"]\n",
    "filter_kecamatan = [\"PASANGKAYU\", \"PASANGKAYU\", \"PAPALANG\", \"PAPALANG\"]\n",
    "filter_desa = [\"AKO\", \"GUNUNG SARI\", \"BODA-BODA\", \"SISANGO\"]\n",
    "filter_bulan = ['JANUARI']"
   ]
  },
  {
   "cell_type": "markdown",
   "metadata": {},
   "source": [
    "# Faskes"
   ]
  },
  {
   "cell_type": "code",
   "execution_count": 3,
   "metadata": {},
   "outputs": [
    {
     "data": {
      "text/html": [
       "<table id=\"itables_bb6b9929_bf65_4369_ba07_b18169f0f5e6\" class=\"display nowrap\" data-quarto-disable-processing=\"true\" style=\"table-layout:auto;width:auto;margin:auto;caption-side:bottom\">\n",
       "<thead>\n",
       "    <tr style=\"text-align: right;\">\n",
       "      \n",
       "      <th>NO</th>\n",
       "      <th>PROVINSI</th>\n",
       "      <th>KABUPATEN</th>\n",
       "      <th>KECAMATAN</th>\n",
       "      <th>KELURAHAN</th>\n",
       "      <th>NAMA FASKES</th>\n",
       "      <th>NO REGISTRASI</th>\n",
       "      <th>NAMA BIDAN</th>\n",
       "      <th>NIK BIDAN</th>\n",
       "      <th>ALAMAT</th>\n",
       "      <th>NO HP</th>\n",
       "      <th>PROFESI</th>\n",
       "      <th>PELATIHAN</th>\n",
       "      <th>STATUS UPDATE</th>\n",
       "      <th>BULAN</th>\n",
       "    </tr>\n",
       "  </thead><tbody><tr>\n",
       "<td style=\"vertical-align:middle; text-align:left\">\n",
       "<a href=https://mwouts.github.io/itables/><svg class=\"main-svg\" xmlns=\"http://www.w3.org/2000/svg\" xmlns:xlink=\"http://www.w3.org/1999/xlink\"\n",
       "width=\"64\" viewBox=\"0 0 500 400\" style=\"font-family: 'Droid Sans', sans-serif;\">\n",
       "    <g style=\"fill:#d9d7fc\">\n",
       "        <path d=\"M100,400H500V357H100Z\" />\n",
       "        <path d=\"M100,300H400V257H100Z\" />\n",
       "        <path d=\"M0,200H400V157H0Z\" />\n",
       "        <path d=\"M100,100H500V57H100Z\" />\n",
       "        <path d=\"M100,350H500V307H100Z\" />\n",
       "        <path d=\"M100,250H400V207H100Z\" />\n",
       "        <path d=\"M0,150H400V107H0Z\" />\n",
       "        <path d=\"M100,50H500V7H100Z\" />\n",
       "    </g>\n",
       "    <g style=\"fill:#1a1366;stroke:#1a1366;\">\n",
       "   <rect x=\"100\" y=\"7\" width=\"400\" height=\"43\">\n",
       "    <animate\n",
       "      attributeName=\"width\"\n",
       "      values=\"0;400;0\"\n",
       "      dur=\"5s\"\n",
       "      repeatCount=\"indefinite\" />\n",
       "      <animate\n",
       "      attributeName=\"x\"\n",
       "      values=\"100;100;500\"\n",
       "      dur=\"5s\"\n",
       "      repeatCount=\"indefinite\" />\n",
       "  </rect>\n",
       "        <rect x=\"0\" y=\"107\" width=\"400\" height=\"43\">\n",
       "    <animate\n",
       "      attributeName=\"width\"\n",
       "      values=\"0;400;0\"\n",
       "      dur=\"3.5s\"\n",
       "      repeatCount=\"indefinite\" />\n",
       "    <animate\n",
       "      attributeName=\"x\"\n",
       "      values=\"0;0;400\"\n",
       "      dur=\"3.5s\"\n",
       "      repeatCount=\"indefinite\" />\n",
       "  </rect>\n",
       "        <rect x=\"100\" y=\"207\" width=\"300\" height=\"43\">\n",
       "    <animate\n",
       "      attributeName=\"width\"\n",
       "      values=\"0;300;0\"\n",
       "      dur=\"3s\"\n",
       "      repeatCount=\"indefinite\" />\n",
       "    <animate\n",
       "      attributeName=\"x\"\n",
       "      values=\"100;100;400\"\n",
       "      dur=\"3s\"\n",
       "      repeatCount=\"indefinite\" />\n",
       "  </rect>\n",
       "        <rect x=\"100\" y=\"307\" width=\"400\" height=\"43\">\n",
       "    <animate\n",
       "      attributeName=\"width\"\n",
       "      values=\"0;400;0\"\n",
       "      dur=\"4s\"\n",
       "      repeatCount=\"indefinite\" />\n",
       "      <animate\n",
       "      attributeName=\"x\"\n",
       "      values=\"100;100;500\"\n",
       "      dur=\"4s\"\n",
       "      repeatCount=\"indefinite\" />\n",
       "  </rect>\n",
       "        <g style=\"fill:transparent;stroke-width:8; stroke-linejoin:round\" rx=\"5\">\n",
       "            <g transform=\"translate(45 50) rotate(-45)\">\n",
       "                <circle r=\"33\" cx=\"0\" cy=\"0\" />\n",
       "                <rect x=\"-8\" y=\"32\" width=\"16\" height=\"30\" />\n",
       "            </g>\n",
       "\n",
       "            <g transform=\"translate(450 152)\">\n",
       "                <polyline points=\"-15,-20 -35,-20 -35,40 25,40 25,20\" />\n",
       "                <rect x=\"-15\" y=\"-40\" width=\"60\" height=\"60\" />\n",
       "            </g>\n",
       "\n",
       "            <g transform=\"translate(50 352)\">\n",
       "                <polygon points=\"-35,-5 0,-40 35,-5\" />\n",
       "                <polygon points=\"-35,10 0,45 35,10\" />\n",
       "            </g>\n",
       "\n",
       "            <g transform=\"translate(75 250)\">\n",
       "                <polyline points=\"-30,30 -60,0 -30,-30\" />\n",
       "                <polyline points=\"0,30 -30,0 0,-30\" />\n",
       "            </g>\n",
       "\n",
       "            <g transform=\"translate(425 250) rotate(180)\">\n",
       "                <polyline points=\"-30,30 -60,0 -30,-30\" />\n",
       "                <polyline points=\"0,30 -30,0 0,-30\" />\n",
       "            </g>\n",
       "        </g>\n",
       "    </g>\n",
       "</svg>\n",
       "</a>\n",
       "Loading ITables v2.2.5 from the internet...\n",
       "(need <a href=https://mwouts.github.io/itables/troubleshooting.html>help</a>?)</td>\n",
       "</tr></tbody>\n",
       "</table>\n",
       "<link href=\"https://www.unpkg.com/dt_for_itables@2.0.13/dt_bundle.css\" rel=\"stylesheet\">\n",
       "<script type=\"module\">\n",
       "    import {DataTable, jQuery as $} from 'https://www.unpkg.com/dt_for_itables@2.0.13/dt_bundle.js';\n",
       "\n",
       "    document.querySelectorAll(\"#itables_bb6b9929_bf65_4369_ba07_b18169f0f5e6:not(.dataTable)\").forEach(table => {\n",
       "        if (!(table instanceof HTMLTableElement))\n",
       "            return;\n",
       "\n",
       "        // Define the table data\n",
       "        const data = [[67, \"SULAWESI BARAT\", \"PASANGKAYU\", \"PASANGKAYU\", \"AKO\", \"Poskesdes Taranja\", 760100403, \"Irm\", \"760\", \"TARANJA\", \"081222391877\", \"Bidan\", \"R/R\", \"-\", \"JANUARI\"], [68, \"SULAWESI BARAT\", \"PASANGKAYU\", \"PASANGKAYU\", \"AKO\", \"Poskesdes Taranja\", 760100403, \"Har\", \"731\", \"BULU LANGA\", \"082187127491\", \"Bidan\", \"R/R\", \"-\", \"JANUARI\"], [80, \"SULAWESI BARAT\", \"PASANGKAYU\", \"PASANGKAYU\", \"GUNUNG SARI\", \"Polindes Bambamone\", 760100502, \"Ina\", \"760\", \"KELURAHAN MARTAJAYA\", \"082319310013\", \"Bidan\", \"IUD/IMPLAN,KIP/Konseling,R/R\", \"-\", \"JANUARI\"], [242, \"SULAWESI BARAT\", \"PASANGKAYU\", \"PASANGKAYU\", \"AKO\", \"RSUD Kabupaten Pasangkayu\", 7601016, \"dr.\", \"NA\", \"NA\", \"NA\", \"Dokter Bedah/Urologi\", \"Vasektomi\", \"-\", \"JANUARI\"], [243, \"SULAWESI BARAT\", \"PASANGKAYU\", \"PASANGKAYU\", \"AKO\", \"RSUD Kabupaten Pasangkayu\", 7601016, \"dr.\", \"999\", \"BUKIT HUSADA\", \"NA\", \"Dokter Kebidanan dan Kandungan\", \"Tubektomi\", \"-\", \"JANUARI\"], [244, \"SULAWESI BARAT\", \"PASANGKAYU\", \"PASANGKAYU\", \"AKO\", \"RSUD Kabupaten Pasangkayu\", 7601016, \"NUR\", \"760\", \"JLN. FATMAWATI\", \"081287886373\", \"Bidan\", \"IUD/IMPLAN,R/R\", \"-\", \"JANUARI\"], [245, \"SULAWESI BARAT\", \"PASANGKAYU\", \"PASANGKAYU\", \"AKO\", \"RSUD Kabupaten Pasangkayu\", 7601016, \"RAM\", \"760\", \"Jl. Sultan Hasanuddin\", \"085242390885\", \"Bidan\", \"IUD/IMPLAN\", \"-\", \"JANUARI\"], [246, \"SULAWESI BARAT\", \"PASANGKAYU\", \"PASANGKAYU\", \"AKO\", \"RSUD Kabupaten Pasangkayu\", 7601016, \"Had\", \"731\", \"Btn Gria Matra\", \"085255888350\", \"Bidan\", \"Belum Terlatih\", \"-\", \"JANUARI\"], [247, \"SULAWESI BARAT\", \"PASANGKAYU\", \"PASANGKAYU\", \"AKO\", \"RSUD Kabupaten Pasangkayu\", 7601016, \"MEL\", \"730\", \"Jl. Andi Pelang\", \"NA\", \"Bidan\", \"Belum Terlatih\", \"-\", \"JANUARI\"], [248, \"SULAWESI BARAT\", \"PASANGKAYU\", \"PASANGKAYU\", \"AKO\", \"RSUD Kabupaten Pasangkayu\", 7601016, \"ERM\", \"760\", \"Jl. P. Diponegoro\", \"085240747533\", \"Bidan\", \"Belum Terlatih\", \"-\", \"JANUARI\"], [249, \"SULAWESI BARAT\", \"PASANGKAYU\", \"PASANGKAYU\", \"GUNUNG SARI\", \"Poli Klinik Kebun PT. Pasangkayu\", 7601017, \"Sit\", \"NA\", \"NA\", \"NA\", \"Bidan\", \"IUD/IMPLAN\", \"-\", \"JANUARI\"], [250, \"SULAWESI BARAT\", \"PASANGKAYU\", \"PASANGKAYU\", \"GUNUNG SARI\", \"Poli Klinik Kebun PT. Pasangkayu\", 7601017, \"Sit\", \"999\", \"Perumahan Pt. Pasangkayu\", \"00000000\", \"Bidan\", \"IUD/IMPLAN\", \"-\", \"JANUARI\"], [251, \"SULAWESI BARAT\", \"PASANGKAYU\", \"PASANGKAYU\", \"GUNUNG SARI\", \"Poli Klinik Kebun PT. Pasangkayu\", 7601017, \"MAU\", \"999\", \"PT. PASANGKAYU\", \"085241238258\", \"Dokter Umum\", \"Belum Terlatih\", \"-\", \"JANUARI\"], [252, \"SULAWESI BARAT\", \"PASANGKAYU\", \"PASANGKAYU\", \"GUNUNG SARI\", \"Poli Klinik Kebun PT. Pasangkayu\", 7601017, \"SRI\", \"999\", \"PT. PASANGKAYU\", \"082187480874\", \"Perawat\", \"Belum Terlatih\", \"-\", \"JANUARI\"], [253, \"SULAWESI BARAT\", \"PASANGKAYU\", \"PASANGKAYU\", \"GUNUNG SARI\", \"Poli Klinik Kebun PT. Pasangkayu\", 7601017, \"KAS\", \"999\", \"PT. PASANGKAYU\", \"082196138187\", \"Perawat\", \"Belum Terlatih\", \"-\", \"JANUARI\"], [254, \"SULAWESI BARAT\", \"PASANGKAYU\", \"PASANGKAYU\", \"GUNUNG SARI\", \"Poli Klinik Kebun PT. Pasangkayu\", 7601017, \"RIA\", \"760\", \"PT. PASANGKAYU\", \"082213606334\", \"Bidan\", \"Belum Terlatih\", \"-\", \"JANUARI\"], [279, \"SULAWESI BARAT\", \"PASANGKAYU\", \"PASANGKAYU\", \"AKO\", \"Unit Kesehatan Karyawan TSL-TBL\", 7601054, \"dr.\", \"999\", \"PT. PASANGKAYU\", \"085241238258\", \"Dokter Umum\", \"Belum Terlatih\", \"-\", \"JANUARI\"], [280, \"SULAWESI BARAT\", \"PASANGKAYU\", \"PASANGKAYU\", \"AKO\", \"Unit Kesehatan Karyawan TSL-TBL\", 7601054, \"Sat\", \"760\", \"PT. TSL\", \"082290001156\", \"Bidan\", \"R/R\", \"-\", \"JANUARI\"], [281, \"SULAWESI BARAT\", \"PASANGKAYU\", \"PASANGKAYU\", \"AKO\", \"Unit Kesehatan Karyawan TSL-TBL\", 7601054, \"Ari\", \"760\", \"PT. TSL\", \"082193453347\", \"Bidan\", \"R/R\", \"-\", \"JANUARI\"], [487, \"SULAWESI BARAT\", \"MAMUJU\", \"PAPALANG\", \"BODA-BODA\", \"Poskesdes Boda-boda\", 760201203, \"Res\", \"760\", \"Dusun Rantekamase\", \"NA\", \"Bidan\", \"KIP/Konseling,R/R\", \"-\", \"JANUARI\"], [488, \"SULAWESI BARAT\", \"MAMUJU\", \"PAPALANG\", \"BODA-BODA\", \"Poskesdes Boda-boda\", 760201203, \"Des\", \"760\", \"Dusun Rantekamase\", \"NA\", \"Bidan\", \"Belum Terlatih\", \"-\", \"JANUARI\"], [489, \"SULAWESI BARAT\", \"MAMUJU\", \"PAPALANG\", \"SISANGO\", \"Puskesdes Sisango I/ Sisango Selatan\", 760201204, \"mar\", \"760\", \"Desa Boda Boda\", \"NA\", \"Bidan\", \"Belum Terlatih\", \"-\", \"JANUARI\"], [490, \"SULAWESI BARAT\", \"MAMUJU\", \"PAPALANG\", \"SISANGO\", \"Puskesdes Sisango I/ Sisango Selatan\", 760201204, \"Lid\", \"760\", \"Dusun Salomasa Utara\", \"NA\", \"Perawat\", \"Belum Terlatih\", \"-\", \"JANUARI\"], [491, \"SULAWESI BARAT\", \"MAMUJU\", \"PAPALANG\", \"SISANGO\", \"Puskesdes Sisango II/Sisango Utara\", 760201205, \"Rit\", \"737\", \"Dusun Sisango Utara\", \"NA\", \"Bidan\", \"Belum Terlatih\", \"-\", \"JANUARI\"]];\n",
       "\n",
       "        // Define the dt_args\n",
       "        let dt_args = {\"layout\": {\"topStart\": \"pageLength\", \"topEnd\": \"search\", \"bottomStart\": \"info\", \"bottomEnd\": \"paging\"}, \"order\": [], \"warn_on_selected_rows_not_rendered\": true};\n",
       "        dt_args[\"data\"] = data;\n",
       "\n",
       "        \n",
       "        new DataTable(table, dt_args);\n",
       "    });\n",
       "</script>\n"
      ],
      "text/plain": [
       "<IPython.core.display.HTML object>"
      ]
     },
     "metadata": {},
     "output_type": "display_data"
    }
   ],
   "source": [
    "faskes_sdm = pl.read_csv(\"data/data_faskes_siga.csv\")\n",
    "show(\n",
    "    faskes_sdm.filter(\n",
    "    pl.col(\"KABUPATEN\").is_in(filter_kabupaten),\n",
    "    pl.col(\"KECAMATAN\").is_in(filter_kecamatan),\n",
    "    pl.col(\"KELURAHAN\").is_in(filter_desa),\n",
    "    pl.col(\"BULAN\").is_in(filter_bulan)\n",
    ")\n",
    ")"
   ]
  },
  {
   "cell_type": "code",
   "execution_count": 4,
   "metadata": {},
   "outputs": [
    {
     "data": {
      "text/plain": [
       "8"
      ]
     },
     "execution_count": 4,
     "metadata": {},
     "output_type": "execute_result"
    }
   ],
   "source": [
    "faskes_sdm.filter(\n",
    "    pl.col(\"KABUPATEN\").is_in(filter_kabupaten),\n",
    "    pl.col(\"KECAMATAN\").is_in(filter_kecamatan),\n",
    "    pl.col(\"KELURAHAN\").is_in(filter_desa),\n",
    "    pl.col(\"BULAN\").is_in(filter_bulan)\n",
    ").select(pl.col(\"NO REGISTRASI\").n_unique()).item()"
   ]
  },
  {
   "cell_type": "code",
   "execution_count": 5,
   "metadata": {},
   "outputs": [
    {
     "data": {
      "text/plain": [
       "7"
      ]
     },
     "execution_count": 5,
     "metadata": {},
     "output_type": "execute_result"
    }
   ],
   "source": [
    "faskes_sdm.filter(\n",
    "    pl.col(\"KABUPATEN\").is_in(filter_kabupaten),\n",
    "    pl.col(\"KECAMATAN\").is_in(filter_kecamatan),\n",
    "    pl.col(\"KELURAHAN\").is_in(filter_desa),\n",
    "    pl.col(\"BULAN\").is_in(filter_bulan)\n",
    ").filter(\n",
    "    (pl.col(\"PELATIHAN\").str.contains(\"IUD\")) |\n",
    "    (pl.col(\"PELATIHAN\").str.contains(\"IMPLAN\")) |\n",
    "    (pl.col(\"PELATIHAN\").str.contains(\"Tubektomi\")) |\n",
    "    (pl.col(\"PELATIHAN\").str.contains(\"Vasektomi\"))\n",
    ").shape[0]"
   ]
  },
  {
   "cell_type": "code",
   "execution_count": 6,
   "metadata": {},
   "outputs": [
    {
     "name": "stdout",
     "output_type": "stream",
     "text": [
      "IUD/IMPLAN,Sertifikat Kompetensi IUD/Implan,Belum Terlatih\n",
      "IUD/IMPLAN\n",
      "IUD/IMPLAN,Belum Terlatih\n",
      "IUD/IMPLAN,Sertifikat Kompetensi IUD/Implan\n",
      "IUD/IMPLAN,R/R\n",
      "KIP/Konseling\n",
      "R/R,Sertifikat Kompetensi IUD/Implan\n",
      "Vasektomi\n",
      "IUD/IMPLAN,KIP/Konseling,Sertifikat Kompetensi IUD/Implan\n",
      "KIP/Konseling,R/R\n",
      "Sertifikat Kompetensi IUD/Implan\n",
      "IUD/IMPLAN,KIP/Konseling,R/R\n",
      "Belum Terlatih\n",
      "IUD/IMPLAN,R/R,Sertifikat Kompetensi IUD/Implan\n",
      "Tubektomi,KIP/Konseling,R/R\n",
      "IUD/IMPLAN,KIP/Konseling\n",
      "NA\n",
      "IUD/IMPLAN,Vasektomi,KIP/Konseling\n",
      "Tubektomi\n",
      "Tubektomi,KIP/Konseling\n",
      "R/R\n",
      "IUD/IMPLAN,KIP/Konseling,R/R,Sertifikat Kompetensi IUD/Implan\n",
      "Vasektomi,R/R\n",
      "KIP/Konseling,Sertifikat Kompetensi IUD/Implan\n"
     ]
    }
   ],
   "source": [
    "for i in faskes_sdm['PELATIHAN'].unique():\n",
    "    print(i)"
   ]
  },
  {
   "cell_type": "code",
   "execution_count": 7,
   "metadata": {},
   "outputs": [
    {
     "data": {
      "text/plain": [
       "4"
      ]
     },
     "execution_count": 7,
     "metadata": {},
     "output_type": "execute_result"
    }
   ],
   "source": [
    "df = pl.DataFrame({\n",
    "    \"PELATIHAN\": [\n",
    "        \"Pelatihan IUD dan IMPLAN\",\n",
    "        \"Pemasangan Tubektomi\",\n",
    "        \"Pelatihan KB Vasektomi\",\n",
    "        \"Pelatihan Dasar Kesehatan\",\n",
    "        \"Pengenalan Alat Kontrasepsi IUD\"\n",
    "    ]\n",
    "})\n",
    "\n",
    "# Filter baris yang mengandung salah satu dari teks tertentu\n",
    "df.filter(\n",
    "    (pl.col(\"PELATIHAN\").str.contains(\"IUD\")) |\n",
    "    (pl.col(\"PELATIHAN\").str.contains(\"IMPLAN\")) |\n",
    "    (pl.col(\"PELATIHAN\").str.contains(\"Tubektomi\")) |\n",
    "    (pl.col(\"PELATIHAN\").str.contains(\"Vasektomi\"))\n",
    ").shape[0]\n"
   ]
  },
  {
   "cell_type": "markdown",
   "metadata": {},
   "source": [
    "# KRS"
   ]
  },
  {
   "cell_type": "code",
   "execution_count": 21,
   "metadata": {},
   "outputs": [
    {
     "data": {
      "text/html": [
       "<div><style>\n",
       ".dataframe > thead > tr,\n",
       ".dataframe > tbody > tr {\n",
       "  text-align: right;\n",
       "  white-space: pre-wrap;\n",
       "}\n",
       "</style>\n",
       "<small>shape: (4, 15)</small><table border=\"1\" class=\"dataframe\"><thead><tr><th>PROVINSI</th><th>KABUPATEN</th><th>KECAMATAN</th><th>KELURAHAN</th><th>PUNYA BADUTA</th><th>PUNYA BALITA</th><th>PUS</th><th>PUS HAMIL</th><th>AIR MINUM</th><th>TEMPAT BUANG AIR</th><th>TERLALU MUDA</th><th>TERLALU TUA</th><th>TERLALU DEKAT</th><th>TERLALU BANYAK</th><th>KRS</th></tr><tr><td>str</td><td>str</td><td>str</td><td>str</td><td>i64</td><td>i64</td><td>i64</td><td>i64</td><td>i64</td><td>i64</td><td>i64</td><td>i64</td><td>i64</td><td>i64</td><td>i64</td></tr></thead><tbody><tr><td>&quot;SULAWESI BARAT&quot;</td><td>&quot;MAMUJU&quot;</td><td>&quot;PAPALANG&quot;</td><td>&quot;BODA-BODA&quot;</td><td>37</td><td>74</td><td>257</td><td>8</td><td>24</td><td>46</td><td>2</td><td>54</td><td>4</td><td>77</td><td>201</td></tr><tr><td>&quot;SULAWESI BARAT&quot;</td><td>&quot;MAMUJU&quot;</td><td>&quot;PAPALANG&quot;</td><td>&quot;SISANGO&quot;</td><td>24</td><td>30</td><td>146</td><td>7</td><td>23</td><td>4</td><td>2</td><td>33</td><td>0</td><td>34</td><td>108</td></tr><tr><td>&quot;SULAWESI BARAT&quot;</td><td>&quot;PASANGKAYU&quot;</td><td>&quot;PASANGKAYU&quot;</td><td>&quot;AKO&quot;</td><td>60</td><td>139</td><td>581</td><td>14</td><td>19</td><td>45</td><td>12</td><td>147</td><td>6</td><td>185</td><td>367</td></tr><tr><td>&quot;SULAWESI BARAT&quot;</td><td>&quot;PASANGKAYU&quot;</td><td>&quot;PASANGKAYU&quot;</td><td>&quot;GUNUNG SARI&quot;</td><td>18</td><td>122</td><td>675</td><td>2</td><td>75</td><td>1</td><td>10</td><td>166</td><td>2</td><td>172</td><td>477</td></tr></tbody></table></div>"
      ],
      "text/plain": [
       "shape: (4, 15)\n",
       "┌────────────┬────────────┬────────────┬────────────┬───┬────────────┬───────────┬───────────┬─────┐\n",
       "│ PROVINSI   ┆ KABUPATEN  ┆ KECAMATAN  ┆ KELURAHAN  ┆ … ┆ TERLALU    ┆ TERLALU   ┆ TERLALU   ┆ KRS │\n",
       "│ ---        ┆ ---        ┆ ---        ┆ ---        ┆   ┆ TUA        ┆ DEKAT     ┆ BANYAK    ┆ --- │\n",
       "│ str        ┆ str        ┆ str        ┆ str        ┆   ┆ ---        ┆ ---       ┆ ---       ┆ i64 │\n",
       "│            ┆            ┆            ┆            ┆   ┆ i64        ┆ i64       ┆ i64       ┆     │\n",
       "╞════════════╪════════════╪════════════╪════════════╪═══╪════════════╪═══════════╪═══════════╪═════╡\n",
       "│ SULAWESI   ┆ MAMUJU     ┆ PAPALANG   ┆ BODA-BODA  ┆ … ┆ 54         ┆ 4         ┆ 77        ┆ 201 │\n",
       "│ BARAT      ┆            ┆            ┆            ┆   ┆            ┆           ┆           ┆     │\n",
       "│ SULAWESI   ┆ MAMUJU     ┆ PAPALANG   ┆ SISANGO    ┆ … ┆ 33         ┆ 0         ┆ 34        ┆ 108 │\n",
       "│ BARAT      ┆            ┆            ┆            ┆   ┆            ┆           ┆           ┆     │\n",
       "│ SULAWESI   ┆ PASANGKAYU ┆ PASANGKAYU ┆ AKO        ┆ … ┆ 147        ┆ 6         ┆ 185       ┆ 367 │\n",
       "│ BARAT      ┆            ┆            ┆            ┆   ┆            ┆           ┆           ┆     │\n",
       "│ SULAWESI   ┆ PASANGKAYU ┆ PASANGKAYU ┆ GUNUNG     ┆ … ┆ 166        ┆ 2         ┆ 172       ┆ 477 │\n",
       "│ BARAT      ┆            ┆            ┆ SARI       ┆   ┆            ┆           ┆           ┆     │\n",
       "└────────────┴────────────┴────────────┴────────────┴───┴────────────┴───────────┴───────────┴─────┘"
      ]
     },
     "execution_count": 21,
     "metadata": {},
     "output_type": "execute_result"
    }
   ],
   "source": [
    "data_krs_verval = pl.read_csv(\"data/data_verval_krs_2024_sem1.csv\")\n",
    "data_krs_verval.filter(\n",
    "    pl.col(\"KABUPATEN\").is_in(filter_kabupaten),\n",
    "    pl.col(\"KECAMATAN\").is_in(filter_kecamatan),\n",
    "    pl.col(\"KELURAHAN\").is_in(filter_desa)\n",
    ")"
   ]
  },
  {
   "cell_type": "code",
   "execution_count": null,
   "metadata": {},
   "outputs": [
    {
     "data": {
      "text/plain": [
       "1153"
      ]
     },
     "execution_count": 22,
     "metadata": {},
     "output_type": "execute_result"
    }
   ],
   "source": [
    "data_krs_verval.filter(\n",
    "    pl.col(\"KABUPATEN\").is_in(filter_kabupaten),\n",
    "    pl.col(\"KECAMATAN\").is_in(filter_kecamatan),\n",
    "    pl.col(\"KELURAHAN\").is_in(filter_desa)\n",
    ").group_by(\n",
    "    'PROVINSI'\n",
    ").agg([\n",
    "    pl.col(\"KRS\").sum(),\n",
    "]).select(pl.col(\"KRS\")).item()"
   ]
  },
  {
   "cell_type": "code",
   "execution_count": 31,
   "metadata": {},
   "outputs": [],
   "source": [
    "sasaran_poktan = pl.read_csv(\"data/sasaran_poktan_gabung.csv\")"
   ]
  },
  {
   "cell_type": "code",
   "execution_count": 32,
   "metadata": {},
   "outputs": [
    {
     "data": {
      "text/plain": [
       "653"
      ]
     },
     "execution_count": 32,
     "metadata": {},
     "output_type": "execute_result"
    }
   ],
   "source": [
    "sasaran_poktan.filter(\n",
    "    pl.col(\"KABUPATEN\").is_in(filter_kabupaten),\n",
    "    pl.col(\"KECAMATAN\").is_in(filter_kecamatan),\n",
    "    pl.col(\"KELURAHAN\").is_in(filter_desa),\n",
    "    pl.col(\"BULAN\").is_in(filter_bulan)\n",
    ").group_by(\n",
    "    'PROVINSI'\n",
    ").agg([\n",
    "    pl.col(\"SASARAN BKB\").sum(),\n",
    "]).select(pl.col(\"SASARAN BKB\")).item()"
   ]
  },
  {
   "cell_type": "code",
   "execution_count": null,
   "metadata": {},
   "outputs": [],
   "source": []
  },
  {
   "cell_type": "markdown",
   "metadata": {},
   "source": [
    "# Profil"
   ]
  },
  {
   "cell_type": "code",
   "execution_count": null,
   "metadata": {},
   "outputs": [
    {
     "data": {
      "text/html": [
       "<table id=\"itables_6e74ee97_c4cb_4ffd_a03d_187f55cc5269\" class=\"display nowrap\" data-quarto-disable-processing=\"true\" style=\"table-layout:auto;width:auto;margin:auto;caption-side:bottom\">\n",
       "<thead>\n",
       "    <tr style=\"text-align: right;\">\n",
       "      \n",
       "      <th>PROVINSI</th>\n",
       "      <th>KABUPATEN</th>\n",
       "      <th>KECAMATAN</th>\n",
       "      <th>KELURAHAN</th>\n",
       "      <th>JUMLAH_BKB</th>\n",
       "      <th>BULAN</th>\n",
       "    </tr>\n",
       "  </thead><tbody><tr>\n",
       "<td style=\"vertical-align:middle; text-align:left\">\n",
       "<a href=https://mwouts.github.io/itables/><svg class=\"main-svg\" xmlns=\"http://www.w3.org/2000/svg\" xmlns:xlink=\"http://www.w3.org/1999/xlink\"\n",
       "width=\"64\" viewBox=\"0 0 500 400\" style=\"font-family: 'Droid Sans', sans-serif;\">\n",
       "    <g style=\"fill:#d9d7fc\">\n",
       "        <path d=\"M100,400H500V357H100Z\" />\n",
       "        <path d=\"M100,300H400V257H100Z\" />\n",
       "        <path d=\"M0,200H400V157H0Z\" />\n",
       "        <path d=\"M100,100H500V57H100Z\" />\n",
       "        <path d=\"M100,350H500V307H100Z\" />\n",
       "        <path d=\"M100,250H400V207H100Z\" />\n",
       "        <path d=\"M0,150H400V107H0Z\" />\n",
       "        <path d=\"M100,50H500V7H100Z\" />\n",
       "    </g>\n",
       "    <g style=\"fill:#1a1366;stroke:#1a1366;\">\n",
       "   <rect x=\"100\" y=\"7\" width=\"400\" height=\"43\">\n",
       "    <animate\n",
       "      attributeName=\"width\"\n",
       "      values=\"0;400;0\"\n",
       "      dur=\"5s\"\n",
       "      repeatCount=\"indefinite\" />\n",
       "      <animate\n",
       "      attributeName=\"x\"\n",
       "      values=\"100;100;500\"\n",
       "      dur=\"5s\"\n",
       "      repeatCount=\"indefinite\" />\n",
       "  </rect>\n",
       "        <rect x=\"0\" y=\"107\" width=\"400\" height=\"43\">\n",
       "    <animate\n",
       "      attributeName=\"width\"\n",
       "      values=\"0;400;0\"\n",
       "      dur=\"3.5s\"\n",
       "      repeatCount=\"indefinite\" />\n",
       "    <animate\n",
       "      attributeName=\"x\"\n",
       "      values=\"0;0;400\"\n",
       "      dur=\"3.5s\"\n",
       "      repeatCount=\"indefinite\" />\n",
       "  </rect>\n",
       "        <rect x=\"100\" y=\"207\" width=\"300\" height=\"43\">\n",
       "    <animate\n",
       "      attributeName=\"width\"\n",
       "      values=\"0;300;0\"\n",
       "      dur=\"3s\"\n",
       "      repeatCount=\"indefinite\" />\n",
       "    <animate\n",
       "      attributeName=\"x\"\n",
       "      values=\"100;100;400\"\n",
       "      dur=\"3s\"\n",
       "      repeatCount=\"indefinite\" />\n",
       "  </rect>\n",
       "        <rect x=\"100\" y=\"307\" width=\"400\" height=\"43\">\n",
       "    <animate\n",
       "      attributeName=\"width\"\n",
       "      values=\"0;400;0\"\n",
       "      dur=\"4s\"\n",
       "      repeatCount=\"indefinite\" />\n",
       "      <animate\n",
       "      attributeName=\"x\"\n",
       "      values=\"100;100;500\"\n",
       "      dur=\"4s\"\n",
       "      repeatCount=\"indefinite\" />\n",
       "  </rect>\n",
       "        <g style=\"fill:transparent;stroke-width:8; stroke-linejoin:round\" rx=\"5\">\n",
       "            <g transform=\"translate(45 50) rotate(-45)\">\n",
       "                <circle r=\"33\" cx=\"0\" cy=\"0\" />\n",
       "                <rect x=\"-8\" y=\"32\" width=\"16\" height=\"30\" />\n",
       "            </g>\n",
       "\n",
       "            <g transform=\"translate(450 152)\">\n",
       "                <polyline points=\"-15,-20 -35,-20 -35,40 25,40 25,20\" />\n",
       "                <rect x=\"-15\" y=\"-40\" width=\"60\" height=\"60\" />\n",
       "            </g>\n",
       "\n",
       "            <g transform=\"translate(50 352)\">\n",
       "                <polygon points=\"-35,-5 0,-40 35,-5\" />\n",
       "                <polygon points=\"-35,10 0,45 35,10\" />\n",
       "            </g>\n",
       "\n",
       "            <g transform=\"translate(75 250)\">\n",
       "                <polyline points=\"-30,30 -60,0 -30,-30\" />\n",
       "                <polyline points=\"0,30 -30,0 0,-30\" />\n",
       "            </g>\n",
       "\n",
       "            <g transform=\"translate(425 250) rotate(180)\">\n",
       "                <polyline points=\"-30,30 -60,0 -30,-30\" />\n",
       "                <polyline points=\"0,30 -30,0 0,-30\" />\n",
       "            </g>\n",
       "        </g>\n",
       "    </g>\n",
       "</svg>\n",
       "</a>\n",
       "Loading ITables v2.2.5 from the internet...\n",
       "(need <a href=https://mwouts.github.io/itables/troubleshooting.html>help</a>?)</td>\n",
       "</tr></tbody>\n",
       "</table>\n",
       "<link href=\"https://www.unpkg.com/dt_for_itables@2.0.13/dt_bundle.css\" rel=\"stylesheet\">\n",
       "<script type=\"module\">\n",
       "    import {DataTable, jQuery as $} from 'https://www.unpkg.com/dt_for_itables@2.0.13/dt_bundle.js';\n",
       "\n",
       "    document.querySelectorAll(\"#itables_6e74ee97_c4cb_4ffd_a03d_187f55cc5269:not(.dataTable)\").forEach(table => {\n",
       "        if (!(table instanceof HTMLTableElement))\n",
       "            return;\n",
       "\n",
       "        // Define the table data\n",
       "        const data = [[\"SULAWESI BARAT\", \"MAMUJU\", \"PAPALANG\", \"BODA-BODA\", 1, \"JANUARI\"], [\"SULAWESI BARAT\", \"MAMUJU\", \"PAPALANG\", \"SISANGO\", 1, \"JANUARI\"], [\"SULAWESI BARAT\", \"PASANGKAYU\", \"PASANGKAYU\", \"AKO\", 1, \"JANUARI\"], [\"SULAWESI BARAT\", \"PASANGKAYU\", \"PASANGKAYU\", \"GUNUNG SARI\", 1, \"JANUARI\"]];\n",
       "\n",
       "        // Define the dt_args\n",
       "        let dt_args = {\"layout\": {\"topStart\": null, \"topEnd\": null, \"bottomStart\": null, \"bottomEnd\": null}, \"order\": [], \"warn_on_selected_rows_not_rendered\": true};\n",
       "        dt_args[\"data\"] = data;\n",
       "\n",
       "        \n",
       "        new DataTable(table, dt_args);\n",
       "    });\n",
       "</script>\n"
      ],
      "text/plain": [
       "<IPython.core.display.HTML object>"
      ]
     },
     "metadata": {},
     "output_type": "display_data"
    }
   ],
   "source": [
    "data_bkb = pl.read_csv(\"data/data_bkb.csv\")\n",
    "show(\n",
    "    data_bkb.filter(\n",
    "        pl.col(\"KABUPATEN\").is_in(filter_kabupaten),\n",
    "        pl.col(\"KECAMATAN\").is_in(filter_kecamatan),\n",
    "        pl.col(\"KELURAHAN\").is_in(filter_desa),\n",
    "        pl.col(\"BULAN\").is_in(filter_bulan)\n",
    "    ).\n",
    ")"
   ]
  },
  {
   "cell_type": "code",
   "execution_count": null,
   "metadata": {},
   "outputs": [
    {
     "ename": "TypeError",
     "evalue": "'tuple' object is not callable",
     "output_type": "error",
     "traceback": [
      "\u001b[0;31m---------------------------------------------------------------------------\u001b[0m",
      "\u001b[0;31mTypeError\u001b[0m                                 Traceback (most recent call last)",
      "Cell \u001b[0;32mIn[17], line 6\u001b[0m\n\u001b[1;32m      1\u001b[0m \u001b[43mdata_bkb\u001b[49m\u001b[38;5;241;43m.\u001b[39;49m\u001b[43mfilter\u001b[49m\u001b[43m(\u001b[49m\n\u001b[1;32m      2\u001b[0m \u001b[43m    \u001b[49m\u001b[43mpl\u001b[49m\u001b[38;5;241;43m.\u001b[39;49m\u001b[43mcol\u001b[49m\u001b[43m(\u001b[49m\u001b[38;5;124;43m\"\u001b[39;49m\u001b[38;5;124;43mKABUPATEN\u001b[39;49m\u001b[38;5;124;43m\"\u001b[39;49m\u001b[43m)\u001b[49m\u001b[38;5;241;43m.\u001b[39;49m\u001b[43mis_in\u001b[49m\u001b[43m(\u001b[49m\u001b[43mfilter_kabupaten\u001b[49m\u001b[43m)\u001b[49m\u001b[43m,\u001b[49m\n\u001b[1;32m      3\u001b[0m \u001b[43m    \u001b[49m\u001b[43mpl\u001b[49m\u001b[38;5;241;43m.\u001b[39;49m\u001b[43mcol\u001b[49m\u001b[43m(\u001b[49m\u001b[38;5;124;43m\"\u001b[39;49m\u001b[38;5;124;43mKECAMATAN\u001b[39;49m\u001b[38;5;124;43m\"\u001b[39;49m\u001b[43m)\u001b[49m\u001b[38;5;241;43m.\u001b[39;49m\u001b[43mis_in\u001b[49m\u001b[43m(\u001b[49m\u001b[43mfilter_kecamatan\u001b[49m\u001b[43m)\u001b[49m\u001b[43m,\u001b[49m\n\u001b[1;32m      4\u001b[0m \u001b[43m    \u001b[49m\u001b[43mpl\u001b[49m\u001b[38;5;241;43m.\u001b[39;49m\u001b[43mcol\u001b[49m\u001b[43m(\u001b[49m\u001b[38;5;124;43m\"\u001b[39;49m\u001b[38;5;124;43mKELURAHAN\u001b[39;49m\u001b[38;5;124;43m\"\u001b[39;49m\u001b[43m)\u001b[49m\u001b[38;5;241;43m.\u001b[39;49m\u001b[43mis_in\u001b[49m\u001b[43m(\u001b[49m\u001b[43mfilter_desa\u001b[49m\u001b[43m)\u001b[49m\u001b[43m,\u001b[49m\n\u001b[1;32m      5\u001b[0m \u001b[43m    \u001b[49m\u001b[43mpl\u001b[49m\u001b[38;5;241;43m.\u001b[39;49m\u001b[43mcol\u001b[49m\u001b[43m(\u001b[49m\u001b[38;5;124;43m\"\u001b[39;49m\u001b[38;5;124;43mBULAN\u001b[39;49m\u001b[38;5;124;43m\"\u001b[39;49m\u001b[43m)\u001b[49m\u001b[38;5;241;43m.\u001b[39;49m\u001b[43mis_in\u001b[49m\u001b[43m(\u001b[49m\u001b[43mfilter_bulan\u001b[49m\u001b[43m)\u001b[49m\n\u001b[0;32m----> 6\u001b[0m \u001b[43m)\u001b[49m\u001b[38;5;241;43m.\u001b[39;49m\u001b[43mshape\u001b[49m\u001b[43m(\u001b[49m\u001b[43m)\u001b[49m\n",
      "\u001b[0;31mTypeError\u001b[0m: 'tuple' object is not callable"
     ]
    }
   ],
   "source": [
    "data_bkb.filter(\n",
    "    pl.col(\"KABUPATEN\").is_in(filter_kabupaten),\n",
    "    pl.col(\"KECAMATAN\").is_in(filter_kecamatan),\n",
    "    pl.col(\"KELURAHAN\").is_in(filter_desa),\n",
    "    pl.col(\"BULAN\").is_in(filter_bulan)\n",
    ").select(pl.col(\"JUMLAH_BKB\")).sum().item()"
   ]
  },
  {
   "cell_type": "code",
   "execution_count": 18,
   "metadata": {},
   "outputs": [
    {
     "data": {
      "text/plain": [
       "4"
      ]
     },
     "execution_count": 18,
     "metadata": {},
     "output_type": "execute_result"
    }
   ],
   "source": [
    "data_bkb.filter(\n",
    "    pl.col(\"KABUPATEN\").is_in(filter_kabupaten),\n",
    "    pl.col(\"KECAMATAN\").is_in(filter_kecamatan),\n",
    "    pl.col(\"KELURAHAN\").is_in(filter_desa),\n",
    "    pl.col(\"BULAN\").is_in(filter_bulan)\n",
    ").height"
   ]
  },
  {
   "cell_type": "code",
   "execution_count": 28,
   "metadata": {},
   "outputs": [
    {
     "data": {
      "text/plain": [
       "['PASANGKAYU', 'PASANGKAYU', 'MAMUJU', 'MAMUJU']"
      ]
     },
     "execution_count": 28,
     "metadata": {},
     "output_type": "execute_result"
    }
   ],
   "source": [
    "filter()[0]"
   ]
  },
  {
   "cell_type": "code",
   "execution_count": 31,
   "metadata": {},
   "outputs": [],
   "source": [
    "data_bkb = pl.read_csv(\"data/data_bkb.csv\")\n",
    "data_bkr = pl.read_csv(\"data/data_bkr.csv\")\n",
    "data_bkl = pl.read_csv(\"data/data_bkl.csv\")\n",
    "data_uppka = pl.read_csv(\"data/data_uppka.csv\")\n",
    "data_pikr = pl.read_csv(\"data/data_pikr.csv\")\n",
    "data_kkb = pl.read_csv(\"data/data_kkb.csv\")\n",
    "data_rdk = pl.read_csv(\"data/data_rdk.csv\")"
   ]
  },
  {
   "cell_type": "markdown",
   "metadata": {},
   "source": [
    "# KB\n",
    "## Baris 1 Tren"
   ]
  },
  {
   "cell_type": "code",
   "execution_count": 21,
   "metadata": {},
   "outputs": [],
   "source": [
    "import plotly.express as px\n",
    "import polars as pl\n",
    "from itables import show\n",
    "\n",
    "data_pus = pl.read_csv(\"data/data_pus.csv\")\n",
    "data_mix = pl.read_csv(\"data/data_mix_kontra.csv\")\n",
    "\n",
    "def bulan_hingga(bulan_terpilih):\n",
    "    daftar_bulan = [\"JANUARI\", \"FEBRUARI\", \"MARET\", \"APRIL\", \"MEI\", \"JUNI\", \"JULI\", \"AGUSTUS\", \"SEPTEMBER\", \"OKTOBER\", \"NOVEMBER\", \"DESEMBER\"]\n",
    "    index = daftar_bulan.index(bulan_terpilih)\n",
    "    return daftar_bulan[:index + 1]"
   ]
  },
  {
   "cell_type": "code",
   "execution_count": 2,
   "metadata": {},
   "outputs": [],
   "source": [
    "filter_kabupaten = [\"PASANGKAYU\", \"PASANGKAYU\", \"MAMUJU\", \"MAMUJU\"]\n",
    "filter_kecamatan = [\"PASANGKAYU\", \"PASANGKAYU\", \"PAPALANG\", \"PAPALANG\"]\n",
    "filter_desa = [\"AKO\", \"GUNUNG SARI\", \"BODA-BODA\", \"SISANGO\"]\n",
    "filter_bulan = 'FEBRUARI'"
   ]
  },
  {
   "cell_type": "code",
   "execution_count": 11,
   "metadata": {},
   "outputs": [
    {
     "data": {
      "text/html": [
       "<table id=\"itables_96fb0d40_f742_4836_b422_fe86185f3728\" class=\"display nowrap\" data-quarto-disable-processing=\"true\" style=\"table-layout:auto;width:auto;margin:auto;caption-side:bottom\">\n",
       "<thead>\n",
       "    <tr style=\"text-align: right;\">\n",
       "      \n",
       "      <th>PROVINSI</th>\n",
       "      <th>BULAN</th>\n",
       "      <th>PUS</th>\n",
       "    </tr>\n",
       "  </thead><tbody><tr>\n",
       "<td style=\"vertical-align:middle; text-align:left\">\n",
       "<a href=https://mwouts.github.io/itables/><svg class=\"main-svg\" xmlns=\"http://www.w3.org/2000/svg\" xmlns:xlink=\"http://www.w3.org/1999/xlink\"\n",
       "width=\"64\" viewBox=\"0 0 500 400\" style=\"font-family: 'Droid Sans', sans-serif;\">\n",
       "    <g style=\"fill:#d9d7fc\">\n",
       "        <path d=\"M100,400H500V357H100Z\" />\n",
       "        <path d=\"M100,300H400V257H100Z\" />\n",
       "        <path d=\"M0,200H400V157H0Z\" />\n",
       "        <path d=\"M100,100H500V57H100Z\" />\n",
       "        <path d=\"M100,350H500V307H100Z\" />\n",
       "        <path d=\"M100,250H400V207H100Z\" />\n",
       "        <path d=\"M0,150H400V107H0Z\" />\n",
       "        <path d=\"M100,50H500V7H100Z\" />\n",
       "    </g>\n",
       "    <g style=\"fill:#1a1366;stroke:#1a1366;\">\n",
       "   <rect x=\"100\" y=\"7\" width=\"400\" height=\"43\">\n",
       "    <animate\n",
       "      attributeName=\"width\"\n",
       "      values=\"0;400;0\"\n",
       "      dur=\"5s\"\n",
       "      repeatCount=\"indefinite\" />\n",
       "      <animate\n",
       "      attributeName=\"x\"\n",
       "      values=\"100;100;500\"\n",
       "      dur=\"5s\"\n",
       "      repeatCount=\"indefinite\" />\n",
       "  </rect>\n",
       "        <rect x=\"0\" y=\"107\" width=\"400\" height=\"43\">\n",
       "    <animate\n",
       "      attributeName=\"width\"\n",
       "      values=\"0;400;0\"\n",
       "      dur=\"3.5s\"\n",
       "      repeatCount=\"indefinite\" />\n",
       "    <animate\n",
       "      attributeName=\"x\"\n",
       "      values=\"0;0;400\"\n",
       "      dur=\"3.5s\"\n",
       "      repeatCount=\"indefinite\" />\n",
       "  </rect>\n",
       "        <rect x=\"100\" y=\"207\" width=\"300\" height=\"43\">\n",
       "    <animate\n",
       "      attributeName=\"width\"\n",
       "      values=\"0;300;0\"\n",
       "      dur=\"3s\"\n",
       "      repeatCount=\"indefinite\" />\n",
       "    <animate\n",
       "      attributeName=\"x\"\n",
       "      values=\"100;100;400\"\n",
       "      dur=\"3s\"\n",
       "      repeatCount=\"indefinite\" />\n",
       "  </rect>\n",
       "        <rect x=\"100\" y=\"307\" width=\"400\" height=\"43\">\n",
       "    <animate\n",
       "      attributeName=\"width\"\n",
       "      values=\"0;400;0\"\n",
       "      dur=\"4s\"\n",
       "      repeatCount=\"indefinite\" />\n",
       "      <animate\n",
       "      attributeName=\"x\"\n",
       "      values=\"100;100;500\"\n",
       "      dur=\"4s\"\n",
       "      repeatCount=\"indefinite\" />\n",
       "  </rect>\n",
       "        <g style=\"fill:transparent;stroke-width:8; stroke-linejoin:round\" rx=\"5\">\n",
       "            <g transform=\"translate(45 50) rotate(-45)\">\n",
       "                <circle r=\"33\" cx=\"0\" cy=\"0\" />\n",
       "                <rect x=\"-8\" y=\"32\" width=\"16\" height=\"30\" />\n",
       "            </g>\n",
       "\n",
       "            <g transform=\"translate(450 152)\">\n",
       "                <polyline points=\"-15,-20 -35,-20 -35,40 25,40 25,20\" />\n",
       "                <rect x=\"-15\" y=\"-40\" width=\"60\" height=\"60\" />\n",
       "            </g>\n",
       "\n",
       "            <g transform=\"translate(50 352)\">\n",
       "                <polygon points=\"-35,-5 0,-40 35,-5\" />\n",
       "                <polygon points=\"-35,10 0,45 35,10\" />\n",
       "            </g>\n",
       "\n",
       "            <g transform=\"translate(75 250)\">\n",
       "                <polyline points=\"-30,30 -60,0 -30,-30\" />\n",
       "                <polyline points=\"0,30 -30,0 0,-30\" />\n",
       "            </g>\n",
       "\n",
       "            <g transform=\"translate(425 250) rotate(180)\">\n",
       "                <polyline points=\"-30,30 -60,0 -30,-30\" />\n",
       "                <polyline points=\"0,30 -30,0 0,-30\" />\n",
       "            </g>\n",
       "        </g>\n",
       "    </g>\n",
       "</svg>\n",
       "</a>\n",
       "Loading ITables v2.2.5 from the internet...\n",
       "(need <a href=https://mwouts.github.io/itables/troubleshooting.html>help</a>?)</td>\n",
       "</tr></tbody>\n",
       "</table>\n",
       "<link href=\"https://www.unpkg.com/dt_for_itables@2.0.13/dt_bundle.css\" rel=\"stylesheet\">\n",
       "<script type=\"module\">\n",
       "    import {DataTable, jQuery as $} from 'https://www.unpkg.com/dt_for_itables@2.0.13/dt_bundle.js';\n",
       "\n",
       "    document.querySelectorAll(\"#itables_96fb0d40_f742_4836_b422_fe86185f3728:not(.dataTable)\").forEach(table => {\n",
       "        if (!(table instanceof HTMLTableElement))\n",
       "            return;\n",
       "\n",
       "        // Define the table data\n",
       "        const data = [[\"SULAWESI BARAT\", \"FEBRUARI\", 1786], [\"SULAWESI BARAT\", \"JANUARI\", 1769]];\n",
       "\n",
       "        // Define the dt_args\n",
       "        let dt_args = {\"layout\": {\"topStart\": null, \"topEnd\": null, \"bottomStart\": null, \"bottomEnd\": null}, \"order\": [], \"warn_on_selected_rows_not_rendered\": true};\n",
       "        dt_args[\"data\"] = data;\n",
       "\n",
       "        \n",
       "        new DataTable(table, dt_args);\n",
       "    });\n",
       "</script>\n"
      ],
      "text/plain": [
       "<IPython.core.display.HTML object>"
      ]
     },
     "metadata": {},
     "output_type": "display_data"
    }
   ],
   "source": [
    "show(\n",
    "    data_pus.filter(\n",
    "        pl.col(\"KABUPATEN\").is_in(filter_kabupaten),\n",
    "        pl.col(\"KECAMATAN\").is_in(filter_kecamatan),\n",
    "        pl.col(\"KELURAHAN\").is_in(filter_desa),\n",
    "        pl.col(\"BULAN\").is_in(bulan_hingga(filter_bulan))\n",
    "    ).group_by(\n",
    "        'PROVINSI', 'BULAN'\n",
    "    ).agg([\n",
    "        pl.col(\"PUS\").sum()\n",
    "    ])\n",
    ")"
   ]
  },
  {
   "cell_type": "code",
   "execution_count": null,
   "metadata": {},
   "outputs": [],
   "source": [
    "aggregated =  data_pus.filter(\n",
    "        pl.col(\"KABUPATEN\").is_in(filter_kabupaten),\n",
    "        pl.col(\"KECAMATAN\").is_in(filter_kecamatan),\n",
    "        pl.col(\"KELURAHAN\").is_in(filter_desa),\n",
    "        pl.col(\"BULAN\").is_in(bulan_hingga(filter_bulan))\n",
    "    ).group_by(\n",
    "        'PROVINSI', 'BULAN'\n",
    "    ).agg([\n",
    "        pl.col(\"PUS\").sum()\n",
    "    ])\n",
    "\n",
    "# Mengurutkan bulan sesuai urutan kronologis\n",
    "month_order = {\n",
    "    'JANUARI': 1,\n",
    "    'FEBRUARI': 2,\n",
    "    'MARET': 3,\n",
    "    'APRIL': 4,\n",
    "    'MEI': 5,\n",
    "    'JUNI': 6,\n",
    "    'JULI': 7,\n",
    "    'AGUSTUS': 8,\n",
    "    'SEPTEMBER': 9,\n",
    "    'OKTOBER': 10,\n",
    "    'NOVEMBER': 11,\n",
    "    'DESEMBER': 12\n",
    "}\n",
    "\n",
    "aggregated = aggregated.with_columns(\n",
    "    pl.col(\"BULAN\").replace(month_order).alias(\"month_num\")\n",
    ").sort(\"month_num\").drop(\"month_num\")\n",
    "\n",
    "# Hitung nilai minimum untuk sumbu Y (Januari - 10%)\n",
    "nilai_januari = aggregated.filter(pl.col(\"BULAN\") == \"JANUARI\")[\"PUS\"][0]\n",
    "y_min = nilai_januari - (nilai_januari * 0.05)  # Januari - 10%\n",
    "max_value = aggregated[\"PUS\"].max() * 1.05\n",
    "\n",
    "fig = px.line(\n",
    "    aggregated,  # Langsung gunakan Polars DataFrame\n",
    "    x=\"BULAN\",\n",
    "    y=\"PUS\",\n",
    "    title=\"Tren Total PUS per Bulan di Sulawesi Barat\",\n",
    "    labels={\"BULAN\": \"Bulan\", \"PUS\": \"Jumlah PUS\"},\n",
    "    markers=True  # Menambahkan dot (marker) di setiap titik\n",
    ")\n",
    "fig.update_layout(showlegend=False)\n",
    "fig.update_layout(\n",
    "    paper_bgcolor=\"#f6f8fa\",\n",
    "    plot_bgcolor=\"#f6f8fa\"\n",
    ")\n",
    "# Atur rentang sumbu Y dimulai dari nilai Januari - 10%\n",
    "fig.update_yaxes(range=[y_min, max_value])  # `None` untuk batas atas otomatis\n",
    "# Menampilkan grafik\n",
    "# fig.show()"
   ]
  },
  {
   "cell_type": "code",
   "execution_count": 22,
   "metadata": {},
   "outputs": [
    {
     "data": {
      "application/vnd.plotly.v1+json": {
       "config": {
        "plotlyServerURL": "https://plot.ly"
       },
       "data": [
        {
         "hovertemplate": "Bulan = %{x}<br>Jumlah PA = %{y}",
         "legendgroup": "",
         "line": {
          "color": "#636efa",
          "dash": "solid"
         },
         "marker": {
          "symbol": "circle"
         },
         "mode": "lines+markers",
         "name": "",
         "orientation": "v",
         "showlegend": false,
         "type": "scatter",
         "x": [
          "JANUARI",
          "FEBRUARI"
         ],
         "xaxis": "x",
         "y": {
          "bdata": "WwQNBQ==",
          "dtype": "i2"
         },
         "yaxis": "y"
        }
       ],
       "layout": {
        "legend": {
         "tracegroupgap": 0
        },
        "margin": {
         "b": 50,
         "l": 50,
         "r": 50,
         "t": 80
        },
        "paper_bgcolor": "#f6f8fa",
        "plot_bgcolor": "#f6f8fa",
        "showlegend": false,
        "template": {
         "data": {
          "bar": [
           {
            "error_x": {
             "color": "#2a3f5f"
            },
            "error_y": {
             "color": "#2a3f5f"
            },
            "marker": {
             "line": {
              "color": "#E5ECF6",
              "width": 0.5
             },
             "pattern": {
              "fillmode": "overlay",
              "size": 10,
              "solidity": 0.2
             }
            },
            "type": "bar"
           }
          ],
          "barpolar": [
           {
            "marker": {
             "line": {
              "color": "#E5ECF6",
              "width": 0.5
             },
             "pattern": {
              "fillmode": "overlay",
              "size": 10,
              "solidity": 0.2
             }
            },
            "type": "barpolar"
           }
          ],
          "carpet": [
           {
            "aaxis": {
             "endlinecolor": "#2a3f5f",
             "gridcolor": "white",
             "linecolor": "white",
             "minorgridcolor": "white",
             "startlinecolor": "#2a3f5f"
            },
            "baxis": {
             "endlinecolor": "#2a3f5f",
             "gridcolor": "white",
             "linecolor": "white",
             "minorgridcolor": "white",
             "startlinecolor": "#2a3f5f"
            },
            "type": "carpet"
           }
          ],
          "choropleth": [
           {
            "colorbar": {
             "outlinewidth": 0,
             "ticks": ""
            },
            "type": "choropleth"
           }
          ],
          "contour": [
           {
            "colorbar": {
             "outlinewidth": 0,
             "ticks": ""
            },
            "colorscale": [
             [
              0,
              "#0d0887"
             ],
             [
              0.1111111111111111,
              "#46039f"
             ],
             [
              0.2222222222222222,
              "#7201a8"
             ],
             [
              0.3333333333333333,
              "#9c179e"
             ],
             [
              0.4444444444444444,
              "#bd3786"
             ],
             [
              0.5555555555555556,
              "#d8576b"
             ],
             [
              0.6666666666666666,
              "#ed7953"
             ],
             [
              0.7777777777777778,
              "#fb9f3a"
             ],
             [
              0.8888888888888888,
              "#fdca26"
             ],
             [
              1,
              "#f0f921"
             ]
            ],
            "type": "contour"
           }
          ],
          "contourcarpet": [
           {
            "colorbar": {
             "outlinewidth": 0,
             "ticks": ""
            },
            "type": "contourcarpet"
           }
          ],
          "heatmap": [
           {
            "colorbar": {
             "outlinewidth": 0,
             "ticks": ""
            },
            "colorscale": [
             [
              0,
              "#0d0887"
             ],
             [
              0.1111111111111111,
              "#46039f"
             ],
             [
              0.2222222222222222,
              "#7201a8"
             ],
             [
              0.3333333333333333,
              "#9c179e"
             ],
             [
              0.4444444444444444,
              "#bd3786"
             ],
             [
              0.5555555555555556,
              "#d8576b"
             ],
             [
              0.6666666666666666,
              "#ed7953"
             ],
             [
              0.7777777777777778,
              "#fb9f3a"
             ],
             [
              0.8888888888888888,
              "#fdca26"
             ],
             [
              1,
              "#f0f921"
             ]
            ],
            "type": "heatmap"
           }
          ],
          "histogram": [
           {
            "marker": {
             "pattern": {
              "fillmode": "overlay",
              "size": 10,
              "solidity": 0.2
             }
            },
            "type": "histogram"
           }
          ],
          "histogram2d": [
           {
            "colorbar": {
             "outlinewidth": 0,
             "ticks": ""
            },
            "colorscale": [
             [
              0,
              "#0d0887"
             ],
             [
              0.1111111111111111,
              "#46039f"
             ],
             [
              0.2222222222222222,
              "#7201a8"
             ],
             [
              0.3333333333333333,
              "#9c179e"
             ],
             [
              0.4444444444444444,
              "#bd3786"
             ],
             [
              0.5555555555555556,
              "#d8576b"
             ],
             [
              0.6666666666666666,
              "#ed7953"
             ],
             [
              0.7777777777777778,
              "#fb9f3a"
             ],
             [
              0.8888888888888888,
              "#fdca26"
             ],
             [
              1,
              "#f0f921"
             ]
            ],
            "type": "histogram2d"
           }
          ],
          "histogram2dcontour": [
           {
            "colorbar": {
             "outlinewidth": 0,
             "ticks": ""
            },
            "colorscale": [
             [
              0,
              "#0d0887"
             ],
             [
              0.1111111111111111,
              "#46039f"
             ],
             [
              0.2222222222222222,
              "#7201a8"
             ],
             [
              0.3333333333333333,
              "#9c179e"
             ],
             [
              0.4444444444444444,
              "#bd3786"
             ],
             [
              0.5555555555555556,
              "#d8576b"
             ],
             [
              0.6666666666666666,
              "#ed7953"
             ],
             [
              0.7777777777777778,
              "#fb9f3a"
             ],
             [
              0.8888888888888888,
              "#fdca26"
             ],
             [
              1,
              "#f0f921"
             ]
            ],
            "type": "histogram2dcontour"
           }
          ],
          "mesh3d": [
           {
            "colorbar": {
             "outlinewidth": 0,
             "ticks": ""
            },
            "type": "mesh3d"
           }
          ],
          "parcoords": [
           {
            "line": {
             "colorbar": {
              "outlinewidth": 0,
              "ticks": ""
             }
            },
            "type": "parcoords"
           }
          ],
          "pie": [
           {
            "automargin": true,
            "type": "pie"
           }
          ],
          "scatter": [
           {
            "fillpattern": {
             "fillmode": "overlay",
             "size": 10,
             "solidity": 0.2
            },
            "type": "scatter"
           }
          ],
          "scatter3d": [
           {
            "line": {
             "colorbar": {
              "outlinewidth": 0,
              "ticks": ""
             }
            },
            "marker": {
             "colorbar": {
              "outlinewidth": 0,
              "ticks": ""
             }
            },
            "type": "scatter3d"
           }
          ],
          "scattercarpet": [
           {
            "marker": {
             "colorbar": {
              "outlinewidth": 0,
              "ticks": ""
             }
            },
            "type": "scattercarpet"
           }
          ],
          "scattergeo": [
           {
            "marker": {
             "colorbar": {
              "outlinewidth": 0,
              "ticks": ""
             }
            },
            "type": "scattergeo"
           }
          ],
          "scattergl": [
           {
            "marker": {
             "colorbar": {
              "outlinewidth": 0,
              "ticks": ""
             }
            },
            "type": "scattergl"
           }
          ],
          "scattermap": [
           {
            "marker": {
             "colorbar": {
              "outlinewidth": 0,
              "ticks": ""
             }
            },
            "type": "scattermap"
           }
          ],
          "scattermapbox": [
           {
            "marker": {
             "colorbar": {
              "outlinewidth": 0,
              "ticks": ""
             }
            },
            "type": "scattermapbox"
           }
          ],
          "scatterpolar": [
           {
            "marker": {
             "colorbar": {
              "outlinewidth": 0,
              "ticks": ""
             }
            },
            "type": "scatterpolar"
           }
          ],
          "scatterpolargl": [
           {
            "marker": {
             "colorbar": {
              "outlinewidth": 0,
              "ticks": ""
             }
            },
            "type": "scatterpolargl"
           }
          ],
          "scatterternary": [
           {
            "marker": {
             "colorbar": {
              "outlinewidth": 0,
              "ticks": ""
             }
            },
            "type": "scatterternary"
           }
          ],
          "surface": [
           {
            "colorbar": {
             "outlinewidth": 0,
             "ticks": ""
            },
            "colorscale": [
             [
              0,
              "#0d0887"
             ],
             [
              0.1111111111111111,
              "#46039f"
             ],
             [
              0.2222222222222222,
              "#7201a8"
             ],
             [
              0.3333333333333333,
              "#9c179e"
             ],
             [
              0.4444444444444444,
              "#bd3786"
             ],
             [
              0.5555555555555556,
              "#d8576b"
             ],
             [
              0.6666666666666666,
              "#ed7953"
             ],
             [
              0.7777777777777778,
              "#fb9f3a"
             ],
             [
              0.8888888888888888,
              "#fdca26"
             ],
             [
              1,
              "#f0f921"
             ]
            ],
            "type": "surface"
           }
          ],
          "table": [
           {
            "cells": {
             "fill": {
              "color": "#EBF0F8"
             },
             "line": {
              "color": "white"
             }
            },
            "header": {
             "fill": {
              "color": "#C8D4E3"
             },
             "line": {
              "color": "white"
             }
            },
            "type": "table"
           }
          ]
         },
         "layout": {
          "annotationdefaults": {
           "arrowcolor": "#2a3f5f",
           "arrowhead": 0,
           "arrowwidth": 1
          },
          "autotypenumbers": "strict",
          "coloraxis": {
           "colorbar": {
            "outlinewidth": 0,
            "ticks": ""
           }
          },
          "colorscale": {
           "diverging": [
            [
             0,
             "#8e0152"
            ],
            [
             0.1,
             "#c51b7d"
            ],
            [
             0.2,
             "#de77ae"
            ],
            [
             0.3,
             "#f1b6da"
            ],
            [
             0.4,
             "#fde0ef"
            ],
            [
             0.5,
             "#f7f7f7"
            ],
            [
             0.6,
             "#e6f5d0"
            ],
            [
             0.7,
             "#b8e186"
            ],
            [
             0.8,
             "#7fbc41"
            ],
            [
             0.9,
             "#4d9221"
            ],
            [
             1,
             "#276419"
            ]
           ],
           "sequential": [
            [
             0,
             "#0d0887"
            ],
            [
             0.1111111111111111,
             "#46039f"
            ],
            [
             0.2222222222222222,
             "#7201a8"
            ],
            [
             0.3333333333333333,
             "#9c179e"
            ],
            [
             0.4444444444444444,
             "#bd3786"
            ],
            [
             0.5555555555555556,
             "#d8576b"
            ],
            [
             0.6666666666666666,
             "#ed7953"
            ],
            [
             0.7777777777777778,
             "#fb9f3a"
            ],
            [
             0.8888888888888888,
             "#fdca26"
            ],
            [
             1,
             "#f0f921"
            ]
           ],
           "sequentialminus": [
            [
             0,
             "#0d0887"
            ],
            [
             0.1111111111111111,
             "#46039f"
            ],
            [
             0.2222222222222222,
             "#7201a8"
            ],
            [
             0.3333333333333333,
             "#9c179e"
            ],
            [
             0.4444444444444444,
             "#bd3786"
            ],
            [
             0.5555555555555556,
             "#d8576b"
            ],
            [
             0.6666666666666666,
             "#ed7953"
            ],
            [
             0.7777777777777778,
             "#fb9f3a"
            ],
            [
             0.8888888888888888,
             "#fdca26"
            ],
            [
             1,
             "#f0f921"
            ]
           ]
          },
          "colorway": [
           "#636efa",
           "#EF553B",
           "#00cc96",
           "#ab63fa",
           "#FFA15A",
           "#19d3f3",
           "#FF6692",
           "#B6E880",
           "#FF97FF",
           "#FECB52"
          ],
          "font": {
           "color": "#2a3f5f"
          },
          "geo": {
           "bgcolor": "white",
           "lakecolor": "white",
           "landcolor": "#E5ECF6",
           "showlakes": true,
           "showland": true,
           "subunitcolor": "white"
          },
          "hoverlabel": {
           "align": "left"
          },
          "hovermode": "closest",
          "mapbox": {
           "style": "light"
          },
          "paper_bgcolor": "white",
          "plot_bgcolor": "#E5ECF6",
          "polar": {
           "angularaxis": {
            "gridcolor": "white",
            "linecolor": "white",
            "ticks": ""
           },
           "bgcolor": "#E5ECF6",
           "radialaxis": {
            "gridcolor": "white",
            "linecolor": "white",
            "ticks": ""
           }
          },
          "scene": {
           "xaxis": {
            "backgroundcolor": "#E5ECF6",
            "gridcolor": "white",
            "gridwidth": 2,
            "linecolor": "white",
            "showbackground": true,
            "ticks": "",
            "zerolinecolor": "white"
           },
           "yaxis": {
            "backgroundcolor": "#E5ECF6",
            "gridcolor": "white",
            "gridwidth": 2,
            "linecolor": "white",
            "showbackground": true,
            "ticks": "",
            "zerolinecolor": "white"
           },
           "zaxis": {
            "backgroundcolor": "#E5ECF6",
            "gridcolor": "white",
            "gridwidth": 2,
            "linecolor": "white",
            "showbackground": true,
            "ticks": "",
            "zerolinecolor": "white"
           }
          },
          "shapedefaults": {
           "line": {
            "color": "#2a3f5f"
           }
          },
          "ternary": {
           "aaxis": {
            "gridcolor": "white",
            "linecolor": "white",
            "ticks": ""
           },
           "baxis": {
            "gridcolor": "white",
            "linecolor": "white",
            "ticks": ""
           },
           "bgcolor": "#E5ECF6",
           "caxis": {
            "gridcolor": "white",
            "linecolor": "white",
            "ticks": ""
           }
          },
          "title": {
           "x": 0.05
          },
          "xaxis": {
           "automargin": true,
           "gridcolor": "white",
           "linecolor": "white",
           "ticks": "",
           "title": {
            "standoff": 15
           },
           "zerolinecolor": "white",
           "zerolinewidth": 2
          },
          "yaxis": {
           "automargin": true,
           "gridcolor": "white",
           "linecolor": "white",
           "ticks": "",
           "title": {
            "standoff": 15
           },
           "zerolinecolor": "white",
           "zerolinewidth": 2
          }
         }
        },
        "title": {
         "text": "Tren Total PA"
        },
        "xaxis": {
         "anchor": "y",
         "domain": [
          0,
          1
         ],
         "title": {
          "text": "Bulan"
         }
        },
        "yaxis": {
         "anchor": "x",
         "domain": [
          0,
          1
         ],
         "range": [
          1059.25,
          1357.65
         ],
         "tickformat": ",.0f",
         "title": {
          "text": "Jumlah PA"
         }
        }
       }
      }
     },
     "metadata": {},
     "output_type": "display_data"
    }
   ],
   "source": [
    "aggregated =  data_mix.filter(\n",
    "        pl.col(\"KABUPATEN\").is_in(filter_kabupaten),\n",
    "        pl.col(\"KECAMATAN\").is_in(filter_kecamatan),\n",
    "        pl.col(\"KELURAHAN\").is_in(filter_desa),\n",
    "        pl.col(\"BULAN\").is_in(bulan_hingga(filter_bulan))\n",
    "    ).group_by(\n",
    "        'PROVINSI', 'BULAN'\n",
    "    ).agg([\n",
    "        pl.col(\"PA\").sum()\n",
    "    ])\n",
    "\n",
    "# Mengurutkan bulan sesuai urutan kronologis\n",
    "month_order = {\n",
    "    'JANUARI': 1,\n",
    "    'FEBRUARI': 2,\n",
    "    'MARET': 3,\n",
    "    'APRIL': 4,\n",
    "    'MEI': 5,\n",
    "    'JUNI': 6,\n",
    "    'JULI': 7,\n",
    "    'AGUSTUS': 8,\n",
    "    'SEPTEMBER': 9,\n",
    "    'OKTOBER': 10,\n",
    "    'NOVEMBER': 11,\n",
    "    'DESEMBER': 12\n",
    "}\n",
    "\n",
    "aggregated = aggregated.with_columns(\n",
    "    pl.col(\"BULAN\").replace(month_order).alias(\"month_num\")\n",
    ").sort(\"month_num\").drop(\"month_num\")\n",
    "\n",
    "# Hitung nilai minimum untuk sumbu Y (Januari - 10%)\n",
    "nilai_januari = aggregated.filter(pl.col(\"BULAN\") == \"JANUARI\")[\"PA\"][0]\n",
    "y_min = nilai_januari - (nilai_januari * 0.05)  # Januari - 10%\n",
    "max_value = aggregated[\"PA\"].max() * 1.05\n",
    "\n",
    "fig = px.line(\n",
    "    aggregated,  # Langsung gunakan Polars DataFrame\n",
    "    x=\"BULAN\",\n",
    "    y=\"PA\",\n",
    "    title=\"Tren Total PA\",\n",
    "    labels={\"BULAN\": \"Bulan\", \"PA\": \"Jumlah PA\"},\n",
    "    markers=True  # Menambahkan dot (marker) di setiap titik\n",
    ")\n",
    "fig.update_yaxes(\n",
    "    range=[y_min, max_value],\n",
    "    tickformat=\",.0f\")  # `None` untuk batas atas otomatis \n",
    "\n",
    "fig.update_layout(\n",
    "    showlegend=False,\n",
    "    paper_bgcolor=\"#f6f8fa\",\n",
    "    plot_bgcolor=\"#f6f8fa\",\n",
    "    margin=dict(l=50, r=50, t=80, b=50)  # Padding: kiri, kanan, atas, bawah\n",
    ")\n",
    "fig.update_traces(\n",
    "    hovertemplate=\"Bulan = %{x}<br>Jumlah PA = %{y}\"\n",
    ")"
   ]
  },
  {
   "cell_type": "code",
   "execution_count": 10,
   "metadata": {},
   "outputs": [
    {
     "data": {
      "application/vnd.plotly.v1+json": {
       "config": {
        "plotlyServerURL": "https://plot.ly"
       },
       "data": [
        {
         "hovertemplate": "Bulan = %{x}<br>Persentase MKJP = %{y}%",
         "legendgroup": "",
         "line": {
          "color": "#636efa",
          "dash": "solid"
         },
         "marker": {
          "symbol": "circle"
         },
         "mode": "lines+markers",
         "name": "",
         "orientation": "v",
         "showlegend": false,
         "type": "scatter",
         "x": [
          "JANUARI",
          "FEBRUARI"
         ],
         "xaxis": "x",
         "y": {
          "bdata": "w/UoXI8COkAAAAAAAAA5QA==",
          "dtype": "f8"
         },
         "yaxis": "y"
        }
       ],
       "layout": {
        "legend": {
         "tracegroupgap": 0
        },
        "margin": {
         "b": 50,
         "l": 50,
         "r": 50,
         "t": 80
        },
        "paper_bgcolor": "#f6f8fa",
        "plot_bgcolor": "#f6f8fa",
        "showlegend": false,
        "template": {
         "data": {
          "bar": [
           {
            "error_x": {
             "color": "#2a3f5f"
            },
            "error_y": {
             "color": "#2a3f5f"
            },
            "marker": {
             "line": {
              "color": "#E5ECF6",
              "width": 0.5
             },
             "pattern": {
              "fillmode": "overlay",
              "size": 10,
              "solidity": 0.2
             }
            },
            "type": "bar"
           }
          ],
          "barpolar": [
           {
            "marker": {
             "line": {
              "color": "#E5ECF6",
              "width": 0.5
             },
             "pattern": {
              "fillmode": "overlay",
              "size": 10,
              "solidity": 0.2
             }
            },
            "type": "barpolar"
           }
          ],
          "carpet": [
           {
            "aaxis": {
             "endlinecolor": "#2a3f5f",
             "gridcolor": "white",
             "linecolor": "white",
             "minorgridcolor": "white",
             "startlinecolor": "#2a3f5f"
            },
            "baxis": {
             "endlinecolor": "#2a3f5f",
             "gridcolor": "white",
             "linecolor": "white",
             "minorgridcolor": "white",
             "startlinecolor": "#2a3f5f"
            },
            "type": "carpet"
           }
          ],
          "choropleth": [
           {
            "colorbar": {
             "outlinewidth": 0,
             "ticks": ""
            },
            "type": "choropleth"
           }
          ],
          "contour": [
           {
            "colorbar": {
             "outlinewidth": 0,
             "ticks": ""
            },
            "colorscale": [
             [
              0,
              "#0d0887"
             ],
             [
              0.1111111111111111,
              "#46039f"
             ],
             [
              0.2222222222222222,
              "#7201a8"
             ],
             [
              0.3333333333333333,
              "#9c179e"
             ],
             [
              0.4444444444444444,
              "#bd3786"
             ],
             [
              0.5555555555555556,
              "#d8576b"
             ],
             [
              0.6666666666666666,
              "#ed7953"
             ],
             [
              0.7777777777777778,
              "#fb9f3a"
             ],
             [
              0.8888888888888888,
              "#fdca26"
             ],
             [
              1,
              "#f0f921"
             ]
            ],
            "type": "contour"
           }
          ],
          "contourcarpet": [
           {
            "colorbar": {
             "outlinewidth": 0,
             "ticks": ""
            },
            "type": "contourcarpet"
           }
          ],
          "heatmap": [
           {
            "colorbar": {
             "outlinewidth": 0,
             "ticks": ""
            },
            "colorscale": [
             [
              0,
              "#0d0887"
             ],
             [
              0.1111111111111111,
              "#46039f"
             ],
             [
              0.2222222222222222,
              "#7201a8"
             ],
             [
              0.3333333333333333,
              "#9c179e"
             ],
             [
              0.4444444444444444,
              "#bd3786"
             ],
             [
              0.5555555555555556,
              "#d8576b"
             ],
             [
              0.6666666666666666,
              "#ed7953"
             ],
             [
              0.7777777777777778,
              "#fb9f3a"
             ],
             [
              0.8888888888888888,
              "#fdca26"
             ],
             [
              1,
              "#f0f921"
             ]
            ],
            "type": "heatmap"
           }
          ],
          "histogram": [
           {
            "marker": {
             "pattern": {
              "fillmode": "overlay",
              "size": 10,
              "solidity": 0.2
             }
            },
            "type": "histogram"
           }
          ],
          "histogram2d": [
           {
            "colorbar": {
             "outlinewidth": 0,
             "ticks": ""
            },
            "colorscale": [
             [
              0,
              "#0d0887"
             ],
             [
              0.1111111111111111,
              "#46039f"
             ],
             [
              0.2222222222222222,
              "#7201a8"
             ],
             [
              0.3333333333333333,
              "#9c179e"
             ],
             [
              0.4444444444444444,
              "#bd3786"
             ],
             [
              0.5555555555555556,
              "#d8576b"
             ],
             [
              0.6666666666666666,
              "#ed7953"
             ],
             [
              0.7777777777777778,
              "#fb9f3a"
             ],
             [
              0.8888888888888888,
              "#fdca26"
             ],
             [
              1,
              "#f0f921"
             ]
            ],
            "type": "histogram2d"
           }
          ],
          "histogram2dcontour": [
           {
            "colorbar": {
             "outlinewidth": 0,
             "ticks": ""
            },
            "colorscale": [
             [
              0,
              "#0d0887"
             ],
             [
              0.1111111111111111,
              "#46039f"
             ],
             [
              0.2222222222222222,
              "#7201a8"
             ],
             [
              0.3333333333333333,
              "#9c179e"
             ],
             [
              0.4444444444444444,
              "#bd3786"
             ],
             [
              0.5555555555555556,
              "#d8576b"
             ],
             [
              0.6666666666666666,
              "#ed7953"
             ],
             [
              0.7777777777777778,
              "#fb9f3a"
             ],
             [
              0.8888888888888888,
              "#fdca26"
             ],
             [
              1,
              "#f0f921"
             ]
            ],
            "type": "histogram2dcontour"
           }
          ],
          "mesh3d": [
           {
            "colorbar": {
             "outlinewidth": 0,
             "ticks": ""
            },
            "type": "mesh3d"
           }
          ],
          "parcoords": [
           {
            "line": {
             "colorbar": {
              "outlinewidth": 0,
              "ticks": ""
             }
            },
            "type": "parcoords"
           }
          ],
          "pie": [
           {
            "automargin": true,
            "type": "pie"
           }
          ],
          "scatter": [
           {
            "fillpattern": {
             "fillmode": "overlay",
             "size": 10,
             "solidity": 0.2
            },
            "type": "scatter"
           }
          ],
          "scatter3d": [
           {
            "line": {
             "colorbar": {
              "outlinewidth": 0,
              "ticks": ""
             }
            },
            "marker": {
             "colorbar": {
              "outlinewidth": 0,
              "ticks": ""
             }
            },
            "type": "scatter3d"
           }
          ],
          "scattercarpet": [
           {
            "marker": {
             "colorbar": {
              "outlinewidth": 0,
              "ticks": ""
             }
            },
            "type": "scattercarpet"
           }
          ],
          "scattergeo": [
           {
            "marker": {
             "colorbar": {
              "outlinewidth": 0,
              "ticks": ""
             }
            },
            "type": "scattergeo"
           }
          ],
          "scattergl": [
           {
            "marker": {
             "colorbar": {
              "outlinewidth": 0,
              "ticks": ""
             }
            },
            "type": "scattergl"
           }
          ],
          "scattermap": [
           {
            "marker": {
             "colorbar": {
              "outlinewidth": 0,
              "ticks": ""
             }
            },
            "type": "scattermap"
           }
          ],
          "scattermapbox": [
           {
            "marker": {
             "colorbar": {
              "outlinewidth": 0,
              "ticks": ""
             }
            },
            "type": "scattermapbox"
           }
          ],
          "scatterpolar": [
           {
            "marker": {
             "colorbar": {
              "outlinewidth": 0,
              "ticks": ""
             }
            },
            "type": "scatterpolar"
           }
          ],
          "scatterpolargl": [
           {
            "marker": {
             "colorbar": {
              "outlinewidth": 0,
              "ticks": ""
             }
            },
            "type": "scatterpolargl"
           }
          ],
          "scatterternary": [
           {
            "marker": {
             "colorbar": {
              "outlinewidth": 0,
              "ticks": ""
             }
            },
            "type": "scatterternary"
           }
          ],
          "surface": [
           {
            "colorbar": {
             "outlinewidth": 0,
             "ticks": ""
            },
            "colorscale": [
             [
              0,
              "#0d0887"
             ],
             [
              0.1111111111111111,
              "#46039f"
             ],
             [
              0.2222222222222222,
              "#7201a8"
             ],
             [
              0.3333333333333333,
              "#9c179e"
             ],
             [
              0.4444444444444444,
              "#bd3786"
             ],
             [
              0.5555555555555556,
              "#d8576b"
             ],
             [
              0.6666666666666666,
              "#ed7953"
             ],
             [
              0.7777777777777778,
              "#fb9f3a"
             ],
             [
              0.8888888888888888,
              "#fdca26"
             ],
             [
              1,
              "#f0f921"
             ]
            ],
            "type": "surface"
           }
          ],
          "table": [
           {
            "cells": {
             "fill": {
              "color": "#EBF0F8"
             },
             "line": {
              "color": "white"
             }
            },
            "header": {
             "fill": {
              "color": "#C8D4E3"
             },
             "line": {
              "color": "white"
             }
            },
            "type": "table"
           }
          ]
         },
         "layout": {
          "annotationdefaults": {
           "arrowcolor": "#2a3f5f",
           "arrowhead": 0,
           "arrowwidth": 1
          },
          "autotypenumbers": "strict",
          "coloraxis": {
           "colorbar": {
            "outlinewidth": 0,
            "ticks": ""
           }
          },
          "colorscale": {
           "diverging": [
            [
             0,
             "#8e0152"
            ],
            [
             0.1,
             "#c51b7d"
            ],
            [
             0.2,
             "#de77ae"
            ],
            [
             0.3,
             "#f1b6da"
            ],
            [
             0.4,
             "#fde0ef"
            ],
            [
             0.5,
             "#f7f7f7"
            ],
            [
             0.6,
             "#e6f5d0"
            ],
            [
             0.7,
             "#b8e186"
            ],
            [
             0.8,
             "#7fbc41"
            ],
            [
             0.9,
             "#4d9221"
            ],
            [
             1,
             "#276419"
            ]
           ],
           "sequential": [
            [
             0,
             "#0d0887"
            ],
            [
             0.1111111111111111,
             "#46039f"
            ],
            [
             0.2222222222222222,
             "#7201a8"
            ],
            [
             0.3333333333333333,
             "#9c179e"
            ],
            [
             0.4444444444444444,
             "#bd3786"
            ],
            [
             0.5555555555555556,
             "#d8576b"
            ],
            [
             0.6666666666666666,
             "#ed7953"
            ],
            [
             0.7777777777777778,
             "#fb9f3a"
            ],
            [
             0.8888888888888888,
             "#fdca26"
            ],
            [
             1,
             "#f0f921"
            ]
           ],
           "sequentialminus": [
            [
             0,
             "#0d0887"
            ],
            [
             0.1111111111111111,
             "#46039f"
            ],
            [
             0.2222222222222222,
             "#7201a8"
            ],
            [
             0.3333333333333333,
             "#9c179e"
            ],
            [
             0.4444444444444444,
             "#bd3786"
            ],
            [
             0.5555555555555556,
             "#d8576b"
            ],
            [
             0.6666666666666666,
             "#ed7953"
            ],
            [
             0.7777777777777778,
             "#fb9f3a"
            ],
            [
             0.8888888888888888,
             "#fdca26"
            ],
            [
             1,
             "#f0f921"
            ]
           ]
          },
          "colorway": [
           "#636efa",
           "#EF553B",
           "#00cc96",
           "#ab63fa",
           "#FFA15A",
           "#19d3f3",
           "#FF6692",
           "#B6E880",
           "#FF97FF",
           "#FECB52"
          ],
          "font": {
           "color": "#2a3f5f"
          },
          "geo": {
           "bgcolor": "white",
           "lakecolor": "white",
           "landcolor": "#E5ECF6",
           "showlakes": true,
           "showland": true,
           "subunitcolor": "white"
          },
          "hoverlabel": {
           "align": "left"
          },
          "hovermode": "closest",
          "mapbox": {
           "style": "light"
          },
          "paper_bgcolor": "white",
          "plot_bgcolor": "#E5ECF6",
          "polar": {
           "angularaxis": {
            "gridcolor": "white",
            "linecolor": "white",
            "ticks": ""
           },
           "bgcolor": "#E5ECF6",
           "radialaxis": {
            "gridcolor": "white",
            "linecolor": "white",
            "ticks": ""
           }
          },
          "scene": {
           "xaxis": {
            "backgroundcolor": "#E5ECF6",
            "gridcolor": "white",
            "gridwidth": 2,
            "linecolor": "white",
            "showbackground": true,
            "ticks": "",
            "zerolinecolor": "white"
           },
           "yaxis": {
            "backgroundcolor": "#E5ECF6",
            "gridcolor": "white",
            "gridwidth": 2,
            "linecolor": "white",
            "showbackground": true,
            "ticks": "",
            "zerolinecolor": "white"
           },
           "zaxis": {
            "backgroundcolor": "#E5ECF6",
            "gridcolor": "white",
            "gridwidth": 2,
            "linecolor": "white",
            "showbackground": true,
            "ticks": "",
            "zerolinecolor": "white"
           }
          },
          "shapedefaults": {
           "line": {
            "color": "#2a3f5f"
           }
          },
          "ternary": {
           "aaxis": {
            "gridcolor": "white",
            "linecolor": "white",
            "ticks": ""
           },
           "baxis": {
            "gridcolor": "white",
            "linecolor": "white",
            "ticks": ""
           },
           "bgcolor": "#E5ECF6",
           "caxis": {
            "gridcolor": "white",
            "linecolor": "white",
            "ticks": ""
           }
          },
          "title": {
           "x": 0.05
          },
          "xaxis": {
           "automargin": true,
           "gridcolor": "white",
           "linecolor": "white",
           "ticks": "",
           "title": {
            "standoff": 15
           },
           "zerolinecolor": "white",
           "zerolinewidth": 2
          },
          "yaxis": {
           "automargin": true,
           "gridcolor": "white",
           "linecolor": "white",
           "ticks": "",
           "title": {
            "standoff": 15
           },
           "zerolinecolor": "white",
           "zerolinewidth": 2
          }
         }
        },
        "title": {
         "text": "Tren Total PA"
        },
        "xaxis": {
         "anchor": "y",
         "domain": [
          0,
          1
         ],
         "title": {
          "text": "Bulan"
         }
        },
        "yaxis": {
         "anchor": "x",
         "domain": [
          0,
          1
         ],
         "range": [
          24.709500000000002,
          27.3105
         ],
         "tickformat": ",.0f",
         "title": {
          "text": "MKJP"
         }
        }
       }
      }
     },
     "metadata": {},
     "output_type": "display_data"
    }
   ],
   "source": [
    "aggregated = data_mix.filter(\n",
    "    pl.col(\"KABUPATEN\").is_in(filter_kabupaten),\n",
    "    pl.col(\"KECAMATAN\").is_in(filter_kecamatan),\n",
    "    pl.col(\"KELURAHAN\").is_in(filter_desa),\n",
    "    pl.col(\"BULAN\").is_in(bulan_hingga(filter_bulan))\n",
    ").group_by('PROVINSI', \"BULAN\").agg([\n",
    "    pl.col(\"IMPLAN\").sum(),\n",
    "    pl.col(\"IUD\").sum(),\n",
    "    pl.col(\"VASEKTOMI\").sum(),\n",
    "    pl.col(\"TUBEKTOMI\").sum(),\n",
    "    pl.col(\"KB MODERN\").sum()\n",
    "]).with_columns(\n",
    "    (((pl.col(\"IUD\") + pl.col(\"IMPLAN\") + pl.col(\"VASEKTOMI\") + pl.col(\"TUBEKTOMI\")) / pl.col(\"KB MODERN\"))* 100).round(2).alias('MKJP')\n",
    ")\n",
    "\n",
    "# Mengurutkan bulan sesuai urutan kronologis\n",
    "month_order = {\n",
    "    'JANUARI': 1,\n",
    "    'FEBRUARI': 2,\n",
    "    'MARET': 3,\n",
    "    'APRIL': 4,\n",
    "    'MEI': 5,\n",
    "    'JUNI': 6,\n",
    "    'JULI': 7,\n",
    "    'AGUSTUS': 8,\n",
    "    'SEPTEMBER': 9,\n",
    "    'OKTOBER': 10,\n",
    "    'NOVEMBER': 11,\n",
    "    'DESEMBER': 12\n",
    "}\n",
    "\n",
    "aggregated = aggregated.with_columns(\n",
    "    pl.col(\"BULAN\").replace(month_order).alias(\"month_num\")\n",
    ").sort(\"month_num\").drop(\"month_num\")\n",
    "\n",
    "# Hitung nilai minimum untuk sumbu Y (Januari - 10%)\n",
    "nilai_januari = aggregated.filter(pl.col(\"BULAN\") == \"JANUARI\")[\"MKJP\"][0]\n",
    "y_min = nilai_januari - (nilai_januari * 0.05)  # Januari - 10%\n",
    "max_value = aggregated[\"MKJP\"].max() * 1.05\n",
    "\n",
    "fig = px.line(\n",
    "    aggregated,  # Langsung gunakan Polars DataFrame\n",
    "    x=\"BULAN\",\n",
    "    y=\"MKJP\",\n",
    "    title=\"Tren Total PA\",\n",
    "    labels={\"BULAN\": \"Bulan\", \"PA\": \"Persentase MKJP\"},\n",
    "    markers=True  # Menambahkan dot (marker) di setiap titik\n",
    ")\n",
    "fig.update_yaxes(\n",
    "    range=[y_min, max_value],\n",
    "    tickformat=\",.0f\")  # `None` untuk batas atas otomatis \n",
    "\n",
    "fig.update_layout(\n",
    "    showlegend=False,\n",
    "    paper_bgcolor=\"#f6f8fa\",\n",
    "    plot_bgcolor=\"#f6f8fa\",\n",
    "    margin=dict(l=50, r=50, t=80, b=50)  # Padding: kiri, kanan, atas, bawah\n",
    ")\n",
    "fig.update_traces(\n",
    "    hovertemplate=\"Bulan = %{x}<br>Persentase MKJP = %{y}%\"\n",
    ")"
   ]
  },
  {
   "cell_type": "code",
   "execution_count": 18,
   "metadata": {},
   "outputs": [
    {
     "data": {
      "application/vnd.plotly.v1+json": {
       "config": {
        "plotlyServerURL": "https://plot.ly"
       },
       "data": [
        {
         "hovertemplate": "Bulan = %{x}<br>Persentase Unmet Need = %{y}%",
         "legendgroup": "",
         "line": {
          "color": "#636efa",
          "dash": "solid"
         },
         "marker": {
          "symbol": "circle"
         },
         "mode": "lines+markers",
         "name": "",
         "orientation": "v",
         "showlegend": false,
         "type": "scatter",
         "x": [
          "JANUARI",
          "FEBRUARI"
         ],
         "xaxis": "x",
         "y": {
          "bdata": "4QF7fiaGIUBw2NH0clshQA==",
          "dtype": "f8"
         },
         "yaxis": "y"
        }
       ],
       "layout": {
        "legend": {
         "tracegroupgap": 0
        },
        "margin": {
         "b": 50,
         "l": 50,
         "r": 50,
         "t": 80
        },
        "paper_bgcolor": "#f6f8fa",
        "plot_bgcolor": "#f6f8fa",
        "showlegend": false,
        "template": {
         "data": {
          "bar": [
           {
            "error_x": {
             "color": "#2a3f5f"
            },
            "error_y": {
             "color": "#2a3f5f"
            },
            "marker": {
             "line": {
              "color": "#E5ECF6",
              "width": 0.5
             },
             "pattern": {
              "fillmode": "overlay",
              "size": 10,
              "solidity": 0.2
             }
            },
            "type": "bar"
           }
          ],
          "barpolar": [
           {
            "marker": {
             "line": {
              "color": "#E5ECF6",
              "width": 0.5
             },
             "pattern": {
              "fillmode": "overlay",
              "size": 10,
              "solidity": 0.2
             }
            },
            "type": "barpolar"
           }
          ],
          "carpet": [
           {
            "aaxis": {
             "endlinecolor": "#2a3f5f",
             "gridcolor": "white",
             "linecolor": "white",
             "minorgridcolor": "white",
             "startlinecolor": "#2a3f5f"
            },
            "baxis": {
             "endlinecolor": "#2a3f5f",
             "gridcolor": "white",
             "linecolor": "white",
             "minorgridcolor": "white",
             "startlinecolor": "#2a3f5f"
            },
            "type": "carpet"
           }
          ],
          "choropleth": [
           {
            "colorbar": {
             "outlinewidth": 0,
             "ticks": ""
            },
            "type": "choropleth"
           }
          ],
          "contour": [
           {
            "colorbar": {
             "outlinewidth": 0,
             "ticks": ""
            },
            "colorscale": [
             [
              0,
              "#0d0887"
             ],
             [
              0.1111111111111111,
              "#46039f"
             ],
             [
              0.2222222222222222,
              "#7201a8"
             ],
             [
              0.3333333333333333,
              "#9c179e"
             ],
             [
              0.4444444444444444,
              "#bd3786"
             ],
             [
              0.5555555555555556,
              "#d8576b"
             ],
             [
              0.6666666666666666,
              "#ed7953"
             ],
             [
              0.7777777777777778,
              "#fb9f3a"
             ],
             [
              0.8888888888888888,
              "#fdca26"
             ],
             [
              1,
              "#f0f921"
             ]
            ],
            "type": "contour"
           }
          ],
          "contourcarpet": [
           {
            "colorbar": {
             "outlinewidth": 0,
             "ticks": ""
            },
            "type": "contourcarpet"
           }
          ],
          "heatmap": [
           {
            "colorbar": {
             "outlinewidth": 0,
             "ticks": ""
            },
            "colorscale": [
             [
              0,
              "#0d0887"
             ],
             [
              0.1111111111111111,
              "#46039f"
             ],
             [
              0.2222222222222222,
              "#7201a8"
             ],
             [
              0.3333333333333333,
              "#9c179e"
             ],
             [
              0.4444444444444444,
              "#bd3786"
             ],
             [
              0.5555555555555556,
              "#d8576b"
             ],
             [
              0.6666666666666666,
              "#ed7953"
             ],
             [
              0.7777777777777778,
              "#fb9f3a"
             ],
             [
              0.8888888888888888,
              "#fdca26"
             ],
             [
              1,
              "#f0f921"
             ]
            ],
            "type": "heatmap"
           }
          ],
          "histogram": [
           {
            "marker": {
             "pattern": {
              "fillmode": "overlay",
              "size": 10,
              "solidity": 0.2
             }
            },
            "type": "histogram"
           }
          ],
          "histogram2d": [
           {
            "colorbar": {
             "outlinewidth": 0,
             "ticks": ""
            },
            "colorscale": [
             [
              0,
              "#0d0887"
             ],
             [
              0.1111111111111111,
              "#46039f"
             ],
             [
              0.2222222222222222,
              "#7201a8"
             ],
             [
              0.3333333333333333,
              "#9c179e"
             ],
             [
              0.4444444444444444,
              "#bd3786"
             ],
             [
              0.5555555555555556,
              "#d8576b"
             ],
             [
              0.6666666666666666,
              "#ed7953"
             ],
             [
              0.7777777777777778,
              "#fb9f3a"
             ],
             [
              0.8888888888888888,
              "#fdca26"
             ],
             [
              1,
              "#f0f921"
             ]
            ],
            "type": "histogram2d"
           }
          ],
          "histogram2dcontour": [
           {
            "colorbar": {
             "outlinewidth": 0,
             "ticks": ""
            },
            "colorscale": [
             [
              0,
              "#0d0887"
             ],
             [
              0.1111111111111111,
              "#46039f"
             ],
             [
              0.2222222222222222,
              "#7201a8"
             ],
             [
              0.3333333333333333,
              "#9c179e"
             ],
             [
              0.4444444444444444,
              "#bd3786"
             ],
             [
              0.5555555555555556,
              "#d8576b"
             ],
             [
              0.6666666666666666,
              "#ed7953"
             ],
             [
              0.7777777777777778,
              "#fb9f3a"
             ],
             [
              0.8888888888888888,
              "#fdca26"
             ],
             [
              1,
              "#f0f921"
             ]
            ],
            "type": "histogram2dcontour"
           }
          ],
          "mesh3d": [
           {
            "colorbar": {
             "outlinewidth": 0,
             "ticks": ""
            },
            "type": "mesh3d"
           }
          ],
          "parcoords": [
           {
            "line": {
             "colorbar": {
              "outlinewidth": 0,
              "ticks": ""
             }
            },
            "type": "parcoords"
           }
          ],
          "pie": [
           {
            "automargin": true,
            "type": "pie"
           }
          ],
          "scatter": [
           {
            "fillpattern": {
             "fillmode": "overlay",
             "size": 10,
             "solidity": 0.2
            },
            "type": "scatter"
           }
          ],
          "scatter3d": [
           {
            "line": {
             "colorbar": {
              "outlinewidth": 0,
              "ticks": ""
             }
            },
            "marker": {
             "colorbar": {
              "outlinewidth": 0,
              "ticks": ""
             }
            },
            "type": "scatter3d"
           }
          ],
          "scattercarpet": [
           {
            "marker": {
             "colorbar": {
              "outlinewidth": 0,
              "ticks": ""
             }
            },
            "type": "scattercarpet"
           }
          ],
          "scattergeo": [
           {
            "marker": {
             "colorbar": {
              "outlinewidth": 0,
              "ticks": ""
             }
            },
            "type": "scattergeo"
           }
          ],
          "scattergl": [
           {
            "marker": {
             "colorbar": {
              "outlinewidth": 0,
              "ticks": ""
             }
            },
            "type": "scattergl"
           }
          ],
          "scattermap": [
           {
            "marker": {
             "colorbar": {
              "outlinewidth": 0,
              "ticks": ""
             }
            },
            "type": "scattermap"
           }
          ],
          "scattermapbox": [
           {
            "marker": {
             "colorbar": {
              "outlinewidth": 0,
              "ticks": ""
             }
            },
            "type": "scattermapbox"
           }
          ],
          "scatterpolar": [
           {
            "marker": {
             "colorbar": {
              "outlinewidth": 0,
              "ticks": ""
             }
            },
            "type": "scatterpolar"
           }
          ],
          "scatterpolargl": [
           {
            "marker": {
             "colorbar": {
              "outlinewidth": 0,
              "ticks": ""
             }
            },
            "type": "scatterpolargl"
           }
          ],
          "scatterternary": [
           {
            "marker": {
             "colorbar": {
              "outlinewidth": 0,
              "ticks": ""
             }
            },
            "type": "scatterternary"
           }
          ],
          "surface": [
           {
            "colorbar": {
             "outlinewidth": 0,
             "ticks": ""
            },
            "colorscale": [
             [
              0,
              "#0d0887"
             ],
             [
              0.1111111111111111,
              "#46039f"
             ],
             [
              0.2222222222222222,
              "#7201a8"
             ],
             [
              0.3333333333333333,
              "#9c179e"
             ],
             [
              0.4444444444444444,
              "#bd3786"
             ],
             [
              0.5555555555555556,
              "#d8576b"
             ],
             [
              0.6666666666666666,
              "#ed7953"
             ],
             [
              0.7777777777777778,
              "#fb9f3a"
             ],
             [
              0.8888888888888888,
              "#fdca26"
             ],
             [
              1,
              "#f0f921"
             ]
            ],
            "type": "surface"
           }
          ],
          "table": [
           {
            "cells": {
             "fill": {
              "color": "#EBF0F8"
             },
             "line": {
              "color": "white"
             }
            },
            "header": {
             "fill": {
              "color": "#C8D4E3"
             },
             "line": {
              "color": "white"
             }
            },
            "type": "table"
           }
          ]
         },
         "layout": {
          "annotationdefaults": {
           "arrowcolor": "#2a3f5f",
           "arrowhead": 0,
           "arrowwidth": 1
          },
          "autotypenumbers": "strict",
          "coloraxis": {
           "colorbar": {
            "outlinewidth": 0,
            "ticks": ""
           }
          },
          "colorscale": {
           "diverging": [
            [
             0,
             "#8e0152"
            ],
            [
             0.1,
             "#c51b7d"
            ],
            [
             0.2,
             "#de77ae"
            ],
            [
             0.3,
             "#f1b6da"
            ],
            [
             0.4,
             "#fde0ef"
            ],
            [
             0.5,
             "#f7f7f7"
            ],
            [
             0.6,
             "#e6f5d0"
            ],
            [
             0.7,
             "#b8e186"
            ],
            [
             0.8,
             "#7fbc41"
            ],
            [
             0.9,
             "#4d9221"
            ],
            [
             1,
             "#276419"
            ]
           ],
           "sequential": [
            [
             0,
             "#0d0887"
            ],
            [
             0.1111111111111111,
             "#46039f"
            ],
            [
             0.2222222222222222,
             "#7201a8"
            ],
            [
             0.3333333333333333,
             "#9c179e"
            ],
            [
             0.4444444444444444,
             "#bd3786"
            ],
            [
             0.5555555555555556,
             "#d8576b"
            ],
            [
             0.6666666666666666,
             "#ed7953"
            ],
            [
             0.7777777777777778,
             "#fb9f3a"
            ],
            [
             0.8888888888888888,
             "#fdca26"
            ],
            [
             1,
             "#f0f921"
            ]
           ],
           "sequentialminus": [
            [
             0,
             "#0d0887"
            ],
            [
             0.1111111111111111,
             "#46039f"
            ],
            [
             0.2222222222222222,
             "#7201a8"
            ],
            [
             0.3333333333333333,
             "#9c179e"
            ],
            [
             0.4444444444444444,
             "#bd3786"
            ],
            [
             0.5555555555555556,
             "#d8576b"
            ],
            [
             0.6666666666666666,
             "#ed7953"
            ],
            [
             0.7777777777777778,
             "#fb9f3a"
            ],
            [
             0.8888888888888888,
             "#fdca26"
            ],
            [
             1,
             "#f0f921"
            ]
           ]
          },
          "colorway": [
           "#636efa",
           "#EF553B",
           "#00cc96",
           "#ab63fa",
           "#FFA15A",
           "#19d3f3",
           "#FF6692",
           "#B6E880",
           "#FF97FF",
           "#FECB52"
          ],
          "font": {
           "color": "#2a3f5f"
          },
          "geo": {
           "bgcolor": "white",
           "lakecolor": "white",
           "landcolor": "#E5ECF6",
           "showlakes": true,
           "showland": true,
           "subunitcolor": "white"
          },
          "hoverlabel": {
           "align": "left"
          },
          "hovermode": "closest",
          "mapbox": {
           "style": "light"
          },
          "paper_bgcolor": "white",
          "plot_bgcolor": "#E5ECF6",
          "polar": {
           "angularaxis": {
            "gridcolor": "white",
            "linecolor": "white",
            "ticks": ""
           },
           "bgcolor": "#E5ECF6",
           "radialaxis": {
            "gridcolor": "white",
            "linecolor": "white",
            "ticks": ""
           }
          },
          "scene": {
           "xaxis": {
            "backgroundcolor": "#E5ECF6",
            "gridcolor": "white",
            "gridwidth": 2,
            "linecolor": "white",
            "showbackground": true,
            "ticks": "",
            "zerolinecolor": "white"
           },
           "yaxis": {
            "backgroundcolor": "#E5ECF6",
            "gridcolor": "white",
            "gridwidth": 2,
            "linecolor": "white",
            "showbackground": true,
            "ticks": "",
            "zerolinecolor": "white"
           },
           "zaxis": {
            "backgroundcolor": "#E5ECF6",
            "gridcolor": "white",
            "gridwidth": 2,
            "linecolor": "white",
            "showbackground": true,
            "ticks": "",
            "zerolinecolor": "white"
           }
          },
          "shapedefaults": {
           "line": {
            "color": "#2a3f5f"
           }
          },
          "ternary": {
           "aaxis": {
            "gridcolor": "white",
            "linecolor": "white",
            "ticks": ""
           },
           "baxis": {
            "gridcolor": "white",
            "linecolor": "white",
            "ticks": ""
           },
           "bgcolor": "#E5ECF6",
           "caxis": {
            "gridcolor": "white",
            "linecolor": "white",
            "ticks": ""
           }
          },
          "title": {
           "x": 0.05
          },
          "xaxis": {
           "automargin": true,
           "gridcolor": "white",
           "linecolor": "white",
           "ticks": "",
           "title": {
            "standoff": 15
           },
           "zerolinecolor": "white",
           "zerolinewidth": 2
          },
          "yaxis": {
           "automargin": true,
           "gridcolor": "white",
           "linecolor": "white",
           "ticks": "",
           "title": {
            "standoff": 15
           },
           "zerolinecolor": "white",
           "zerolinewidth": 2
          }
         }
        },
        "title": {
         "text": "Tren Persentase Unmet Need"
        },
        "xaxis": {
         "anchor": "y",
         "domain": [
          0,
          1
         ],
         "title": {
          "text": "Bulan"
         }
        },
        "yaxis": {
         "anchor": "x",
         "domain": [
          0,
          1
         ],
         "range": [
          8.32391181458451,
          9.200113058224986
         ],
         "tickformat": ",.0f",
         "title": {
          "text": "UNMET NEED"
         }
        }
       }
      }
     },
     "metadata": {},
     "output_type": "display_data"
    }
   ],
   "source": [
    "aggregated = data_pus.filter(\n",
    "    pl.col(\"KABUPATEN\").is_in(filter_kabupaten),\n",
    "    pl.col(\"KECAMATAN\").is_in(filter_kecamatan),\n",
    "    pl.col(\"KELURAHAN\").is_in(filter_desa),\n",
    "    pl.col(\"BULAN\").is_in(bulan_hingga(filter_bulan))\n",
    ").group_by('PROVINSI', 'BULAN').agg([\n",
    "    pl.col(\"PUS\").sum(),\n",
    "    pl.col(\"UNMET NEED\").sum()\n",
    "]).with_columns(\n",
    "    ((pl.col(\"UNMET NEED\") / pl.col(\"PUS\"))* 100).alias('UNMET NEED')\n",
    ")\n",
    "\n",
    "aggregated = aggregated.with_columns(\n",
    "    pl.col(\"BULAN\").replace(month_order).alias(\"month_num\")\n",
    ").sort(\"month_num\").drop(\"month_num\")\n",
    "\n",
    "# Hitung nilai minimum untuk sumbu Y (Januari - 10%)\n",
    "nilai_januari = aggregated.filter(pl.col(\"BULAN\") == \"JANUARI\")[\"UNMET NEED\"][0]\n",
    "y_min = nilai_januari - (nilai_januari * 0.05)  # Januari - 10%\n",
    "max_value = aggregated[\"UNMET NEED\"].max() * 1.05\n",
    "\n",
    "fig = px.line(\n",
    "    aggregated,  # Langsung gunakan Polars DataFrame\n",
    "    x=\"BULAN\",\n",
    "    y=\"UNMET NEED\",\n",
    "    title=\"Tren Persentase Unmet Need\",\n",
    "    labels={\"BULAN\": \"Bulan\", \"PA\": \"Persentase Unmet Need\"},\n",
    "    markers=True  # Menambahkan dot (marker) di setiap titik\n",
    ")\n",
    "fig.update_yaxes(\n",
    "    range=[y_min, max_value],\n",
    "    tickformat=\",.0f\")  # `None` untuk batas atas otomatis \n",
    "\n",
    "fig.update_layout(\n",
    "    showlegend=False,\n",
    "    paper_bgcolor=\"#f6f8fa\",\n",
    "    plot_bgcolor=\"#f6f8fa\",\n",
    "    margin=dict(l=50, r=50, t=80, b=50)  # Padding: kiri, kanan, atas, bawah\n",
    ")\n",
    "fig.update_traces(\n",
    "    hovertemplate=\"Bulan = %{x}<br>Persentase Unmet Need = %{y}%\"\n",
    ")"
   ]
  },
  {
   "cell_type": "code",
   "execution_count": 24,
   "metadata": {},
   "outputs": [
    {
     "data": {
      "text/html": [
       "<table id=\"itables_4977d751_b35a_4318_9c6d_eb4e4e49d9f0\" class=\"display nowrap\" data-quarto-disable-processing=\"true\" style=\"table-layout:auto;width:auto;margin:auto;caption-side:bottom\">\n",
       "<thead>\n",
       "    <tr style=\"text-align: right;\">\n",
       "      \n",
       "      <th>PROVINSI</th>\n",
       "      <th>SUNTIK</th>\n",
       "      <th>PIL</th>\n",
       "      <th>KONDOM</th>\n",
       "      <th>MAL</th>\n",
       "      <th>IMPLAN</th>\n",
       "      <th>IUD</th>\n",
       "      <th>VASEKTOMI</th>\n",
       "      <th>TUBEKTOMI</th>\n",
       "    </tr>\n",
       "  </thead><tbody><tr>\n",
       "<td style=\"vertical-align:middle; text-align:left\">\n",
       "<a href=https://mwouts.github.io/itables/><svg class=\"main-svg\" xmlns=\"http://www.w3.org/2000/svg\" xmlns:xlink=\"http://www.w3.org/1999/xlink\"\n",
       "width=\"64\" viewBox=\"0 0 500 400\" style=\"font-family: 'Droid Sans', sans-serif;\">\n",
       "    <g style=\"fill:#d9d7fc\">\n",
       "        <path d=\"M100,400H500V357H100Z\" />\n",
       "        <path d=\"M100,300H400V257H100Z\" />\n",
       "        <path d=\"M0,200H400V157H0Z\" />\n",
       "        <path d=\"M100,100H500V57H100Z\" />\n",
       "        <path d=\"M100,350H500V307H100Z\" />\n",
       "        <path d=\"M100,250H400V207H100Z\" />\n",
       "        <path d=\"M0,150H400V107H0Z\" />\n",
       "        <path d=\"M100,50H500V7H100Z\" />\n",
       "    </g>\n",
       "    <g style=\"fill:#1a1366;stroke:#1a1366;\">\n",
       "   <rect x=\"100\" y=\"7\" width=\"400\" height=\"43\">\n",
       "    <animate\n",
       "      attributeName=\"width\"\n",
       "      values=\"0;400;0\"\n",
       "      dur=\"5s\"\n",
       "      repeatCount=\"indefinite\" />\n",
       "      <animate\n",
       "      attributeName=\"x\"\n",
       "      values=\"100;100;500\"\n",
       "      dur=\"5s\"\n",
       "      repeatCount=\"indefinite\" />\n",
       "  </rect>\n",
       "        <rect x=\"0\" y=\"107\" width=\"400\" height=\"43\">\n",
       "    <animate\n",
       "      attributeName=\"width\"\n",
       "      values=\"0;400;0\"\n",
       "      dur=\"3.5s\"\n",
       "      repeatCount=\"indefinite\" />\n",
       "    <animate\n",
       "      attributeName=\"x\"\n",
       "      values=\"0;0;400\"\n",
       "      dur=\"3.5s\"\n",
       "      repeatCount=\"indefinite\" />\n",
       "  </rect>\n",
       "        <rect x=\"100\" y=\"207\" width=\"300\" height=\"43\">\n",
       "    <animate\n",
       "      attributeName=\"width\"\n",
       "      values=\"0;300;0\"\n",
       "      dur=\"3s\"\n",
       "      repeatCount=\"indefinite\" />\n",
       "    <animate\n",
       "      attributeName=\"x\"\n",
       "      values=\"100;100;400\"\n",
       "      dur=\"3s\"\n",
       "      repeatCount=\"indefinite\" />\n",
       "  </rect>\n",
       "        <rect x=\"100\" y=\"307\" width=\"400\" height=\"43\">\n",
       "    <animate\n",
       "      attributeName=\"width\"\n",
       "      values=\"0;400;0\"\n",
       "      dur=\"4s\"\n",
       "      repeatCount=\"indefinite\" />\n",
       "      <animate\n",
       "      attributeName=\"x\"\n",
       "      values=\"100;100;500\"\n",
       "      dur=\"4s\"\n",
       "      repeatCount=\"indefinite\" />\n",
       "  </rect>\n",
       "        <g style=\"fill:transparent;stroke-width:8; stroke-linejoin:round\" rx=\"5\">\n",
       "            <g transform=\"translate(45 50) rotate(-45)\">\n",
       "                <circle r=\"33\" cx=\"0\" cy=\"0\" />\n",
       "                <rect x=\"-8\" y=\"32\" width=\"16\" height=\"30\" />\n",
       "            </g>\n",
       "\n",
       "            <g transform=\"translate(450 152)\">\n",
       "                <polyline points=\"-15,-20 -35,-20 -35,40 25,40 25,20\" />\n",
       "                <rect x=\"-15\" y=\"-40\" width=\"60\" height=\"60\" />\n",
       "            </g>\n",
       "\n",
       "            <g transform=\"translate(50 352)\">\n",
       "                <polygon points=\"-35,-5 0,-40 35,-5\" />\n",
       "                <polygon points=\"-35,10 0,45 35,10\" />\n",
       "            </g>\n",
       "\n",
       "            <g transform=\"translate(75 250)\">\n",
       "                <polyline points=\"-30,30 -60,0 -30,-30\" />\n",
       "                <polyline points=\"0,30 -30,0 0,-30\" />\n",
       "            </g>\n",
       "\n",
       "            <g transform=\"translate(425 250) rotate(180)\">\n",
       "                <polyline points=\"-30,30 -60,0 -30,-30\" />\n",
       "                <polyline points=\"0,30 -30,0 0,-30\" />\n",
       "            </g>\n",
       "        </g>\n",
       "    </g>\n",
       "</svg>\n",
       "</a>\n",
       "Loading ITables v2.2.5 from the internet...\n",
       "(need <a href=https://mwouts.github.io/itables/troubleshooting.html>help</a>?)</td>\n",
       "</tr></tbody>\n",
       "</table>\n",
       "<link href=\"https://www.unpkg.com/dt_for_itables@2.0.13/dt_bundle.css\" rel=\"stylesheet\">\n",
       "<script type=\"module\">\n",
       "    import {DataTable, jQuery as $} from 'https://www.unpkg.com/dt_for_itables@2.0.13/dt_bundle.js';\n",
       "\n",
       "    document.querySelectorAll(\"#itables_4977d751_b35a_4318_9c6d_eb4e4e49d9f0:not(.dataTable)\").forEach(table => {\n",
       "        if (!(table instanceof HTMLTableElement))\n",
       "            return;\n",
       "\n",
       "        // Define the table data\n",
       "        const data = [[\"SULAWESI BARAT\", 664, 278, 12, 0, 214, 63, 0, 41]];\n",
       "\n",
       "        // Define the dt_args\n",
       "        let dt_args = {\"layout\": {\"topStart\": null, \"topEnd\": null, \"bottomStart\": null, \"bottomEnd\": null}, \"order\": [], \"warn_on_selected_rows_not_rendered\": true};\n",
       "        dt_args[\"data\"] = data;\n",
       "\n",
       "        \n",
       "        new DataTable(table, dt_args);\n",
       "    });\n",
       "</script>\n"
      ],
      "text/plain": [
       "<IPython.core.display.HTML object>"
      ]
     },
     "metadata": {},
     "output_type": "display_data"
    }
   ],
   "source": [
    "mix_kontra = data_mix.filter(\n",
    "    pl.col(\"KABUPATEN\").is_in(filter_kabupaten),\n",
    "    pl.col(\"KECAMATAN\").is_in(filter_kecamatan),\n",
    "    pl.col(\"KELURAHAN\").is_in(filter_desa),\n",
    "    pl.col(\"BULAN\").is_in([filter_bulan])\n",
    ").group_by('PROVINSI').agg([\n",
    "    pl.col(\"SUNTIK\").sum(),\n",
    "    pl.col(\"PIL\").sum(),\n",
    "    pl.col(\"KONDOM\").sum(),\n",
    "    pl.col(\"MAL\").sum(),\n",
    "    pl.col(\"IMPLAN\").sum(),\n",
    "    pl.col(\"IUD\").sum(),\n",
    "    pl.col(\"VASEKTOMI\").sum(),\n",
    "    pl.col(\"TUBEKTOMI\").sum()\n",
    "])\n",
    "show(mix_kontra)"
   ]
  },
  {
   "cell_type": "code",
   "execution_count": 29,
   "metadata": {},
   "outputs": [
    {
     "data": {
      "application/vnd.plotly.v1+json": {
       "config": {
        "plotlyServerURL": "https://plot.ly"
       },
       "data": [
        {
         "hovertemplate": "Metode KB: %{y}<br>Jumlah Pengguna: %{x}<extra></extra>",
         "legendgroup": "",
         "marker": {
          "color": "#636efa",
          "pattern": {
           "shape": ""
          }
         },
         "name": "",
         "orientation": "h",
         "showlegend": false,
         "text": {
          "bdata": "AAAAAAAAAAAAAAAAAAAAAAAAAAAAAChAAAAAAACAREAAAAAAAIBPQAAAAAAAwGpAAAAAAABgcUAAAAAAAMCEQA==",
          "dtype": "f8"
         },
         "textposition": "outside",
         "texttemplate": "%{x}",
         "type": "bar",
         "x": {
          "bdata": "AAAAAAwAKQA/ANYAFgGYAg==",
          "dtype": "i2"
         },
         "xaxis": "x",
         "y": [
          "MAL",
          "VASEKTOMI",
          "KONDOM",
          "TUBEKTOMI",
          "IUD",
          "IMPLAN",
          "PIL",
          "SUNTIK"
         ],
         "yaxis": "y"
        }
       ],
       "layout": {
        "barmode": "relative",
        "legend": {
         "tracegroupgap": 0
        },
        "margin": {
         "b": 50,
         "l": 150,
         "r": 50,
         "t": 80
        },
        "paper_bgcolor": "#f6f8fa",
        "plot_bgcolor": "#f6f8fa",
        "showlegend": false,
        "template": {
         "data": {
          "bar": [
           {
            "error_x": {
             "color": "#2a3f5f"
            },
            "error_y": {
             "color": "#2a3f5f"
            },
            "marker": {
             "line": {
              "color": "#E5ECF6",
              "width": 0.5
             },
             "pattern": {
              "fillmode": "overlay",
              "size": 10,
              "solidity": 0.2
             }
            },
            "type": "bar"
           }
          ],
          "barpolar": [
           {
            "marker": {
             "line": {
              "color": "#E5ECF6",
              "width": 0.5
             },
             "pattern": {
              "fillmode": "overlay",
              "size": 10,
              "solidity": 0.2
             }
            },
            "type": "barpolar"
           }
          ],
          "carpet": [
           {
            "aaxis": {
             "endlinecolor": "#2a3f5f",
             "gridcolor": "white",
             "linecolor": "white",
             "minorgridcolor": "white",
             "startlinecolor": "#2a3f5f"
            },
            "baxis": {
             "endlinecolor": "#2a3f5f",
             "gridcolor": "white",
             "linecolor": "white",
             "minorgridcolor": "white",
             "startlinecolor": "#2a3f5f"
            },
            "type": "carpet"
           }
          ],
          "choropleth": [
           {
            "colorbar": {
             "outlinewidth": 0,
             "ticks": ""
            },
            "type": "choropleth"
           }
          ],
          "contour": [
           {
            "colorbar": {
             "outlinewidth": 0,
             "ticks": ""
            },
            "colorscale": [
             [
              0,
              "#0d0887"
             ],
             [
              0.1111111111111111,
              "#46039f"
             ],
             [
              0.2222222222222222,
              "#7201a8"
             ],
             [
              0.3333333333333333,
              "#9c179e"
             ],
             [
              0.4444444444444444,
              "#bd3786"
             ],
             [
              0.5555555555555556,
              "#d8576b"
             ],
             [
              0.6666666666666666,
              "#ed7953"
             ],
             [
              0.7777777777777778,
              "#fb9f3a"
             ],
             [
              0.8888888888888888,
              "#fdca26"
             ],
             [
              1,
              "#f0f921"
             ]
            ],
            "type": "contour"
           }
          ],
          "contourcarpet": [
           {
            "colorbar": {
             "outlinewidth": 0,
             "ticks": ""
            },
            "type": "contourcarpet"
           }
          ],
          "heatmap": [
           {
            "colorbar": {
             "outlinewidth": 0,
             "ticks": ""
            },
            "colorscale": [
             [
              0,
              "#0d0887"
             ],
             [
              0.1111111111111111,
              "#46039f"
             ],
             [
              0.2222222222222222,
              "#7201a8"
             ],
             [
              0.3333333333333333,
              "#9c179e"
             ],
             [
              0.4444444444444444,
              "#bd3786"
             ],
             [
              0.5555555555555556,
              "#d8576b"
             ],
             [
              0.6666666666666666,
              "#ed7953"
             ],
             [
              0.7777777777777778,
              "#fb9f3a"
             ],
             [
              0.8888888888888888,
              "#fdca26"
             ],
             [
              1,
              "#f0f921"
             ]
            ],
            "type": "heatmap"
           }
          ],
          "histogram": [
           {
            "marker": {
             "pattern": {
              "fillmode": "overlay",
              "size": 10,
              "solidity": 0.2
             }
            },
            "type": "histogram"
           }
          ],
          "histogram2d": [
           {
            "colorbar": {
             "outlinewidth": 0,
             "ticks": ""
            },
            "colorscale": [
             [
              0,
              "#0d0887"
             ],
             [
              0.1111111111111111,
              "#46039f"
             ],
             [
              0.2222222222222222,
              "#7201a8"
             ],
             [
              0.3333333333333333,
              "#9c179e"
             ],
             [
              0.4444444444444444,
              "#bd3786"
             ],
             [
              0.5555555555555556,
              "#d8576b"
             ],
             [
              0.6666666666666666,
              "#ed7953"
             ],
             [
              0.7777777777777778,
              "#fb9f3a"
             ],
             [
              0.8888888888888888,
              "#fdca26"
             ],
             [
              1,
              "#f0f921"
             ]
            ],
            "type": "histogram2d"
           }
          ],
          "histogram2dcontour": [
           {
            "colorbar": {
             "outlinewidth": 0,
             "ticks": ""
            },
            "colorscale": [
             [
              0,
              "#0d0887"
             ],
             [
              0.1111111111111111,
              "#46039f"
             ],
             [
              0.2222222222222222,
              "#7201a8"
             ],
             [
              0.3333333333333333,
              "#9c179e"
             ],
             [
              0.4444444444444444,
              "#bd3786"
             ],
             [
              0.5555555555555556,
              "#d8576b"
             ],
             [
              0.6666666666666666,
              "#ed7953"
             ],
             [
              0.7777777777777778,
              "#fb9f3a"
             ],
             [
              0.8888888888888888,
              "#fdca26"
             ],
             [
              1,
              "#f0f921"
             ]
            ],
            "type": "histogram2dcontour"
           }
          ],
          "mesh3d": [
           {
            "colorbar": {
             "outlinewidth": 0,
             "ticks": ""
            },
            "type": "mesh3d"
           }
          ],
          "parcoords": [
           {
            "line": {
             "colorbar": {
              "outlinewidth": 0,
              "ticks": ""
             }
            },
            "type": "parcoords"
           }
          ],
          "pie": [
           {
            "automargin": true,
            "type": "pie"
           }
          ],
          "scatter": [
           {
            "fillpattern": {
             "fillmode": "overlay",
             "size": 10,
             "solidity": 0.2
            },
            "type": "scatter"
           }
          ],
          "scatter3d": [
           {
            "line": {
             "colorbar": {
              "outlinewidth": 0,
              "ticks": ""
             }
            },
            "marker": {
             "colorbar": {
              "outlinewidth": 0,
              "ticks": ""
             }
            },
            "type": "scatter3d"
           }
          ],
          "scattercarpet": [
           {
            "marker": {
             "colorbar": {
              "outlinewidth": 0,
              "ticks": ""
             }
            },
            "type": "scattercarpet"
           }
          ],
          "scattergeo": [
           {
            "marker": {
             "colorbar": {
              "outlinewidth": 0,
              "ticks": ""
             }
            },
            "type": "scattergeo"
           }
          ],
          "scattergl": [
           {
            "marker": {
             "colorbar": {
              "outlinewidth": 0,
              "ticks": ""
             }
            },
            "type": "scattergl"
           }
          ],
          "scattermap": [
           {
            "marker": {
             "colorbar": {
              "outlinewidth": 0,
              "ticks": ""
             }
            },
            "type": "scattermap"
           }
          ],
          "scattermapbox": [
           {
            "marker": {
             "colorbar": {
              "outlinewidth": 0,
              "ticks": ""
             }
            },
            "type": "scattermapbox"
           }
          ],
          "scatterpolar": [
           {
            "marker": {
             "colorbar": {
              "outlinewidth": 0,
              "ticks": ""
             }
            },
            "type": "scatterpolar"
           }
          ],
          "scatterpolargl": [
           {
            "marker": {
             "colorbar": {
              "outlinewidth": 0,
              "ticks": ""
             }
            },
            "type": "scatterpolargl"
           }
          ],
          "scatterternary": [
           {
            "marker": {
             "colorbar": {
              "outlinewidth": 0,
              "ticks": ""
             }
            },
            "type": "scatterternary"
           }
          ],
          "surface": [
           {
            "colorbar": {
             "outlinewidth": 0,
             "ticks": ""
            },
            "colorscale": [
             [
              0,
              "#0d0887"
             ],
             [
              0.1111111111111111,
              "#46039f"
             ],
             [
              0.2222222222222222,
              "#7201a8"
             ],
             [
              0.3333333333333333,
              "#9c179e"
             ],
             [
              0.4444444444444444,
              "#bd3786"
             ],
             [
              0.5555555555555556,
              "#d8576b"
             ],
             [
              0.6666666666666666,
              "#ed7953"
             ],
             [
              0.7777777777777778,
              "#fb9f3a"
             ],
             [
              0.8888888888888888,
              "#fdca26"
             ],
             [
              1,
              "#f0f921"
             ]
            ],
            "type": "surface"
           }
          ],
          "table": [
           {
            "cells": {
             "fill": {
              "color": "#EBF0F8"
             },
             "line": {
              "color": "white"
             }
            },
            "header": {
             "fill": {
              "color": "#C8D4E3"
             },
             "line": {
              "color": "white"
             }
            },
            "type": "table"
           }
          ]
         },
         "layout": {
          "annotationdefaults": {
           "arrowcolor": "#2a3f5f",
           "arrowhead": 0,
           "arrowwidth": 1
          },
          "autotypenumbers": "strict",
          "coloraxis": {
           "colorbar": {
            "outlinewidth": 0,
            "ticks": ""
           }
          },
          "colorscale": {
           "diverging": [
            [
             0,
             "#8e0152"
            ],
            [
             0.1,
             "#c51b7d"
            ],
            [
             0.2,
             "#de77ae"
            ],
            [
             0.3,
             "#f1b6da"
            ],
            [
             0.4,
             "#fde0ef"
            ],
            [
             0.5,
             "#f7f7f7"
            ],
            [
             0.6,
             "#e6f5d0"
            ],
            [
             0.7,
             "#b8e186"
            ],
            [
             0.8,
             "#7fbc41"
            ],
            [
             0.9,
             "#4d9221"
            ],
            [
             1,
             "#276419"
            ]
           ],
           "sequential": [
            [
             0,
             "#0d0887"
            ],
            [
             0.1111111111111111,
             "#46039f"
            ],
            [
             0.2222222222222222,
             "#7201a8"
            ],
            [
             0.3333333333333333,
             "#9c179e"
            ],
            [
             0.4444444444444444,
             "#bd3786"
            ],
            [
             0.5555555555555556,
             "#d8576b"
            ],
            [
             0.6666666666666666,
             "#ed7953"
            ],
            [
             0.7777777777777778,
             "#fb9f3a"
            ],
            [
             0.8888888888888888,
             "#fdca26"
            ],
            [
             1,
             "#f0f921"
            ]
           ],
           "sequentialminus": [
            [
             0,
             "#0d0887"
            ],
            [
             0.1111111111111111,
             "#46039f"
            ],
            [
             0.2222222222222222,
             "#7201a8"
            ],
            [
             0.3333333333333333,
             "#9c179e"
            ],
            [
             0.4444444444444444,
             "#bd3786"
            ],
            [
             0.5555555555555556,
             "#d8576b"
            ],
            [
             0.6666666666666666,
             "#ed7953"
            ],
            [
             0.7777777777777778,
             "#fb9f3a"
            ],
            [
             0.8888888888888888,
             "#fdca26"
            ],
            [
             1,
             "#f0f921"
            ]
           ]
          },
          "colorway": [
           "#636efa",
           "#EF553B",
           "#00cc96",
           "#ab63fa",
           "#FFA15A",
           "#19d3f3",
           "#FF6692",
           "#B6E880",
           "#FF97FF",
           "#FECB52"
          ],
          "font": {
           "color": "#2a3f5f"
          },
          "geo": {
           "bgcolor": "white",
           "lakecolor": "white",
           "landcolor": "#E5ECF6",
           "showlakes": true,
           "showland": true,
           "subunitcolor": "white"
          },
          "hoverlabel": {
           "align": "left"
          },
          "hovermode": "closest",
          "mapbox": {
           "style": "light"
          },
          "paper_bgcolor": "white",
          "plot_bgcolor": "#E5ECF6",
          "polar": {
           "angularaxis": {
            "gridcolor": "white",
            "linecolor": "white",
            "ticks": ""
           },
           "bgcolor": "#E5ECF6",
           "radialaxis": {
            "gridcolor": "white",
            "linecolor": "white",
            "ticks": ""
           }
          },
          "scene": {
           "xaxis": {
            "backgroundcolor": "#E5ECF6",
            "gridcolor": "white",
            "gridwidth": 2,
            "linecolor": "white",
            "showbackground": true,
            "ticks": "",
            "zerolinecolor": "white"
           },
           "yaxis": {
            "backgroundcolor": "#E5ECF6",
            "gridcolor": "white",
            "gridwidth": 2,
            "linecolor": "white",
            "showbackground": true,
            "ticks": "",
            "zerolinecolor": "white"
           },
           "zaxis": {
            "backgroundcolor": "#E5ECF6",
            "gridcolor": "white",
            "gridwidth": 2,
            "linecolor": "white",
            "showbackground": true,
            "ticks": "",
            "zerolinecolor": "white"
           }
          },
          "shapedefaults": {
           "line": {
            "color": "#2a3f5f"
           }
          },
          "ternary": {
           "aaxis": {
            "gridcolor": "white",
            "linecolor": "white",
            "ticks": ""
           },
           "baxis": {
            "gridcolor": "white",
            "linecolor": "white",
            "ticks": ""
           },
           "bgcolor": "#E5ECF6",
           "caxis": {
            "gridcolor": "white",
            "linecolor": "white",
            "ticks": ""
           }
          },
          "title": {
           "x": 0.05
          },
          "xaxis": {
           "automargin": true,
           "gridcolor": "white",
           "linecolor": "white",
           "ticks": "",
           "title": {
            "standoff": 15
           },
           "zerolinecolor": "white",
           "zerolinewidth": 2
          },
          "yaxis": {
           "automargin": true,
           "gridcolor": "white",
           "linecolor": "white",
           "ticks": "",
           "title": {
            "standoff": 15
           },
           "zerolinecolor": "white",
           "zerolinewidth": 2
          }
         }
        },
        "title": {
         "text": "Jumlah Pengguna Metode KB di Sulawesi Barat"
        },
        "xaxis": {
         "anchor": "y",
         "domain": [
          0,
          1
         ],
         "title": {
          "text": "Jumlah Pengguna"
         }
        },
        "yaxis": {
         "anchor": "x",
         "domain": [
          0,
          1
         ],
         "title": {
          "text": "Metode KB"
         }
        }
       }
      }
     },
     "metadata": {},
     "output_type": "display_data"
    }
   ],
   "source": [
    "\n",
    "# Ubah data menjadi format \"long\" menggunakan `unpivot`\n",
    "data_long = mix_kontra.unpivot(\n",
    "    index=\"PROVINSI\",  # Kolom yang tetap\n",
    "    on=[\"SUNTIK\", \"PIL\", \"KONDOM\", \"MAL\", \"IMPLAN\", \"IUD\", \"VASEKTOMI\", \"TUBEKTOMI\"],  # Kolom yang di-unpivot\n",
    "    variable_name=\"METODE_KB\",  # Nama kolom untuk metode KB\n",
    "    value_name=\"JUMLAH\"  # Nama kolom untuk jumlah pengguna\n",
    ")\n",
    "\n",
    "# Urutkan data berdasarkan jumlah pengguna (terbesar ke terkecil)\n",
    "data_sorted = data_long.sort(\"JUMLAH\", descending=False)\n",
    "\n",
    "# Buat grafik batang horizontal\n",
    "fig = px.bar(\n",
    "    data_sorted,\n",
    "    y=\"METODE_KB\",  # Metode KB di sumbu-y\n",
    "    x=\"JUMLAH\",     # Jumlah pengguna di sumbu-x\n",
    "    title=\"Jumlah Pengguna Metode KB di Sulawesi Barat\",\n",
    "    labels={\"METODE_KB\": \"Metode KB\", \"JUMLAH\": \"Jumlah Pengguna\"},  # Label sumbu\n",
    "    orientation=\"h\",  # Horizontal bar chart\n",
    "    text=\"JUMLAH\"  # Tampilkan nilai di setiap bar\n",
    ")\n",
    "\n",
    "# Perbarui tata letak grafik\n",
    "fig.update_layout(\n",
    "    showlegend=False,  # Tidak perlu legenda\n",
    "    paper_bgcolor=\"#f6f8fa\",  # Warna latar belakang kertas\n",
    "    plot_bgcolor=\"#f6f8fa\",  # Warna latar belakang plot\n",
    "    margin=dict(l=150, r=50, t=80, b=50)  # Padding: kiri, kanan, atas, bawah\n",
    ")\n",
    "\n",
    "# Pastikan label tetap ditampilkan meski nilainya 0\n",
    "fig.update_traces(\n",
    "    texttemplate=\"%{x}\",  # Format teks pada bar\n",
    "    textposition=\"outside\",  # Letakkan teks di luar bar\n",
    "    hovertemplate=\"Metode KB: %{y}<br>Jumlah Pengguna: %{x}<extra></extra>\"  # Hover informatif\n",
    ")\n",
    "\n",
    "# Tampilkan grafik\n",
    "fig.show()"
   ]
  },
  {
   "cell_type": "code",
   "execution_count": 38,
   "metadata": {},
   "outputs": [
    {
     "data": {
      "application/vnd.plotly.v1+json": {
       "config": {
        "plotlyServerURL": "https://plot.ly"
       },
       "data": [
        {
         "customdata": [
          [
           "Sudah Terlatih"
          ],
          [
           "Belum Terlatih"
          ]
         ],
         "domain": {
          "x": [
           0,
           1
          ],
          "y": [
           0,
           1
          ]
         },
         "hole": 0.4,
         "hovertemplate": "%{label}: %{value:,.0f} (%{percent})<extra></extra>",
         "labels": [
          "Sudah Terlatih",
          "Belum Terlatih"
         ],
         "legendgroup": "",
         "marker": {
          "colors": [
           "#0d6efd",
           "#ffc107"
          ]
         },
         "name": "",
         "showlegend": true,
         "textposition": "outside",
         "texttemplate": "%{label}<br>%{value:,.0f} (%{percent})",
         "type": "pie",
         "values": {
          "bdata": "AgAAAAMAAAA=",
          "dtype": "u4"
         }
        }
       ],
       "layout": {
        "legend": {
         "tracegroupgap": 0
        },
        "margin": {
         "b": 50,
         "l": 50,
         "r": 50,
         "t": 80
        },
        "paper_bgcolor": "#f6f8fa",
        "plot_bgcolor": "#f6f8fa",
        "showlegend": false,
        "template": {
         "data": {
          "bar": [
           {
            "error_x": {
             "color": "#2a3f5f"
            },
            "error_y": {
             "color": "#2a3f5f"
            },
            "marker": {
             "line": {
              "color": "#E5ECF6",
              "width": 0.5
             },
             "pattern": {
              "fillmode": "overlay",
              "size": 10,
              "solidity": 0.2
             }
            },
            "type": "bar"
           }
          ],
          "barpolar": [
           {
            "marker": {
             "line": {
              "color": "#E5ECF6",
              "width": 0.5
             },
             "pattern": {
              "fillmode": "overlay",
              "size": 10,
              "solidity": 0.2
             }
            },
            "type": "barpolar"
           }
          ],
          "carpet": [
           {
            "aaxis": {
             "endlinecolor": "#2a3f5f",
             "gridcolor": "white",
             "linecolor": "white",
             "minorgridcolor": "white",
             "startlinecolor": "#2a3f5f"
            },
            "baxis": {
             "endlinecolor": "#2a3f5f",
             "gridcolor": "white",
             "linecolor": "white",
             "minorgridcolor": "white",
             "startlinecolor": "#2a3f5f"
            },
            "type": "carpet"
           }
          ],
          "choropleth": [
           {
            "colorbar": {
             "outlinewidth": 0,
             "ticks": ""
            },
            "type": "choropleth"
           }
          ],
          "contour": [
           {
            "colorbar": {
             "outlinewidth": 0,
             "ticks": ""
            },
            "colorscale": [
             [
              0,
              "#0d0887"
             ],
             [
              0.1111111111111111,
              "#46039f"
             ],
             [
              0.2222222222222222,
              "#7201a8"
             ],
             [
              0.3333333333333333,
              "#9c179e"
             ],
             [
              0.4444444444444444,
              "#bd3786"
             ],
             [
              0.5555555555555556,
              "#d8576b"
             ],
             [
              0.6666666666666666,
              "#ed7953"
             ],
             [
              0.7777777777777778,
              "#fb9f3a"
             ],
             [
              0.8888888888888888,
              "#fdca26"
             ],
             [
              1,
              "#f0f921"
             ]
            ],
            "type": "contour"
           }
          ],
          "contourcarpet": [
           {
            "colorbar": {
             "outlinewidth": 0,
             "ticks": ""
            },
            "type": "contourcarpet"
           }
          ],
          "heatmap": [
           {
            "colorbar": {
             "outlinewidth": 0,
             "ticks": ""
            },
            "colorscale": [
             [
              0,
              "#0d0887"
             ],
             [
              0.1111111111111111,
              "#46039f"
             ],
             [
              0.2222222222222222,
              "#7201a8"
             ],
             [
              0.3333333333333333,
              "#9c179e"
             ],
             [
              0.4444444444444444,
              "#bd3786"
             ],
             [
              0.5555555555555556,
              "#d8576b"
             ],
             [
              0.6666666666666666,
              "#ed7953"
             ],
             [
              0.7777777777777778,
              "#fb9f3a"
             ],
             [
              0.8888888888888888,
              "#fdca26"
             ],
             [
              1,
              "#f0f921"
             ]
            ],
            "type": "heatmap"
           }
          ],
          "histogram": [
           {
            "marker": {
             "pattern": {
              "fillmode": "overlay",
              "size": 10,
              "solidity": 0.2
             }
            },
            "type": "histogram"
           }
          ],
          "histogram2d": [
           {
            "colorbar": {
             "outlinewidth": 0,
             "ticks": ""
            },
            "colorscale": [
             [
              0,
              "#0d0887"
             ],
             [
              0.1111111111111111,
              "#46039f"
             ],
             [
              0.2222222222222222,
              "#7201a8"
             ],
             [
              0.3333333333333333,
              "#9c179e"
             ],
             [
              0.4444444444444444,
              "#bd3786"
             ],
             [
              0.5555555555555556,
              "#d8576b"
             ],
             [
              0.6666666666666666,
              "#ed7953"
             ],
             [
              0.7777777777777778,
              "#fb9f3a"
             ],
             [
              0.8888888888888888,
              "#fdca26"
             ],
             [
              1,
              "#f0f921"
             ]
            ],
            "type": "histogram2d"
           }
          ],
          "histogram2dcontour": [
           {
            "colorbar": {
             "outlinewidth": 0,
             "ticks": ""
            },
            "colorscale": [
             [
              0,
              "#0d0887"
             ],
             [
              0.1111111111111111,
              "#46039f"
             ],
             [
              0.2222222222222222,
              "#7201a8"
             ],
             [
              0.3333333333333333,
              "#9c179e"
             ],
             [
              0.4444444444444444,
              "#bd3786"
             ],
             [
              0.5555555555555556,
              "#d8576b"
             ],
             [
              0.6666666666666666,
              "#ed7953"
             ],
             [
              0.7777777777777778,
              "#fb9f3a"
             ],
             [
              0.8888888888888888,
              "#fdca26"
             ],
             [
              1,
              "#f0f921"
             ]
            ],
            "type": "histogram2dcontour"
           }
          ],
          "mesh3d": [
           {
            "colorbar": {
             "outlinewidth": 0,
             "ticks": ""
            },
            "type": "mesh3d"
           }
          ],
          "parcoords": [
           {
            "line": {
             "colorbar": {
              "outlinewidth": 0,
              "ticks": ""
             }
            },
            "type": "parcoords"
           }
          ],
          "pie": [
           {
            "automargin": true,
            "type": "pie"
           }
          ],
          "scatter": [
           {
            "fillpattern": {
             "fillmode": "overlay",
             "size": 10,
             "solidity": 0.2
            },
            "type": "scatter"
           }
          ],
          "scatter3d": [
           {
            "line": {
             "colorbar": {
              "outlinewidth": 0,
              "ticks": ""
             }
            },
            "marker": {
             "colorbar": {
              "outlinewidth": 0,
              "ticks": ""
             }
            },
            "type": "scatter3d"
           }
          ],
          "scattercarpet": [
           {
            "marker": {
             "colorbar": {
              "outlinewidth": 0,
              "ticks": ""
             }
            },
            "type": "scattercarpet"
           }
          ],
          "scattergeo": [
           {
            "marker": {
             "colorbar": {
              "outlinewidth": 0,
              "ticks": ""
             }
            },
            "type": "scattergeo"
           }
          ],
          "scattergl": [
           {
            "marker": {
             "colorbar": {
              "outlinewidth": 0,
              "ticks": ""
             }
            },
            "type": "scattergl"
           }
          ],
          "scattermap": [
           {
            "marker": {
             "colorbar": {
              "outlinewidth": 0,
              "ticks": ""
             }
            },
            "type": "scattermap"
           }
          ],
          "scattermapbox": [
           {
            "marker": {
             "colorbar": {
              "outlinewidth": 0,
              "ticks": ""
             }
            },
            "type": "scattermapbox"
           }
          ],
          "scatterpolar": [
           {
            "marker": {
             "colorbar": {
              "outlinewidth": 0,
              "ticks": ""
             }
            },
            "type": "scatterpolar"
           }
          ],
          "scatterpolargl": [
           {
            "marker": {
             "colorbar": {
              "outlinewidth": 0,
              "ticks": ""
             }
            },
            "type": "scatterpolargl"
           }
          ],
          "scatterternary": [
           {
            "marker": {
             "colorbar": {
              "outlinewidth": 0,
              "ticks": ""
             }
            },
            "type": "scatterternary"
           }
          ],
          "surface": [
           {
            "colorbar": {
             "outlinewidth": 0,
             "ticks": ""
            },
            "colorscale": [
             [
              0,
              "#0d0887"
             ],
             [
              0.1111111111111111,
              "#46039f"
             ],
             [
              0.2222222222222222,
              "#7201a8"
             ],
             [
              0.3333333333333333,
              "#9c179e"
             ],
             [
              0.4444444444444444,
              "#bd3786"
             ],
             [
              0.5555555555555556,
              "#d8576b"
             ],
             [
              0.6666666666666666,
              "#ed7953"
             ],
             [
              0.7777777777777778,
              "#fb9f3a"
             ],
             [
              0.8888888888888888,
              "#fdca26"
             ],
             [
              1,
              "#f0f921"
             ]
            ],
            "type": "surface"
           }
          ],
          "table": [
           {
            "cells": {
             "fill": {
              "color": "#EBF0F8"
             },
             "line": {
              "color": "white"
             }
            },
            "header": {
             "fill": {
              "color": "#C8D4E3"
             },
             "line": {
              "color": "white"
             }
            },
            "type": "table"
           }
          ]
         },
         "layout": {
          "annotationdefaults": {
           "arrowcolor": "#2a3f5f",
           "arrowhead": 0,
           "arrowwidth": 1
          },
          "autotypenumbers": "strict",
          "coloraxis": {
           "colorbar": {
            "outlinewidth": 0,
            "ticks": ""
           }
          },
          "colorscale": {
           "diverging": [
            [
             0,
             "#8e0152"
            ],
            [
             0.1,
             "#c51b7d"
            ],
            [
             0.2,
             "#de77ae"
            ],
            [
             0.3,
             "#f1b6da"
            ],
            [
             0.4,
             "#fde0ef"
            ],
            [
             0.5,
             "#f7f7f7"
            ],
            [
             0.6,
             "#e6f5d0"
            ],
            [
             0.7,
             "#b8e186"
            ],
            [
             0.8,
             "#7fbc41"
            ],
            [
             0.9,
             "#4d9221"
            ],
            [
             1,
             "#276419"
            ]
           ],
           "sequential": [
            [
             0,
             "#0d0887"
            ],
            [
             0.1111111111111111,
             "#46039f"
            ],
            [
             0.2222222222222222,
             "#7201a8"
            ],
            [
             0.3333333333333333,
             "#9c179e"
            ],
            [
             0.4444444444444444,
             "#bd3786"
            ],
            [
             0.5555555555555556,
             "#d8576b"
            ],
            [
             0.6666666666666666,
             "#ed7953"
            ],
            [
             0.7777777777777778,
             "#fb9f3a"
            ],
            [
             0.8888888888888888,
             "#fdca26"
            ],
            [
             1,
             "#f0f921"
            ]
           ],
           "sequentialminus": [
            [
             0,
             "#0d0887"
            ],
            [
             0.1111111111111111,
             "#46039f"
            ],
            [
             0.2222222222222222,
             "#7201a8"
            ],
            [
             0.3333333333333333,
             "#9c179e"
            ],
            [
             0.4444444444444444,
             "#bd3786"
            ],
            [
             0.5555555555555556,
             "#d8576b"
            ],
            [
             0.6666666666666666,
             "#ed7953"
            ],
            [
             0.7777777777777778,
             "#fb9f3a"
            ],
            [
             0.8888888888888888,
             "#fdca26"
            ],
            [
             1,
             "#f0f921"
            ]
           ]
          },
          "colorway": [
           "#636efa",
           "#EF553B",
           "#00cc96",
           "#ab63fa",
           "#FFA15A",
           "#19d3f3",
           "#FF6692",
           "#B6E880",
           "#FF97FF",
           "#FECB52"
          ],
          "font": {
           "color": "#2a3f5f"
          },
          "geo": {
           "bgcolor": "white",
           "lakecolor": "white",
           "landcolor": "#E5ECF6",
           "showlakes": true,
           "showland": true,
           "subunitcolor": "white"
          },
          "hoverlabel": {
           "align": "left"
          },
          "hovermode": "closest",
          "mapbox": {
           "style": "light"
          },
          "paper_bgcolor": "white",
          "plot_bgcolor": "#E5ECF6",
          "polar": {
           "angularaxis": {
            "gridcolor": "white",
            "linecolor": "white",
            "ticks": ""
           },
           "bgcolor": "#E5ECF6",
           "radialaxis": {
            "gridcolor": "white",
            "linecolor": "white",
            "ticks": ""
           }
          },
          "scene": {
           "xaxis": {
            "backgroundcolor": "#E5ECF6",
            "gridcolor": "white",
            "gridwidth": 2,
            "linecolor": "white",
            "showbackground": true,
            "ticks": "",
            "zerolinecolor": "white"
           },
           "yaxis": {
            "backgroundcolor": "#E5ECF6",
            "gridcolor": "white",
            "gridwidth": 2,
            "linecolor": "white",
            "showbackground": true,
            "ticks": "",
            "zerolinecolor": "white"
           },
           "zaxis": {
            "backgroundcolor": "#E5ECF6",
            "gridcolor": "white",
            "gridwidth": 2,
            "linecolor": "white",
            "showbackground": true,
            "ticks": "",
            "zerolinecolor": "white"
           }
          },
          "shapedefaults": {
           "line": {
            "color": "#2a3f5f"
           }
          },
          "ternary": {
           "aaxis": {
            "gridcolor": "white",
            "linecolor": "white",
            "ticks": ""
           },
           "baxis": {
            "gridcolor": "white",
            "linecolor": "white",
            "ticks": ""
           },
           "bgcolor": "#E5ECF6",
           "caxis": {
            "gridcolor": "white",
            "linecolor": "white",
            "ticks": ""
           }
          },
          "title": {
           "x": 0.05
          },
          "xaxis": {
           "automargin": true,
           "gridcolor": "white",
           "linecolor": "white",
           "ticks": "",
           "title": {
            "standoff": 15
           },
           "zerolinecolor": "white",
           "zerolinewidth": 2
          },
          "yaxis": {
           "automargin": true,
           "gridcolor": "white",
           "linecolor": "white",
           "ticks": "",
           "title": {
            "standoff": 15
           },
           "zerolinecolor": "white",
           "zerolinewidth": 2
          }
         }
        },
        "title": {
         "font": {
          "size": 20
         },
         "text": "Perbandingan Tenaga Kerja Sudah Terlatih dan Belum Terlatih"
        }
       }
      }
     },
     "metadata": {},
     "output_type": "display_data"
    }
   ],
   "source": [
    "import polars as pl\n",
    "import plotly.express as px\n",
    "\n",
    "# Data Anda dalam bentuk Polars DataFrame\n",
    "data = pl.DataFrame({\n",
    "    \"NO\": [0, 1, 2, 3, 4],\n",
    "    \"PROVINSI\": [\"SULAWESI BARAT\"] * 5,\n",
    "    \"KABUPATEN\": [\"PASANGKAYU\"] * 5,\n",
    "    \"KECAMATAN\": [\"SARJO\"] * 5,\n",
    "    \"KELURAHAN\": [\"SARJO\"] * 5,\n",
    "    \"NAMA FASKES\": [\"UPT PUSKESMAS SARJO\"] * 5,\n",
    "    \"NO REGISTRASI\": [\"7601001\"] * 5,\n",
    "    \"NAMA BIDAN\": [\"Mar\", \"NUR\", \"Irm\", \"Rit\", \"ASM\"],\n",
    "    \"NIK BIDAN\": [760] * 5,\n",
    "    \"ALAMAT\": [\"SARJO\", \"SARUDE\", \"LETAWA\", \"LETAWA\", \"SARUDE\"],\n",
    "    \"NO HP\": [\"NA\", \"85397882590\", \"82396497703\", \"82349677921\", \"85242892212\"],\n",
    "    \"PROFESI\": [\"Bidan\"] * 5,\n",
    "    \"PELATIHAN\": [\n",
    "        \"KIP/Konseling,R/R\",\n",
    "        \"Belum Terlatih\",\n",
    "        \"IUD/IMPLAN,R/R,Sertifikat Kompetensi IUD/Implan\",\n",
    "        \"IUD/IMPLAN,KIP/Konseling,R/R\",\n",
    "        \"Belum Terlatih\"\n",
    "    ]\n",
    "})\n",
    "\n",
    "# Klasifikasi tenaga kerja berdasarkan kolom PELATIHAN\n",
    "data_with_classification = data.with_columns(\n",
    "    pl.when(\n",
    "        pl.col(\"PELATIHAN\").str.contains(\"(?i)IUD|Implan|Tubektomi|Vasektomi\")\n",
    "    ).then(pl.lit(\"Sudah Terlatih\")).otherwise(pl.lit(\"Belum Terlatih\")).alias(\"KLASIFIKASI\")\n",
    ")\n",
    "\n",
    "# Hitung jumlah tenaga kerja untuk setiap klasifikasi\n",
    "summary_data = data_with_classification.group_by(\"KLASIFIKASI\").agg(\n",
    "    pl.len().alias(\"count\")  # Menggunakan .len() sebagai pengganti .count()\n",
    ")\n",
    "\n",
    "# Tambahkan kolom persentase\n",
    "total_count = summary_data[\"count\"].sum()\n",
    "summary_data = summary_data.with_columns(\n",
    "    (pl.col(\"count\") / total_count * 100).round(2).alias(\"PERSENTASE\")\n",
    ")\n",
    "\n",
    "# Buat donut chart menggunakan Plotly (langsung dari Polars DataFrame)\n",
    "fig = px.pie(\n",
    "    summary_data,  # Langsung gunakan Polars DataFrame\n",
    "    names=\"KLASIFIKASI\",       # Label untuk kategori\n",
    "    values=\"count\",            # Nilai untuk ukuran slice\n",
    "    title=\"Perbandingan Tenaga Kerja Sudah Terlatih dan Belum Terlatih\",\n",
    "    hole=0.4,                  # Membuat donut chart (hole di tengah)\n",
    "    color=\"KLASIFIKASI\",       # Warna berdasarkan kategori\n",
    "    color_discrete_map={\"Sudah Terlatih\": \"#0d6efd\", \"Belum Terlatih\": \"#ffc107\"},  # Warna kustom\n",
    ")\n",
    "\n",
    "# Perbarui tata letak grafik\n",
    "fig.update_traces(\n",
    "    textposition=\"outside\",  # Letakkan teks di luar donut chart\n",
    "    texttemplate=\"%{label}<br>%{value:,.0f} (%{percent})\",  # Format angka dengan pemisah ribuan\n",
    "    hovertemplate=\"%{label}: %{value:,.0f} (%{percent})<extra></extra>\"  # Format hover\n",
    ")\n",
    "\n",
    "fig.update_layout(\n",
    "    showlegend=False,           # Hilangkan legenda\n",
    "    paper_bgcolor=\"#f6f8fa\",    # Warna latar belakang kertas\n",
    "    plot_bgcolor=\"#f6f8fa\",     # Warna latar belakang plot\n",
    "    margin=dict(l=50, r=50, t=80, b=50),  # Padding: kiri, kanan, atas, bawah\n",
    "    title_font_size=20          # Ukuran font judul\n",
    ")\n",
    "\n",
    "# Tampilkan grafik\n",
    "fig.show()"
   ]
  },
  {
   "cell_type": "code",
   "execution_count": 35,
   "metadata": {},
   "outputs": [
    {
     "data": {
      "text/html": [
       "<div><style>\n",
       ".dataframe > thead > tr,\n",
       ".dataframe > tbody > tr {\n",
       "  text-align: right;\n",
       "  white-space: pre-wrap;\n",
       "}\n",
       "</style>\n",
       "<small>shape: (5, 14)</small><table border=\"1\" class=\"dataframe\"><thead><tr><th>NO</th><th>PROVINSI</th><th>KABUPATEN</th><th>KECAMATAN</th><th>KELURAHAN</th><th>NAMA FASKES</th><th>NO REGISTRASI</th><th>NAMA BIDAN</th><th>NIK BIDAN</th><th>ALAMAT</th><th>NO HP</th><th>PROFESI</th><th>PELATIHAN</th><th>KLASIFIKASI</th></tr><tr><td>i64</td><td>str</td><td>str</td><td>str</td><td>str</td><td>str</td><td>str</td><td>str</td><td>i64</td><td>str</td><td>str</td><td>str</td><td>str</td><td>str</td></tr></thead><tbody><tr><td>0</td><td>&quot;SULAWESI BARAT&quot;</td><td>&quot;PASANGKAYU&quot;</td><td>&quot;SARJO&quot;</td><td>&quot;SARJO&quot;</td><td>&quot;UPT PUSKESMAS SARJO&quot;</td><td>&quot;7601001&quot;</td><td>&quot;Mar&quot;</td><td>760</td><td>&quot;SARJO&quot;</td><td>&quot;NA&quot;</td><td>&quot;Bidan&quot;</td><td>&quot;KIP/Konseling,R/R&quot;</td><td>&quot;Belum Terlatih&quot;</td></tr><tr><td>1</td><td>&quot;SULAWESI BARAT&quot;</td><td>&quot;PASANGKAYU&quot;</td><td>&quot;SARJO&quot;</td><td>&quot;SARJO&quot;</td><td>&quot;UPT PUSKESMAS SARJO&quot;</td><td>&quot;7601001&quot;</td><td>&quot;NUR&quot;</td><td>760</td><td>&quot;SARUDE&quot;</td><td>&quot;85397882590&quot;</td><td>&quot;Bidan&quot;</td><td>&quot;Belum Terlatih&quot;</td><td>&quot;Belum Terlatih&quot;</td></tr><tr><td>2</td><td>&quot;SULAWESI BARAT&quot;</td><td>&quot;PASANGKAYU&quot;</td><td>&quot;SARJO&quot;</td><td>&quot;SARJO&quot;</td><td>&quot;UPT PUSKESMAS SARJO&quot;</td><td>&quot;7601001&quot;</td><td>&quot;Irm&quot;</td><td>760</td><td>&quot;LETAWA&quot;</td><td>&quot;82396497703&quot;</td><td>&quot;Bidan&quot;</td><td>&quot;IUD/IMPLAN,R/R,Sertifikat Komp…</td><td>&quot;Sudah Terlatih&quot;</td></tr><tr><td>3</td><td>&quot;SULAWESI BARAT&quot;</td><td>&quot;PASANGKAYU&quot;</td><td>&quot;SARJO&quot;</td><td>&quot;SARJO&quot;</td><td>&quot;UPT PUSKESMAS SARJO&quot;</td><td>&quot;7601001&quot;</td><td>&quot;Rit&quot;</td><td>760</td><td>&quot;LETAWA&quot;</td><td>&quot;82349677921&quot;</td><td>&quot;Bidan&quot;</td><td>&quot;IUD/IMPLAN,KIP/Konseling,R/R&quot;</td><td>&quot;Sudah Terlatih&quot;</td></tr><tr><td>4</td><td>&quot;SULAWESI BARAT&quot;</td><td>&quot;PASANGKAYU&quot;</td><td>&quot;SARJO&quot;</td><td>&quot;SARJO&quot;</td><td>&quot;UPT PUSKESMAS SARJO&quot;</td><td>&quot;7601001&quot;</td><td>&quot;ASM&quot;</td><td>760</td><td>&quot;SARUDE&quot;</td><td>&quot;85242892212&quot;</td><td>&quot;Bidan&quot;</td><td>&quot;Belum Terlatih&quot;</td><td>&quot;Belum Terlatih&quot;</td></tr></tbody></table></div>"
      ],
      "text/plain": [
       "shape: (5, 14)\n",
       "┌─────┬─────────────┬────────────┬───────────┬───┬─────────────┬─────────┬────────────┬────────────┐\n",
       "│ NO  ┆ PROVINSI    ┆ KABUPATEN  ┆ KECAMATAN ┆ … ┆ NO HP       ┆ PROFESI ┆ PELATIHAN  ┆ KLASIFIKAS │\n",
       "│ --- ┆ ---         ┆ ---        ┆ ---       ┆   ┆ ---         ┆ ---     ┆ ---        ┆ I          │\n",
       "│ i64 ┆ str         ┆ str        ┆ str       ┆   ┆ str         ┆ str     ┆ str        ┆ ---        │\n",
       "│     ┆             ┆            ┆           ┆   ┆             ┆         ┆            ┆ str        │\n",
       "╞═════╪═════════════╪════════════╪═══════════╪═══╪═════════════╪═════════╪════════════╪════════════╡\n",
       "│ 0   ┆ SULAWESI    ┆ PASANGKAYU ┆ SARJO     ┆ … ┆ NA          ┆ Bidan   ┆ KIP/Konsel ┆ Belum      │\n",
       "│     ┆ BARAT       ┆            ┆           ┆   ┆             ┆         ┆ ing,R/R    ┆ Terlatih   │\n",
       "│ 1   ┆ SULAWESI    ┆ PASANGKAYU ┆ SARJO     ┆ … ┆ 85397882590 ┆ Bidan   ┆ Belum      ┆ Belum      │\n",
       "│     ┆ BARAT       ┆            ┆           ┆   ┆             ┆         ┆ Terlatih   ┆ Terlatih   │\n",
       "│ 2   ┆ SULAWESI    ┆ PASANGKAYU ┆ SARJO     ┆ … ┆ 82396497703 ┆ Bidan   ┆ IUD/IMPLAN ┆ Sudah      │\n",
       "│     ┆ BARAT       ┆            ┆           ┆   ┆             ┆         ┆ ,R/R,Serti ┆ Terlatih   │\n",
       "│     ┆             ┆            ┆           ┆   ┆             ┆         ┆ fikat      ┆            │\n",
       "│     ┆             ┆            ┆           ┆   ┆             ┆         ┆ Komp…      ┆            │\n",
       "│ 3   ┆ SULAWESI    ┆ PASANGKAYU ┆ SARJO     ┆ … ┆ 82349677921 ┆ Bidan   ┆ IUD/IMPLAN ┆ Sudah      │\n",
       "│     ┆ BARAT       ┆            ┆           ┆   ┆             ┆         ┆ ,KIP/Konse ┆ Terlatih   │\n",
       "│     ┆             ┆            ┆           ┆   ┆             ┆         ┆ ling,R/R   ┆            │\n",
       "│ 4   ┆ SULAWESI    ┆ PASANGKAYU ┆ SARJO     ┆ … ┆ 85242892212 ┆ Bidan   ┆ Belum      ┆ Belum      │\n",
       "│     ┆ BARAT       ┆            ┆           ┆   ┆             ┆         ┆ Terlatih   ┆ Terlatih   │\n",
       "└─────┴─────────────┴────────────┴───────────┴───┴─────────────┴─────────┴────────────┴────────────┘"
      ]
     },
     "execution_count": 35,
     "metadata": {},
     "output_type": "execute_result"
    }
   ],
   "source": [
    "data_with_classification"
   ]
  },
  {
   "cell_type": "code",
   "execution_count": null,
   "metadata": {},
   "outputs": [],
   "source": []
  }
 ],
 "metadata": {
  "kernelspec": {
   "display_name": ".venv",
   "language": "python",
   "name": "python3"
  },
  "language_info": {
   "codemirror_mode": {
    "name": "ipython",
    "version": 3
   },
   "file_extension": ".py",
   "mimetype": "text/x-python",
   "name": "python",
   "nbconvert_exporter": "python",
   "pygments_lexer": "ipython3",
   "version": "3.10.12"
  }
 },
 "nbformat": 4,
 "nbformat_minor": 2
}
